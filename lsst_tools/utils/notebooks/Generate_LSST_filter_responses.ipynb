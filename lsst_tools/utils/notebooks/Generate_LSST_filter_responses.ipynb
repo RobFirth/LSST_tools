{
 "cells": [
  {
   "cell_type": "code",
   "execution_count": 4,
   "metadata": {
    "collapsed": false
   },
   "outputs": [
    {
     "name": "stderr",
     "output_type": "stream",
     "text": [
      "/Users/berto/anaconda3/lib/python3.6/importlib/_bootstrap.py:205: ImportWarning: can't resolve package from __spec__ or __package__, falling back on __name__ and __path__\n",
      "  return f(*args, **kwds)\n",
      "/Users/berto/anaconda3/lib/python3.6/importlib/_bootstrap.py:205: ImportWarning: can't resolve package from __spec__ or __package__, falling back on __name__ and __path__\n",
      "  return f(*args, **kwds)\n"
     ]
    }
   ],
   "source": [
    "%matplotlib inline\n",
    "# %matplotlib notebook\n",
    "\n",
    "from __future__ import print_function\n",
    "\n",
    "try:\n",
    "    from importlib import reload\n",
    "except:\n",
    "    pass\n",
    "\n",
    "import os\n",
    "import sys\n",
    "import warnings\n",
    "\n",
    "import numpy as np\n",
    "import pandas as pd\n",
    "import astropy as ap\n",
    "import sfdmap\n",
    "\n",
    "import sqlite3\n",
    "from sqlalchemy import create_engine\n",
    "\n",
    "from matplotlib import pyplot as plt\n",
    "import matplotlib.colors as mpl_colors \n",
    "\n",
    "import astropy.units as u"
   ]
  },
  {
   "cell_type": "code",
   "execution_count": null,
   "metadata": {
    "collapsed": true
   },
   "outputs": [],
   "source": []
  },
  {
   "cell_type": "code",
   "execution_count": 5,
   "metadata": {
    "collapsed": false
   },
   "outputs": [
    {
     "data": {
      "text/plain": [
       "<module 'pyCoCo' from '/Users/berto/Code/CoCo/pyCoCo.cpython-36m-darwin.so'>"
      ]
     },
     "execution_count": 5,
     "metadata": {},
     "output_type": "execute_result"
    }
   ],
   "source": [
    "import pyCoCo as pccsims\n",
    "import pycoco as pcc\n",
    "\n",
    "reload(pcc)\n",
    "reload(pcc.defaults)\n",
    "reload(pcc.kcorr)\n",
    "reload(pcc.classes)\n",
    "reload(pccsims)"
   ]
  },
  {
   "cell_type": "code",
   "execution_count": 6,
   "metadata": {
    "collapsed": false
   },
   "outputs": [
    {
     "name": "stdout",
     "output_type": "stream",
     "text": [
      "/Users/berto/data/LSST/OpSimOutputDBs/minion_1016_sqlite.db\n"
     ]
    }
   ],
   "source": [
    "# %%timeit ## 1 loop, best of 3: 1min 31s per loop \n",
    "opsimdbpath = os.environ.get('OPSIMDBPATH')\n",
    "print(opsimdbpath)\n",
    "# opsimdbpath = \"/Users/berto/data/LSST/OpSimOutputDBs/astro_lsst_01_1068_sqlite.db\"\n",
    "# opsimdbpath = \"/Users/berto/data/LSST/OpSimOutputDBs/minion_1016_sqlite.db\"\n",
    "\n",
    "conn = create_engine('sqlite:///'+opsimdbpath, echo = False)\n",
    "# opsimdf = pd.read_sql_table('Summary', con=conn)"
   ]
  },
  {
   "cell_type": "code",
   "execution_count": 7,
   "metadata": {
    "collapsed": false
   },
   "outputs": [],
   "source": [
    "opsimdf = pd.read_sql_query(sql = \"SELECT * FROM Summary WHERE night > 365 AND night < 731\", con = conn)"
   ]
  },
  {
   "cell_type": "markdown",
   "metadata": {
    "collapsed": false
   },
   "source": [
    "opsimdf.columns"
   ]
  },
  {
   "cell_type": "code",
   "execution_count": 8,
   "metadata": {
    "collapsed": false
   },
   "outputs": [
    {
     "data": {
      "text/plain": [
       "Index(['obsHistID', 'sessionID', 'propID', 'fieldID', 'fieldRA', 'fieldDec',\n",
       "       'filter', 'expDate', 'expMJD', 'night', 'visitTime', 'visitExpTime',\n",
       "       'finRank', 'FWHMeff', 'FWHMgeom', 'transparency', 'airmass',\n",
       "       'vSkyBright', 'filtSkyBrightness', 'rotSkyPos', 'rotTelPos', 'lst',\n",
       "       'altitude', 'azimuth', 'dist2Moon', 'solarElong', 'moonRA', 'moonDec',\n",
       "       'moonAlt', 'moonAZ', 'moonPhase', 'sunAlt', 'sunAz', 'phaseAngle',\n",
       "       'rScatter', 'mieScatter', 'moonIllum', 'moonBright', 'darkBright',\n",
       "       'rawSeeing', 'wind', 'humidity', 'slewDist', 'slewTime',\n",
       "       'fiveSigmaDepth', 'ditheredRA', 'ditheredDec'],\n",
       "      dtype='object')"
      ]
     },
     "execution_count": 8,
     "metadata": {},
     "output_type": "execute_result"
    }
   ],
   "source": [
    "opsimdf.columns"
   ]
  },
  {
   "cell_type": "markdown",
   "metadata": {},
   "source": [
    "Load in the Atmosphere"
   ]
  },
  {
   "cell_type": "code",
   "execution_count": 9,
   "metadata": {
    "collapsed": false
   },
   "outputs": [
    {
     "data": {
      "image/png": "[encoded data removed]",
      "text/plain": [
       "<matplotlib.figure.Figure at 0x128009b38>"
      ]
     },
     "metadata": {},
     "output_type": "display_data"
    }
   ],
   "source": [
    "# atmos = pcc.kcorr.load_atmosphere()\n",
    "path = os.path.join(pcc._default_lsst_throughputs_path, \"baseline/atmos_std.dat\")\n",
    "atmos = pcc.BaseFilterClass()\n",
    "atmos.load(path, wavelength_u = u.nm, fmt = \"ascii.commented_header\", name = \"atmosphere_12\")\n",
    "atmos.plot()"
   ]
  },
  {
   "cell_type": "code",
   "execution_count": null,
   "metadata": {
    "collapsed": false
   },
   "outputs": [],
   "source": []
  },
  {
   "cell_type": "code",
   "execution_count": 10,
   "metadata": {
    "collapsed": false
   },
   "outputs": [
    {
     "data": {
      "image/png": "[encoded data removed]",
      "text/plain": [
       "<matplotlib.figure.Figure at 0x110d59518>"
      ]
     },
     "metadata": {},
     "output_type": "display_data"
    },
    {
     "name": "stdout",
     "output_type": "stream",
     "text": [
      "has data\n",
      "No directory specified, assuming /Users/berto/Code/CoCo/data/filters\n",
      "Writing /Users/berto/Code/CoCo/data/filters/hardware_u.dat\n",
      "has data\n",
      "No directory specified, assuming /Users/berto/Code/CoCo/data/filters\n",
      "Writing /Users/berto/Code/CoCo/data/filters/hardware_g.dat\n",
      "has data\n",
      "No directory specified, assuming /Users/berto/Code/CoCo/data/filters\n",
      "Writing /Users/berto/Code/CoCo/data/filters/hardware_r.dat\n",
      "has data\n",
      "No directory specified, assuming /Users/berto/Code/CoCo/data/filters\n",
      "Writing /Users/berto/Code/CoCo/data/filters/hardware_i.dat\n",
      "has data\n",
      "No directory specified, assuming /Users/berto/Code/CoCo/data/filters\n",
      "Writing /Users/berto/Code/CoCo/data/filters/hardware_z.dat\n",
      "has data\n",
      "No directory specified, assuming /Users/berto/Code/CoCo/data/filters\n",
      "Writing /Users/berto/Code/CoCo/data/filters/hardware_y.dat\n"
     ]
    }
   ],
   "source": [
    "# lsst_filters = [\"LSST_u\", \"LSST_g\", \"LSST_r\", \"LSST_i\", \"LSST_z\", \"LSST_y\"]\n",
    "# lsst_filters = [\"filter_u\", \"filter_g\", \"filter_r\", \"filter_i\", \"filter_z\", \" filter_y\"]\n",
    "lsst_filters = [\"hardware_u\", \"hardware_g\", \"hardware_r\", \"hardware_i\", \"hardware_z\", \"hardware_y\"]\n",
    "\n",
    "\n",
    "fdict = {}\n",
    "\n",
    "for filter_name in lsst_filters:\n",
    "    filter_path = os.path.join(pcc._default_filter_dir_path, filter_name + \".dat\")\n",
    "    filter_path = os.path.join(\"/Users/berto/projects/LSST/throughputs/baseline/\", filter_name + \".dat\")\n",
    "#     fdict[filter_name] = pcc.load_filter(filter_path)    \n",
    "    fdict[filter_name] = pcc.FilterClass()\n",
    "    fdict[filter_name].load(filter_path, wavelength_u = u.nm)\n",
    "#     pcc.load_filter(filter_path)    \n",
    "\n",
    "fig = plt.figure()\n",
    "\n",
    "ax1 = fig.add_subplot(111)\n",
    "\n",
    "for filter_name in lsst_filters:\n",
    "    plt.plot(fdict[filter_name].data[\"wavelength\"], fdict[filter_name].data[\"throughput\"])\n",
    "    \n",
    "    \n",
    "plt.show()\n",
    "\n",
    "for filter_key in fdict:\n",
    "#     print(filter_key)\n",
    "    fdict[filter_key].save(filename = filter_key + \".dat\", squash = True)"
   ]
  },
  {
   "cell_type": "code",
   "execution_count": null,
   "metadata": {
    "collapsed": false
   },
   "outputs": [],
   "source": [
    "hg = fdict['hardware_g']"
   ]
  },
  {
   "cell_type": "code",
   "execution_count": null,
   "metadata": {
    "collapsed": false
   },
   "outputs": [],
   "source": [
    "# atmos.wavelength\n",
    "hg.wavelength.to(u.angstrom)"
   ]
  },
  {
   "cell_type": "code",
   "execution_count": null,
   "metadata": {
    "collapsed": false
   },
   "outputs": [],
   "source": [
    "fig = plt.figure()\n",
    "\n",
    "ax1 = fig.add_subplot(111)\n",
    "\n",
    "for filter_name in lsst_filters:\n",
    "    print(\"filter_name: \", filter_name )\n",
    "    fdict[filter_name].resample_response(new_wavelength = atmos.wavelength)\n",
    "    plt.plot(fdict[filter_name].wavelength, fdict[filter_name].throughput*atmos.throughput)\n",
    "plt.show()\n"
   ]
  },
  {
   "cell_type": "code",
   "execution_count": null,
   "metadata": {
    "collapsed": false
   },
   "outputs": [],
   "source": [
    "# lsst_filters = [\"LSST_u\", \"LSST_g\", \"LSST_r\", \"LSST_i\", \"LSST_z\", \"LSST_y\"]\n",
    "# lsst_filters = [\"filter_u\", \"filter_g\", \"filter_r\", \"filter_i\", \"filter_z\", \" filter_y\"]\n",
    "lsst_filters = [\"total_u\", \"total_g\", \"total_r\", \"total_i\", \"total_z\", \"total_y\"]\n",
    "\n",
    "\n",
    "fdict = {}\n",
    "\n",
    "for filter_name in lsst_filters:\n",
    "    filter_path = os.path.join(pcc._default_filter_dir_path, filter_name + \".dat\")\n",
    "    filter_path = os.path.join(\"/Users/berto/projects/LSST/throughputs/baseline/\", filter_name + \".dat\")\n",
    "#     fdict[filter_name] = pcc.load_filter(filter_path)    \n",
    "    fdict[filter_name] = pcc.FilterClass()\n",
    "    fdict[filter_name].load(filter_path, wavelength_u = u.nm)\n",
    "#     pcc.load_filter(filter_path)    \n",
    "\n",
    "fig = plt.figure()\n",
    "\n",
    "ax1 = fig.add_subplot(111)\n",
    "\n",
    "for filter_name in lsst_filters:\n",
    "    plt.plot(fdict[filter_name].data[\"wavelength\"], fdict[filter_name].data[\"throughput\"])\n",
    "plt.show()\n"
   ]
  },
  {
   "cell_type": "code",
   "execution_count": null,
   "metadata": {
    "collapsed": false
   },
   "outputs": [],
   "source": [
    "for filter_key in fdict:\n",
    "#     print(filter_key)\n",
    "    fdict[filter_key].save(filename = filter_key.replace(\"total\", \"LSST\") + \".dat\", squash = True)"
   ]
  },
  {
   "cell_type": "code",
   "execution_count": null,
   "metadata": {
    "collapsed": false
   },
   "outputs": [],
   "source": [
    "pcc._default_filter_dir_path"
   ]
  },
  {
   "cell_type": "code",
   "execution_count": null,
   "metadata": {
    "collapsed": false
   },
   "outputs": [],
   "source": [
    "from astropy.table import Table\n",
    "\n",
    "Table([fdict[\"total_g\"].wavelength, fdict[\"total_g\"].throughput], names = [\"wavelength\", \"throughput\"])"
   ]
  },
  {
   "cell_type": "markdown",
   "metadata": {},
   "source": [
    "Load in the sky spectrum"
   ]
  },
  {
   "cell_type": "code",
   "execution_count": null,
   "metadata": {
    "collapsed": false
   },
   "outputs": [],
   "source": [
    "dark_sky_path = os.path.join(os.environ[\"LSST_THROUGHPUTS_BASELINE\"],\"darksky.dat\")\n",
    "darksky = pcc.SpectrumClass()\n",
    "darksky.load(dark_sky_path, wavelength_u = u.nm, fmt = \"ascii.commented_header\", wmin = 3500*u.angstrom, wmax = 11000*u.angstrom,)\n",
    "darksky.plot()"
   ]
  },
  {
   "cell_type": "markdown",
   "metadata": {},
   "source": [
    "Which is equivalent to:"
   ]
  },
  {
   "cell_type": "code",
   "execution_count": null,
   "metadata": {
    "collapsed": false
   },
   "outputs": [],
   "source": [
    "darksky = pcc.kcorr.load_dark_sky_spectrum()\n",
    "darksky.plot()"
   ]
  },
  {
   "cell_type": "code",
   "execution_count": null,
   "metadata": {
    "collapsed": false
   },
   "outputs": [],
   "source": [
    "lsst_filters = [\"LSST_u\", \"LSST_g\", \"LSST_r\", \"LSST_i\", \"LSST_z\", \"LSST_y\"]\n",
    "\n",
    "for filter_name in lsst_filters:\n",
    "    zp = pcc.kcorr.calc_AB_zp(filter_name)\n",
    "    print(filter_name, \" F_sky = \", pcc.kcorr.calc_spectrum_filter_flux(filter_name, darksky))\n",
    "    print(filter_name, \"m_sky = \", -2.5 * np.log10(pcc.kcorr.calc_spectrum_filter_flux(filter_name, darksky)) - zp)    "
   ]
  },
  {
   "cell_type": "markdown",
   "metadata": {},
   "source": [
    "Create a df that just looks at the first observation in each filter"
   ]
  },
  {
   "cell_type": "code",
   "execution_count": null,
   "metadata": {
    "collapsed": false
   },
   "outputs": [],
   "source": [
    "opsimdf_f = opsimdf.drop_duplicates(\"filter\")\n",
    "\n",
    "opsimdf_f"
   ]
  },
  {
   "cell_type": "code",
   "execution_count": null,
   "metadata": {
    "collapsed": false
   },
   "outputs": [],
   "source": [
    "opsimdf_f[[\"filter\", \"filtSkyBrightness\", \"darkBright\"]]"
   ]
  },
  {
   "cell_type": "markdown",
   "metadata": {
    "collapsed": false
   },
   "source": [
    "# OpSim m5 derivation \n",
    "\n",
    "Recreating the m5 values, as per http://smtn-002.lsst.io/en/latest/\n",
    "\n",
    "\\begin{split}m5 = C_m + dC_m + 0.50\\,(m_{sky} - 21.0) + 2.5 log_{10}(0.7 /\n",
    "FWHM_{eff}) \\\\\n",
    "+ 1.25 log_{10}(expTime / 30.0) - k_{atm}\\,(X-1.0)\\end{split}\n",
    "\n",
    "\\begin{split}dC_m = dC_m^{inf} - 1.25 log_{10}(1 + (10^{(0.8\\, dC_m^{inf} -\n",
    "1)}/Tscale)\\end{split}\n",
    "\n",
    "\\begin{split}Tscale = expTime / 30.0 * 10.0^{-0.4*(m_{sky} - m_{darksky})}\\end{split}\n"
   ]
  },
  {
   "cell_type": "code",
   "execution_count": null,
   "metadata": {
    "collapsed": false
   },
   "outputs": [],
   "source": [
    "def calc_Tscale(df):\n",
    "    Tscale = df[\"visitExpTime\"].head()/30. * np.power(10., -0.4*())\n",
    "    return Tscale\n",
    "\n",
    "\n",
    "def calc_dCm():\n",
    "    dCm = False\n",
    "    return dCm\n",
    "\n",
    "\n",
    "def calc_m5():\n",
    "    m5 = False\n",
    "    return m5\n",
    "\n"
   ]
  },
  {
   "cell_type": "code",
   "execution_count": null,
   "metadata": {
    "collapsed": true
   },
   "outputs": [],
   "source": []
  }
 ],
 "metadata": {
  "kernelspec": {
   "display_name": "Python 3",
   "language": "python",
   "name": "python3"
  },
  "language_info": {
   "codemirror_mode": {
    "name": "ipython",
    "version": 3
   },
   "file_extension": ".py",
   "mimetype": "text/x-python",
   "name": "python",
   "nbconvert_exporter": "python",
   "pygments_lexer": "ipython3",
   "version": "3.6.0"
  }
 },
 "nbformat": 4,
 "nbformat_minor": 2
}
