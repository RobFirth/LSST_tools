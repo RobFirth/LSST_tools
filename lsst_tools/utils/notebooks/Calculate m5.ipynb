{
 "cells": [
  {
   "cell_type": "markdown",
   "metadata": {},
   "source": [
    "# Calculating 5-sigma Limiting Mag for LSST\n",
    "___\n",
    "\n",
    "## Rationale\n",
    "\n",
    "This value is quoted in the opsim output, but it is being questioned. Understanding the derivation (and how to extract the image ZP) is important "
   ]
  },
  {
   "cell_type": "code",
   "execution_count": 39,
   "metadata": {
    "collapsed": true
   },
   "outputs": [],
   "source": [
    "%matplotlib inline\n",
    "# %matplotlib notebook\n",
    "\n",
    "from __future__ import print_function\n",
    "\n",
    "try:\n",
    "    from importlib import reload\n",
    "except:\n",
    "    pass\n",
    "\n",
    "import os\n",
    "import sys\n",
    "import warnings\n",
    "\n",
    "import numpy as np\n",
    "import pandas as pd\n",
    "import astropy as ap\n",
    "import sfdmap\n",
    "\n",
    "import sqlite3\n",
    "from sqlalchemy import create_engine\n",
    "\n",
    "from collections import OrderedDict\n",
    "\n",
    "from astropy.constants import h\n",
    "from scipy.integrate import simps\n",
    "\n",
    "from matplotlib import pyplot as plt\n",
    "import matplotlib.colors as mpl_colors \n",
    "\n",
    "import astropy.units as u"
   ]
  },
  {
   "cell_type": "code",
   "execution_count": 2,
   "metadata": {
    "collapsed": false
   },
   "outputs": [],
   "source": [
    "import pyCoCo as pccsims\n",
    "import pycoco as pcc"
   ]
  },
  {
   "cell_type": "code",
   "execution_count": 3,
   "metadata": {
    "collapsed": false
   },
   "outputs": [
    {
     "name": "stdout",
     "output_type": "stream",
     "text": [
      "/Users/berto/data/LSST/OpSimOutputDBs/minion_1016_sqlite.db\n"
     ]
    }
   ],
   "source": [
    "# %%timeit ## 1 loop, best of 3: 1min 31s per loop \n",
    "opsimdbpath = os.environ.get('OPSIMDBPATH')\n",
    "print(opsimdbpath)\n",
    "# opsimdbpath = \"/Users/berto/data/LSST/OpSimOutputDBs/astro_lsst_01_1068_sqlite.db\"\n",
    "# opsimdbpath = \"/Users/berto/data/LSST/OpSimOutputDBs/minion_1016_sqlite.db\"\n",
    "\n",
    "conn = create_engine('sqlite:///'+opsimdbpath, echo = False)\n",
    "# opsimdf = pd.read_sql_table('Summary', con=conn)"
   ]
  },
  {
   "cell_type": "code",
   "execution_count": 4,
   "metadata": {
    "collapsed": true
   },
   "outputs": [],
   "source": [
    "opsimdf = pd.read_sql_query(sql = \"SELECT * FROM Summary WHERE night > 365 AND night < 731\", con = conn)"
   ]
  },
  {
   "cell_type": "markdown",
   "metadata": {
    "collapsed": false
   },
   "source": [
    "opsimdf.columns"
   ]
  },
  {
   "cell_type": "code",
   "execution_count": 5,
   "metadata": {
    "collapsed": false,
    "scrolled": true
   },
   "outputs": [
    {
     "data": {
      "text/plain": [
       "Index(['obsHistID', 'sessionID', 'propID', 'fieldID', 'fieldRA', 'fieldDec',\n",
       "       'filter', 'expDate', 'expMJD', 'night', 'visitTime', 'visitExpTime',\n",
       "       'finRank', 'FWHMeff', 'FWHMgeom', 'transparency', 'airmass',\n",
       "       'vSkyBright', 'filtSkyBrightness', 'rotSkyPos', 'rotTelPos', 'lst',\n",
       "       'altitude', 'azimuth', 'dist2Moon', 'solarElong', 'moonRA', 'moonDec',\n",
       "       'moonAlt', 'moonAZ', 'moonPhase', 'sunAlt', 'sunAz', 'phaseAngle',\n",
       "       'rScatter', 'mieScatter', 'moonIllum', 'moonBright', 'darkBright',\n",
       "       'rawSeeing', 'wind', 'humidity', 'slewDist', 'slewTime',\n",
       "       'fiveSigmaDepth', 'ditheredRA', 'ditheredDec'],\n",
       "      dtype='object')"
      ]
     },
     "execution_count": 5,
     "metadata": {},
     "output_type": "execute_result"
    }
   ],
   "source": [
    "opsimdf.columns"
   ]
  },
  {
   "cell_type": "markdown",
   "metadata": {
    "collapsed": false
   },
   "source": [
    "# OpSim m5 derivation \n",
    "___\n",
    "Recreating the m5 values, as per http://smtn-002.lsst.io/en/latest/\n",
    "\n",
    "\\begin{split}m5 = C_m + dC_m + 0.50\\,(m_{sky} - 21.0) + 2.5 log_{10}(0.7 /\n",
    "FWHM_{eff}) \\\\\n",
    "+ 1.25 log_{10}(expTime / 30.0) - k_{atm}\\,(X-1.0)\\end{split}\n",
    "\n",
    "\\begin{split}dC_m = dC_m^{inf} - 1.25 log_{10}(1 + (10^{(0.8\\, dC_m^{inf} -\n",
    "1)}/Tscale)\\end{split}\n",
    "\n",
    "\\begin{split}Tscale = expTime / 30.0 * 10.0^{-0.4*(m_{sky} - m_{darksky})}\\end{split}\n"
   ]
  },
  {
   "cell_type": "markdown",
   "metadata": {},
   "source": [
    "## $T_{\\textrm{scale}}$\n",
    "___\n",
    "\\begin{split}Tscale = expTime / 30.0 * 10.0^{-0.4*(m_{sky} - m_{darksky})}\\end{split}\n",
    "___\n",
    "I need:\n",
    "\n",
    "* exposure time\n",
    "* sky brightness\n",
    "* dark sky brightness"
   ]
  },
  {
   "cell_type": "code",
   "execution_count": 31,
   "metadata": {
    "collapsed": false
   },
   "outputs": [],
   "source": [
    "def calc_Tscale(df):\n",
    "    \"\"\"\n",
    "    \"\"\"\n",
    "    Tscale = df[\"visitExpTime\"].median()/30. * np.power(10., -0.4*(df[\"filtSkyBrightness\"] - df[\"mdarksky\"]))\n",
    "    return Tscale\n",
    "\n",
    "# def calc_Tscale_dict(df, m_sky_dict):\n",
    "#     \"\"\"\n",
    "#     \"\"\"\n",
    "#     Tscale_dict = OrderedDict()\n",
    "#     for filter_key in opsimdf[\"filter\"].unique():\n",
    "#         Tscale_dict[filter_key] = df[\"visitExpTime\"].median()/30. * np.power(10., -0.4*(df[\"filtSkyBrightness\"] - df[\"mdarksky\"]))\n",
    "#     return Tscale_dict"
   ]
  },
  {
   "cell_type": "code",
   "execution_count": null,
   "metadata": {
    "collapsed": false
   },
   "outputs": [],
   "source": []
  },
  {
   "cell_type": "code",
   "execution_count": 6,
   "metadata": {
    "collapsed": false
   },
   "outputs": [
    {
     "data": {
      "text/plain": [
       "<matplotlib.axes._subplots.AxesSubplot at 0x11423cb70>"
      ]
     },
     "execution_count": 6,
     "metadata": {},
     "output_type": "execute_result"
    },
    {
     "data": {
      "image/png": "[encoded data removed]",
      "text/plain": [
       "<matplotlib.figure.Figure at 0x11421ac88>"
      ]
     },
     "metadata": {},
     "output_type": "display_data"
    }
   ],
   "source": [
    "opsimdf[\"filtSkyBrightness\"].hist()"
   ]
  },
  {
   "cell_type": "code",
   "execution_count": 14,
   "metadata": {
    "collapsed": false
   },
   "outputs": [
    {
     "data": {
      "text/plain": [
       "{'LSST_g': 20.800353097326671,\n",
       " 'LSST_i': 21.788562246399657,\n",
       " 'LSST_r': 21.363924094544885,\n",
       " 'LSST_u': 20.222025800474768,\n",
       " 'LSST_y': 22.339399296798156,\n",
       " 'LSST_z': 22.099349935088149,\n",
       " 'g': 20.800353097326671,\n",
       " 'i': 21.788562246399657,\n",
       " 'r': 21.363924094544885,\n",
       " 'u': 20.222025800474768,\n",
       " 'y': 22.339399296798156,\n",
       " 'z': 22.099349935088149}"
      ]
     },
     "execution_count": 14,
     "metadata": {},
     "output_type": "execute_result"
    }
   ],
   "source": [
    "dark_sky_path = os.path.join(os.environ[\"LSST_THROUGHPUTS_BASELINE\"], \"darksky.dat\")\n",
    "darksky = pcc.SpectrumClass()\n",
    "darksky.load(dark_sky_path, wavelength_u=u.nm, flux_u=u.cgs.erg / u.si.cm ** 2 / u.si.s / u.nm,\n",
    "             fmt=\"ascii.commented_header\", wmin=3500 * u.angstrom, wmax=11000 * u.angstrom, )\n",
    "\n",
    "lsst_filters = [i for i in opsimdf[\"filter\"].unique()]\n",
    "\n",
    "zp_dict = {}\n",
    "m_sky_dict = {}\n",
    "\n",
    "for filter_key in lsst_filters:\n",
    "    zp_dict[filter_key] = pcc.kcorr.calc_AB_zp(\"LSST_\"+filter_key)\n",
    "    zp_dict[\"LSST_\"+filter_key] = zp_dict[filter_key]\n",
    "    \n",
    "    m_sky_dict[filter_key] = -2.5 * np.log10(pcc.kcorr.calc_spectrum_filter_flux(filter_name=\"LSST_\"+filter_key, spectrum_object=darksky)) - zp_dict[filter_key]\n",
    "zp_dict   "
   ]
  },
  {
   "cell_type": "code",
   "execution_count": 17,
   "metadata": {
    "collapsed": false
   },
   "outputs": [
    {
     "data": {
      "text/plain": [
       "{'g': 22.250868679171077,\n",
       " 'i': 20.481708931523293,\n",
       " 'r': 21.205508625835733,\n",
       " 'u': 23.156864822544037,\n",
       " 'y': 18.620467240176289,\n",
       " 'z': 19.613198706158201}"
      ]
     },
     "execution_count": 17,
     "metadata": {},
     "output_type": "execute_result"
    }
   ],
   "source": [
    "m_sky_dict"
   ]
  },
  {
   "cell_type": "code",
   "execution_count": 18,
   "metadata": {
    "collapsed": false
   },
   "outputs": [],
   "source": [
    "opsimdf[\"zp\"] = opsimdf[\"filter\"].map(zp_dict)\n",
    "opsimdf[\"mdarksky\"] = opsimdf[\"filter\"].map(m_sky_dict)"
   ]
  },
  {
   "cell_type": "code",
   "execution_count": 65,
   "metadata": {
    "collapsed": false
   },
   "outputs": [
    {
     "data": {
      "text/html": [
       "<div>\n",
       "<table border=\"1\" class=\"dataframe\">\n",
       "  <thead>\n",
       "    <tr style=\"text-align: right;\">\n",
       "      <th></th>\n",
       "      <th>obsHistID</th>\n",
       "      <th>sessionID</th>\n",
       "      <th>propID</th>\n",
       "      <th>fieldID</th>\n",
       "      <th>fieldRA</th>\n",
       "      <th>fieldDec</th>\n",
       "      <th>filter</th>\n",
       "      <th>expDate</th>\n",
       "      <th>expMJD</th>\n",
       "      <th>night</th>\n",
       "      <th>...</th>\n",
       "      <th>ditheredDec</th>\n",
       "      <th>zp</th>\n",
       "      <th>mdarksky</th>\n",
       "      <th>Tscale</th>\n",
       "      <th>C_m</th>\n",
       "      <th>dC_m_inf</th>\n",
       "      <th>k_atm</th>\n",
       "      <th>dC_m</th>\n",
       "      <th>m5_calc</th>\n",
       "      <th>dm5</th>\n",
       "    </tr>\n",
       "  </thead>\n",
       "  <tbody>\n",
       "    <tr>\n",
       "      <th>0</th>\n",
       "      <td>263142</td>\n",
       "      <td>1016</td>\n",
       "      <td>54</td>\n",
       "      <td>2061</td>\n",
       "      <td>0.000000</td>\n",
       "      <td>-0.219248</td>\n",
       "      <td>y</td>\n",
       "      <td>31625330</td>\n",
       "      <td>59946.033917</td>\n",
       "      <td>366</td>\n",
       "      <td>...</td>\n",
       "      <td>-0.209329</td>\n",
       "      <td>22.339399</td>\n",
       "      <td>18.620467</td>\n",
       "      <td>4.448227</td>\n",
       "      <td>23.71</td>\n",
       "      <td>0.02</td>\n",
       "      <td>0.18</td>\n",
       "      <td>0.007483</td>\n",
       "      <td>21.420686</td>\n",
       "      <td>0.027995</td>\n",
       "    </tr>\n",
       "    <tr>\n",
       "      <th>1</th>\n",
       "      <td>263143</td>\n",
       "      <td>1016</td>\n",
       "      <td>54</td>\n",
       "      <td>2067</td>\n",
       "      <td>0.053386</td>\n",
       "      <td>-0.218529</td>\n",
       "      <td>y</td>\n",
       "      <td>31625369</td>\n",
       "      <td>59946.034365</td>\n",
       "      <td>366</td>\n",
       "      <td>...</td>\n",
       "      <td>-0.208610</td>\n",
       "      <td>22.339399</td>\n",
       "      <td>18.620467</td>\n",
       "      <td>4.448227</td>\n",
       "      <td>23.71</td>\n",
       "      <td>0.02</td>\n",
       "      <td>0.18</td>\n",
       "      <td>0.007483</td>\n",
       "      <td>21.454623</td>\n",
       "      <td>0.027995</td>\n",
       "    </tr>\n",
       "    <tr>\n",
       "      <th>2</th>\n",
       "      <td>263144</td>\n",
       "      <td>1016</td>\n",
       "      <td>54</td>\n",
       "      <td>2085</td>\n",
       "      <td>0.106762</td>\n",
       "      <td>-0.216431</td>\n",
       "      <td>y</td>\n",
       "      <td>31625407</td>\n",
       "      <td>59946.034812</td>\n",
       "      <td>366</td>\n",
       "      <td>...</td>\n",
       "      <td>-0.206512</td>\n",
       "      <td>22.339399</td>\n",
       "      <td>18.620467</td>\n",
       "      <td>4.448227</td>\n",
       "      <td>23.71</td>\n",
       "      <td>0.02</td>\n",
       "      <td>0.18</td>\n",
       "      <td>0.007483</td>\n",
       "      <td>21.484381</td>\n",
       "      <td>0.027995</td>\n",
       "    </tr>\n",
       "    <tr>\n",
       "      <th>3</th>\n",
       "      <td>263145</td>\n",
       "      <td>1016</td>\n",
       "      <td>54</td>\n",
       "      <td>2202</td>\n",
       "      <td>0.080532</td>\n",
       "      <td>-0.171988</td>\n",
       "      <td>y</td>\n",
       "      <td>31625446</td>\n",
       "      <td>59946.035261</td>\n",
       "      <td>366</td>\n",
       "      <td>...</td>\n",
       "      <td>-0.162069</td>\n",
       "      <td>22.339399</td>\n",
       "      <td>18.620467</td>\n",
       "      <td>4.448227</td>\n",
       "      <td>23.71</td>\n",
       "      <td>0.02</td>\n",
       "      <td>0.18</td>\n",
       "      <td>0.007483</td>\n",
       "      <td>21.448220</td>\n",
       "      <td>0.027996</td>\n",
       "    </tr>\n",
       "    <tr>\n",
       "      <th>4</th>\n",
       "      <td>263146</td>\n",
       "      <td>1016</td>\n",
       "      <td>54</td>\n",
       "      <td>2212</td>\n",
       "      <td>0.134198</td>\n",
       "      <td>-0.169337</td>\n",
       "      <td>y</td>\n",
       "      <td>31625485</td>\n",
       "      <td>59946.035708</td>\n",
       "      <td>366</td>\n",
       "      <td>...</td>\n",
       "      <td>-0.159418</td>\n",
       "      <td>22.339399</td>\n",
       "      <td>18.620467</td>\n",
       "      <td>4.448227</td>\n",
       "      <td>23.71</td>\n",
       "      <td>0.02</td>\n",
       "      <td>0.18</td>\n",
       "      <td>0.007483</td>\n",
       "      <td>21.477537</td>\n",
       "      <td>0.027996</td>\n",
       "    </tr>\n",
       "    <tr>\n",
       "      <th>5</th>\n",
       "      <td>263147</td>\n",
       "      <td>1016</td>\n",
       "      <td>54</td>\n",
       "      <td>2226</td>\n",
       "      <td>0.187887</td>\n",
       "      <td>-0.165645</td>\n",
       "      <td>y</td>\n",
       "      <td>31625523</td>\n",
       "      <td>59946.036155</td>\n",
       "      <td>366</td>\n",
       "      <td>...</td>\n",
       "      <td>-0.155726</td>\n",
       "      <td>22.339399</td>\n",
       "      <td>18.620467</td>\n",
       "      <td>4.448227</td>\n",
       "      <td>23.71</td>\n",
       "      <td>0.02</td>\n",
       "      <td>0.18</td>\n",
       "      <td>0.007483</td>\n",
       "      <td>21.503323</td>\n",
       "      <td>0.027996</td>\n",
       "    </tr>\n",
       "    <tr>\n",
       "      <th>6</th>\n",
       "      <td>263148</td>\n",
       "      <td>1016</td>\n",
       "      <td>54</td>\n",
       "      <td>2234</td>\n",
       "      <td>0.241691</td>\n",
       "      <td>-0.161175</td>\n",
       "      <td>y</td>\n",
       "      <td>31625562</td>\n",
       "      <td>59946.036601</td>\n",
       "      <td>366</td>\n",
       "      <td>...</td>\n",
       "      <td>-0.151256</td>\n",
       "      <td>22.339399</td>\n",
       "      <td>18.620467</td>\n",
       "      <td>4.448227</td>\n",
       "      <td>23.71</td>\n",
       "      <td>0.02</td>\n",
       "      <td>0.18</td>\n",
       "      <td>0.007483</td>\n",
       "      <td>21.525988</td>\n",
       "      <td>0.027996</td>\n",
       "    </tr>\n",
       "    <tr>\n",
       "      <th>7</th>\n",
       "      <td>263149</td>\n",
       "      <td>1016</td>\n",
       "      <td>54</td>\n",
       "      <td>2244</td>\n",
       "      <td>0.295743</td>\n",
       "      <td>-0.156207</td>\n",
       "      <td>y</td>\n",
       "      <td>31625601</td>\n",
       "      <td>59946.037049</td>\n",
       "      <td>366</td>\n",
       "      <td>...</td>\n",
       "      <td>-0.146288</td>\n",
       "      <td>22.339399</td>\n",
       "      <td>18.620467</td>\n",
       "      <td>4.448227</td>\n",
       "      <td>23.71</td>\n",
       "      <td>0.02</td>\n",
       "      <td>0.18</td>\n",
       "      <td>0.007483</td>\n",
       "      <td>21.545878</td>\n",
       "      <td>0.027995</td>\n",
       "    </tr>\n",
       "    <tr>\n",
       "      <th>8</th>\n",
       "      <td>263150</td>\n",
       "      <td>1016</td>\n",
       "      <td>54</td>\n",
       "      <td>2136</td>\n",
       "      <td>0.321434</td>\n",
       "      <td>-0.198238</td>\n",
       "      <td>y</td>\n",
       "      <td>31625639</td>\n",
       "      <td>59946.037498</td>\n",
       "      <td>366</td>\n",
       "      <td>...</td>\n",
       "      <td>-0.188319</td>\n",
       "      <td>22.339399</td>\n",
       "      <td>18.620467</td>\n",
       "      <td>4.448227</td>\n",
       "      <td>23.71</td>\n",
       "      <td>0.02</td>\n",
       "      <td>0.18</td>\n",
       "      <td>0.007483</td>\n",
       "      <td>21.569981</td>\n",
       "      <td>0.027995</td>\n",
       "    </tr>\n",
       "    <tr>\n",
       "      <th>9</th>\n",
       "      <td>263151</td>\n",
       "      <td>1016</td>\n",
       "      <td>54</td>\n",
       "      <td>2144</td>\n",
       "      <td>0.376112</td>\n",
       "      <td>-0.192612</td>\n",
       "      <td>y</td>\n",
       "      <td>31625679</td>\n",
       "      <td>59946.037952</td>\n",
       "      <td>366</td>\n",
       "      <td>...</td>\n",
       "      <td>-0.182693</td>\n",
       "      <td>22.339399</td>\n",
       "      <td>18.620467</td>\n",
       "      <td>4.448227</td>\n",
       "      <td>23.71</td>\n",
       "      <td>0.02</td>\n",
       "      <td>0.18</td>\n",
       "      <td>0.007483</td>\n",
       "      <td>21.585879</td>\n",
       "      <td>0.027996</td>\n",
       "    </tr>\n",
       "  </tbody>\n",
       "</table>\n",
       "<p>10 rows × 56 columns</p>\n",
       "</div>"
      ],
      "text/plain": [
       "   obsHistID  sessionID  propID  fieldID   fieldRA  fieldDec filter   expDate  \\\n",
       "0     263142       1016      54     2061  0.000000 -0.219248      y  31625330   \n",
       "1     263143       1016      54     2067  0.053386 -0.218529      y  31625369   \n",
       "2     263144       1016      54     2085  0.106762 -0.216431      y  31625407   \n",
       "3     263145       1016      54     2202  0.080532 -0.171988      y  31625446   \n",
       "4     263146       1016      54     2212  0.134198 -0.169337      y  31625485   \n",
       "5     263147       1016      54     2226  0.187887 -0.165645      y  31625523   \n",
       "6     263148       1016      54     2234  0.241691 -0.161175      y  31625562   \n",
       "7     263149       1016      54     2244  0.295743 -0.156207      y  31625601   \n",
       "8     263150       1016      54     2136  0.321434 -0.198238      y  31625639   \n",
       "9     263151       1016      54     2144  0.376112 -0.192612      y  31625679   \n",
       "\n",
       "         expMJD  night    ...     ditheredDec         zp   mdarksky    Tscale  \\\n",
       "0  59946.033917    366    ...       -0.209329  22.339399  18.620467  4.448227   \n",
       "1  59946.034365    366    ...       -0.208610  22.339399  18.620467  4.448227   \n",
       "2  59946.034812    366    ...       -0.206512  22.339399  18.620467  4.448227   \n",
       "3  59946.035261    366    ...       -0.162069  22.339399  18.620467  4.448227   \n",
       "4  59946.035708    366    ...       -0.159418  22.339399  18.620467  4.448227   \n",
       "5  59946.036155    366    ...       -0.155726  22.339399  18.620467  4.448227   \n",
       "6  59946.036601    366    ...       -0.151256  22.339399  18.620467  4.448227   \n",
       "7  59946.037049    366    ...       -0.146288  22.339399  18.620467  4.448227   \n",
       "8  59946.037498    366    ...       -0.188319  22.339399  18.620467  4.448227   \n",
       "9  59946.037952    366    ...       -0.182693  22.339399  18.620467  4.448227   \n",
       "\n",
       "     C_m  dC_m_inf  k_atm      dC_m    m5_calc       dm5  \n",
       "0  23.71      0.02   0.18  0.007483  21.420686  0.027995  \n",
       "1  23.71      0.02   0.18  0.007483  21.454623  0.027995  \n",
       "2  23.71      0.02   0.18  0.007483  21.484381  0.027995  \n",
       "3  23.71      0.02   0.18  0.007483  21.448220  0.027996  \n",
       "4  23.71      0.02   0.18  0.007483  21.477537  0.027996  \n",
       "5  23.71      0.02   0.18  0.007483  21.503323  0.027996  \n",
       "6  23.71      0.02   0.18  0.007483  21.525988  0.027996  \n",
       "7  23.71      0.02   0.18  0.007483  21.545878  0.027995  \n",
       "8  23.71      0.02   0.18  0.007483  21.569981  0.027995  \n",
       "9  23.71      0.02   0.18  0.007483  21.585879  0.027996  \n",
       "\n",
       "[10 rows x 56 columns]"
      ]
     },
     "execution_count": 65,
     "metadata": {},
     "output_type": "execute_result"
    }
   ],
   "source": [
    "opsimdf.head(10)"
   ]
  },
  {
   "cell_type": "code",
   "execution_count": 34,
   "metadata": {
    "collapsed": false
   },
   "outputs": [],
   "source": [
    "opsimdf[\"Tscale\"] = calc_Tscale(opsimdf)"
   ]
  },
  {
   "cell_type": "code",
   "execution_count": 36,
   "metadata": {
    "collapsed": false
   },
   "outputs": [
    {
     "data": {
      "text/plain": [
       "0    4.448227\n",
       "1    4.448227\n",
       "2    4.448227\n",
       "3    4.448227\n",
       "4    4.448227\n",
       "Name: Tscale, dtype: float64"
      ]
     },
     "execution_count": 36,
     "metadata": {},
     "output_type": "execute_result"
    }
   ],
   "source": [
    "opsimdf[\"Tscale\"].head()"
   ]
  },
  {
   "cell_type": "markdown",
   "metadata": {},
   "source": [
    "## $dC_m$\n",
    "___\n",
    "\\begin{split}dC_m = dC_m^{inf} - 1.25 log_{10}(1 + (10^{(0.8\\, dC_m^{inf} -\n",
    "1)}/Tscale)\\end{split}\n",
    "\n",
    "The $dC_m^{inf}$ term accounts for the transition between instrument noise limited observations and sky background limited observations as the exposure time or sky brightness varies. For most LSST bandpasses, we are sky-noise dominated even in 15 second exposures, but in the u band, the sky background is low enough that the exposures become read noise limited. The $ k_{atm}$ term captures the extinction of the atmosphere and how it varies with airmass. It can be calculated as $ k_{atm} =\n",
    "-2.5 log_{10} (T_b / \\Sigma_b)$, where $T_b$ is the sum of the total system throughput in a particular bandpass and $\\Sigma_b$ is the sum of the hardware throughput in a particular bandpass (without the atmosphere).\n",
    "___\n",
    "\n",
    "<div class=\"wy-table-responsive\"><div class=\"wy-table-responsive\"><table border=\"1\" class=\"docutils\">\n",
    "<colgroup>\n",
    "<col width=\"25%\">\n",
    "<col width=\"25%\">\n",
    "<col width=\"29%\">\n",
    "<col width=\"21%\">\n",
    "</colgroup>\n",
    "<tbody valign=\"top\">\n",
    "<tr class=\"row-odd\"><td>Filter</td>\n",
    "<td>$C_m$</td>\n",
    "<td>$dC_m^{inf}$</td>\n",
    "<td>$ k_{atm}$</td>\n",
    "</tr>\n",
    "<tr class=\"row-even\"><td>u</td>\n",
    "<td>22.91</td>\n",
    "<td>0.57</td>\n",
    "<td>0.50</td>\n",
    "</tr>\n",
    "<tr class=\"row-odd\"><td>g</td>\n",
    "<td>24.45</td>\n",
    "<td>0.12</td>\n",
    "<td>0.21</td>\n",
    "</tr>\n",
    "<tr class=\"row-even\"><td>r</td>\n",
    "<td>24.46</td>\n",
    "<td>0.06</td>\n",
    "<td>0.13</td>\n",
    "</tr>\n",
    "<tr class=\"row-odd\"><td>i</td>\n",
    "<td>24.33</td>\n",
    "<td>0.05</td>\n",
    "<td>0.10</td>\n",
    "</tr>\n",
    "<tr class=\"row-even\"><td>z</td>\n",
    "<td>24.17</td>\n",
    "<td>0.03</td>\n",
    "<td>0.07</td>\n",
    "</tr>\n",
    "<tr class=\"row-odd\"><td>y</td>\n",
    "<td>23.71</td>\n",
    "<td>0.02</td>\n",
    "<td>0.18</td>\n",
    "</tr>\n",
    "</tbody>\n",
    "</div>\n",
    "___\n",
    "\n",
    "Initially, use the tabulated values"
   ]
  },
  {
   "cell_type": "code",
   "execution_count": 45,
   "metadata": {
    "collapsed": true
   },
   "outputs": [],
   "source": [
    "filter_shortname = [\"u\",\"g\",\"r\",\"i\",\"z\",\"y\"]\n",
    "filter_name = [\"LSST_\"+ i for i in filter_shortname]\n",
    "C_m = [22.91,24.45,24.46,24.33,24.17,23.71]\n",
    "dC_m_inf = [0.57,0.12,0.06,0.05,0.03,0.02]\n",
    "k_atm = [0.50,0.21,0.13,0.10,0.07,0.18]\n",
    "\n",
    "C_m_dict = OrderedDict()\n",
    "dC_m_inf_dict = OrderedDict()\n",
    "k_atm_dict = OrderedDict()\n",
    "\n",
    "for i, filter_key in enumerate(filter_shortname):\n",
    "    C_m_dict[filter_key] = C_m[i]\n",
    "    dC_m_inf_dict[filter_key] = dC_m_inf[i]\n",
    "    k_atm_dict[filter_key] = k_atm[i]"
   ]
  },
  {
   "cell_type": "code",
   "execution_count": 46,
   "metadata": {
    "collapsed": true
   },
   "outputs": [],
   "source": [
    "opsimdf[\"C_m\"] = opsimdf[\"filter\"].map(C_m_dict)\n",
    "opsimdf[\"dC_m_inf\"] = opsimdf[\"filter\"].map(dC_m_inf_dict)\n",
    "opsimdf[\"k_atm\"] = opsimdf[\"filter\"].map(k_atm_dict)"
   ]
  },
  {
   "cell_type": "code",
   "execution_count": 47,
   "metadata": {
    "collapsed": false
   },
   "outputs": [
    {
     "data": {
      "text/plain": [
       "Index(['obsHistID', 'sessionID', 'propID', 'fieldID', 'fieldRA', 'fieldDec',\n",
       "       'filter', 'expDate', 'expMJD', 'night', 'visitTime', 'visitExpTime',\n",
       "       'finRank', 'FWHMeff', 'FWHMgeom', 'transparency', 'airmass',\n",
       "       'vSkyBright', 'filtSkyBrightness', 'rotSkyPos', 'rotTelPos', 'lst',\n",
       "       'altitude', 'azimuth', 'dist2Moon', 'solarElong', 'moonRA', 'moonDec',\n",
       "       'moonAlt', 'moonAZ', 'moonPhase', 'sunAlt', 'sunAz', 'phaseAngle',\n",
       "       'rScatter', 'mieScatter', 'moonIllum', 'moonBright', 'darkBright',\n",
       "       'rawSeeing', 'wind', 'humidity', 'slewDist', 'slewTime',\n",
       "       'fiveSigmaDepth', 'ditheredRA', 'ditheredDec', 'zp', 'mdarksky',\n",
       "       'Tscale', 'C_m', 'dC_m_inf', 'k_atm'],\n",
       "      dtype='object')"
      ]
     },
     "execution_count": 47,
     "metadata": {},
     "output_type": "execute_result"
    }
   ],
   "source": [
    "opsimdf.columns"
   ]
  },
  {
   "cell_type": "code",
   "execution_count": 52,
   "metadata": {
    "collapsed": true
   },
   "outputs": [],
   "source": [
    "def calc_dC_m(df):\n",
    "    dC_m = df[\"dC_m_inf\"] - 1.25*np.log10(1.+np.power(10., 0.8*df[\"dC_m_inf\"] - 1.)/df[\"Tscale\"])\n",
    "    return dC_m"
   ]
  },
  {
   "cell_type": "code",
   "execution_count": 53,
   "metadata": {
    "collapsed": false
   },
   "outputs": [],
   "source": [
    "opsimdf[\"dC_m\"] = calc_dC_m(opsimdf)"
   ]
  },
  {
   "cell_type": "markdown",
   "metadata": {},
   "source": [
    "## m5\n",
    "___\n",
    "\\begin{split}m5 = C_m + dC_m + 0.50\\,(m_{sky} - 21.0) + 2.5 log_{10}(0.7 /\n",
    "FWHM_{eff}) \\\\\n",
    "+ 1.25 log_{10}(expTime / 30.0) - k_{atm}\\,(X-1.0)\\end{split}"
   ]
  },
  {
   "cell_type": "code",
   "execution_count": 55,
   "metadata": {
    "collapsed": false
   },
   "outputs": [],
   "source": [
    "def calc_m5(df):\n",
    "    m5 = df[\"C_m\"] + df[\"dC_m\"] + 0.5*(df[\"filtSkyBrightness\"] - 21.0) + 2.5*np.log10(0.7/df[\"FWHMeff\"])+1.25*np.log10(df[\"visitExpTime\"]/30.0) - df[\"k_atm\"]*(df[\"airmass\"]-1.0)\n",
    "    return m5"
   ]
  },
  {
   "cell_type": "code",
   "execution_count": 57,
   "metadata": {
    "collapsed": false
   },
   "outputs": [],
   "source": [
    "opsimdf[\"m5_calc\"] = calc_m5(opsimdf)"
   ]
  },
  {
   "cell_type": "code",
   "execution_count": 63,
   "metadata": {
    "collapsed": false
   },
   "outputs": [],
   "source": [
    "opsimdf[\"dm5\"] = opsimdf[\"fiveSigmaDepth\"]-opsimdf[\"m5_calc\"]"
   ]
  },
  {
   "cell_type": "code",
   "execution_count": 64,
   "metadata": {
    "collapsed": false
   },
   "outputs": [
    {
     "data": {
      "text/plain": [
       "<matplotlib.axes._subplots.AxesSubplot at 0x1151d5320>"
      ]
     },
     "execution_count": 64,
     "metadata": {},
     "output_type": "execute_result"
    },
    {
     "data": {
      "image/png": "[encoded data removed]",
      "text/plain": [
       "<matplotlib.figure.Figure at 0x11423c1d0>"
      ]
     },
     "metadata": {},
     "output_type": "display_data"
    }
   ],
   "source": [
    "opsimdf[\"dm5\"].hist()"
   ]
  },
  {
   "cell_type": "markdown",
   "metadata": {},
   "source": [
    "## Summary\n",
    "___\n",
    "\n",
    "I'm calculating a slightly _brighter_ m5 - this is probably due to using tabulated values rather than calculating them from scratch.\n"
   ]
  },
  {
   "cell_type": "code",
   "execution_count": null,
   "metadata": {
    "collapsed": true
   },
   "outputs": [],
   "source": []
  }
 ],
 "metadata": {
  "kernelspec": {
   "display_name": "Python 3",
   "language": "python",
   "name": "python3"
  },
  "language_info": {
   "codemirror_mode": {
    "name": "ipython",
    "version": 3
   },
   "file_extension": ".py",
   "mimetype": "text/x-python",
   "name": "python",
   "nbconvert_exporter": "python",
   "pygments_lexer": "ipython3",
   "version": "3.6.0"
  }
 },
 "nbformat": 4,
 "nbformat_minor": 2
}
