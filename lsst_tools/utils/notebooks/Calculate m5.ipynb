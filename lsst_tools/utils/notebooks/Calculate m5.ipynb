{
 "cells": [
  {
   "cell_type": "markdown",
   "metadata": {},
   "source": [
    "# Calculating 5-sigma Limiting Mag for LSST\n",
    "___\n",
    "\n",
    "## Rationale\n",
    "\n",
    "This value is quoted in the opsim output, but it is being questioned. Understanding the derivation (and how to extract the image ZP) is important "
   ]
  },
  {
   "cell_type": "code",
   "execution_count": null,
   "metadata": {
    "collapsed": true
   },
   "outputs": [],
   "source": [
    "%matplotlib inline\n",
    "# %matplotlib notebook\n",
    "\n",
    "from __future__ import print_function\n",
    "\n",
    "try:\n",
    "    from importlib import reload\n",
    "except:\n",
    "    pass\n",
    "\n",
    "import os\n",
    "import sys\n",
    "import warnings\n",
    "\n",
    "import numpy as np\n",
    "import pandas as pd\n",
    "import astropy as ap\n",
    "import sfdmap\n",
    "\n",
    "import sqlite3\n",
    "from sqlalchemy import create_engine\n",
    "\n",
    "from astropy.constants import h\n",
    "from scipy.integrate import simps\n",
    "\n",
    "from matplotlib import pyplot as plt\n",
    "import matplotlib.colors as mpl_colors \n",
    "\n",
    "import astropy.units as u"
   ]
  },
  {
   "cell_type": "code",
   "execution_count": null,
   "metadata": {
    "collapsed": false
   },
   "outputs": [],
   "source": [
    "import pyCoCo as pccsims\n",
    "import pycoco as pcc"
   ]
  },
  {
   "cell_type": "code",
   "execution_count": null,
   "metadata": {
    "collapsed": false
   },
   "outputs": [],
   "source": [
    "# %%timeit ## 1 loop, best of 3: 1min 31s per loop \n",
    "opsimdbpath = os.environ.get('OPSIMDBPATH')\n",
    "print(opsimdbpath)\n",
    "# opsimdbpath = \"/Users/berto/data/LSST/OpSimOutputDBs/astro_lsst_01_1068_sqlite.db\"\n",
    "# opsimdbpath = \"/Users/berto/data/LSST/OpSimOutputDBs/minion_1016_sqlite.db\"\n",
    "\n",
    "conn = create_engine('sqlite:///'+opsimdbpath, echo = False)\n",
    "# opsimdf = pd.read_sql_table('Summary', con=conn)"
   ]
  },
  {
   "cell_type": "code",
   "execution_count": null,
   "metadata": {
    "collapsed": true
   },
   "outputs": [],
   "source": [
    "opsimdf = pd.read_sql_query(sql = \"SELECT * FROM Summary WHERE night > 365 AND night < 731\", con = conn)"
   ]
  },
  {
   "cell_type": "markdown",
   "metadata": {
    "collapsed": false
   },
   "source": [
    "opsimdf.columns"
   ]
  },
  {
   "cell_type": "code",
   "execution_count": null,
   "metadata": {
    "collapsed": false,
    "scrolled": true
   },
   "outputs": [],
   "source": [
    "opsimdf.columns"
   ]
  },
  {
   "cell_type": "markdown",
   "metadata": {
    "collapsed": false
   },
   "source": [
    "# OpSim m5 derivation \n",
    "\n",
    "Recreating the m5 values, as per http://smtn-002.lsst.io/en/latest/\n",
    "\n",
    "\\begin{split}m5 = C_m + dC_m + 0.50\\,(m_{sky} - 21.0) + 2.5 log_{10}(0.7 /\n",
    "FWHM_{eff}) \\\\\n",
    "+ 1.25 log_{10}(expTime / 30.0) - k_{atm}\\,(X-1.0)\\end{split}\n",
    "\n",
    "\\begin{split}dC_m = dC_m^{inf} - 1.25 log_{10}(1 + (10^{(0.8\\, dC_m^{inf} -\n",
    "1)}/Tscale)\\end{split}\n",
    "\n",
    "\\begin{split}Tscale = expTime / 30.0 * 10.0^{-0.4*(m_{sky} - m_{darksky})}\\end{split}\n"
   ]
  },
  {
   "cell_type": "markdown",
   "metadata": {},
   "source": [
    "## Tscale"
   ]
  },
  {
   "cell_type": "code",
   "execution_count": null,
   "metadata": {
    "collapsed": false
   },
   "outputs": [],
   "source": [
    "opsimdf[\"filtSkyBrightness\"].hist()"
   ]
  },
  {
   "cell_type": "code",
   "execution_count": null,
   "metadata": {
    "collapsed": false
   },
   "outputs": [],
   "source": [
    "def calc_Tscale(df):\n",
    "\n",
    "\n",
    "    \n",
    "    \n",
    "\n",
    "    Tscale = df[\"visitExpTime\"].head()/30. * np.power(10., -0.4*(df[\"filtSkyBrightness\"] - mdarksky))\n",
    "    return Tscale"
   ]
  },
  {
   "cell_type": "code",
   "execution_count": null,
   "metadata": {
    "collapsed": false
   },
   "outputs": [],
   "source": [
    "dark_sky_path = os.path.join(os.environ[\"LSST_THROUGHPUTS_BASELINE\"], \"darksky.dat\")\n",
    "darksky = pcc.SpectrumClass()\n",
    "darksky.load(dark_sky_path, wavelength_u=u.nm, flux_u=u.cgs.erg / u.si.cm ** 2 / u.si.s / u.nm,\n",
    "             fmt=\"ascii.commented_header\", wmin=3500 * u.angstrom, wmax=11000 * u.angstrom, )\n",
    "\n",
    "lsst_filters = [i for i in opsimdf[\"filter\"].unique()]\n",
    "\n",
    "zp_dict = {}\n",
    "m_sky_dict = {}\n",
    "\n",
    "for filter_key in lsst_filters:\n",
    "    zp_dict[filter_key] = pcc.kcorr.calc_AB_zp(\"LSST_\"+filter_key)\n",
    "    zp_dict[\"LSST_\"+filter_key] = zp_dict[filter_key]\n",
    "    \n",
    "    m_sky[filter_key] = -2.5 * np.log10(pcc.kcorr.calc_spectrum_filter_flux(filter_key, darksky)) - zp_dict[filter_key]\n",
    "zp_dict   "
   ]
  },
  {
   "cell_type": "code",
   "execution_count": null,
   "metadata": {
    "collapsed": false
   },
   "outputs": [],
   "source": [
    "opsimdf[\"zp\"] = opsimdf[\"filter\"].map(zp_dict)"
   ]
  },
  {
   "cell_type": "code",
   "execution_count": null,
   "metadata": {
    "collapsed": false
   },
   "outputs": [],
   "source": []
  },
  {
   "cell_type": "code",
   "execution_count": null,
   "metadata": {
    "collapsed": true
   },
   "outputs": [],
   "source": [
    "def calc_dCm():\n",
    "    dCm = False\n",
    "    return dCm\n",
    "\n",
    "\n",
    "def calc_m5():\n",
    "    m5 = False\n",
    "    return m5"
   ]
  }
 ],
 "metadata": {
  "kernelspec": {
   "display_name": "Python 3",
   "language": "python",
   "name": "python3"
  }
 },
 "nbformat": 4,
 "nbformat_minor": 2
}
