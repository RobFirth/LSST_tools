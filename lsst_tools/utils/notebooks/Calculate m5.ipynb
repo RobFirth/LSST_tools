{
 "cells": [
  {
   "cell_type": "code",
   "execution_count": 45,
   "metadata": {
    "collapsed": true
   },
   "outputs": [],
   "source": [
    "%matplotlib inline\n",
    "# %matplotlib notebook\n",
    "\n",
    "from __future__ import print_function\n",
    "\n",
    "try:\n",
    "    from importlib import reload\n",
    "except:\n",
    "    pass\n",
    "\n",
    "import os\n",
    "import sys\n",
    "import warnings\n",
    "\n",
    "import numpy as np\n",
    "import pandas as pd\n",
    "import astropy as ap\n",
    "import sfdmap\n",
    "\n",
    "import sqlite3\n",
    "from sqlalchemy import create_engine\n",
    "\n",
    "from astropy.constants import h\n",
    "from scipy.integrate import simps\n",
    "\n",
    "from matplotlib import pyplot as plt\n",
    "import matplotlib.colors as mpl_colors \n",
    "\n",
    "import astropy.units as u"
   ]
  },
  {
   "cell_type": "code",
   "execution_count": 46,
   "metadata": {
    "collapsed": false
   },
   "outputs": [
    {
     "data": {
      "text/plain": [
       "<module 'pyCoCo' from '/Users/berto/Code/CoCo/pyCoCo.cpython-36m-darwin.so'>"
      ]
     },
     "execution_count": 46,
     "metadata": {},
     "output_type": "execute_result"
    }
   ],
   "source": [
    "import pyCoCo as pccsims\n",
    "import pycoco as pcc\n",
    "\n",
    "reload(pcc)\n",
    "reload(pcc.defaults)\n",
    "reload(pcc.kcorr)\n",
    "reload(pcc.classes)\n",
    "reload(pccsims)"
   ]
  },
  {
   "cell_type": "code",
   "execution_count": 3,
   "metadata": {
    "collapsed": false
   },
   "outputs": [
    {
     "name": "stdout",
     "output_type": "stream",
     "text": [
      "/Users/berto/data/LSST/OpSimOutputDBs/minion_1016_sqlite.db\n"
     ]
    }
   ],
   "source": [
    "# %%timeit ## 1 loop, best of 3: 1min 31s per loop \n",
    "opsimdbpath = os.environ.get('OPSIMDBPATH')\n",
    "print(opsimdbpath)\n",
    "# opsimdbpath = \"/Users/berto/data/LSST/OpSimOutputDBs/astro_lsst_01_1068_sqlite.db\"\n",
    "# opsimdbpath = \"/Users/berto/data/LSST/OpSimOutputDBs/minion_1016_sqlite.db\"\n",
    "\n",
    "conn = create_engine('sqlite:///'+opsimdbpath, echo = False)\n",
    "# opsimdf = pd.read_sql_table('Summary', con=conn)"
   ]
  },
  {
   "cell_type": "code",
   "execution_count": 4,
   "metadata": {
    "collapsed": true
   },
   "outputs": [],
   "source": [
    "opsimdf = pd.read_sql_query(sql = \"SELECT * FROM Summary WHERE night > 365 AND night < 731\", con = conn)"
   ]
  },
  {
   "cell_type": "markdown",
   "metadata": {
    "collapsed": false
   },
   "source": [
    "opsimdf.columns"
   ]
  },
  {
   "cell_type": "code",
   "execution_count": 5,
   "metadata": {
    "collapsed": false,
    "scrolled": true
   },
   "outputs": [
    {
     "data": {
      "text/plain": [
       "Index(['obsHistID', 'sessionID', 'propID', 'fieldID', 'fieldRA', 'fieldDec',\n",
       "       'filter', 'expDate', 'expMJD', 'night', 'visitTime', 'visitExpTime',\n",
       "       'finRank', 'FWHMeff', 'FWHMgeom', 'transparency', 'airmass',\n",
       "       'vSkyBright', 'filtSkyBrightness', 'rotSkyPos', 'rotTelPos', 'lst',\n",
       "       'altitude', 'azimuth', 'dist2Moon', 'solarElong', 'moonRA', 'moonDec',\n",
       "       'moonAlt', 'moonAZ', 'moonPhase', 'sunAlt', 'sunAz', 'phaseAngle',\n",
       "       'rScatter', 'mieScatter', 'moonIllum', 'moonBright', 'darkBright',\n",
       "       'rawSeeing', 'wind', 'humidity', 'slewDist', 'slewTime',\n",
       "       'fiveSigmaDepth', 'ditheredRA', 'ditheredDec'],\n",
       "      dtype='object')"
      ]
     },
     "execution_count": 5,
     "metadata": {},
     "output_type": "execute_result"
    }
   ],
   "source": [
    "opsimdf.columns"
   ]
  },
  {
   "cell_type": "markdown",
   "metadata": {
    "collapsed": false
   },
   "source": [
    "# OpSim m5 derivation \n",
    "\n",
    "Recreating the m5 values, as per http://smtn-002.lsst.io/en/latest/\n",
    "\n",
    "\\begin{split}m5 = C_m + dC_m + 0.50\\,(m_{sky} - 21.0) + 2.5 log_{10}(0.7 /\n",
    "FWHM_{eff}) \\\\\n",
    "+ 1.25 log_{10}(expTime / 30.0) - k_{atm}\\,(X-1.0)\\end{split}\n",
    "\n",
    "\\begin{split}dC_m = dC_m^{inf} - 1.25 log_{10}(1 + (10^{(0.8\\, dC_m^{inf} -\n",
    "1)}/Tscale)\\end{split}\n",
    "\n",
    "\\begin{split}Tscale = expTime / 30.0 * 10.0^{-0.4*(m_{sky} - m_{darksky})}\\end{split}\n"
   ]
  },
  {
   "cell_type": "code",
   "execution_count": null,
   "metadata": {
    "collapsed": false
   },
   "outputs": [],
   "source": [
    "def calc_Tscale(df, mdarksky):\n",
    "    Tscale = df[\"visitExpTime\"].head()/30. * np.power(10., -0.4*(df[\"filtSkyBrightness\"] - mdarksky[]))\n",
    "    return Tscale\n",
    "\n",
    "\n",
    "def calc_dCm():\n",
    "    dCm = False\n",
    "    return dCm\n",
    "\n",
    "\n",
    "def calc_m5():\n",
    "    m5 = False\n",
    "    return m5\n",
    "\n"
   ]
  },
  {
   "cell_type": "code",
   "execution_count": null,
   "metadata": {
    "collapsed": true
   },
   "outputs": [],
   "source": []
  }
 ],
 "metadata": {
  "kernelspec": {
   "display_name": "Python 3",
   "language": "python",
   "name": "python3"
  },
  "language_info": {
   "codemirror_mode": {
    "name": "ipython",
    "version": 3
   },
   "file_extension": ".py",
   "mimetype": "text/x-python",
   "name": "python",
   "nbconvert_exporter": "python",
   "pygments_lexer": "ipython3",
   "version": "3.6.0"
  }
 },
 "nbformat": 4,
 "nbformat_minor": 2
}
