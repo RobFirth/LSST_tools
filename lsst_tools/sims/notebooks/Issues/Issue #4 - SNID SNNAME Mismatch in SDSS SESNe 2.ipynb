{
 "cells": [
  {
   "cell_type": "markdown",
   "metadata": {},
   "source": [
    "# Issue \\#4\n",
    "---\n",
    "\n",
    "https://github.com/UoS-SNe/LSST_tools/issues/4\n",
    "\n",
    "---\n",
    "\n",
    "When simulating, the numbers of similated SNID's and SNNames don't match:\n",
    "\n",
    "```\n",
    "> output_df[\"snname\"].value_counts()\n",
    "SN2005bf    7834\n",
    "SN1993J     1877\n",
    "SN1994I      289\n",
    "Name: snname, dtype: int64\n",
    "``` \n",
    "\n",
    "and \n",
    "```\n",
    "> output_df[\"snindex\"].value_counts()\n",
    "23    746\n",
    "9     745\n",
    "6     745\n",
    "18    739\n",
    "24    727\n",
    "17    711\n",
    "7     701\n",
    "13    701\n",
    "12    691\n",
    "10    674\n",
    "19    654\n",
    "14    336\n",
    "2     325\n",
    "21    325\n",
    "0     310\n",
    "22    304\n",
    "15    277\n",
    "3      50\n",
    "4      44\n",
    "5      39\n",
    "20     38\n",
    "1      35\n",
    "11     31\n",
    "16     26\n",
    "8      26\n",
    "Name: snindex, dtype: int64\n",
    "```\n",
    "![snids_sdss_sesne_2](https://user-images.githubusercontent.com/10420166/27956030-b34cee24-630f-11e7-937e-808508f0fcb4.png)\n",
    "\n",
    "---\n",
    "\n",
    "## Current Implementation:\n",
    "\n",
    "```\n",
    "        ## Choose SN Type\n",
    "        subtype = lsstt.sims.choose_subtype()\n",
    "        if verbose: print(subtype)\n",
    "\n",
    "        ## Choose SN\n",
    "        w = np.where(info.table[\"Type\"] == subtype)[0]\n",
    "        snindex = np.random.choice(w)\n",
    "        snname = pcc.utils.b(info.table[\"snname\"].data[w][0])\n",
    "        if verbose: print(w, snname)\n",
    "```"
   ]
  },
  {
   "cell_type": "code",
   "execution_count": 19,
   "metadata": {
    "collapsed": true
   },
   "outputs": [],
   "source": [
    "%matplotlib inline\n",
    "\n",
    "import os \n",
    "import json\n",
    "import pandas as pd\n",
    "import numpy as np\n",
    "\n",
    "import pycoco as pcc\n",
    "import lsst_tools as lsstt"
   ]
  },
  {
   "cell_type": "code",
   "execution_count": 7,
   "metadata": {
    "collapsed": true
   },
   "outputs": [],
   "source": [
    "verbose=True"
   ]
  },
  {
   "cell_type": "markdown",
   "metadata": {},
   "source": [
    "Check infofile looks OK"
   ]
  },
  {
   "cell_type": "code",
   "execution_count": 12,
   "metadata": {
    "collapsed": false
   },
   "outputs": [],
   "source": [
    "info = pcc.InfoClass()\n",
    "# info.load()\n",
    "# use only good SNe\n",
    "info.load(path = \"/Users/berto/Code/CoCo/data/info/info_good.dat\")"
   ]
  },
  {
   "cell_type": "code",
   "execution_count": 16,
   "metadata": {
    "collapsed": false
   },
   "outputs": [
    {
     "data": {
      "text/html": [
       "&lt;Table length=25&gt;\n",
       "<table id=\"table4677535336-371347\" class=\"table-striped table-bordered table-condensed\">\n",
       "<thead><tr><th>idx</th><th>snname</th><th>z_obs</th><th>mu</th><th>RA</th><th>Dec</th><th>Type</th><th>SkyCoords</th></tr></thead>\n",
       "<thead><tr><th></th><th></th><th></th><th></th><th></th><th></th><th></th><th>deg,deg</th></tr></thead>\n",
       "<tr><td>0</td><td>SN1993J</td><td>-0.0001</td><td>27.82</td><td>09:55:24.7747</td><td>+69:01:13.702</td><td>IIb</td><td>148.85322791666664,69.02047277777778</td></tr>\n",
       "<tr><td>1</td><td>SN1994I</td><td>0.0015</td><td>29.5</td><td>13:29:54.072</td><td>+47:11:30.50</td><td>Ic</td><td>202.47529999999995,47.191805555555554</td></tr>\n",
       "<tr><td>2</td><td>SN1996cb</td><td>0.0024</td><td>30.69</td><td>11:03:41.98</td><td>+28:54:13.7</td><td>IIb</td><td>165.92491666666666,28.903805555555554</td></tr>\n",
       "<tr><td>3</td><td>SN1998bw</td><td>0.0085</td><td>32.69</td><td>19:35:03.17</td><td>-52:50:46.1</td><td>Ic</td><td>293.76320833333324,-52.846138888888895</td></tr>\n",
       "<tr><td>4</td><td>SN2002ap</td><td>0.0022</td><td>29.76</td><td>01:36:23.85</td><td>+15:45:13.2</td><td>Ic</td><td>24.099375,15.753666666666666</td></tr>\n",
       "<tr><td>5</td><td>SN2003jd</td><td>0.0188</td><td>34.33</td><td>23:21:03.38</td><td>-04:53:45.5</td><td>Ic</td><td>350.2640833333333,-4.8959722222222215</td></tr>\n",
       "<tr><td>6</td><td>SN2005bf</td><td>0.0189</td><td>34.73</td><td>10:23:56.99</td><td>-03:11:29.3</td><td>Ib</td><td>155.9874583333333,-3.191472222222222</td></tr>\n",
       "<tr><td>7</td><td>SN2005hg</td><td>0.021</td><td>34.54</td><td>01:55:41.87</td><td>+46:47:47.4</td><td>Ib</td><td>28.924458333333327,46.796499999999995</td></tr>\n",
       "<tr><td>8</td><td>SN2006aj</td><td>0.0334</td><td>35.9</td><td>03:21:39.670</td><td>+16:52:02.27</td><td>Ic</td><td>50.41529166666666,16.867297222222223</td></tr>\n",
       "<tr><td>9</td><td>SN2007C</td><td>0.0056</td><td>31.83</td><td>13:08:49.30</td><td>-06:47:01.0</td><td>Ib</td><td>197.20541666666665,-6.783611111111111</td></tr>\n",
       "<tr><td>10</td><td>SN2007Y</td><td>0.0046</td><td>31.43</td><td>03:02:35.92</td><td>-22:53:50.1</td><td>Ib</td><td>45.64966666666666,-22.89725</td></tr>\n",
       "<tr><td>11</td><td>SN2007gr</td><td>0.0017</td><td>29.28</td><td>02:43:27.98</td><td>+37:20:44.7</td><td>Ic</td><td>40.86658333333333,37.34575</td></tr>\n",
       "<tr><td>12</td><td>SN2007uy</td><td>0.007</td><td>32.35</td><td>09:09:35.40</td><td>+33:07:09.9</td><td>Ib</td><td>137.39749999999998,33.119416666666666</td></tr>\n",
       "<tr><td>13</td><td>SN2008D</td><td>0.0046</td><td>32.35</td><td>09:09:30.625</td><td>+33:08:20.16</td><td>Ib</td><td>137.37760416666666,33.138933333333334</td></tr>\n",
       "<tr><td>14</td><td>SN2008ax</td><td>0.0019</td><td>29.42</td><td>12:30:40.80</td><td>+41:38:16.1</td><td>IIb</td><td>187.66999999999996,41.63780555555555</td></tr>\n",
       "<tr><td>15</td><td>SN2008bo</td><td>0.005</td><td>31.52</td><td>18:19:54.41</td><td>+74:34:21.0</td><td>IIb</td><td>274.97670833333325,74.57249999999999</td></tr>\n",
       "<tr><td>16</td><td>SN2009bb</td><td>0.01</td><td>33.02</td><td>10:31:33.92</td><td>-39:57:28.2</td><td>Ic</td><td>157.8913333333333,-39.95783333333333</td></tr>\n",
       "<tr><td>17</td><td>SN2009iz</td><td>0.0142</td><td>33.75</td><td>02:42:15.41</td><td>+42:23:50.1</td><td>Ib</td><td>40.564208333333326,42.39725</td></tr>\n",
       "<tr><td>18</td><td>SN2009jf</td><td>0.008</td><td>32.58</td><td>23:04:52.98</td><td>+12:19:59.5</td><td>Ib</td><td>346.22074999999995,12.333194444444445</td></tr>\n",
       "<tr><td>19</td><td>SN2010al</td><td>0.017</td><td>34.74</td><td>08:14:15.91</td><td>+18:26:18.2</td><td>Ib</td><td>123.56629166666664,18.438388888888888</td></tr>\n",
       "<tr><td>20</td><td>SN2011bm</td><td>0.0022</td><td>35.53</td><td>12:56:53.89</td><td>+22:22:28.2</td><td>Ic</td><td>194.22454166666665,22.3745</td></tr>\n",
       "<tr><td>21</td><td>SN2011dh</td><td>0.0015</td><td>29.5</td><td>13:30:05.1055</td><td>+47:10:10.922</td><td>IIb</td><td>202.52127291666665,47.16970055555555</td></tr>\n",
       "<tr><td>22</td><td>SN2011ei</td><td>0.0093</td><td>32.41</td><td>20:34:22.62</td><td>-31:58:23.6</td><td>IIb</td><td>308.59424999999993,-31.97322222222222</td></tr>\n",
       "<tr><td>23</td><td>SN2012ap</td><td>0.0121</td><td>32.96</td><td>05:00:13.72</td><td>-03:20:51.2</td><td>Ib</td><td>75.05716666666666,-3.3475555555555556</td></tr>\n",
       "<tr><td>24</td><td>SN2013ge</td><td>0.0043</td><td>31.36</td><td>10:34:48.46</td><td>+21:39:41.9</td><td>Ib</td><td>158.70191666666665,21.661638888888888</td></tr>\n",
       "</table><style>table.dataTable {clear: both; width: auto !important; margin: 0 !important;}\n",
       ".dataTables_info, .dataTables_length, .dataTables_filter, .dataTables_paginate{\n",
       "display: inline-block; margin-right: 1em; }\n",
       ".paginate_button { margin-right: 5px; }\n",
       "</style>\n",
       "<script>\n",
       "require.config({paths: {\n",
       "    datatables: 'https://cdn.datatables.net/1.10.12/js/jquery.dataTables.min'\n",
       "}});\n",
       "require([\"datatables\"], function(){\n",
       "    console.log(\"$('#table4677535336-371347').dataTable()\");\n",
       "    $('#table4677535336-371347').dataTable({\n",
       "        \"order\": [],\n",
       "        \"iDisplayLength\": 50,\n",
       "        \"aLengthMenu\": [[10, 25, 50, 100, 500, 1000, -1], [10, 25, 50, 100, 500, 1000, 'All']],\n",
       "        \"pagingType\": \"full_numbers\"\n",
       "    });\n",
       "});\n",
       "</script>\n"
      ],
      "text/plain": [
       "<IPython.core.display.HTML object>"
      ]
     },
     "execution_count": 16,
     "metadata": {},
     "output_type": "execute_result"
    }
   ],
   "source": [
    "info.table.show_in_notebook()"
   ]
  },
  {
   "cell_type": "markdown",
   "metadata": {},
   "source": [
    "Infofile looks fine - must be in the sims"
   ]
  },
  {
   "cell_type": "code",
   "execution_count": 25,
   "metadata": {
    "collapsed": false
   },
   "outputs": [
    {
     "name": "stdout",
     "output_type": "stream",
     "text": [
      "IIb\n"
     ]
    }
   ],
   "source": [
    "## Choose SN Type\n",
    "subtype = lsstt.sims.choose_subtype()\n",
    "if verbose: print(subtype)"
   ]
  },
  {
   "cell_type": "code",
   "execution_count": 29,
   "metadata": {
    "collapsed": false
   },
   "outputs": [
    {
     "data": {
      "text/plain": [
       "array([ 0,  2, 14, 15, 21, 22])"
      ]
     },
     "execution_count": 29,
     "metadata": {},
     "output_type": "execute_result"
    }
   ],
   "source": [
    "np.where(info.table[\"Type\"] == subtype)[0]"
   ]
  },
  {
   "cell_type": "code",
   "execution_count": 23,
   "metadata": {
    "collapsed": false
   },
   "outputs": [
    {
     "name": "stdout",
     "output_type": "stream",
     "text": [
      "[ 6  7  9 10 12 13 17 18 19 23 24] b'SN2005bf' 12\n"
     ]
    }
   ],
   "source": [
    "w = np.where(info.table[\"Type\"] == subtype)[0]\n",
    "snindex = np.random.choice(w)\n",
    "snname = pcc.utils.b(info.table[\"snname\"].data[w][0])\n",
    "if verbose: print(w, snname, snindex)"
   ]
  },
  {
   "cell_type": "markdown",
   "metadata": {},
   "source": [
    "There it is. I can actually remember the edit that caused it. \n",
    "`w` was being assigned the array, as `numpy.where` returns a tuple, in line 1 above.\n",
    "`snindex` was being assigned correctly, but `snname` used `w`, rather than the index. Corrected, this should look like:"
   ]
  },
  {
   "cell_type": "code",
   "execution_count": 37,
   "metadata": {
    "collapsed": false
   },
   "outputs": [
    {
     "name": "stdout",
     "output_type": "stream",
     "text": [
      "[ 0  2 14 15 21 22] b'SN2011ei' 22\n"
     ]
    }
   ],
   "source": [
    "w = np.where(info.table[\"Type\"] == subtype)[0]\n",
    "snindex = np.random.choice(w)\n",
    "snname = pcc.utils.b(info.table[\"snname\"].data[snindex])\n",
    "if verbose: print(w, snname, snindex)"
   ]
  },
  {
   "cell_type": "markdown",
   "metadata": {},
   "source": [
    "---\n",
    "# Fixed"
   ]
  }
 ],
 "metadata": {
  "kernelspec": {
   "display_name": "Python 3",
   "language": "python",
   "name": "python3"
  },
  "language_info": {
   "codemirror_mode": {
    "name": "ipython",
    "version": 3
   },
   "file_extension": ".py",
   "mimetype": "text/x-python",
   "name": "python",
   "nbconvert_exporter": "python",
   "pygments_lexer": "ipython3",
   "version": "3.6.0"
  }
 },
 "nbformat": 4,
 "nbformat_minor": 2
}
