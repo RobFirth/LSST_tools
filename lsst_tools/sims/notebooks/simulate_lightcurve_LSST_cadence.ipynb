{
 "cells": [
  {
   "cell_type": "markdown",
   "metadata": {},
   "source": [
    "# Get a LSST Simulated Cadence for Arbitrary Sky Position\n",
    "___\n",
    "\n",
    "\n",
    "___"
   ]
  },
  {
   "cell_type": "code",
   "execution_count": 1,
   "metadata": {
    "collapsed": false
   },
   "outputs": [],
   "source": [
    "\"\"\"\n",
    "\n",
    "\"\"\"\n",
    "%matplotlib inline\n",
    "# %matplotlib notebook\n",
    "\n",
    "from __future__ import print_function\n",
    "\n",
    "try:\n",
    "    from importlib import reload\n",
    "except:\n",
    "    pass\n",
    "\n",
    "\n",
    "from matplotlib import pyplot as plt\n",
    "import matplotlib.colors as mpl_colors \n",
    "\n",
    "import os\n",
    "import sys\n",
    "import warnings\n",
    "\n",
    "import numpy as np\n",
    "import pandas as pd\n",
    "import astropy as ap\n",
    "import sfdmap\n",
    "\n",
    "import sqlite3\n",
    "from sqlalchemy import create_engine\n",
    "\n",
    "from astropy import units as u\n",
    "from astropy.coordinates import SkyCoord\n",
    "from astropy.table import Table\n",
    "\n",
    "import lsst_tools.utils as utils \n",
    "import lsst_tools.utils.colours as colours \n",
    "\n",
    "import pyCoCo as pccsims\n",
    "import pycoco as pcc"
   ]
  },
  {
   "cell_type": "markdown",
   "metadata": {
    "collapsed": true
   },
   "source": [
    "Connect to .db file that contains the opsim output, read into a dataframe, `opsimdf`"
   ]
  },
  {
   "cell_type": "code",
   "execution_count": 2,
   "metadata": {
    "collapsed": false
   },
   "outputs": [
    {
     "name": "stdout",
     "output_type": "stream",
     "text": [
      "/Users/berto/data/LSST/OpSimOutputDBs/minion_1016_sqlite.db\n"
     ]
    }
   ],
   "source": [
    "# %%timeit ## 1 loop, best of 3: 1min 31s per loop \n",
    "opsimdbpath = os.environ.get('OPSIMDBPATH')\n",
    "print(opsimdbpath)\n",
    "# opsimdbpath = \"/Users/berto/data/LSST/OpSimOutputDBs/astro_lsst_01_1068_sqlite.db\"\n",
    "opsimdbpath = \"/Users/berto/data/LSST/OpSimOutputDBs/minion_1016_sqlite.db\"\n",
    "\n",
    "conn = create_engine('sqlite:///'+opsimdbpath, echo = False)\n",
    "opsimdf = pd.read_sql_table('Summary', con=conn)"
   ]
  },
  {
   "cell_type": "markdown",
   "metadata": {},
   "source": [
    "Check that the db looks as we expect"
   ]
  },
  {
   "cell_type": "code",
   "execution_count": 3,
   "metadata": {
    "collapsed": false
   },
   "outputs": [
    {
     "data": {
      "text/html": [
       "<div>\n",
       "<table border=\"1\" class=\"dataframe\">\n",
       "  <thead>\n",
       "    <tr style=\"text-align: right;\">\n",
       "      <th></th>\n",
       "      <th>obsHistID</th>\n",
       "      <th>sessionID</th>\n",
       "      <th>propID</th>\n",
       "      <th>fieldID</th>\n",
       "      <th>fieldRA</th>\n",
       "      <th>fieldDec</th>\n",
       "      <th>filter</th>\n",
       "      <th>expDate</th>\n",
       "      <th>expMJD</th>\n",
       "      <th>night</th>\n",
       "      <th>...</th>\n",
       "      <th>moonBright</th>\n",
       "      <th>darkBright</th>\n",
       "      <th>rawSeeing</th>\n",
       "      <th>wind</th>\n",
       "      <th>humidity</th>\n",
       "      <th>slewDist</th>\n",
       "      <th>slewTime</th>\n",
       "      <th>fiveSigmaDepth</th>\n",
       "      <th>ditheredRA</th>\n",
       "      <th>ditheredDec</th>\n",
       "    </tr>\n",
       "  </thead>\n",
       "  <tbody>\n",
       "    <tr>\n",
       "      <th>0</th>\n",
       "      <td>1</td>\n",
       "      <td>1016</td>\n",
       "      <td>54</td>\n",
       "      <td>316</td>\n",
       "      <td>1.676483</td>\n",
       "      <td>-1.082473</td>\n",
       "      <td>y</td>\n",
       "      <td>2922</td>\n",
       "      <td>59580.033829</td>\n",
       "      <td>0</td>\n",
       "      <td>...</td>\n",
       "      <td>0.0</td>\n",
       "      <td>105.610378</td>\n",
       "      <td>0.920473</td>\n",
       "      <td>0.0</td>\n",
       "      <td>0.0</td>\n",
       "      <td>1.620307</td>\n",
       "      <td>0.000000</td>\n",
       "      <td>21.021236</td>\n",
       "      <td>1.643930</td>\n",
       "      <td>-1.108924</td>\n",
       "    </tr>\n",
       "    <tr>\n",
       "      <th>1</th>\n",
       "      <td>2</td>\n",
       "      <td>1016</td>\n",
       "      <td>54</td>\n",
       "      <td>372</td>\n",
       "      <td>1.694120</td>\n",
       "      <td>-1.033972</td>\n",
       "      <td>y</td>\n",
       "      <td>2961</td>\n",
       "      <td>59580.034275</td>\n",
       "      <td>0</td>\n",
       "      <td>...</td>\n",
       "      <td>0.0</td>\n",
       "      <td>105.167017</td>\n",
       "      <td>0.920473</td>\n",
       "      <td>0.0</td>\n",
       "      <td>0.0</td>\n",
       "      <td>0.049266</td>\n",
       "      <td>4.574944</td>\n",
       "      <td>21.026646</td>\n",
       "      <td>1.664257</td>\n",
       "      <td>-1.060423</td>\n",
       "    </tr>\n",
       "    <tr>\n",
       "      <th>2</th>\n",
       "      <td>3</td>\n",
       "      <td>1016</td>\n",
       "      <td>54</td>\n",
       "      <td>441</td>\n",
       "      <td>1.708513</td>\n",
       "      <td>-0.985271</td>\n",
       "      <td>y</td>\n",
       "      <td>2999</td>\n",
       "      <td>59580.034722</td>\n",
       "      <td>0</td>\n",
       "      <td>...</td>\n",
       "      <td>0.0</td>\n",
       "      <td>104.849578</td>\n",
       "      <td>0.920473</td>\n",
       "      <td>0.0</td>\n",
       "      <td>0.0</td>\n",
       "      <td>0.049298</td>\n",
       "      <td>4.595615</td>\n",
       "      <td>21.030520</td>\n",
       "      <td>1.680878</td>\n",
       "      <td>-1.011722</td>\n",
       "    </tr>\n",
       "    <tr>\n",
       "      <th>3</th>\n",
       "      <td>4</td>\n",
       "      <td>1016</td>\n",
       "      <td>54</td>\n",
       "      <td>505</td>\n",
       "      <td>1.720374</td>\n",
       "      <td>-0.936476</td>\n",
       "      <td>y</td>\n",
       "      <td>3038</td>\n",
       "      <td>59580.035169</td>\n",
       "      <td>0</td>\n",
       "      <td>...</td>\n",
       "      <td>0.0</td>\n",
       "      <td>104.669398</td>\n",
       "      <td>0.920473</td>\n",
       "      <td>0.0</td>\n",
       "      <td>0.0</td>\n",
       "      <td>0.049266</td>\n",
       "      <td>4.605366</td>\n",
       "      <td>21.032718</td>\n",
       "      <td>1.694604</td>\n",
       "      <td>-0.962927</td>\n",
       "    </tr>\n",
       "    <tr>\n",
       "      <th>4</th>\n",
       "      <td>5</td>\n",
       "      <td>1016</td>\n",
       "      <td>54</td>\n",
       "      <td>587</td>\n",
       "      <td>1.730248</td>\n",
       "      <td>-0.887672</td>\n",
       "      <td>y</td>\n",
       "      <td>3077</td>\n",
       "      <td>59580.035616</td>\n",
       "      <td>0</td>\n",
       "      <td>...</td>\n",
       "      <td>0.0</td>\n",
       "      <td>104.627207</td>\n",
       "      <td>0.920473</td>\n",
       "      <td>0.0</td>\n",
       "      <td>0.0</td>\n",
       "      <td>0.049177</td>\n",
       "      <td>4.604023</td>\n",
       "      <td>21.033233</td>\n",
       "      <td>1.706054</td>\n",
       "      <td>-0.914123</td>\n",
       "    </tr>\n",
       "  </tbody>\n",
       "</table>\n",
       "<p>5 rows × 47 columns</p>\n",
       "</div>"
      ],
      "text/plain": [
       "   obsHistID  sessionID  propID  fieldID   fieldRA  fieldDec filter  expDate  \\\n",
       "0          1       1016      54      316  1.676483 -1.082473      y     2922   \n",
       "1          2       1016      54      372  1.694120 -1.033972      y     2961   \n",
       "2          3       1016      54      441  1.708513 -0.985271      y     2999   \n",
       "3          4       1016      54      505  1.720374 -0.936476      y     3038   \n",
       "4          5       1016      54      587  1.730248 -0.887672      y     3077   \n",
       "\n",
       "         expMJD  night     ...       moonBright  darkBright  rawSeeing  wind  \\\n",
       "0  59580.033829      0     ...              0.0  105.610378   0.920473   0.0   \n",
       "1  59580.034275      0     ...              0.0  105.167017   0.920473   0.0   \n",
       "2  59580.034722      0     ...              0.0  104.849578   0.920473   0.0   \n",
       "3  59580.035169      0     ...              0.0  104.669398   0.920473   0.0   \n",
       "4  59580.035616      0     ...              0.0  104.627207   0.920473   0.0   \n",
       "\n",
       "   humidity  slewDist  slewTime  fiveSigmaDepth  ditheredRA  ditheredDec  \n",
       "0       0.0  1.620307  0.000000       21.021236    1.643930    -1.108924  \n",
       "1       0.0  0.049266  4.574944       21.026646    1.664257    -1.060423  \n",
       "2       0.0  0.049298  4.595615       21.030520    1.680878    -1.011722  \n",
       "3       0.0  0.049266  4.605366       21.032718    1.694604    -0.962927  \n",
       "4       0.0  0.049177  4.604023       21.033233    1.706054    -0.914123  \n",
       "\n",
       "[5 rows x 47 columns]"
      ]
     },
     "execution_count": 3,
     "metadata": {},
     "output_type": "execute_result"
    }
   ],
   "source": [
    "opsimdf.head()"
   ]
  },
  {
   "cell_type": "markdown",
   "metadata": {},
   "source": [
    "Connecting to `.db` takes ages (~1min), and is a pain if you mess up, so create a 'working' instance to fiddle with"
   ]
  },
  {
   "cell_type": "code",
   "execution_count": 4,
   "metadata": {
    "collapsed": false
   },
   "outputs": [],
   "source": [
    "working_df = opsimdf"
   ]
  },
  {
   "cell_type": "code",
   "execution_count": 5,
   "metadata": {
    "collapsed": true
   },
   "outputs": [],
   "source": [
    "working_df = utils.find_MW_extinction(working_df)"
   ]
  },
  {
   "cell_type": "markdown",
   "metadata": {
    "collapsed": false
   },
   "source": [
    "## Choosing Position and Identifying Fields\n",
    "___\n",
    "\n",
    "Use **`lsst_tools.utils.generate_coordinates()`** to give us a position \n"
   ]
  },
  {
   "cell_type": "code",
   "execution_count": 6,
   "metadata": {
    "collapsed": false
   },
   "outputs": [
    {
     "name": "stdout",
     "output_type": "stream",
     "text": [
      "        phi     theta\n",
      "0  0.124599 -2.883715\n"
     ]
    }
   ],
   "source": [
    "#%%timeit ## The slowest run took 39.04 times longer than the fastest. This could mean that an intermediate result is being cached.\n",
    "#         ## 1000 loops, best of 3: 246 µs per loop\n",
    "n = 1\n",
    "pos_df = utils.generate_coordinates(n)\n",
    "print(pos_df)\n",
    "# pos_df[\"phi\"] = -0.122\n",
    "# pos_df[\"theta\"] = 0.0"
   ]
  },
  {
   "cell_type": "markdown",
   "metadata": {},
   "source": [
    "Check the positions are sensible"
   ]
  },
  {
   "cell_type": "code",
   "execution_count": 7,
   "metadata": {
    "collapsed": false
   },
   "outputs": [
    {
     "data": {
      "image/png": "[encoded data removed]",
      "text/plain": [
       "<matplotlib.figure.Figure at 0x11b600908>"
      ]
     },
     "metadata": {},
     "output_type": "display_data"
    }
   ],
   "source": [
    "#%%timeit ## 1 loop, best of 3: 235 ms per loop\n",
    "utils.plot_position_points(pos_df)"
   ]
  },
  {
   "cell_type": "markdown",
   "metadata": {},
   "source": [
    "We want to find out which field(s) the position is in. Create table that tells us the field centres, and find the edges."
   ]
  },
  {
   "cell_type": "code",
   "execution_count": 8,
   "metadata": {
    "collapsed": false
   },
   "outputs": [],
   "source": [
    "# working_df = utils.get_field_corners(working_df.drop_duplicates(\"fieldID\"))[['fieldRA', 'fieldDec']]\n",
    "allfields_df = utils.get_field_corners(pd.DataFrame(working_df.drop_duplicates(\"fieldID\"))[['fieldID', 'fieldRA', 'fieldDec']])"
   ]
  },
  {
   "cell_type": "code",
   "execution_count": 9,
   "metadata": {
    "collapsed": false
   },
   "outputs": [
    {
     "data": {
      "text/html": [
       "<div>\n",
       "<table border=\"1\" class=\"dataframe\">\n",
       "  <thead>\n",
       "    <tr style=\"text-align: right;\">\n",
       "      <th></th>\n",
       "      <th>fieldID</th>\n",
       "      <th>fieldRA</th>\n",
       "      <th>fieldDec</th>\n",
       "      <th>RA_upper</th>\n",
       "      <th>RA_lower</th>\n",
       "      <th>Dec_upper</th>\n",
       "      <th>Dec_lower</th>\n",
       "    </tr>\n",
       "  </thead>\n",
       "  <tbody>\n",
       "    <tr>\n",
       "      <th>0</th>\n",
       "      <td>316</td>\n",
       "      <td>1.676483</td>\n",
       "      <td>-1.082473</td>\n",
       "      <td>1.707026</td>\n",
       "      <td>1.645940</td>\n",
       "      <td>-1.113016</td>\n",
       "      <td>-1.051930</td>\n",
       "    </tr>\n",
       "    <tr>\n",
       "      <th>1</th>\n",
       "      <td>372</td>\n",
       "      <td>1.694120</td>\n",
       "      <td>-1.033972</td>\n",
       "      <td>1.724663</td>\n",
       "      <td>1.663577</td>\n",
       "      <td>-1.064515</td>\n",
       "      <td>-1.003429</td>\n",
       "    </tr>\n",
       "    <tr>\n",
       "      <th>2</th>\n",
       "      <td>441</td>\n",
       "      <td>1.708513</td>\n",
       "      <td>-0.985271</td>\n",
       "      <td>1.739056</td>\n",
       "      <td>1.677970</td>\n",
       "      <td>-1.015814</td>\n",
       "      <td>-0.954728</td>\n",
       "    </tr>\n",
       "    <tr>\n",
       "      <th>3</th>\n",
       "      <td>505</td>\n",
       "      <td>1.720374</td>\n",
       "      <td>-0.936476</td>\n",
       "      <td>1.750917</td>\n",
       "      <td>1.689831</td>\n",
       "      <td>-0.967019</td>\n",
       "      <td>-0.905933</td>\n",
       "    </tr>\n",
       "    <tr>\n",
       "      <th>4</th>\n",
       "      <td>587</td>\n",
       "      <td>1.730248</td>\n",
       "      <td>-0.887672</td>\n",
       "      <td>1.760791</td>\n",
       "      <td>1.699705</td>\n",
       "      <td>-0.918215</td>\n",
       "      <td>-0.857129</td>\n",
       "    </tr>\n",
       "  </tbody>\n",
       "</table>\n",
       "</div>"
      ],
      "text/plain": [
       "   fieldID   fieldRA  fieldDec  RA_upper  RA_lower  Dec_upper  Dec_lower\n",
       "0      316  1.676483 -1.082473  1.707026  1.645940  -1.113016  -1.051930\n",
       "1      372  1.694120 -1.033972  1.724663  1.663577  -1.064515  -1.003429\n",
       "2      441  1.708513 -0.985271  1.739056  1.677970  -1.015814  -0.954728\n",
       "3      505  1.720374 -0.936476  1.750917  1.689831  -0.967019  -0.905933\n",
       "4      587  1.730248 -0.887672  1.760791  1.699705  -0.918215  -0.857129"
      ]
     },
     "execution_count": 9,
     "metadata": {},
     "output_type": "execute_result"
    }
   ],
   "source": [
    "allfields_df.head()"
   ]
  },
  {
   "cell_type": "code",
   "execution_count": 10,
   "metadata": {
    "collapsed": false
   },
   "outputs": [],
   "source": [
    "field_df = allfields_df[(allfields_df[\"RA_upper\"] >= pos_df[\"theta\"][0] + np.pi) &\n",
    "                (allfields_df[\"RA_lower\"] <= pos_df[\"theta\"][0] + np.pi) &\n",
    "                (allfields_df[\"Dec_lower\"] >= pos_df[\"phi\"][0])  &\n",
    "                (allfields_df[\"Dec_upper\"] <= pos_df[\"phi\"][0])]"
   ]
  },
  {
   "cell_type": "markdown",
   "metadata": {},
   "source": [
    "This narrows down the fields in which our position appears:"
   ]
  },
  {
   "cell_type": "code",
   "execution_count": 11,
   "metadata": {
    "collapsed": false
   },
   "outputs": [
    {
     "data": {
      "text/html": [
       "<div>\n",
       "<table border=\"1\" class=\"dataframe\">\n",
       "  <thead>\n",
       "    <tr style=\"text-align: right;\">\n",
       "      <th></th>\n",
       "      <th>fieldID</th>\n",
       "      <th>fieldRA</th>\n",
       "      <th>fieldDec</th>\n",
       "      <th>RA_upper</th>\n",
       "      <th>RA_lower</th>\n",
       "      <th>Dec_upper</th>\n",
       "      <th>Dec_lower</th>\n",
       "    </tr>\n",
       "  </thead>\n",
       "  <tbody>\n",
       "    <tr>\n",
       "      <th>144604</th>\n",
       "      <td>2918</td>\n",
       "      <td>0.249328</td>\n",
       "      <td>0.104445</td>\n",
       "      <td>0.279871</td>\n",
       "      <td>0.218785</td>\n",
       "      <td>0.073902</td>\n",
       "      <td>0.134988</td>\n",
       "    </tr>\n",
       "    <tr>\n",
       "      <th>155063</th>\n",
       "      <td>3044</td>\n",
       "      <td>0.278127</td>\n",
       "      <td>0.151046</td>\n",
       "      <td>0.308670</td>\n",
       "      <td>0.247584</td>\n",
       "      <td>0.120503</td>\n",
       "      <td>0.181589</td>\n",
       "    </tr>\n",
       "  </tbody>\n",
       "</table>\n",
       "</div>"
      ],
      "text/plain": [
       "        fieldID   fieldRA  fieldDec  RA_upper  RA_lower  Dec_upper  Dec_lower\n",
       "144604     2918  0.249328  0.104445  0.279871  0.218785   0.073902   0.134988\n",
       "155063     3044  0.278127  0.151046  0.308670  0.247584   0.120503   0.181589"
      ]
     },
     "execution_count": 11,
     "metadata": {},
     "output_type": "execute_result"
    }
   ],
   "source": [
    "field_df"
   ]
  },
  {
   "cell_type": "markdown",
   "metadata": {
    "collapsed": false
   },
   "source": [
    "### Deep Drilling Fields:\n",
    "___\n",
    "\n",
    "* minion2016: 1427,744,2412,290,2786\n",
    "* astro_lsst_01_1068: 1427,744,2412,290,2786\n",
    "* Fake_Rolling: 290,2786\n"
   ]
  },
  {
   "cell_type": "code",
   "execution_count": 12,
   "metadata": {
    "collapsed": false
   },
   "outputs": [
    {
     "data": {
      "text/html": [
       "<div>\n",
       "<table border=\"1\" class=\"dataframe\">\n",
       "  <thead>\n",
       "    <tr style=\"text-align: right;\">\n",
       "      <th></th>\n",
       "      <th>obsHistID</th>\n",
       "      <th>sessionID</th>\n",
       "      <th>propID</th>\n",
       "      <th>fieldID</th>\n",
       "      <th>fieldRA</th>\n",
       "      <th>fieldDec</th>\n",
       "      <th>filter</th>\n",
       "      <th>expDate</th>\n",
       "      <th>expMJD</th>\n",
       "      <th>night</th>\n",
       "      <th>...</th>\n",
       "      <th>darkBright</th>\n",
       "      <th>rawSeeing</th>\n",
       "      <th>wind</th>\n",
       "      <th>humidity</th>\n",
       "      <th>slewDist</th>\n",
       "      <th>slewTime</th>\n",
       "      <th>fiveSigmaDepth</th>\n",
       "      <th>ditheredRA</th>\n",
       "      <th>ditheredDec</th>\n",
       "      <th>EBV_MW</th>\n",
       "    </tr>\n",
       "  </thead>\n",
       "  <tbody>\n",
       "    <tr>\n",
       "      <th>3</th>\n",
       "      <td>4</td>\n",
       "      <td>1016</td>\n",
       "      <td>54</td>\n",
       "      <td>505</td>\n",
       "      <td>1.720374</td>\n",
       "      <td>-0.936476</td>\n",
       "      <td>y</td>\n",
       "      <td>3038</td>\n",
       "      <td>59580.035169</td>\n",
       "      <td>0</td>\n",
       "      <td>...</td>\n",
       "      <td>104.669398</td>\n",
       "      <td>0.920473</td>\n",
       "      <td>0.0</td>\n",
       "      <td>0.0</td>\n",
       "      <td>0.049266</td>\n",
       "      <td>4.605366</td>\n",
       "      <td>21.032718</td>\n",
       "      <td>1.694604</td>\n",
       "      <td>-0.962927</td>\n",
       "      <td>0.073125</td>\n",
       "    </tr>\n",
       "    <tr>\n",
       "      <th>736</th>\n",
       "      <td>737</td>\n",
       "      <td>1016</td>\n",
       "      <td>54</td>\n",
       "      <td>505</td>\n",
       "      <td>1.720374</td>\n",
       "      <td>-0.936476</td>\n",
       "      <td>z</td>\n",
       "      <td>89952</td>\n",
       "      <td>59581.041121</td>\n",
       "      <td>1</td>\n",
       "      <td>...</td>\n",
       "      <td>102.261170</td>\n",
       "      <td>0.701202</td>\n",
       "      <td>0.0</td>\n",
       "      <td>0.0</td>\n",
       "      <td>0.053899</td>\n",
       "      <td>4.752482</td>\n",
       "      <td>21.760884</td>\n",
       "      <td>1.701047</td>\n",
       "      <td>-0.962927</td>\n",
       "      <td>0.073125</td>\n",
       "    </tr>\n",
       "    <tr>\n",
       "      <th>760</th>\n",
       "      <td>761</td>\n",
       "      <td>1016</td>\n",
       "      <td>54</td>\n",
       "      <td>505</td>\n",
       "      <td>1.720374</td>\n",
       "      <td>-0.936476</td>\n",
       "      <td>z</td>\n",
       "      <td>90898</td>\n",
       "      <td>59581.052066</td>\n",
       "      <td>1</td>\n",
       "      <td>...</td>\n",
       "      <td>99.499712</td>\n",
       "      <td>0.729082</td>\n",
       "      <td>0.0</td>\n",
       "      <td>0.0</td>\n",
       "      <td>0.087567</td>\n",
       "      <td>6.236553</td>\n",
       "      <td>21.759073</td>\n",
       "      <td>1.701047</td>\n",
       "      <td>-0.962927</td>\n",
       "      <td>0.073125</td>\n",
       "    </tr>\n",
       "    <tr>\n",
       "      <th>1482</th>\n",
       "      <td>1483</td>\n",
       "      <td>1016</td>\n",
       "      <td>54</td>\n",
       "      <td>505</td>\n",
       "      <td>1.720374</td>\n",
       "      <td>-0.936476</td>\n",
       "      <td>z</td>\n",
       "      <td>176788</td>\n",
       "      <td>59582.046159</td>\n",
       "      <td>2</td>\n",
       "      <td>...</td>\n",
       "      <td>100.267993</td>\n",
       "      <td>0.826179</td>\n",
       "      <td>0.0</td>\n",
       "      <td>0.0</td>\n",
       "      <td>0.053899</td>\n",
       "      <td>4.727801</td>\n",
       "      <td>21.650976</td>\n",
       "      <td>1.707489</td>\n",
       "      <td>-0.962927</td>\n",
       "      <td>0.073125</td>\n",
       "    </tr>\n",
       "    <tr>\n",
       "      <th>15455</th>\n",
       "      <td>15455</td>\n",
       "      <td>1016</td>\n",
       "      <td>54</td>\n",
       "      <td>505</td>\n",
       "      <td>1.720374</td>\n",
       "      <td>-0.936476</td>\n",
       "      <td>r</td>\n",
       "      <td>1820874</td>\n",
       "      <td>59601.074933</td>\n",
       "      <td>21</td>\n",
       "      <td>...</td>\n",
       "      <td>87.151631</td>\n",
       "      <td>0.741071</td>\n",
       "      <td>0.0</td>\n",
       "      <td>0.0</td>\n",
       "      <td>0.049177</td>\n",
       "      <td>5.204940</td>\n",
       "      <td>23.957933</td>\n",
       "      <td>1.701047</td>\n",
       "      <td>-0.956314</td>\n",
       "      <td>0.073125</td>\n",
       "    </tr>\n",
       "  </tbody>\n",
       "</table>\n",
       "<p>5 rows × 48 columns</p>\n",
       "</div>"
      ],
      "text/plain": [
       "       obsHistID  sessionID  propID  fieldID   fieldRA  fieldDec filter  \\\n",
       "3              4       1016      54      505  1.720374 -0.936476      y   \n",
       "736          737       1016      54      505  1.720374 -0.936476      z   \n",
       "760          761       1016      54      505  1.720374 -0.936476      z   \n",
       "1482        1483       1016      54      505  1.720374 -0.936476      z   \n",
       "15455      15455       1016      54      505  1.720374 -0.936476      r   \n",
       "\n",
       "       expDate        expMJD  night    ...     darkBright  rawSeeing  wind  \\\n",
       "3         3038  59580.035169      0    ...     104.669398   0.920473   0.0   \n",
       "736      89952  59581.041121      1    ...     102.261170   0.701202   0.0   \n",
       "760      90898  59581.052066      1    ...      99.499712   0.729082   0.0   \n",
       "1482    176788  59582.046159      2    ...     100.267993   0.826179   0.0   \n",
       "15455  1820874  59601.074933     21    ...      87.151631   0.741071   0.0   \n",
       "\n",
       "       humidity  slewDist  slewTime  fiveSigmaDepth  ditheredRA  ditheredDec  \\\n",
       "3           0.0  0.049266  4.605366       21.032718    1.694604    -0.962927   \n",
       "736         0.0  0.053899  4.752482       21.760884    1.701047    -0.962927   \n",
       "760         0.0  0.087567  6.236553       21.759073    1.701047    -0.962927   \n",
       "1482        0.0  0.053899  4.727801       21.650976    1.707489    -0.962927   \n",
       "15455       0.0  0.049177  5.204940       23.957933    1.701047    -0.956314   \n",
       "\n",
       "         EBV_MW  \n",
       "3      0.073125  \n",
       "736    0.073125  \n",
       "760    0.073125  \n",
       "1482   0.073125  \n",
       "15455  0.073125  \n",
       "\n",
       "[5 rows x 48 columns]"
      ]
     },
     "execution_count": 12,
     "metadata": {},
     "output_type": "execute_result"
    }
   ],
   "source": [
    "opsimdf.loc[opsimdf[\"fieldID\"] == 505].head() ## WFD"
   ]
  },
  {
   "cell_type": "code",
   "execution_count": 13,
   "metadata": {
    "collapsed": false
   },
   "outputs": [
    {
     "data": {
      "text/html": [
       "<div>\n",
       "<table border=\"1\" class=\"dataframe\">\n",
       "  <thead>\n",
       "    <tr style=\"text-align: right;\">\n",
       "      <th></th>\n",
       "      <th>obsHistID</th>\n",
       "      <th>sessionID</th>\n",
       "      <th>propID</th>\n",
       "      <th>fieldID</th>\n",
       "      <th>fieldRA</th>\n",
       "      <th>fieldDec</th>\n",
       "      <th>filter</th>\n",
       "      <th>expDate</th>\n",
       "      <th>expMJD</th>\n",
       "      <th>night</th>\n",
       "      <th>...</th>\n",
       "      <th>darkBright</th>\n",
       "      <th>rawSeeing</th>\n",
       "      <th>wind</th>\n",
       "      <th>humidity</th>\n",
       "      <th>slewDist</th>\n",
       "      <th>slewTime</th>\n",
       "      <th>fiveSigmaDepth</th>\n",
       "      <th>ditheredRA</th>\n",
       "      <th>ditheredDec</th>\n",
       "      <th>EBV_MW</th>\n",
       "    </tr>\n",
       "  </thead>\n",
       "  <tbody>\n",
       "    <tr>\n",
       "      <th>229</th>\n",
       "      <td>230</td>\n",
       "      <td>1016</td>\n",
       "      <td>56</td>\n",
       "      <td>1427</td>\n",
       "      <td>0.925184</td>\n",
       "      <td>-0.4789</td>\n",
       "      <td>r</td>\n",
       "      <td>12057</td>\n",
       "      <td>59580.139555</td>\n",
       "      <td>0</td>\n",
       "      <td>...</td>\n",
       "      <td>84.646287</td>\n",
       "      <td>0.866285</td>\n",
       "      <td>0.0</td>\n",
       "      <td>0.0</td>\n",
       "      <td>0.755889</td>\n",
       "      <td>140.0</td>\n",
       "      <td>24.070428</td>\n",
       "      <td>0.907976</td>\n",
       "      <td>-0.505351</td>\n",
       "      <td>0.007715</td>\n",
       "    </tr>\n",
       "    <tr>\n",
       "      <th>230</th>\n",
       "      <td>231</td>\n",
       "      <td>1016</td>\n",
       "      <td>56</td>\n",
       "      <td>1427</td>\n",
       "      <td>0.925184</td>\n",
       "      <td>-0.4789</td>\n",
       "      <td>r</td>\n",
       "      <td>12093</td>\n",
       "      <td>59580.139972</td>\n",
       "      <td>0</td>\n",
       "      <td>...</td>\n",
       "      <td>84.969264</td>\n",
       "      <td>0.791241</td>\n",
       "      <td>0.0</td>\n",
       "      <td>0.0</td>\n",
       "      <td>0.000000</td>\n",
       "      <td>2.0</td>\n",
       "      <td>24.143180</td>\n",
       "      <td>0.907976</td>\n",
       "      <td>-0.505351</td>\n",
       "      <td>0.007715</td>\n",
       "    </tr>\n",
       "    <tr>\n",
       "      <th>231</th>\n",
       "      <td>232</td>\n",
       "      <td>1016</td>\n",
       "      <td>56</td>\n",
       "      <td>1427</td>\n",
       "      <td>0.925184</td>\n",
       "      <td>-0.4789</td>\n",
       "      <td>r</td>\n",
       "      <td>12129</td>\n",
       "      <td>59580.140389</td>\n",
       "      <td>0</td>\n",
       "      <td>...</td>\n",
       "      <td>85.037385</td>\n",
       "      <td>0.791241</td>\n",
       "      <td>0.0</td>\n",
       "      <td>0.0</td>\n",
       "      <td>0.000000</td>\n",
       "      <td>2.0</td>\n",
       "      <td>24.141983</td>\n",
       "      <td>0.907976</td>\n",
       "      <td>-0.505351</td>\n",
       "      <td>0.007715</td>\n",
       "    </tr>\n",
       "    <tr>\n",
       "      <th>232</th>\n",
       "      <td>233</td>\n",
       "      <td>1016</td>\n",
       "      <td>56</td>\n",
       "      <td>1427</td>\n",
       "      <td>0.925184</td>\n",
       "      <td>-0.4789</td>\n",
       "      <td>r</td>\n",
       "      <td>12165</td>\n",
       "      <td>59580.140805</td>\n",
       "      <td>0</td>\n",
       "      <td>...</td>\n",
       "      <td>85.105955</td>\n",
       "      <td>0.859965</td>\n",
       "      <td>0.0</td>\n",
       "      <td>0.0</td>\n",
       "      <td>0.000000</td>\n",
       "      <td>2.0</td>\n",
       "      <td>24.068792</td>\n",
       "      <td>0.907976</td>\n",
       "      <td>-0.505351</td>\n",
       "      <td>0.007715</td>\n",
       "    </tr>\n",
       "    <tr>\n",
       "      <th>233</th>\n",
       "      <td>234</td>\n",
       "      <td>1016</td>\n",
       "      <td>56</td>\n",
       "      <td>1427</td>\n",
       "      <td>0.925184</td>\n",
       "      <td>-0.4789</td>\n",
       "      <td>r</td>\n",
       "      <td>12201</td>\n",
       "      <td>59580.141222</td>\n",
       "      <td>0</td>\n",
       "      <td>...</td>\n",
       "      <td>85.174974</td>\n",
       "      <td>0.859965</td>\n",
       "      <td>0.0</td>\n",
       "      <td>0.0</td>\n",
       "      <td>0.000000</td>\n",
       "      <td>2.0</td>\n",
       "      <td>24.067582</td>\n",
       "      <td>0.907976</td>\n",
       "      <td>-0.505351</td>\n",
       "      <td>0.007715</td>\n",
       "    </tr>\n",
       "  </tbody>\n",
       "</table>\n",
       "<p>5 rows × 48 columns</p>\n",
       "</div>"
      ],
      "text/plain": [
       "     obsHistID  sessionID  propID  fieldID   fieldRA  fieldDec filter  \\\n",
       "229        230       1016      56     1427  0.925184   -0.4789      r   \n",
       "230        231       1016      56     1427  0.925184   -0.4789      r   \n",
       "231        232       1016      56     1427  0.925184   -0.4789      r   \n",
       "232        233       1016      56     1427  0.925184   -0.4789      r   \n",
       "233        234       1016      56     1427  0.925184   -0.4789      r   \n",
       "\n",
       "     expDate        expMJD  night    ...     darkBright  rawSeeing  wind  \\\n",
       "229    12057  59580.139555      0    ...      84.646287   0.866285   0.0   \n",
       "230    12093  59580.139972      0    ...      84.969264   0.791241   0.0   \n",
       "231    12129  59580.140389      0    ...      85.037385   0.791241   0.0   \n",
       "232    12165  59580.140805      0    ...      85.105955   0.859965   0.0   \n",
       "233    12201  59580.141222      0    ...      85.174974   0.859965   0.0   \n",
       "\n",
       "     humidity  slewDist  slewTime  fiveSigmaDepth  ditheredRA  ditheredDec  \\\n",
       "229       0.0  0.755889     140.0       24.070428    0.907976    -0.505351   \n",
       "230       0.0  0.000000       2.0       24.143180    0.907976    -0.505351   \n",
       "231       0.0  0.000000       2.0       24.141983    0.907976    -0.505351   \n",
       "232       0.0  0.000000       2.0       24.068792    0.907976    -0.505351   \n",
       "233       0.0  0.000000       2.0       24.067582    0.907976    -0.505351   \n",
       "\n",
       "       EBV_MW  \n",
       "229  0.007715  \n",
       "230  0.007715  \n",
       "231  0.007715  \n",
       "232  0.007715  \n",
       "233  0.007715  \n",
       "\n",
       "[5 rows x 48 columns]"
      ]
     },
     "execution_count": 13,
     "metadata": {},
     "output_type": "execute_result"
    }
   ],
   "source": [
    "opsimdf.loc[opsimdf[\"fieldID\"] == 1427].head() ## DDF"
   ]
  },
  {
   "cell_type": "markdown",
   "metadata": {},
   "source": []
  },
  {
   "cell_type": "code",
   "execution_count": null,
   "metadata": {
    "collapsed": false
   },
   "outputs": [],
   "source": []
  },
  {
   "cell_type": "code",
   "execution_count": null,
   "metadata": {
    "collapsed": false
   },
   "outputs": [],
   "source": []
  },
  {
   "cell_type": "markdown",
   "metadata": {},
   "source": [
    "## Extinction"
   ]
  },
  {
   "cell_type": "markdown",
   "metadata": {},
   "source": [
    "Get the Milky Way extinction along the line of site towards the SNe. The working_df contains the EBV_MW at the field centre, but we can do better than that, by using the position of the SN itself."
   ]
  },
  {
   "cell_type": "code",
   "execution_count": 14,
   "metadata": {
    "collapsed": false
   },
   "outputs": [
    {
     "data": {
      "text/plain": [
       "array([ 0.04527743,  0.04593042,  0.08043004, ...,  0.05865358,\n",
       "        0.06319557,  0.05767386])"
      ]
     },
     "execution_count": 14,
     "metadata": {},
     "output_type": "execute_result"
    }
   ],
   "source": [
    "working_df[\"EBV_MW\"][working_df[\"fieldID\"].isin(working_df[\"fieldID\"].values)].values"
   ]
  },
  {
   "cell_type": "code",
   "execution_count": 15,
   "metadata": {
    "collapsed": false
   },
   "outputs": [
    {
     "data": {
      "text/html": [
       "<div>\n",
       "<table border=\"1\" class=\"dataframe\">\n",
       "  <thead>\n",
       "    <tr style=\"text-align: right;\">\n",
       "      <th></th>\n",
       "      <th>phi</th>\n",
       "      <th>theta</th>\n",
       "    </tr>\n",
       "  </thead>\n",
       "  <tbody>\n",
       "    <tr>\n",
       "      <th>0</th>\n",
       "      <td>0.124599</td>\n",
       "      <td>-2.883715</td>\n",
       "    </tr>\n",
       "  </tbody>\n",
       "</table>\n",
       "</div>"
      ],
      "text/plain": [
       "        phi     theta\n",
       "0  0.124599 -2.883715"
      ]
     },
     "execution_count": 15,
     "metadata": {},
     "output_type": "execute_result"
    }
   ],
   "source": [
    "pos_df"
   ]
  },
  {
   "cell_type": "code",
   "execution_count": 16,
   "metadata": {
    "collapsed": false
   },
   "outputs": [
    {
     "name": "stdout",
     "output_type": "stream",
     "text": [
      "0.0287949146354\n"
     ]
    }
   ],
   "source": [
    "# %%timeit ## 1 loop, best of 3: 88.6 ms per loop\n",
    "pos_df = utils.find_MW_extinction(pos_df) \n",
    "\n",
    "extinction = pos_df[\"EBV_MW\"].values[0]\n",
    "print(extinction)"
   ]
  },
  {
   "cell_type": "code",
   "execution_count": 25,
   "metadata": {
    "collapsed": false
   },
   "outputs": [],
   "source": [
    "# filter_path = \"/Users/berto/Code/CoCo/data/filters\"\n",
    "filter_path = pcc._default_filter_dir_path\n",
    "# coco_root_path = \"/Users/berto/Code/CoCo\"\n",
    "coco_root_path = pcc._default_coco_dir_path \n",
    "\n",
    "coco = pccsims.pyCoCo(utils.b(filter_path), utils.b(coco_root_path))"
   ]
  },
  {
   "cell_type": "markdown",
   "metadata": {},
   "source": [
    "inputs:\n",
    "\n",
    "* **`snname`**\n",
    "* **`redshift`**\n",
    "* **`absmag offset`**\n",
    "* **`EBV MW`**\n",
    "* **`EBV Host`**\n",
    "* **`Rv`**\n",
    "* **`MJD at Peak`**\n",
    "\n",
    "* **`MJD to simulate`**\n",
    "* **`filters to simulate`**"
   ]
  },
  {
   "cell_type": "code",
   "execution_count": 87,
   "metadata": {
    "collapsed": true
   },
   "outputs": [],
   "source": [
    "z_obs = 0.007\n",
    "# z_obs = 0.1\n",
    "# z_obs = 0.2\n",
    "host_EBV = 0.2\n",
    "MW_EBV = extinction\n",
    "# mjdmax = 60307.314753999999\n",
    "# mjdmax = 59580 + 1.* 365. ## DDF 2786\n",
    "# mjdmax = 59580 + 1.5* 365. ## WFD 550\n",
    "mjdmax = 59580 + 1.3* 365. ## WFD 2297"
   ]
  },
  {
   "cell_type": "code",
   "execution_count": 88,
   "metadata": {
    "collapsed": false
   },
   "outputs": [],
   "source": [
    "mjd_to_sim = working_df[\"expMJD\"][working_df[\"fieldID\"].isin(working_df[\"fieldID\"].values)].values\n",
    "limiting_mags = working_df[\"fiveSigmaDepth\"][working_df[\"fieldID\"].isin(working_df[\"fieldID\"].values)].values\n",
    "\n",
    "filters_to_sim = working_df[\"filter\"][working_df[\"fieldID\"].isin(working_df[\"fieldID\"].values)].values\n",
    "filters_to_sim = np.array([utils.b('LSST_'+x) for x in filters_to_sim])"
   ]
  },
  {
   "cell_type": "code",
   "execution_count": 89,
   "metadata": {
    "collapsed": false
   },
   "outputs": [
    {
     "name": "stdout",
     "output_type": "stream",
     "text": [
      "60054.5\n",
      "[ 59580.033829  59580.034275  59580.034722 ...,  63229.361186  63229.361633\n",
      "  63229.362084]\n",
      "[b'LSST_y' b'LSST_y' b'LSST_y' ..., b'LSST_y' b'LSST_y' b'LSST_y']\n"
     ]
    }
   ],
   "source": [
    "# mjd_to_sim = np.array([90.0, 91.0, 92.0, 93.0, 94.0, 95.0, 96.0, 97.0, 98.0, 99.0, 100.0, 105.0, 110.0, 115.0, 120.0])\n",
    "# filters_to_sim = np.array([b'SDSS_r', b'SDSS_r', b'SDSS_r', b'SDSS_r', b'SDSS_r', b'SDSS_r', b'SDSS_r', b'SDSS_r', b'SDSS_r', b'SDSS_r', b'SDSS_r', b'SDSS_r', b'SDSS_r', b'SDSS_r', b'SDSS_r'])\n",
    "# mjd_to_sim = \n",
    "# filters_to_sim = \n",
    "\n",
    "print(mjdmax)\n",
    "print(mjd_to_sim)\n",
    "print(filters_to_sim)"
   ]
  },
  {
   "cell_type": "code",
   "execution_count": 90,
   "metadata": {
    "collapsed": false
   },
   "outputs": [],
   "source": [
    "# plt.scatter(mjd_to_sim, np.ones(len(mjd_to_sim)))\n",
    "# plt.scatter([mjdmax], [1])"
   ]
  },
  {
   "cell_type": "code",
   "execution_count": 91,
   "metadata": {
    "collapsed": false
   },
   "outputs": [],
   "source": [
    "# filters_to_sim = np.array([i.replace(utils.b(\"LSST\"), utils.b(\"SDSS\")) for i in filters_to_sim])"
   ]
  },
  {
   "cell_type": "code",
   "execution_count": 92,
   "metadata": {
    "collapsed": false
   },
   "outputs": [],
   "source": [
    "# flux, flux_err = coco.simulate(b\"SN2007uy\", \n",
    "#                     z_obs, 0.0, MW_EBV, host_EBV, 3.1, \n",
    "#                     mjdmax, mjd_to_sim, \n",
    "#                     filters_to_sim)\n",
    "snname = b\"SN2007uy\"\n",
    "# snname = b\"SN2009jf\"\n",
    "flux, flux_err = coco.simulate(snname, \n",
    "                    z_obs, 0.0, MW_EBV, host_EBV, 3.1, \n",
    "                    mjdmax, mjd_to_sim, \n",
    "                    filters_to_sim)\n",
    "# flux, flux_err = coco.simulate(b\"SN2009jf\", \n",
    "#                     z_obs, 0.0, 0.1, 0.1, 3.1, \n",
    "#                     mjdmax, mjd_to_sim, \n",
    "#                     filters_to_sim)"
   ]
  },
  {
   "cell_type": "code",
   "execution_count": 93,
   "metadata": {
    "collapsed": false
   },
   "outputs": [
    {
     "data": {
      "text/plain": [
       "(array([ 0.,  0.,  0., ...,  0.,  0.,  0.]),\n",
       " array([ 0.,  0.,  0., ...,  0.,  0.,  0.]))"
      ]
     },
     "execution_count": 93,
     "metadata": {},
     "output_type": "execute_result"
    }
   ],
   "source": [
    "flux, flux_err"
   ]
  },
  {
   "cell_type": "code",
   "execution_count": 94,
   "metadata": {
    "collapsed": false
   },
   "outputs": [
    {
     "name": "stdout",
     "output_type": "stream",
     "text": [
      "1.98989764923e-14\n"
     ]
    }
   ],
   "source": [
    "print(np.nanmax(flux))"
   ]
  },
  {
   "cell_type": "code",
   "execution_count": 95,
   "metadata": {
    "collapsed": false
   },
   "outputs": [
    {
     "data": {
      "text/plain": [
       "<module 'pycoco.classes' from '/Users/berto/Code/verbose-enigma/pycoco/classes.py'>"
      ]
     },
     "execution_count": 95,
     "metadata": {},
     "output_type": "execute_result"
    }
   ],
   "source": [
    "reload(pcc.classes)"
   ]
  },
  {
   "cell_type": "code",
   "execution_count": 96,
   "metadata": {
    "collapsed": false
   },
   "outputs": [],
   "source": [
    "p = pcc.PhotometryClass()\n",
    "phot_table = pcc.utils.simulate_out_to_ap_table(mjd_to_sim, flux, flux_err, filters_to_sim)\n",
    "phot_table = phot_table[np.where(phot_table[\"flux\"] > 1e-20)]\n",
    "p.load_table(phot_table)"
   ]
  },
  {
   "cell_type": "code",
   "execution_count": 97,
   "metadata": {
    "collapsed": false
   },
   "outputs": [
    {
     "data": {
      "image/png": "[encoded data removed]",
      "text/plain": [
       "<matplotlib.figure.Figure at 0x11bd01080>"
      ]
     },
     "metadata": {},
     "output_type": "display_data"
    }
   ],
   "source": [
    "p.plot(xlim = [59950, 60100])"
   ]
  },
  {
   "cell_type": "code",
   "execution_count": 44,
   "metadata": {
    "collapsed": false
   },
   "outputs": [
    {
     "data": {
      "text/plain": [
       "OrderedDict([('LSST_u', <Table length=14158>\n",
       "                  MJD             flux       flux_err filter\n",
       "                float64         float64      float64   str6 \n",
       "              ------------ ----------------- -------- ------\n",
       "              59934.059889  1.0760584258e-19      0.0 LSST_u\n",
       "              59934.060306 1.07611464984e-19      0.0 LSST_u\n",
       "              59934.060723 1.07617087676e-19      0.0 LSST_u\n",
       "              59934.061139 1.07622697171e-19      0.0 LSST_u\n",
       "              59934.061556 1.07628320438e-19      0.0 LSST_u\n",
       "              59934.061973 1.07633943994e-19      0.0 LSST_u\n",
       "              59934.062389  1.0763955435e-19      0.0 LSST_u\n",
       "              59934.062806 1.07645178482e-19      0.0 LSST_u\n",
       "              59934.063223 1.07650802901e-19      0.0 LSST_u\n",
       "              59934.063639 1.07656414119e-19      0.0 LSST_u\n",
       "                       ...               ...      ...    ...\n",
       "              60295.062277  3.2467190094e-20      0.0 LSST_u\n",
       "              60295.062694 3.24666097946e-20      0.0 LSST_u\n",
       "               60295.06311  3.2466030897e-20      0.0 LSST_u\n",
       "              60295.063527  3.2465450618e-20      0.0 LSST_u\n",
       "              60295.063944 3.24648703493e-20      0.0 LSST_u\n",
       "               60295.06436 3.24642914823e-20      0.0 LSST_u\n",
       "              60295.064777  3.2463711234e-20      0.0 LSST_u\n",
       "              60295.065194 3.24631309959e-20      0.0 LSST_u\n",
       "               60295.06561 3.24625521595e-20      0.0 LSST_u\n",
       "              60295.066027 3.24619719419e-20      0.0 LSST_u),\n",
       "             ('LSST_g', <Table length=25820>\n",
       "                  MJD             flux       flux_err filter\n",
       "                float64         float64      float64   str6 \n",
       "              ------------ ----------------- -------- ------\n",
       "              59916.060168 1.01816051197e-20      0.0 LSST_g\n",
       "              59916.060584 1.01821548461e-20      0.0 LSST_g\n",
       "              59916.061001 1.01827059234e-20      0.0 LSST_g\n",
       "              59916.061418 1.01832570302e-20      0.0 LSST_g\n",
       "              59916.061834 1.01838068447e-20      0.0 LSST_g\n",
       "              59916.062251 1.01843580103e-20      0.0 LSST_g\n",
       "              59916.062668 1.01849092054e-20      0.0 LSST_g\n",
       "              59916.063084  1.0185459108e-20      0.0 LSST_g\n",
       "              59916.063501 1.01860103619e-20      0.0 LSST_g\n",
       "              59916.063918 1.01865616454e-20      0.0 LSST_g\n",
       "                       ...               ...      ...    ...\n",
       "              60315.339607 1.27636714629e-20      0.0 LSST_g\n",
       "                60315.3401 1.27633987248e-20      0.0 LSST_g\n",
       "              60315.341165 1.27628095636e-20      0.0 LSST_g\n",
       "              60315.341641 1.27625462477e-20      0.0 LSST_g\n",
       "               60315.34209 1.27622978727e-20      0.0 LSST_g\n",
       "              60315.342537 1.27620506088e-20      0.0 LSST_g\n",
       "              60315.342989 1.27618005839e-20      0.0 LSST_g\n",
       "              60315.343443 1.27615494575e-20      0.0 LSST_g\n",
       "              60315.343899 1.27612972298e-20      0.0 LSST_g\n",
       "              60315.344348 1.27610488788e-20      0.0 LSST_g),\n",
       "             ('LSST_r', <Table length=53566>\n",
       "                  MJD             flux       flux_err filter\n",
       "                float64         float64      float64   str6 \n",
       "              ------------ ----------------- -------- ------\n",
       "               59924.05496 2.11964044929e-20      0.0 LSST_r\n",
       "              59924.055377 2.11975359934e-20      0.0 LSST_r\n",
       "              59924.055794 2.11986675534e-20      0.0 LSST_r\n",
       "               59924.05621 2.11997964591e-20      0.0 LSST_r\n",
       "              59924.056627  2.1200928138e-20      0.0 LSST_r\n",
       "              59924.057044 2.12020598764e-20      0.0 LSST_r\n",
       "               59924.05746 2.12031889601e-20      0.0 LSST_r\n",
       "              59924.057877 2.12043208174e-20      0.0 LSST_r\n",
       "              59924.058294 2.12054527342e-20      0.0 LSST_r\n",
       "               59924.05871 2.12065819959e-20      0.0 LSST_r\n",
       "                       ...               ...      ...    ...\n",
       "              60314.102115 1.00017753093e-20      0.0 LSST_r\n",
       "               60314.10256  1.0001582519e-20      0.0 LSST_r\n",
       "              60314.103006 1.00013892993e-20      0.0 LSST_r\n",
       "              60314.103461 1.00011921842e-20      0.0 LSST_r\n",
       "              60314.103907 1.00009989719e-20      0.0 LSST_r\n",
       "              60314.104366 1.00008001316e-20      0.0 LSST_r\n",
       "              60314.104815 1.00006056272e-20      0.0 LSST_r\n",
       "              60314.105264 1.00004111265e-20      0.0 LSST_r\n",
       "              60314.105711 1.00002174959e-20      0.0 LSST_r\n",
       "              60314.106158  1.0000023869e-20      0.0 LSST_r),\n",
       "             ('LSST_i', <Table length=51182>\n",
       "                  MJD             flux       flux_err filter\n",
       "                float64         float64      float64   str6 \n",
       "              ------------ ----------------- -------- ------\n",
       "              59923.054289 1.29537748979e-20      0.0 LSST_i\n",
       "              59923.054738 1.29545208488e-20      0.0 LSST_i\n",
       "              59923.055187  1.2955266842e-20      0.0 LSST_i\n",
       "              59923.055636 1.29560128776e-20      0.0 LSST_i\n",
       "              59923.056085 1.29567589555e-20      0.0 LSST_i\n",
       "              59923.056534 1.29575050758e-20      0.0 LSST_i\n",
       "              59923.056983 1.29582512384e-20      0.0 LSST_i\n",
       "              59923.057432 1.29589974433e-20      0.0 LSST_i\n",
       "              59923.057878 1.29597387044e-20      0.0 LSST_i\n",
       "              59923.058324 1.29604800073e-20      0.0 LSST_i\n",
       "                       ...               ...      ...    ...\n",
       "              60302.333195 1.15505501093e-20      0.0 LSST_i\n",
       "              60302.333641 1.15503283745e-20      0.0 LSST_i\n",
       "              60302.334086 1.15501071412e-20      0.0 LSST_i\n",
       "              60302.334533 1.15498849177e-20      0.0 LSST_i\n",
       "              60302.334982 1.15496617041e-20      0.0 LSST_i\n",
       "              60302.335432 1.15494379978e-20      0.0 LSST_i\n",
       "              60302.335882 1.15492142957e-20      0.0 LSST_i\n",
       "              60302.336332 1.15489905978e-20      0.0 LSST_i\n",
       "              60302.336782 1.15487669043e-20      0.0 LSST_i\n",
       "              60302.337238 1.15485402325e-20      0.0 LSST_i)])"
      ]
     },
     "execution_count": 44,
     "metadata": {},
     "output_type": "execute_result"
    }
   ],
   "source": [
    "p.data"
   ]
  },
  {
   "cell_type": "code",
   "execution_count": null,
   "metadata": {
    "collapsed": true
   },
   "outputs": [],
   "source": [
    "t = pcc.utils.simulate_out_to_ap_table(mjd_to_sim, flux, flux_err, filters_to_sim)"
   ]
  },
  {
   "cell_type": "code",
   "execution_count": null,
   "metadata": {
    "collapsed": false
   },
   "outputs": [],
   "source": [
    "t[np.logical_and(t[\"filter\"] != \"SDSS_y\", t[\"filter\"]!= \"SDSS_z\")]"
   ]
  },
  {
   "cell_type": "code",
   "execution_count": null,
   "metadata": {
    "collapsed": false
   },
   "outputs": [],
   "source": [
    "p = pcc.PhotometryClass()\n",
    "pt = pcc.utils.simulate_out_to_ap_table(mjd_to_sim, flux, flux_err, filters_to_sim)\n",
    "pt_lim_m = pt\n",
    "pt_lim_m[\"fivesigmadepth\"] = limiting_mags"
   ]
  },
  {
   "cell_type": "code",
   "execution_count": null,
   "metadata": {
    "collapsed": false
   },
   "outputs": [],
   "source": [
    "pt = pt_lim_m[np.where(pt_lim_m[\"flux\"] > 1e-22)]"
   ]
  },
  {
   "cell_type": "code",
   "execution_count": null,
   "metadata": {
    "collapsed": false
   },
   "outputs": [],
   "source": [
    "pt"
   ]
  },
  {
   "cell_type": "code",
   "execution_count": null,
   "metadata": {
    "collapsed": false,
    "scrolled": true
   },
   "outputs": [],
   "source": [
    "days_before = 40\n",
    "days_after = 100\n",
    "print(mjdmax)\n",
    "w = np.where(np.logical_and(pt[\"MJD\"] > mjdmax - days_before, pt[\"MJD\"] < mjdmax + days_after))\n",
    "print(w)\n",
    "pt[w]"
   ]
  },
  {
   "cell_type": "code",
   "execution_count": null,
   "metadata": {
    "collapsed": false
   },
   "outputs": [],
   "source": [
    "print(snname)\n",
    "print(chosenfield)\n",
    "print(z_obs)\n",
    "print(extinction)\n",
    "print(opsimdbpath)\n",
    "print(mjdmax)"
   ]
  },
  {
   "cell_type": "code",
   "execution_count": null,
   "metadata": {
    "collapsed": false
   },
   "outputs": [],
   "source": [
    "reload(pcc)\n",
    "reload(pcc.classes)\n",
    "# reload(pcc.utils)"
   ]
  },
  {
   "cell_type": "code",
   "execution_count": null,
   "metadata": {
    "collapsed": true
   },
   "outputs": [],
   "source": []
  },
  {
   "cell_type": "code",
   "execution_count": null,
   "metadata": {
    "collapsed": false
   },
   "outputs": [],
   "source": [
    "p.load_table(pt[w], verbose= True)\n",
    "\n",
    "\n",
    "p.plot()"
   ]
  },
  {
   "cell_type": "code",
   "execution_count": null,
   "metadata": {
    "collapsed": false
   },
   "outputs": [],
   "source": [
    "p.unpack(verbose = True)"
   ]
  },
  {
   "cell_type": "code",
   "execution_count": null,
   "metadata": {
    "collapsed": true
   },
   "outputs": [],
   "source": [
    "phot_table = p.phot.loc[\"filter\", \"LSST_u\"]"
   ]
  },
  {
   "cell_type": "code",
   "execution_count": null,
   "metadata": {
    "collapsed": false
   },
   "outputs": [],
   "source": [
    "phot_table"
   ]
  },
  {
   "cell_type": "code",
   "execution_count": null,
   "metadata": {
    "collapsed": false
   },
   "outputs": [],
   "source": [
    "phot_table.meta[\"filter_filename\"] = \"foo\""
   ]
  },
  {
   "cell_type": "code",
   "execution_count": null,
   "metadata": {
    "collapsed": false
   },
   "outputs": [],
   "source": [
    "pt[w]"
   ]
  },
  {
   "cell_type": "code",
   "execution_count": null,
   "metadata": {
    "collapsed": false
   },
   "outputs": [],
   "source": [
    "# filter_file_type = '.dat'\n",
    "# filter_names = np.unique(pt[w][\"filter\"])\n",
    "# print(filter_names)\n",
    "# pt.add_index('filter', unique = True)\n",
    "# for filter_name in filter_names:\n",
    "# #     phot_table = self.phot.loc[\"filter\", filter_name]\n",
    "#     filter_filename = filter_name + filter_file_type\n",
    "#     print(filter_filename)"
   ]
  },
  {
   "cell_type": "code",
   "execution_count": null,
   "metadata": {
    "collapsed": false
   },
   "outputs": [],
   "source": [
    "# reload(pcc)\n",
    "# phot = pcc.PhotometryClass()\n",
    "# infile = \"/Users/berto/projects/LSST/cadence/lightcurves/SNSim_0002_minion_1016_SN2007uy_z=02_EBVMW=0029_EBVHOST=01_fieldID=2297WFD.dat\"\n",
    "# phot.load(path = infile, names = (\"MJD\", \"flux\", \"flux_err\", \"filter\", \"fivesigmadepth\"), verbose = True)\n",
    "# # phot.load_phot_from_file(path = infile, format = \"ascii.commented_header\")\n",
    "\n",
    "# phot.unpack(verbose = True)"
   ]
  },
  {
   "cell_type": "code",
   "execution_count": null,
   "metadata": {
    "collapsed": false
   },
   "outputs": [],
   "source": [
    "# phot.data"
   ]
  },
  {
   "cell_type": "code",
   "execution_count": null,
   "metadata": {
    "collapsed": false
   },
   "outputs": [],
   "source": [
    "# phot_table = Table.read(infile, names = (\"MJD\", \"flux\", \"flux_err\", \"filter\", \"fivesigmadepth\"), format = \"ascii\")"
   ]
  },
  {
   "cell_type": "code",
   "execution_count": null,
   "metadata": {
    "collapsed": false
   },
   "outputs": [],
   "source": [
    "# phot_table.meta[\"filename\"] = infile\n",
    "\n",
    "# phot_table[\"MJD\"].unit = u.day\n",
    "# phot_table[\"flux\"].unit = u.cgs.erg / u.si.angstrom / u.si.cm ** 2 / u.si.s\n",
    "# phot_table[\"flux_err\"].unit =  phot_table[\"flux\"].unit"
   ]
  },
  {
   "cell_type": "code",
   "execution_count": null,
   "metadata": {
    "collapsed": false
   },
   "outputs": [],
   "source": [
    "# reload(pcc)\n",
    "# p = pcc.PhotometryClass()\n",
    "# p.load_table(phot_table, verbose = True)"
   ]
  },
  {
   "cell_type": "code",
   "execution_count": null,
   "metadata": {
    "collapsed": true
   },
   "outputs": [],
   "source": []
  }
 ],
 "metadata": {
  "kernelspec": {
   "display_name": "Python 3",
   "language": "python",
   "name": "python3"
  },
  "language_info": {
   "codemirror_mode": {
    "name": "ipython",
    "version": 3
   },
   "file_extension": ".py",
   "mimetype": "text/x-python",
   "name": "python",
   "nbconvert_exporter": "python",
   "pygments_lexer": "ipython3",
   "version": "3.6.0"
  }
 },
 "nbformat": 4,
 "nbformat_minor": 2
}
