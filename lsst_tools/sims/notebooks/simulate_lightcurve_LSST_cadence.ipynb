{
 "cells": [
  {
   "cell_type": "markdown",
   "metadata": {},
   "source": [
    "# Get a LSST Simulated Cadence for Arbitrary Sky Position\n",
    "___\n",
    "\n",
    "\n",
    "___"
   ]
  },
  {
   "cell_type": "code",
   "execution_count": 1,
   "metadata": {
    "collapsed": false
   },
   "outputs": [],
   "source": [
    "\"\"\"\n",
    "\n",
    "\"\"\"\n",
    "%matplotlib inline\n",
    "\n",
    "from __future__ import print_function\n",
    "\n",
    "try:\n",
    "    from importlib import reload\n",
    "except:\n",
    "    pass\n",
    "\n",
    "\n",
    "from matplotlib import pyplot as plt\n",
    "import matplotlib.colors as mpl_colors \n",
    "\n",
    "import os\n",
    "import sys\n",
    "import warnings\n",
    "\n",
    "import numpy as np\n",
    "import pandas as pd\n",
    "import astropy as ap\n",
    "import sfdmap\n",
    "\n",
    "import sqlite3\n",
    "from sqlalchemy import create_engine\n",
    "\n",
    "from astropy import units as u\n",
    "from astropy.coordinates import SkyCoord\n",
    "from astropy.table import Table\n",
    "\n",
    "import lsst_tools.utils as utils \n",
    "import lsst_tools.utils.colours as colours \n",
    "\n",
    "import pyCoCo as pccsims\n",
    "import pycoco as pcc"
   ]
  },
  {
   "cell_type": "markdown",
   "metadata": {
    "collapsed": true
   },
   "source": [
    "Connect to .db file that contains the opsim output, read into a dataframe, `opsimdf`"
   ]
  },
  {
   "cell_type": "code",
   "execution_count": 4,
   "metadata": {
    "collapsed": false
   },
   "outputs": [],
   "source": [
    "# %%timeit ## 1 loop, best of 3: 1min 31s per loop \n",
    "opsimdbpath = os.environ.get('OPSIMDBPATH')\n",
    "# print(opsimdbpath)\n",
    "# opsimdbpath = \"/Users/berto/data/LSST/OpSimOutputDBs/astro_lsst_01_1068_sqlite.db\"\n",
    "opsimdbpath = \"/Users/berto/data/LSST/OpSimOutputDBs/minion_1016_sqlite.db\"\n",
    "\n",
    "conn = create_engine('sqlite:///'+opsimdbpath, echo = False)\n",
    "opsimdf = pd.read_sql_table('Summary', con=conn)"
   ]
  },
  {
   "cell_type": "markdown",
   "metadata": {},
   "source": [
    "Check that the db looks as we expect"
   ]
  },
  {
   "cell_type": "code",
   "execution_count": 8,
   "metadata": {
    "collapsed": false
   },
   "outputs": [
    {
     "data": {
      "text/html": [
       "<div>\n",
       "<table border=\"1\" class=\"dataframe\">\n",
       "  <thead>\n",
       "    <tr style=\"text-align: right;\">\n",
       "      <th></th>\n",
       "      <th>obsHistID</th>\n",
       "      <th>sessionID</th>\n",
       "      <th>propID</th>\n",
       "      <th>fieldID</th>\n",
       "      <th>fieldRA</th>\n",
       "      <th>fieldDec</th>\n",
       "      <th>filter</th>\n",
       "      <th>expDate</th>\n",
       "      <th>expMJD</th>\n",
       "      <th>night</th>\n",
       "      <th>...</th>\n",
       "      <th>moonBright</th>\n",
       "      <th>darkBright</th>\n",
       "      <th>rawSeeing</th>\n",
       "      <th>wind</th>\n",
       "      <th>humidity</th>\n",
       "      <th>slewDist</th>\n",
       "      <th>slewTime</th>\n",
       "      <th>fiveSigmaDepth</th>\n",
       "      <th>ditheredRA</th>\n",
       "      <th>ditheredDec</th>\n",
       "    </tr>\n",
       "  </thead>\n",
       "  <tbody>\n",
       "    <tr>\n",
       "      <th>0</th>\n",
       "      <td>1</td>\n",
       "      <td>1016</td>\n",
       "      <td>54</td>\n",
       "      <td>316</td>\n",
       "      <td>1.676483</td>\n",
       "      <td>-1.082473</td>\n",
       "      <td>y</td>\n",
       "      <td>2922</td>\n",
       "      <td>59580.033829</td>\n",
       "      <td>0</td>\n",
       "      <td>...</td>\n",
       "      <td>0.0</td>\n",
       "      <td>105.610378</td>\n",
       "      <td>0.920473</td>\n",
       "      <td>0.0</td>\n",
       "      <td>0.0</td>\n",
       "      <td>1.620307</td>\n",
       "      <td>0.000000</td>\n",
       "      <td>21.021236</td>\n",
       "      <td>1.643930</td>\n",
       "      <td>-1.108924</td>\n",
       "    </tr>\n",
       "    <tr>\n",
       "      <th>1</th>\n",
       "      <td>2</td>\n",
       "      <td>1016</td>\n",
       "      <td>54</td>\n",
       "      <td>372</td>\n",
       "      <td>1.694120</td>\n",
       "      <td>-1.033972</td>\n",
       "      <td>y</td>\n",
       "      <td>2961</td>\n",
       "      <td>59580.034275</td>\n",
       "      <td>0</td>\n",
       "      <td>...</td>\n",
       "      <td>0.0</td>\n",
       "      <td>105.167017</td>\n",
       "      <td>0.920473</td>\n",
       "      <td>0.0</td>\n",
       "      <td>0.0</td>\n",
       "      <td>0.049266</td>\n",
       "      <td>4.574944</td>\n",
       "      <td>21.026646</td>\n",
       "      <td>1.664257</td>\n",
       "      <td>-1.060423</td>\n",
       "    </tr>\n",
       "    <tr>\n",
       "      <th>2</th>\n",
       "      <td>3</td>\n",
       "      <td>1016</td>\n",
       "      <td>54</td>\n",
       "      <td>441</td>\n",
       "      <td>1.708513</td>\n",
       "      <td>-0.985271</td>\n",
       "      <td>y</td>\n",
       "      <td>2999</td>\n",
       "      <td>59580.034722</td>\n",
       "      <td>0</td>\n",
       "      <td>...</td>\n",
       "      <td>0.0</td>\n",
       "      <td>104.849578</td>\n",
       "      <td>0.920473</td>\n",
       "      <td>0.0</td>\n",
       "      <td>0.0</td>\n",
       "      <td>0.049298</td>\n",
       "      <td>4.595615</td>\n",
       "      <td>21.030520</td>\n",
       "      <td>1.680878</td>\n",
       "      <td>-1.011722</td>\n",
       "    </tr>\n",
       "    <tr>\n",
       "      <th>3</th>\n",
       "      <td>4</td>\n",
       "      <td>1016</td>\n",
       "      <td>54</td>\n",
       "      <td>505</td>\n",
       "      <td>1.720374</td>\n",
       "      <td>-0.936476</td>\n",
       "      <td>y</td>\n",
       "      <td>3038</td>\n",
       "      <td>59580.035169</td>\n",
       "      <td>0</td>\n",
       "      <td>...</td>\n",
       "      <td>0.0</td>\n",
       "      <td>104.669398</td>\n",
       "      <td>0.920473</td>\n",
       "      <td>0.0</td>\n",
       "      <td>0.0</td>\n",
       "      <td>0.049266</td>\n",
       "      <td>4.605366</td>\n",
       "      <td>21.032718</td>\n",
       "      <td>1.694604</td>\n",
       "      <td>-0.962927</td>\n",
       "    </tr>\n",
       "    <tr>\n",
       "      <th>4</th>\n",
       "      <td>5</td>\n",
       "      <td>1016</td>\n",
       "      <td>54</td>\n",
       "      <td>587</td>\n",
       "      <td>1.730248</td>\n",
       "      <td>-0.887672</td>\n",
       "      <td>y</td>\n",
       "      <td>3077</td>\n",
       "      <td>59580.035616</td>\n",
       "      <td>0</td>\n",
       "      <td>...</td>\n",
       "      <td>0.0</td>\n",
       "      <td>104.627207</td>\n",
       "      <td>0.920473</td>\n",
       "      <td>0.0</td>\n",
       "      <td>0.0</td>\n",
       "      <td>0.049177</td>\n",
       "      <td>4.604023</td>\n",
       "      <td>21.033233</td>\n",
       "      <td>1.706054</td>\n",
       "      <td>-0.914123</td>\n",
       "    </tr>\n",
       "  </tbody>\n",
       "</table>\n",
       "<p>5 rows × 47 columns</p>\n",
       "</div>"
      ],
      "text/plain": [
       "   obsHistID  sessionID  propID  fieldID   fieldRA  fieldDec filter  expDate  \\\n",
       "0          1       1016      54      316  1.676483 -1.082473      y     2922   \n",
       "1          2       1016      54      372  1.694120 -1.033972      y     2961   \n",
       "2          3       1016      54      441  1.708513 -0.985271      y     2999   \n",
       "3          4       1016      54      505  1.720374 -0.936476      y     3038   \n",
       "4          5       1016      54      587  1.730248 -0.887672      y     3077   \n",
       "\n",
       "         expMJD  night     ...       moonBright  darkBright  rawSeeing  wind  \\\n",
       "0  59580.033829      0     ...              0.0  105.610378   0.920473   0.0   \n",
       "1  59580.034275      0     ...              0.0  105.167017   0.920473   0.0   \n",
       "2  59580.034722      0     ...              0.0  104.849578   0.920473   0.0   \n",
       "3  59580.035169      0     ...              0.0  104.669398   0.920473   0.0   \n",
       "4  59580.035616      0     ...              0.0  104.627207   0.920473   0.0   \n",
       "\n",
       "   humidity  slewDist  slewTime  fiveSigmaDepth  ditheredRA  ditheredDec  \n",
       "0       0.0  1.620307  0.000000       21.021236    1.643930    -1.108924  \n",
       "1       0.0  0.049266  4.574944       21.026646    1.664257    -1.060423  \n",
       "2       0.0  0.049298  4.595615       21.030520    1.680878    -1.011722  \n",
       "3       0.0  0.049266  4.605366       21.032718    1.694604    -0.962927  \n",
       "4       0.0  0.049177  4.604023       21.033233    1.706054    -0.914123  \n",
       "\n",
       "[5 rows x 47 columns]"
      ]
     },
     "execution_count": 8,
     "metadata": {},
     "output_type": "execute_result"
    }
   ],
   "source": [
    "opsimdf.head()"
   ]
  },
  {
   "cell_type": "markdown",
   "metadata": {},
   "source": [
    "Connecting to `.db` takes ages (~1min), and is a pain if you mess up, so create a 'working' instance to fiddle with"
   ]
  },
  {
   "cell_type": "code",
   "execution_count": 12,
   "metadata": {
    "collapsed": false
   },
   "outputs": [],
   "source": [
    "working_df = opsimdf"
   ]
  },
  {
   "cell_type": "code",
   "execution_count": 9,
   "metadata": {
    "collapsed": false
   },
   "outputs": [],
   "source": [
    "#%%timeit ## The slowest run took 39.04 times longer than the fastest. This could mean that an intermediate result is being cached.\n",
    "#         ## 1000 loops, best of 3: 246 µs per loop\n",
    "n = 1\n",
    "pos_df = utils.generate_coordinates(n)\n",
    "# pos_df[\"phi\"] = -0.122\n",
    "# pos_df[\"theta\"] = 0.0"
   ]
  },
  {
   "cell_type": "markdown",
   "metadata": {},
   "source": [
    "Add extinction to the dataframe"
   ]
  },
  {
   "cell_type": "code",
   "execution_count": 10,
   "metadata": {
    "collapsed": false
   },
   "outputs": [],
   "source": [
    "#%%timeit ## 1 loop, best of 3: 88.6 ms per loop\n",
    "df = utils.find_MW_extinction(pos_df) "
   ]
  },
  {
   "cell_type": "markdown",
   "metadata": {},
   "source": [
    "Check the positions are sensible"
   ]
  },
  {
   "cell_type": "code",
   "execution_count": 11,
   "metadata": {
    "collapsed": false
   },
   "outputs": [
    {
     "data": {
      "image/png": "[encoded data removed]",
      "text/plain": [
       "<matplotlib.figure.Figure at 0x11683fe48>"
      ]
     },
     "metadata": {},
     "output_type": "display_data"
    }
   ],
   "source": [
    "#%%timeit ## 1 loop, best of 3: 235 ms per loop\n",
    "utils.plot_position_points(df)"
   ]
  },
  {
   "cell_type": "markdown",
   "metadata": {
    "collapsed": false
   },
   "source": [
    "## Identifying Fields\n",
    "___\n",
    "We want to find out which field(s) the position is in. Create table that tells us the field centres, and find the edges."
   ]
  },
  {
   "cell_type": "code",
   "execution_count": null,
   "metadata": {
    "collapsed": false
   },
   "outputs": [],
   "source": [
    "# working_df = utils.get_field_corners(working_df.drop_duplicates(\"fieldID\"))[['fieldRA', 'fieldDec']]\n",
    "fields_df = utils.get_field_corners(pd.DataFrame(working_df.drop_duplicates(\"fieldID\"))[['fieldID', 'fieldRA', 'fieldDec']])"
   ]
  },
  {
   "cell_type": "code",
   "execution_count": null,
   "metadata": {
    "collapsed": false
   },
   "outputs": [],
   "source": [
    "fields_df.head()"
   ]
  },
  {
   "cell_type": "code",
   "execution_count": null,
   "metadata": {
    "collapsed": false
   },
   "outputs": [],
   "source": [
    "field_df = fields_df[(fields_df[\"RA_upper\"] >= df[\"theta\"][0] + np.pi) &\n",
    "                (fields_df[\"RA_lower\"] <= df[\"theta\"][0] + np.pi) &\n",
    "                (fields_df[\"Dec_lower\"] >= df[\"phi\"][0])  &\n",
    "                (fields_df[\"Dec_upper\"] <= df[\"phi\"][0])]"
   ]
  },
  {
   "cell_type": "code",
   "execution_count": null,
   "metadata": {
    "collapsed": false
   },
   "outputs": [],
   "source": [
    "field_df"
   ]
  },
  {
   "cell_type": "code",
   "execution_count": null,
   "metadata": {
    "collapsed": false
   },
   "outputs": [],
   "source": []
  },
  {
   "cell_type": "code",
   "execution_count": null,
   "metadata": {
    "collapsed": false
   },
   "outputs": [],
   "source": [
    "opsimdf = utils.find_MW_extinction(opsimdf)"
   ]
  },
  {
   "cell_type": "markdown",
   "metadata": {},
   "source": [
    "## Deep Drilling Fields:\n",
    "___\n",
    "\n",
    "* minion2016: 1427,744,2412,290,2786\n",
    "* astro_lsst_01_1068: 1427,744,2412,290,2786\n",
    "* Fake_Rolling: 290,2786\n"
   ]
  },
  {
   "cell_type": "code",
   "execution_count": null,
   "metadata": {
    "collapsed": false
   },
   "outputs": [],
   "source": [
    "opsimdf.loc[opsimdf[\"fieldID\"] == 505].head() ## WFD"
   ]
  },
  {
   "cell_type": "code",
   "execution_count": null,
   "metadata": {
    "collapsed": false
   },
   "outputs": [],
   "source": [
    "opsimdf.loc[opsimdf[\"fieldID\"] == 1427].head() ## DDF"
   ]
  },
  {
   "cell_type": "code",
   "execution_count": null,
   "metadata": {
    "collapsed": true
   },
   "outputs": [],
   "source": [
    "# mjdmax = np.random.choice(mjd_to_sim)\n",
    "# mjdmax = np.random.choice(mjd_to_sim)\n",
    "# \n",
    "# chosenfield = 550 ## WFD\n",
    "chosenfield = 2297\n",
    "# chosenfield = 2786 ## DDF\n",
    "\n",
    "mjd_to_sim = opsimdf.loc[opsimdf[\"fieldID\"] == chosenfield,[\"expMJD\"]].values.T[0]\n",
    "filters_to_sim = opsimdf.loc[opsimdf[\"fieldID\"] == chosenfield,[\"filter\"]].values.T[0]\n",
    "limiting_mags = opsimdf.loc[opsimdf[\"fieldID\"] == chosenfield,[\"fiveSigmaDepth\"]].values.T[0] \n",
    "\n",
    "filters_to_sim = np.array([b('LSST_'+x) for x in filters_to_sim])"
   ]
  },
  {
   "cell_type": "code",
   "execution_count": null,
   "metadata": {
    "collapsed": false
   },
   "outputs": [],
   "source": [
    "extinction = opsimdf.loc[opsimdf[\"fieldID\"] == chosenfield,[\"EBV_MW\"]].head(1).values[0][0]\n",
    "print(extinction)"
   ]
  },
  {
   "cell_type": "code",
   "execution_count": null,
   "metadata": {
    "collapsed": false
   },
   "outputs": [],
   "source": [
    "print(opsimdf.loc[opsimdf[\"fieldID\"] == chosenfield,[\"fieldRA\"]].head(1).values[0][0])\n",
    "print(opsimdf.loc[opsimdf[\"fieldID\"] == chosenfield,[\"fieldDec\"]].head(1).values[0][0])\n"
   ]
  },
  {
   "cell_type": "code",
   "execution_count": null,
   "metadata": {
    "collapsed": false
   },
   "outputs": [],
   "source": [
    "filter_path = \"/Users/berto/Code/CoCo/data/filters\"\n",
    "coco_root_path = \"/Users/berto/Code/CoCo\"\n",
    "\n",
    "coco = pccsims.pyCoCo(b(filter_path), b(coco_root_path))"
   ]
  },
  {
   "cell_type": "code",
   "execution_count": null,
   "metadata": {
    "collapsed": true
   },
   "outputs": [],
   "source": [
    "# mjd_to_sim = np.array([90.0, 91.0, 92.0, 93.0, 94.0, 95.0, 96.0, 97.0, 98.0, 99.0, 100.0, 105.0, 110.0, 115.0, 120.0])\n",
    "# filters_to_sim = np.array([b'SDSS_r', b'SDSS_r', b'SDSS_r', b'SDSS_r', b'SDSS_r', b'SDSS_r', b'SDSS_r', b'SDSS_r', b'SDSS_r', b'SDSS_r', b'SDSS_r', b'SDSS_r', b'SDSS_r', b'SDSS_r', b'SDSS_r'])\n",
    "# mjd_to_sim = \n",
    "# filters_to_sim = "
   ]
  },
  {
   "cell_type": "markdown",
   "metadata": {},
   "source": [
    "inputs:\n",
    "\n",
    "* **`snname`**\n",
    "* **`redshift`**\n",
    "* **`absmag offset`**\n",
    "* **`EBV MW`**\n",
    "* **`EBV Host`**\n",
    "* **`Rv`**\n",
    "* **`MJD at Peak`**\n",
    "\n",
    "* **`MJD to simulate`**\n",
    "* **`filters to simulate`**"
   ]
  },
  {
   "cell_type": "code",
   "execution_count": null,
   "metadata": {
    "collapsed": true
   },
   "outputs": [],
   "source": [
    "# z_obs = 0.007\n",
    "# z_obs = 0.1\n",
    "z_obs = 0.2\n",
    "host_EBV = 0.2\n",
    "MW_EBV = extinction\n",
    "# mjdmax = 60307.314753999999\n",
    "# mjdmax = 59580 + 1.* 365. ## DDF 2786\n",
    "# mjdmax = 59580 + 1.5* 365. ## WFD 550\n",
    "mjdmax = 59580 + 1.3* 365. ## WFD 2297"
   ]
  },
  {
   "cell_type": "code",
   "execution_count": null,
   "metadata": {
    "collapsed": false
   },
   "outputs": [],
   "source": [
    "plt.scatter(mjd_to_sim, np.ones(len(mjd_to_sim)))\n",
    "plt.scatter([mjdmax], [1])"
   ]
  },
  {
   "cell_type": "code",
   "execution_count": null,
   "metadata": {
    "collapsed": false
   },
   "outputs": [],
   "source": [
    "# flux, flux_err = coco.simulate(b\"SN2007uy\", \n",
    "#                     z_obs, 0.0, MW_EBV, host_EBV, 3.1, \n",
    "#                     mjdmax, mjd_to_sim, \n",
    "#                     filters_to_sim)\n",
    "snname = b\"SN2007uy\"\n",
    "# snname = b\"SN2009jf\"\n",
    "flux, flux_err = coco.simulate(snname, \n",
    "                    z_obs, 0.0, MW_EBV, host_EBV, 3.1, \n",
    "                    mjdmax, mjd_to_sim, \n",
    "                    filters_to_sim)\n",
    "# flux, flux_err = coco.simulate(b\"SN2009jf\", \n",
    "#                     z_obs, 0.0, 0.1, 0.1, 3.1, \n",
    "#                     mjdmax, mjd_to_sim, \n",
    "#                     filters_to_sim)"
   ]
  },
  {
   "cell_type": "code",
   "execution_count": null,
   "metadata": {
    "collapsed": false
   },
   "outputs": [],
   "source": [
    "flux, flux_err"
   ]
  },
  {
   "cell_type": "code",
   "execution_count": null,
   "metadata": {
    "collapsed": false
   },
   "outputs": [],
   "source": [
    "mjdmax "
   ]
  },
  {
   "cell_type": "code",
   "execution_count": null,
   "metadata": {
    "collapsed": false
   },
   "outputs": [],
   "source": [
    "p = pcc.PhotometryClass()\n",
    "pt = simulate_out_to_ap_table(mjd_to_sim, flux, flux_err, filters_to_sim)\n",
    "pt_lim_m = pt\n",
    "pt_lim_m[\"fivesigmadepth\"] = limiting_mags"
   ]
  },
  {
   "cell_type": "code",
   "execution_count": null,
   "metadata": {
    "collapsed": false
   },
   "outputs": [],
   "source": [
    "pt = pt_lim_m[np.where(pt_lim_m[\"flux\"] > 1e-22)]"
   ]
  },
  {
   "cell_type": "code",
   "execution_count": null,
   "metadata": {
    "collapsed": false
   },
   "outputs": [],
   "source": [
    "pt"
   ]
  },
  {
   "cell_type": "code",
   "execution_count": null,
   "metadata": {
    "collapsed": false,
    "scrolled": true
   },
   "outputs": [],
   "source": [
    "days_before = 40\n",
    "days_after = 100\n",
    "print(mjdmax)\n",
    "w = np.where(np.logical_and(pt[\"MJD\"] > mjdmax - days_before, pt[\"MJD\"] < mjdmax + days_after))\n",
    "print(w)\n",
    "pt[w]"
   ]
  },
  {
   "cell_type": "code",
   "execution_count": null,
   "metadata": {
    "collapsed": false
   },
   "outputs": [],
   "source": [
    "print(snname)\n",
    "print(chosenfield)\n",
    "print(z_obs)\n",
    "print(extinction)\n",
    "print(opsimdbpath)\n",
    "print(mjdmax)"
   ]
  },
  {
   "cell_type": "code",
   "execution_count": null,
   "metadata": {
    "collapsed": false
   },
   "outputs": [],
   "source": [
    "reload(pcc)\n",
    "reload(pcc.classes)\n",
    "# reload(pcc.utils)"
   ]
  },
  {
   "cell_type": "code",
   "execution_count": null,
   "metadata": {
    "collapsed": true
   },
   "outputs": [],
   "source": []
  },
  {
   "cell_type": "code",
   "execution_count": null,
   "metadata": {
    "collapsed": false
   },
   "outputs": [],
   "source": [
    "p.load_table(pt[w], verbose= True)\n",
    "# p.plot()"
   ]
  },
  {
   "cell_type": "code",
   "execution_count": null,
   "metadata": {
    "collapsed": false
   },
   "outputs": [],
   "source": [
    "p.unpack(verbose = True)"
   ]
  },
  {
   "cell_type": "code",
   "execution_count": null,
   "metadata": {
    "collapsed": true
   },
   "outputs": [],
   "source": [
    "phot_table = p.phot.loc[\"filter\", \"LSST_u\"]"
   ]
  },
  {
   "cell_type": "code",
   "execution_count": null,
   "metadata": {
    "collapsed": false
   },
   "outputs": [],
   "source": [
    "phot_table"
   ]
  },
  {
   "cell_type": "code",
   "execution_count": null,
   "metadata": {
    "collapsed": false
   },
   "outputs": [],
   "source": [
    "phot_table.meta[\"filter_filename\"] = \"foo\""
   ]
  },
  {
   "cell_type": "code",
   "execution_count": null,
   "metadata": {
    "collapsed": false
   },
   "outputs": [],
   "source": [
    "pt[w]"
   ]
  },
  {
   "cell_type": "code",
   "execution_count": null,
   "metadata": {
    "collapsed": false
   },
   "outputs": [],
   "source": [
    "# filter_file_type = '.dat'\n",
    "# filter_names = np.unique(pt[w][\"filter\"])\n",
    "# print(filter_names)\n",
    "# pt.add_index('filter', unique = True)\n",
    "# for filter_name in filter_names:\n",
    "# #     phot_table = self.phot.loc[\"filter\", filter_name]\n",
    "#     filter_filename = filter_name + filter_file_type\n",
    "#     print(filter_filename)"
   ]
  },
  {
   "cell_type": "code",
   "execution_count": null,
   "metadata": {
    "collapsed": false
   },
   "outputs": [],
   "source": [
    "# reload(pcc)\n",
    "# phot = pcc.PhotometryClass()\n",
    "# infile = \"/Users/berto/projects/LSST/cadence/lightcurves/SNSim_0002_minion_1016_SN2007uy_z=02_EBVMW=0029_EBVHOST=01_fieldID=2297WFD.dat\"\n",
    "# phot.load(path = infile, names = (\"MJD\", \"flux\", \"flux_err\", \"filter\", \"fivesigmadepth\"), verbose = True)\n",
    "# # phot.load_phot_from_file(path = infile, format = \"ascii.commented_header\")\n",
    "\n",
    "# phot.unpack(verbose = True)"
   ]
  },
  {
   "cell_type": "code",
   "execution_count": null,
   "metadata": {
    "collapsed": false
   },
   "outputs": [],
   "source": [
    "# phot.data"
   ]
  },
  {
   "cell_type": "code",
   "execution_count": null,
   "metadata": {
    "collapsed": false
   },
   "outputs": [],
   "source": [
    "# phot_table = Table.read(infile, names = (\"MJD\", \"flux\", \"flux_err\", \"filter\", \"fivesigmadepth\"), format = \"ascii\")"
   ]
  },
  {
   "cell_type": "code",
   "execution_count": null,
   "metadata": {
    "collapsed": false
   },
   "outputs": [],
   "source": [
    "# phot_table.meta[\"filename\"] = infile\n",
    "\n",
    "# phot_table[\"MJD\"].unit = u.day\n",
    "# phot_table[\"flux\"].unit = u.cgs.erg / u.si.angstrom / u.si.cm ** 2 / u.si.s\n",
    "# phot_table[\"flux_err\"].unit =  phot_table[\"flux\"].unit"
   ]
  },
  {
   "cell_type": "code",
   "execution_count": null,
   "metadata": {
    "collapsed": false
   },
   "outputs": [],
   "source": [
    "# reload(pcc)\n",
    "# p = pcc.PhotometryClass()\n",
    "# p.load_table(phot_table, verbose = True)"
   ]
  },
  {
   "cell_type": "code",
   "execution_count": null,
   "metadata": {
    "collapsed": true
   },
   "outputs": [],
   "source": []
  }
 ],
 "metadata": {
  "kernelspec": {
   "display_name": "Python 3",
   "language": "python",
   "name": "python3"
  },
  "language_info": {
   "codemirror_mode": {
    "name": "ipython",
    "version": 3
   },
   "file_extension": ".py",
   "mimetype": "text/x-python",
   "name": "python",
   "nbconvert_exporter": "python",
   "pygments_lexer": "ipython3",
   "version": "3.6.0"
  }
 },
 "nbformat": 4,
 "nbformat_minor": 2
}
