{
 "cells": [
  {
   "cell_type": "markdown",
   "metadata": {},
   "source": [
    "# Get a LSST Simulated Cadence for Arbitrary Sky Position\n",
    "___\n",
    "\n",
    "\n",
    "___"
   ]
  },
  {
   "cell_type": "code",
   "execution_count": 1,
   "metadata": {
    "collapsed": false
   },
   "outputs": [],
   "source": [
    "\"\"\"\n",
    "\n",
    "\"\"\"\n",
    "%matplotlib inline\n",
    "# %matplotlib notebook\n",
    "\n",
    "from __future__ import print_function\n",
    "\n",
    "try:\n",
    "    from importlib import reload\n",
    "except:\n",
    "    pass\n",
    "\n",
    "\n",
    "from matplotlib import pyplot as plt\n",
    "import matplotlib.colors as mpl_colors \n",
    "\n",
    "import os\n",
    "import sys\n",
    "import warnings\n",
    "\n",
    "import numpy as np\n",
    "import pandas as pd\n",
    "import astropy as ap\n",
    "import sfdmap\n",
    "\n",
    "import sqlite3\n",
    "from sqlalchemy import create_engine\n",
    "\n",
    "from astropy import units as u\n",
    "from astropy.coordinates import SkyCoord\n",
    "from astropy.table import Table\n",
    "\n",
    "import lsst_tools.utils as utils \n",
    "import lsst_tools.utils.colours as colours \n",
    "\n",
    "import pyCoCo as pccsims\n",
    "import pycoco as pcc"
   ]
  },
  {
   "cell_type": "markdown",
   "metadata": {
    "collapsed": true
   },
   "source": [
    "Connect to .db file that contains the opsim output, read into a dataframe, `opsimdf`"
   ]
  },
  {
   "cell_type": "code",
   "execution_count": 2,
   "metadata": {
    "collapsed": false
   },
   "outputs": [
    {
     "name": "stdout",
     "output_type": "stream",
     "text": [
      "/Users/berto/data/LSST/OpSimOutputDBs/minion_1016_sqlite.db\n"
     ]
    }
   ],
   "source": [
    "# %%timeit ## 1 loop, best of 3: 1min 31s per loop \n",
    "opsimdbpath = os.environ.get('OPSIMDBPATH')\n",
    "print(opsimdbpath)\n",
    "# opsimdbpath = \"/Users/berto/data/LSST/OpSimOutputDBs/astro_lsst_01_1068_sqlite.db\"\n",
    "opsimdbpath = \"/Users/berto/data/LSST/OpSimOutputDBs/minion_1016_sqlite.db\"\n",
    "\n",
    "conn = create_engine('sqlite:///'+opsimdbpath, echo = False)\n",
    "opsimdf = pd.read_sql_table('Summary', con=conn)"
   ]
  },
  {
   "cell_type": "markdown",
   "metadata": {},
   "source": [
    "Check that the db looks as we expect"
   ]
  },
  {
   "cell_type": "code",
   "execution_count": 41,
   "metadata": {
    "collapsed": false
   },
   "outputs": [
    {
     "ename": "KeyError",
     "evalue": "'fieldID == 2786'",
     "output_type": "error",
     "traceback": [
      "\u001b[0;31m---------------------------------------------------------------------------\u001b[0m",
      "\u001b[0;31mKeyError\u001b[0m                                  Traceback (most recent call last)",
      "\u001b[0;32m/Users/berto/anaconda3/lib/python3.6/site-packages/pandas/indexes/base.py\u001b[0m in \u001b[0;36mget_loc\u001b[0;34m(self, key, method, tolerance)\u001b[0m\n\u001b[1;32m   2133\u001b[0m             \u001b[0;32mtry\u001b[0m\u001b[0;34m:\u001b[0m\u001b[0;34m\u001b[0m\u001b[0m\n\u001b[0;32m-> 2134\u001b[0;31m                 \u001b[0;32mreturn\u001b[0m \u001b[0mself\u001b[0m\u001b[0;34m.\u001b[0m\u001b[0m_engine\u001b[0m\u001b[0;34m.\u001b[0m\u001b[0mget_loc\u001b[0m\u001b[0;34m(\u001b[0m\u001b[0mkey\u001b[0m\u001b[0;34m)\u001b[0m\u001b[0;34m\u001b[0m\u001b[0m\n\u001b[0m\u001b[1;32m   2135\u001b[0m             \u001b[0;32mexcept\u001b[0m \u001b[0mKeyError\u001b[0m\u001b[0;34m:\u001b[0m\u001b[0;34m\u001b[0m\u001b[0m\n",
      "\u001b[0;32mpandas/index.pyx\u001b[0m in \u001b[0;36mpandas.index.IndexEngine.get_loc (pandas/index.c:4433)\u001b[0;34m()\u001b[0m\n",
      "\u001b[0;32mpandas/index.pyx\u001b[0m in \u001b[0;36mpandas.index.IndexEngine.get_loc (pandas/index.c:4279)\u001b[0;34m()\u001b[0m\n",
      "\u001b[0;32mpandas/src/hashtable_class_helper.pxi\u001b[0m in \u001b[0;36mpandas.hashtable.PyObjectHashTable.get_item (pandas/hashtable.c:13742)\u001b[0;34m()\u001b[0m\n",
      "\u001b[0;32mpandas/src/hashtable_class_helper.pxi\u001b[0m in \u001b[0;36mpandas.hashtable.PyObjectHashTable.get_item (pandas/hashtable.c:13696)\u001b[0;34m()\u001b[0m\n",
      "\u001b[0;31mKeyError\u001b[0m: 'fieldID == 2786'",
      "\nDuring handling of the above exception, another exception occurred:\n",
      "\u001b[0;31mKeyError\u001b[0m                                  Traceback (most recent call last)",
      "\u001b[0;32m<ipython-input-41-388a8cb847c2>\u001b[0m in \u001b[0;36m<module>\u001b[0;34m()\u001b[0m\n\u001b[0;32m----> 1\u001b[0;31m \u001b[0mopsimdf\u001b[0m\u001b[0;34m[\u001b[0m\u001b[0;34m(\u001b[0m\u001b[0;34m\"fieldID == 2786\"\u001b[0m\u001b[0;34m)\u001b[0m\u001b[0;34m]\u001b[0m\u001b[0;34m.\u001b[0m\u001b[0mhead\u001b[0m\u001b[0;34m(\u001b[0m\u001b[0;34m)\u001b[0m\u001b[0;34m\u001b[0m\u001b[0m\n\u001b[0m",
      "\u001b[0;32m/Users/berto/anaconda3/lib/python3.6/site-packages/pandas/core/frame.py\u001b[0m in \u001b[0;36m__getitem__\u001b[0;34m(self, key)\u001b[0m\n\u001b[1;32m   2057\u001b[0m             \u001b[0;32mreturn\u001b[0m \u001b[0mself\u001b[0m\u001b[0;34m.\u001b[0m\u001b[0m_getitem_multilevel\u001b[0m\u001b[0;34m(\u001b[0m\u001b[0mkey\u001b[0m\u001b[0;34m)\u001b[0m\u001b[0;34m\u001b[0m\u001b[0m\n\u001b[1;32m   2058\u001b[0m         \u001b[0;32melse\u001b[0m\u001b[0;34m:\u001b[0m\u001b[0;34m\u001b[0m\u001b[0m\n\u001b[0;32m-> 2059\u001b[0;31m             \u001b[0;32mreturn\u001b[0m \u001b[0mself\u001b[0m\u001b[0;34m.\u001b[0m\u001b[0m_getitem_column\u001b[0m\u001b[0;34m(\u001b[0m\u001b[0mkey\u001b[0m\u001b[0;34m)\u001b[0m\u001b[0;34m\u001b[0m\u001b[0m\n\u001b[0m\u001b[1;32m   2060\u001b[0m \u001b[0;34m\u001b[0m\u001b[0m\n\u001b[1;32m   2061\u001b[0m     \u001b[0;32mdef\u001b[0m \u001b[0m_getitem_column\u001b[0m\u001b[0;34m(\u001b[0m\u001b[0mself\u001b[0m\u001b[0;34m,\u001b[0m \u001b[0mkey\u001b[0m\u001b[0;34m)\u001b[0m\u001b[0;34m:\u001b[0m\u001b[0;34m\u001b[0m\u001b[0m\n",
      "\u001b[0;32m/Users/berto/anaconda3/lib/python3.6/site-packages/pandas/core/frame.py\u001b[0m in \u001b[0;36m_getitem_column\u001b[0;34m(self, key)\u001b[0m\n\u001b[1;32m   2064\u001b[0m         \u001b[0;31m# get column\u001b[0m\u001b[0;34m\u001b[0m\u001b[0;34m\u001b[0m\u001b[0m\n\u001b[1;32m   2065\u001b[0m         \u001b[0;32mif\u001b[0m \u001b[0mself\u001b[0m\u001b[0;34m.\u001b[0m\u001b[0mcolumns\u001b[0m\u001b[0;34m.\u001b[0m\u001b[0mis_unique\u001b[0m\u001b[0;34m:\u001b[0m\u001b[0;34m\u001b[0m\u001b[0m\n\u001b[0;32m-> 2066\u001b[0;31m             \u001b[0;32mreturn\u001b[0m \u001b[0mself\u001b[0m\u001b[0;34m.\u001b[0m\u001b[0m_get_item_cache\u001b[0m\u001b[0;34m(\u001b[0m\u001b[0mkey\u001b[0m\u001b[0;34m)\u001b[0m\u001b[0;34m\u001b[0m\u001b[0m\n\u001b[0m\u001b[1;32m   2067\u001b[0m \u001b[0;34m\u001b[0m\u001b[0m\n\u001b[1;32m   2068\u001b[0m         \u001b[0;31m# duplicate columns & possible reduce dimensionality\u001b[0m\u001b[0;34m\u001b[0m\u001b[0;34m\u001b[0m\u001b[0m\n",
      "\u001b[0;32m/Users/berto/anaconda3/lib/python3.6/site-packages/pandas/core/generic.py\u001b[0m in \u001b[0;36m_get_item_cache\u001b[0;34m(self, item)\u001b[0m\n\u001b[1;32m   1384\u001b[0m         \u001b[0mres\u001b[0m \u001b[0;34m=\u001b[0m \u001b[0mcache\u001b[0m\u001b[0;34m.\u001b[0m\u001b[0mget\u001b[0m\u001b[0;34m(\u001b[0m\u001b[0mitem\u001b[0m\u001b[0;34m)\u001b[0m\u001b[0;34m\u001b[0m\u001b[0m\n\u001b[1;32m   1385\u001b[0m         \u001b[0;32mif\u001b[0m \u001b[0mres\u001b[0m \u001b[0;32mis\u001b[0m \u001b[0;32mNone\u001b[0m\u001b[0;34m:\u001b[0m\u001b[0;34m\u001b[0m\u001b[0m\n\u001b[0;32m-> 1386\u001b[0;31m             \u001b[0mvalues\u001b[0m \u001b[0;34m=\u001b[0m \u001b[0mself\u001b[0m\u001b[0;34m.\u001b[0m\u001b[0m_data\u001b[0m\u001b[0;34m.\u001b[0m\u001b[0mget\u001b[0m\u001b[0;34m(\u001b[0m\u001b[0mitem\u001b[0m\u001b[0;34m)\u001b[0m\u001b[0;34m\u001b[0m\u001b[0m\n\u001b[0m\u001b[1;32m   1387\u001b[0m             \u001b[0mres\u001b[0m \u001b[0;34m=\u001b[0m \u001b[0mself\u001b[0m\u001b[0;34m.\u001b[0m\u001b[0m_box_item_values\u001b[0m\u001b[0;34m(\u001b[0m\u001b[0mitem\u001b[0m\u001b[0;34m,\u001b[0m \u001b[0mvalues\u001b[0m\u001b[0;34m)\u001b[0m\u001b[0;34m\u001b[0m\u001b[0m\n\u001b[1;32m   1388\u001b[0m             \u001b[0mcache\u001b[0m\u001b[0;34m[\u001b[0m\u001b[0mitem\u001b[0m\u001b[0;34m]\u001b[0m \u001b[0;34m=\u001b[0m \u001b[0mres\u001b[0m\u001b[0;34m\u001b[0m\u001b[0m\n",
      "\u001b[0;32m/Users/berto/anaconda3/lib/python3.6/site-packages/pandas/core/internals.py\u001b[0m in \u001b[0;36mget\u001b[0;34m(self, item, fastpath)\u001b[0m\n\u001b[1;32m   3541\u001b[0m \u001b[0;34m\u001b[0m\u001b[0m\n\u001b[1;32m   3542\u001b[0m             \u001b[0;32mif\u001b[0m \u001b[0;32mnot\u001b[0m \u001b[0misnull\u001b[0m\u001b[0;34m(\u001b[0m\u001b[0mitem\u001b[0m\u001b[0;34m)\u001b[0m\u001b[0;34m:\u001b[0m\u001b[0;34m\u001b[0m\u001b[0m\n\u001b[0;32m-> 3543\u001b[0;31m                 \u001b[0mloc\u001b[0m \u001b[0;34m=\u001b[0m \u001b[0mself\u001b[0m\u001b[0;34m.\u001b[0m\u001b[0mitems\u001b[0m\u001b[0;34m.\u001b[0m\u001b[0mget_loc\u001b[0m\u001b[0;34m(\u001b[0m\u001b[0mitem\u001b[0m\u001b[0;34m)\u001b[0m\u001b[0;34m\u001b[0m\u001b[0m\n\u001b[0m\u001b[1;32m   3544\u001b[0m             \u001b[0;32melse\u001b[0m\u001b[0;34m:\u001b[0m\u001b[0;34m\u001b[0m\u001b[0m\n\u001b[1;32m   3545\u001b[0m                 \u001b[0mindexer\u001b[0m \u001b[0;34m=\u001b[0m \u001b[0mnp\u001b[0m\u001b[0;34m.\u001b[0m\u001b[0marange\u001b[0m\u001b[0;34m(\u001b[0m\u001b[0mlen\u001b[0m\u001b[0;34m(\u001b[0m\u001b[0mself\u001b[0m\u001b[0;34m.\u001b[0m\u001b[0mitems\u001b[0m\u001b[0;34m)\u001b[0m\u001b[0;34m)\u001b[0m\u001b[0;34m[\u001b[0m\u001b[0misnull\u001b[0m\u001b[0;34m(\u001b[0m\u001b[0mself\u001b[0m\u001b[0;34m.\u001b[0m\u001b[0mitems\u001b[0m\u001b[0;34m)\u001b[0m\u001b[0;34m]\u001b[0m\u001b[0;34m\u001b[0m\u001b[0m\n",
      "\u001b[0;32m/Users/berto/anaconda3/lib/python3.6/site-packages/pandas/indexes/base.py\u001b[0m in \u001b[0;36mget_loc\u001b[0;34m(self, key, method, tolerance)\u001b[0m\n\u001b[1;32m   2134\u001b[0m                 \u001b[0;32mreturn\u001b[0m \u001b[0mself\u001b[0m\u001b[0;34m.\u001b[0m\u001b[0m_engine\u001b[0m\u001b[0;34m.\u001b[0m\u001b[0mget_loc\u001b[0m\u001b[0;34m(\u001b[0m\u001b[0mkey\u001b[0m\u001b[0;34m)\u001b[0m\u001b[0;34m\u001b[0m\u001b[0m\n\u001b[1;32m   2135\u001b[0m             \u001b[0;32mexcept\u001b[0m \u001b[0mKeyError\u001b[0m\u001b[0;34m:\u001b[0m\u001b[0;34m\u001b[0m\u001b[0m\n\u001b[0;32m-> 2136\u001b[0;31m                 \u001b[0;32mreturn\u001b[0m \u001b[0mself\u001b[0m\u001b[0;34m.\u001b[0m\u001b[0m_engine\u001b[0m\u001b[0;34m.\u001b[0m\u001b[0mget_loc\u001b[0m\u001b[0;34m(\u001b[0m\u001b[0mself\u001b[0m\u001b[0;34m.\u001b[0m\u001b[0m_maybe_cast_indexer\u001b[0m\u001b[0;34m(\u001b[0m\u001b[0mkey\u001b[0m\u001b[0;34m)\u001b[0m\u001b[0;34m)\u001b[0m\u001b[0;34m\u001b[0m\u001b[0m\n\u001b[0m\u001b[1;32m   2137\u001b[0m \u001b[0;34m\u001b[0m\u001b[0m\n\u001b[1;32m   2138\u001b[0m         \u001b[0mindexer\u001b[0m \u001b[0;34m=\u001b[0m \u001b[0mself\u001b[0m\u001b[0;34m.\u001b[0m\u001b[0mget_indexer\u001b[0m\u001b[0;34m(\u001b[0m\u001b[0;34m[\u001b[0m\u001b[0mkey\u001b[0m\u001b[0;34m]\u001b[0m\u001b[0;34m,\u001b[0m \u001b[0mmethod\u001b[0m\u001b[0;34m=\u001b[0m\u001b[0mmethod\u001b[0m\u001b[0;34m,\u001b[0m \u001b[0mtolerance\u001b[0m\u001b[0;34m=\u001b[0m\u001b[0mtolerance\u001b[0m\u001b[0;34m)\u001b[0m\u001b[0;34m\u001b[0m\u001b[0m\n",
      "\u001b[0;32mpandas/index.pyx\u001b[0m in \u001b[0;36mpandas.index.IndexEngine.get_loc (pandas/index.c:4433)\u001b[0;34m()\u001b[0m\n",
      "\u001b[0;32mpandas/index.pyx\u001b[0m in \u001b[0;36mpandas.index.IndexEngine.get_loc (pandas/index.c:4279)\u001b[0;34m()\u001b[0m\n",
      "\u001b[0;32mpandas/src/hashtable_class_helper.pxi\u001b[0m in \u001b[0;36mpandas.hashtable.PyObjectHashTable.get_item (pandas/hashtable.c:13742)\u001b[0;34m()\u001b[0m\n",
      "\u001b[0;32mpandas/src/hashtable_class_helper.pxi\u001b[0m in \u001b[0;36mpandas.hashtable.PyObjectHashTable.get_item (pandas/hashtable.c:13696)\u001b[0;34m()\u001b[0m\n",
      "\u001b[0;31mKeyError\u001b[0m: 'fieldID == 2786'"
     ]
    }
   ],
   "source": [
    "opsimdf.head()"
   ]
  },
  {
   "cell_type": "markdown",
   "metadata": {},
   "source": [
    "Connecting to `.db` takes ages (~1min), and is a pain if you mess up, so create a 'working' instance to fiddle with"
   ]
  },
  {
   "cell_type": "code",
   "execution_count": 4,
   "metadata": {
    "collapsed": false
   },
   "outputs": [],
   "source": [
    "working_df = opsimdf"
   ]
  },
  {
   "cell_type": "code",
   "execution_count": 5,
   "metadata": {
    "collapsed": true
   },
   "outputs": [],
   "source": [
    "working_df = utils.find_MW_extinction(working_df)"
   ]
  },
  {
   "cell_type": "markdown",
   "metadata": {
    "collapsed": false
   },
   "source": [
    "## Choosing Position and Identifying Fields\n",
    "___\n",
    "\n",
    "Use **`lsst_tools.utils.generate_coordinates()`** to give us a position \n"
   ]
  },
  {
   "cell_type": "code",
   "execution_count": 50,
   "metadata": {
    "collapsed": false
   },
   "outputs": [
    {
     "data": {
      "text/plain": [
       "Index(['obsHistID', 'sessionID', 'propID', 'fieldID', 'fieldRA', 'fieldDec',\n",
       "       'filter', 'expDate', 'expMJD', 'night', 'visitTime', 'visitExpTime',\n",
       "       'finRank', 'FWHMeff', 'FWHMgeom', 'transparency', 'airmass',\n",
       "       'vSkyBright', 'filtSkyBrightness', 'rotSkyPos', 'rotTelPos', 'lst',\n",
       "       'altitude', 'azimuth', 'dist2Moon', 'solarElong', 'moonRA', 'moonDec',\n",
       "       'moonAlt', 'moonAZ', 'moonPhase', 'sunAlt', 'sunAz', 'phaseAngle',\n",
       "       'rScatter', 'mieScatter', 'moonIllum', 'moonBright', 'darkBright',\n",
       "       'rawSeeing', 'wind', 'humidity', 'slewDist', 'slewTime',\n",
       "       'fiveSigmaDepth', 'ditheredRA', 'ditheredDec', 'EBV_MW'],\n",
       "      dtype='object')"
      ]
     },
     "execution_count": 50,
     "metadata": {},
     "output_type": "execute_result"
    }
   ],
   "source": [
    "working_df.query(\"fieldID == 2786\").columns"
   ]
  },
  {
   "cell_type": "code",
   "execution_count": 45,
   "metadata": {
    "collapsed": false
   },
   "outputs": [
    {
     "name": "stdout",
     "output_type": "stream",
     "text": [
      "        phi     theta        RA       Dec\n",
      "0 -0.790012  1.924116  5.065708 -0.790012\n"
     ]
    }
   ],
   "source": [
    "#%%timeit ## The slowest run took 39.04 times longer than the fastest. This could mean that an intermediate result is being cached.\n",
    "#         ## 1000 loops, best of 3: 246 µs per loop\n",
    "n = 1\n",
    "pos_df = utils.generate_coordinates(n)\n",
    "print(pos_df)\n",
    "# pos_df[\"phi\"] = -0.122\n",
    "# pos_df[\"phi\"] = 2.616673 DDF\n",
    "# pos_df[\"theta\"] = 0.0\n",
    "# pos_df[\"theta\"] = 0.023055 DDF"
   ]
  },
  {
   "cell_type": "markdown",
   "metadata": {},
   "source": [
    "Check the positions are sensible"
   ]
  },
  {
   "cell_type": "code",
   "execution_count": 7,
   "metadata": {
    "collapsed": false
   },
   "outputs": [
    {
     "name": "stdout",
     "output_type": "stream",
     "text": [
      "/Users/berto/Code/LSST_tools/lsst_tools\n"
     ]
    },
    {
     "data": {
      "image/png": "[encoded data removed]",
      "text/plain": [
       "<matplotlib.figure.Figure at 0x105a216d8>"
      ]
     },
     "metadata": {},
     "output_type": "display_data"
    }
   ],
   "source": [
    "#%%timeit ## 1 loop, best of 3: 235 ms per loop\n",
    "utils.plot_position_points(pos_df)"
   ]
  },
  {
   "cell_type": "markdown",
   "metadata": {},
   "source": [
    "We want to find out which field(s) the position is in. Create table that tells us the field centres, and find the edges."
   ]
  },
  {
   "cell_type": "code",
   "execution_count": 46,
   "metadata": {
    "collapsed": false
   },
   "outputs": [],
   "source": [
    "# working_df = utils.get_field_corners(working_df.drop_duplicates(\"fieldID\"))[['fieldRA', 'fieldDec']]\n",
    "allfields_df = utils.get_field_corners(pd.DataFrame(working_df.drop_duplicates(\"fieldID\"))[['fieldID', 'fieldRA', 'fieldDec']])"
   ]
  },
  {
   "cell_type": "code",
   "execution_count": 47,
   "metadata": {
    "collapsed": false
   },
   "outputs": [
    {
     "data": {
      "text/html": [
       "<div>\n",
       "<table border=\"1\" class=\"dataframe\">\n",
       "  <thead>\n",
       "    <tr style=\"text-align: right;\">\n",
       "      <th></th>\n",
       "      <th>fieldID</th>\n",
       "      <th>fieldRA</th>\n",
       "      <th>fieldDec</th>\n",
       "      <th>RA_upper</th>\n",
       "      <th>RA_lower</th>\n",
       "      <th>Dec_upper</th>\n",
       "      <th>Dec_lower</th>\n",
       "    </tr>\n",
       "  </thead>\n",
       "  <tbody>\n",
       "    <tr>\n",
       "      <th>0</th>\n",
       "      <td>316</td>\n",
       "      <td>1.676483</td>\n",
       "      <td>-1.082473</td>\n",
       "      <td>1.707026</td>\n",
       "      <td>1.645940</td>\n",
       "      <td>-1.113016</td>\n",
       "      <td>-1.051930</td>\n",
       "    </tr>\n",
       "    <tr>\n",
       "      <th>1</th>\n",
       "      <td>372</td>\n",
       "      <td>1.694120</td>\n",
       "      <td>-1.033972</td>\n",
       "      <td>1.724663</td>\n",
       "      <td>1.663577</td>\n",
       "      <td>-1.064515</td>\n",
       "      <td>-1.003429</td>\n",
       "    </tr>\n",
       "    <tr>\n",
       "      <th>2</th>\n",
       "      <td>441</td>\n",
       "      <td>1.708513</td>\n",
       "      <td>-0.985271</td>\n",
       "      <td>1.739056</td>\n",
       "      <td>1.677970</td>\n",
       "      <td>-1.015814</td>\n",
       "      <td>-0.954728</td>\n",
       "    </tr>\n",
       "    <tr>\n",
       "      <th>3</th>\n",
       "      <td>505</td>\n",
       "      <td>1.720374</td>\n",
       "      <td>-0.936476</td>\n",
       "      <td>1.750917</td>\n",
       "      <td>1.689831</td>\n",
       "      <td>-0.967019</td>\n",
       "      <td>-0.905933</td>\n",
       "    </tr>\n",
       "    <tr>\n",
       "      <th>4</th>\n",
       "      <td>587</td>\n",
       "      <td>1.730248</td>\n",
       "      <td>-0.887672</td>\n",
       "      <td>1.760791</td>\n",
       "      <td>1.699705</td>\n",
       "      <td>-0.918215</td>\n",
       "      <td>-0.857129</td>\n",
       "    </tr>\n",
       "  </tbody>\n",
       "</table>\n",
       "</div>"
      ],
      "text/plain": [
       "   fieldID   fieldRA  fieldDec  RA_upper  RA_lower  Dec_upper  Dec_lower\n",
       "0      316  1.676483 -1.082473  1.707026  1.645940  -1.113016  -1.051930\n",
       "1      372  1.694120 -1.033972  1.724663  1.663577  -1.064515  -1.003429\n",
       "2      441  1.708513 -0.985271  1.739056  1.677970  -1.015814  -0.954728\n",
       "3      505  1.720374 -0.936476  1.750917  1.689831  -0.967019  -0.905933\n",
       "4      587  1.730248 -0.887672  1.760791  1.699705  -0.918215  -0.857129"
      ]
     },
     "execution_count": 47,
     "metadata": {},
     "output_type": "execute_result"
    }
   ],
   "source": [
    "allfields_df.head()"
   ]
  },
  {
   "cell_type": "code",
   "execution_count": 48,
   "metadata": {
    "collapsed": false
   },
   "outputs": [],
   "source": [
    "field_df = allfields_df[(allfields_df[\"RA_upper\"] >= pos_df[\"theta\"][0] + np.pi) &\n",
    "                (allfields_df[\"RA_lower\"] <= pos_df[\"theta\"][0] + np.pi) &\n",
    "                (allfields_df[\"Dec_lower\"] >= pos_df[\"phi\"][0])  &\n",
    "                (allfields_df[\"Dec_upper\"] <= pos_df[\"phi\"][0])]"
   ]
  },
  {
   "cell_type": "markdown",
   "metadata": {},
   "source": [
    "This narrows down the fields in which our position appears:"
   ]
  },
  {
   "cell_type": "code",
   "execution_count": 49,
   "metadata": {
    "collapsed": false
   },
   "outputs": [
    {
     "data": {
      "text/html": [
       "<div>\n",
       "<table border=\"1\" class=\"dataframe\">\n",
       "  <thead>\n",
       "    <tr style=\"text-align: right;\">\n",
       "      <th></th>\n",
       "      <th>fieldID</th>\n",
       "      <th>fieldRA</th>\n",
       "      <th>fieldDec</th>\n",
       "      <th>RA_upper</th>\n",
       "      <th>RA_lower</th>\n",
       "      <th>Dec_upper</th>\n",
       "      <th>Dec_lower</th>\n",
       "    </tr>\n",
       "  </thead>\n",
       "  <tbody>\n",
       "  </tbody>\n",
       "</table>\n",
       "</div>"
      ],
      "text/plain": [
       "Empty DataFrame\n",
       "Columns: [fieldID, fieldRA, fieldDec, RA_upper, RA_lower, Dec_upper, Dec_lower]\n",
       "Index: []"
      ]
     },
     "execution_count": 49,
     "metadata": {},
     "output_type": "execute_result"
    }
   ],
   "source": [
    "field_df"
   ]
  },
  {
   "cell_type": "markdown",
   "metadata": {
    "collapsed": false
   },
   "source": [
    "### Deep Drilling Fields:\n",
    "___\n",
    "\n",
    "* minion2016: 1427,744,2412,290,2786\n",
    "* astro_lsst_01_1068: 1427,744,2412,290,2786\n",
    "* Fake_Rolling: 290,2786\n"
   ]
  },
  {
   "cell_type": "code",
   "execution_count": 12,
   "metadata": {
    "collapsed": false
   },
   "outputs": [
    {
     "data": {
      "text/html": [
       "<div>\n",
       "<table border=\"1\" class=\"dataframe\">\n",
       "  <thead>\n",
       "    <tr style=\"text-align: right;\">\n",
       "      <th></th>\n",
       "      <th>obsHistID</th>\n",
       "      <th>sessionID</th>\n",
       "      <th>propID</th>\n",
       "      <th>fieldID</th>\n",
       "      <th>fieldRA</th>\n",
       "      <th>fieldDec</th>\n",
       "      <th>filter</th>\n",
       "      <th>expDate</th>\n",
       "      <th>expMJD</th>\n",
       "      <th>night</th>\n",
       "      <th>...</th>\n",
       "      <th>darkBright</th>\n",
       "      <th>rawSeeing</th>\n",
       "      <th>wind</th>\n",
       "      <th>humidity</th>\n",
       "      <th>slewDist</th>\n",
       "      <th>slewTime</th>\n",
       "      <th>fiveSigmaDepth</th>\n",
       "      <th>ditheredRA</th>\n",
       "      <th>ditheredDec</th>\n",
       "      <th>EBV_MW</th>\n",
       "    </tr>\n",
       "  </thead>\n",
       "  <tbody>\n",
       "    <tr>\n",
       "      <th>3</th>\n",
       "      <td>4</td>\n",
       "      <td>1016</td>\n",
       "      <td>54</td>\n",
       "      <td>505</td>\n",
       "      <td>1.720374</td>\n",
       "      <td>-0.936476</td>\n",
       "      <td>y</td>\n",
       "      <td>3038</td>\n",
       "      <td>59580.035169</td>\n",
       "      <td>0</td>\n",
       "      <td>...</td>\n",
       "      <td>104.669398</td>\n",
       "      <td>0.920473</td>\n",
       "      <td>0.0</td>\n",
       "      <td>0.0</td>\n",
       "      <td>0.049266</td>\n",
       "      <td>4.605366</td>\n",
       "      <td>21.032718</td>\n",
       "      <td>1.694604</td>\n",
       "      <td>-0.962927</td>\n",
       "      <td>0.073125</td>\n",
       "    </tr>\n",
       "    <tr>\n",
       "      <th>736</th>\n",
       "      <td>737</td>\n",
       "      <td>1016</td>\n",
       "      <td>54</td>\n",
       "      <td>505</td>\n",
       "      <td>1.720374</td>\n",
       "      <td>-0.936476</td>\n",
       "      <td>z</td>\n",
       "      <td>89952</td>\n",
       "      <td>59581.041121</td>\n",
       "      <td>1</td>\n",
       "      <td>...</td>\n",
       "      <td>102.261170</td>\n",
       "      <td>0.701202</td>\n",
       "      <td>0.0</td>\n",
       "      <td>0.0</td>\n",
       "      <td>0.053899</td>\n",
       "      <td>4.752482</td>\n",
       "      <td>21.760884</td>\n",
       "      <td>1.701047</td>\n",
       "      <td>-0.962927</td>\n",
       "      <td>0.073125</td>\n",
       "    </tr>\n",
       "    <tr>\n",
       "      <th>760</th>\n",
       "      <td>761</td>\n",
       "      <td>1016</td>\n",
       "      <td>54</td>\n",
       "      <td>505</td>\n",
       "      <td>1.720374</td>\n",
       "      <td>-0.936476</td>\n",
       "      <td>z</td>\n",
       "      <td>90898</td>\n",
       "      <td>59581.052066</td>\n",
       "      <td>1</td>\n",
       "      <td>...</td>\n",
       "      <td>99.499712</td>\n",
       "      <td>0.729082</td>\n",
       "      <td>0.0</td>\n",
       "      <td>0.0</td>\n",
       "      <td>0.087567</td>\n",
       "      <td>6.236553</td>\n",
       "      <td>21.759073</td>\n",
       "      <td>1.701047</td>\n",
       "      <td>-0.962927</td>\n",
       "      <td>0.073125</td>\n",
       "    </tr>\n",
       "    <tr>\n",
       "      <th>1482</th>\n",
       "      <td>1483</td>\n",
       "      <td>1016</td>\n",
       "      <td>54</td>\n",
       "      <td>505</td>\n",
       "      <td>1.720374</td>\n",
       "      <td>-0.936476</td>\n",
       "      <td>z</td>\n",
       "      <td>176788</td>\n",
       "      <td>59582.046159</td>\n",
       "      <td>2</td>\n",
       "      <td>...</td>\n",
       "      <td>100.267993</td>\n",
       "      <td>0.826179</td>\n",
       "      <td>0.0</td>\n",
       "      <td>0.0</td>\n",
       "      <td>0.053899</td>\n",
       "      <td>4.727801</td>\n",
       "      <td>21.650976</td>\n",
       "      <td>1.707489</td>\n",
       "      <td>-0.962927</td>\n",
       "      <td>0.073125</td>\n",
       "    </tr>\n",
       "    <tr>\n",
       "      <th>15455</th>\n",
       "      <td>15455</td>\n",
       "      <td>1016</td>\n",
       "      <td>54</td>\n",
       "      <td>505</td>\n",
       "      <td>1.720374</td>\n",
       "      <td>-0.936476</td>\n",
       "      <td>r</td>\n",
       "      <td>1820874</td>\n",
       "      <td>59601.074933</td>\n",
       "      <td>21</td>\n",
       "      <td>...</td>\n",
       "      <td>87.151631</td>\n",
       "      <td>0.741071</td>\n",
       "      <td>0.0</td>\n",
       "      <td>0.0</td>\n",
       "      <td>0.049177</td>\n",
       "      <td>5.204940</td>\n",
       "      <td>23.957933</td>\n",
       "      <td>1.701047</td>\n",
       "      <td>-0.956314</td>\n",
       "      <td>0.073125</td>\n",
       "    </tr>\n",
       "  </tbody>\n",
       "</table>\n",
       "<p>5 rows × 48 columns</p>\n",
       "</div>"
      ],
      "text/plain": [
       "       obsHistID  sessionID  propID  fieldID   fieldRA  fieldDec filter  \\\n",
       "3              4       1016      54      505  1.720374 -0.936476      y   \n",
       "736          737       1016      54      505  1.720374 -0.936476      z   \n",
       "760          761       1016      54      505  1.720374 -0.936476      z   \n",
       "1482        1483       1016      54      505  1.720374 -0.936476      z   \n",
       "15455      15455       1016      54      505  1.720374 -0.936476      r   \n",
       "\n",
       "       expDate        expMJD  night    ...     darkBright  rawSeeing  wind  \\\n",
       "3         3038  59580.035169      0    ...     104.669398   0.920473   0.0   \n",
       "736      89952  59581.041121      1    ...     102.261170   0.701202   0.0   \n",
       "760      90898  59581.052066      1    ...      99.499712   0.729082   0.0   \n",
       "1482    176788  59582.046159      2    ...     100.267993   0.826179   0.0   \n",
       "15455  1820874  59601.074933     21    ...      87.151631   0.741071   0.0   \n",
       "\n",
       "       humidity  slewDist  slewTime  fiveSigmaDepth  ditheredRA  ditheredDec  \\\n",
       "3           0.0  0.049266  4.605366       21.032718    1.694604    -0.962927   \n",
       "736         0.0  0.053899  4.752482       21.760884    1.701047    -0.962927   \n",
       "760         0.0  0.087567  6.236553       21.759073    1.701047    -0.962927   \n",
       "1482        0.0  0.053899  4.727801       21.650976    1.707489    -0.962927   \n",
       "15455       0.0  0.049177  5.204940       23.957933    1.701047    -0.956314   \n",
       "\n",
       "         EBV_MW  \n",
       "3      0.073125  \n",
       "736    0.073125  \n",
       "760    0.073125  \n",
       "1482   0.073125  \n",
       "15455  0.073125  \n",
       "\n",
       "[5 rows x 48 columns]"
      ]
     },
     "execution_count": 12,
     "metadata": {},
     "output_type": "execute_result"
    }
   ],
   "source": [
    "opsimdf.loc[opsimdf[\"fieldID\"] == 505].head() ## WFD"
   ]
  },
  {
   "cell_type": "code",
   "execution_count": 13,
   "metadata": {
    "collapsed": false
   },
   "outputs": [
    {
     "data": {
      "text/html": [
       "<div>\n",
       "<table border=\"1\" class=\"dataframe\">\n",
       "  <thead>\n",
       "    <tr style=\"text-align: right;\">\n",
       "      <th></th>\n",
       "      <th>obsHistID</th>\n",
       "      <th>sessionID</th>\n",
       "      <th>propID</th>\n",
       "      <th>fieldID</th>\n",
       "      <th>fieldRA</th>\n",
       "      <th>fieldDec</th>\n",
       "      <th>filter</th>\n",
       "      <th>expDate</th>\n",
       "      <th>expMJD</th>\n",
       "      <th>night</th>\n",
       "      <th>...</th>\n",
       "      <th>darkBright</th>\n",
       "      <th>rawSeeing</th>\n",
       "      <th>wind</th>\n",
       "      <th>humidity</th>\n",
       "      <th>slewDist</th>\n",
       "      <th>slewTime</th>\n",
       "      <th>fiveSigmaDepth</th>\n",
       "      <th>ditheredRA</th>\n",
       "      <th>ditheredDec</th>\n",
       "      <th>EBV_MW</th>\n",
       "    </tr>\n",
       "  </thead>\n",
       "  <tbody>\n",
       "    <tr>\n",
       "      <th>229</th>\n",
       "      <td>230</td>\n",
       "      <td>1016</td>\n",
       "      <td>56</td>\n",
       "      <td>1427</td>\n",
       "      <td>0.925184</td>\n",
       "      <td>-0.4789</td>\n",
       "      <td>r</td>\n",
       "      <td>12057</td>\n",
       "      <td>59580.139555</td>\n",
       "      <td>0</td>\n",
       "      <td>...</td>\n",
       "      <td>84.646287</td>\n",
       "      <td>0.866285</td>\n",
       "      <td>0.0</td>\n",
       "      <td>0.0</td>\n",
       "      <td>0.755889</td>\n",
       "      <td>140.0</td>\n",
       "      <td>24.070428</td>\n",
       "      <td>0.907976</td>\n",
       "      <td>-0.505351</td>\n",
       "      <td>0.007715</td>\n",
       "    </tr>\n",
       "    <tr>\n",
       "      <th>230</th>\n",
       "      <td>231</td>\n",
       "      <td>1016</td>\n",
       "      <td>56</td>\n",
       "      <td>1427</td>\n",
       "      <td>0.925184</td>\n",
       "      <td>-0.4789</td>\n",
       "      <td>r</td>\n",
       "      <td>12093</td>\n",
       "      <td>59580.139972</td>\n",
       "      <td>0</td>\n",
       "      <td>...</td>\n",
       "      <td>84.969264</td>\n",
       "      <td>0.791241</td>\n",
       "      <td>0.0</td>\n",
       "      <td>0.0</td>\n",
       "      <td>0.000000</td>\n",
       "      <td>2.0</td>\n",
       "      <td>24.143180</td>\n",
       "      <td>0.907976</td>\n",
       "      <td>-0.505351</td>\n",
       "      <td>0.007715</td>\n",
       "    </tr>\n",
       "    <tr>\n",
       "      <th>231</th>\n",
       "      <td>232</td>\n",
       "      <td>1016</td>\n",
       "      <td>56</td>\n",
       "      <td>1427</td>\n",
       "      <td>0.925184</td>\n",
       "      <td>-0.4789</td>\n",
       "      <td>r</td>\n",
       "      <td>12129</td>\n",
       "      <td>59580.140389</td>\n",
       "      <td>0</td>\n",
       "      <td>...</td>\n",
       "      <td>85.037385</td>\n",
       "      <td>0.791241</td>\n",
       "      <td>0.0</td>\n",
       "      <td>0.0</td>\n",
       "      <td>0.000000</td>\n",
       "      <td>2.0</td>\n",
       "      <td>24.141983</td>\n",
       "      <td>0.907976</td>\n",
       "      <td>-0.505351</td>\n",
       "      <td>0.007715</td>\n",
       "    </tr>\n",
       "    <tr>\n",
       "      <th>232</th>\n",
       "      <td>233</td>\n",
       "      <td>1016</td>\n",
       "      <td>56</td>\n",
       "      <td>1427</td>\n",
       "      <td>0.925184</td>\n",
       "      <td>-0.4789</td>\n",
       "      <td>r</td>\n",
       "      <td>12165</td>\n",
       "      <td>59580.140805</td>\n",
       "      <td>0</td>\n",
       "      <td>...</td>\n",
       "      <td>85.105955</td>\n",
       "      <td>0.859965</td>\n",
       "      <td>0.0</td>\n",
       "      <td>0.0</td>\n",
       "      <td>0.000000</td>\n",
       "      <td>2.0</td>\n",
       "      <td>24.068792</td>\n",
       "      <td>0.907976</td>\n",
       "      <td>-0.505351</td>\n",
       "      <td>0.007715</td>\n",
       "    </tr>\n",
       "    <tr>\n",
       "      <th>233</th>\n",
       "      <td>234</td>\n",
       "      <td>1016</td>\n",
       "      <td>56</td>\n",
       "      <td>1427</td>\n",
       "      <td>0.925184</td>\n",
       "      <td>-0.4789</td>\n",
       "      <td>r</td>\n",
       "      <td>12201</td>\n",
       "      <td>59580.141222</td>\n",
       "      <td>0</td>\n",
       "      <td>...</td>\n",
       "      <td>85.174974</td>\n",
       "      <td>0.859965</td>\n",
       "      <td>0.0</td>\n",
       "      <td>0.0</td>\n",
       "      <td>0.000000</td>\n",
       "      <td>2.0</td>\n",
       "      <td>24.067582</td>\n",
       "      <td>0.907976</td>\n",
       "      <td>-0.505351</td>\n",
       "      <td>0.007715</td>\n",
       "    </tr>\n",
       "  </tbody>\n",
       "</table>\n",
       "<p>5 rows × 48 columns</p>\n",
       "</div>"
      ],
      "text/plain": [
       "     obsHistID  sessionID  propID  fieldID   fieldRA  fieldDec filter  \\\n",
       "229        230       1016      56     1427  0.925184   -0.4789      r   \n",
       "230        231       1016      56     1427  0.925184   -0.4789      r   \n",
       "231        232       1016      56     1427  0.925184   -0.4789      r   \n",
       "232        233       1016      56     1427  0.925184   -0.4789      r   \n",
       "233        234       1016      56     1427  0.925184   -0.4789      r   \n",
       "\n",
       "     expDate        expMJD  night    ...     darkBright  rawSeeing  wind  \\\n",
       "229    12057  59580.139555      0    ...      84.646287   0.866285   0.0   \n",
       "230    12093  59580.139972      0    ...      84.969264   0.791241   0.0   \n",
       "231    12129  59580.140389      0    ...      85.037385   0.791241   0.0   \n",
       "232    12165  59580.140805      0    ...      85.105955   0.859965   0.0   \n",
       "233    12201  59580.141222      0    ...      85.174974   0.859965   0.0   \n",
       "\n",
       "     humidity  slewDist  slewTime  fiveSigmaDepth  ditheredRA  ditheredDec  \\\n",
       "229       0.0  0.755889     140.0       24.070428    0.907976    -0.505351   \n",
       "230       0.0  0.000000       2.0       24.143180    0.907976    -0.505351   \n",
       "231       0.0  0.000000       2.0       24.141983    0.907976    -0.505351   \n",
       "232       0.0  0.000000       2.0       24.068792    0.907976    -0.505351   \n",
       "233       0.0  0.000000       2.0       24.067582    0.907976    -0.505351   \n",
       "\n",
       "       EBV_MW  \n",
       "229  0.007715  \n",
       "230  0.007715  \n",
       "231  0.007715  \n",
       "232  0.007715  \n",
       "233  0.007715  \n",
       "\n",
       "[5 rows x 48 columns]"
      ]
     },
     "execution_count": 13,
     "metadata": {},
     "output_type": "execute_result"
    }
   ],
   "source": [
    "opsimdf.loc[opsimdf[\"fieldID\"] == 1427].head() ## DDF"
   ]
  },
  {
   "cell_type": "markdown",
   "metadata": {},
   "source": []
  },
  {
   "cell_type": "code",
   "execution_count": null,
   "metadata": {
    "collapsed": false
   },
   "outputs": [],
   "source": []
  },
  {
   "cell_type": "code",
   "execution_count": 14,
   "metadata": {
    "collapsed": false
   },
   "outputs": [],
   "source": [
    "# reload(pccsims)"
   ]
  },
  {
   "cell_type": "markdown",
   "metadata": {},
   "source": [
    "## Extinction"
   ]
  },
  {
   "cell_type": "markdown",
   "metadata": {},
   "source": [
    "Get the Milky Way extinction along the line of site towards the SNe. The working_df contains the EBV_MW at the field centre, but we can do better than that, by using the position of the SN itself."
   ]
  },
  {
   "cell_type": "code",
   "execution_count": 15,
   "metadata": {
    "collapsed": false
   },
   "outputs": [
    {
     "data": {
      "text/plain": [
       "array([ 0.04527743,  0.04593042,  0.08043004, ...,  0.05865358,\n",
       "        0.06319557,  0.05767386])"
      ]
     },
     "execution_count": 15,
     "metadata": {},
     "output_type": "execute_result"
    }
   ],
   "source": [
    "working_df[\"EBV_MW\"][working_df[\"fieldID\"].isin(working_df[\"fieldID\"].values)].values"
   ]
  },
  {
   "cell_type": "code",
   "execution_count": 16,
   "metadata": {
    "collapsed": false
   },
   "outputs": [
    {
     "data": {
      "text/html": [
       "<div>\n",
       "<table border=\"1\" class=\"dataframe\">\n",
       "  <thead>\n",
       "    <tr style=\"text-align: right;\">\n",
       "      <th></th>\n",
       "      <th>phi</th>\n",
       "      <th>theta</th>\n",
       "      <th>RA</th>\n",
       "      <th>Dec</th>\n",
       "    </tr>\n",
       "  </thead>\n",
       "  <tbody>\n",
       "    <tr>\n",
       "      <th>0</th>\n",
       "      <td>0.064899</td>\n",
       "      <td>0.611528</td>\n",
       "      <td>3.753121</td>\n",
       "      <td>0.064899</td>\n",
       "    </tr>\n",
       "  </tbody>\n",
       "</table>\n",
       "</div>"
      ],
      "text/plain": [
       "        phi     theta        RA       Dec\n",
       "0  0.064899  0.611528  3.753121  0.064899"
      ]
     },
     "execution_count": 16,
     "metadata": {},
     "output_type": "execute_result"
    }
   ],
   "source": [
    "pos_df"
   ]
  },
  {
   "cell_type": "code",
   "execution_count": 17,
   "metadata": {
    "collapsed": false
   },
   "outputs": [
    {
     "name": "stdout",
     "output_type": "stream",
     "text": [
      "0.0356292696034\n"
     ]
    }
   ],
   "source": [
    "# %%timeit ## 1 loop, best of 3: 88.6 ms per loop\n",
    "pos_df = utils.find_MW_extinction(pos_df) \n",
    "\n",
    "extinction = pos_df[\"EBV_MW\"].values[0]\n",
    "print(extinction)"
   ]
  },
  {
   "cell_type": "code",
   "execution_count": 18,
   "metadata": {
    "collapsed": false
   },
   "outputs": [],
   "source": [
    "# filter_path = \"/Users/berto/Code/CoCo/data/filters\"\n",
    "filter_path = pcc._default_filter_dir_path\n",
    "# coco_root_path = \"/Users/berto/Code/CoCo\"\n",
    "coco_root_path = pcc._default_coco_dir_path \n",
    "\n",
    "coco = pccsims.pyCoCo(utils.b(filter_path), utils.b(coco_root_path))"
   ]
  },
  {
   "cell_type": "markdown",
   "metadata": {},
   "source": [
    "inputs:\n",
    "\n",
    "* **`snname`**\n",
    "* **`redshift`**\n",
    "* **`absmag offset`**\n",
    "* **`EBV MW`**\n",
    "* **`EBV Host`**\n",
    "* **`Rv`**\n",
    "* **`MJD at Peak`**\n",
    "\n",
    "* **`MJD to simulate`**\n",
    "* **`filters to simulate`**"
   ]
  },
  {
   "cell_type": "code",
   "execution_count": 52,
   "metadata": {
    "collapsed": false
   },
   "outputs": [],
   "source": [
    "z_obs = 0.007\n",
    "# z_obs = 0.1\n",
    "# z_obs = 0.2\n",
    "# host_EBV = 0.2\n",
    "host_EBV = 0.0\n",
    "# MW_EBV = extinction\n",
    "MW_EBV = 0.0\n",
    "# mjdmax = 60307.314753999999\n",
    "# mjdmax = 59580 + 1.* 365. ## DDF 2786\n",
    "# mjdmax = 59580 + 1.5* 365. ## WFD 550\n",
    "mjdmax = 59580 + 1.3* 365. ## WFD 2297\n",
    "\n",
    "field_df = pd.DataFrame({\"fieldID\" : [2786]})"
   ]
  },
  {
   "cell_type": "code",
   "execution_count": 53,
   "metadata": {
    "collapsed": false
   },
   "outputs": [],
   "source": [
    "mjd_to_sim = working_df[\"expMJD\"][working_df[\"fieldID\"].isin(field_df[\"fieldID\"].values)].values\n",
    "limiting_mags = working_df[\"fiveSigmaDepth\"][working_df[\"fieldID\"].isin(field_df[\"fieldID\"].values)].values\n",
    "\n",
    "filters_to_sim = working_df[\"filter\"][working_df[\"fieldID\"].isin(field_df[\"fieldID\"].values)].values\n",
    "filters_to_sim = np.array([utils.b('LSST_'+x) for x in filters_to_sim])"
   ]
  },
  {
   "cell_type": "code",
   "execution_count": 54,
   "metadata": {
    "collapsed": false
   },
   "outputs": [
    {
     "name": "stdout",
     "output_type": "stream",
     "text": [
      "60054.5\n",
      "[ 59582.171539  59582.324188  59582.324605 ...,  63004.982844  63004.983261\n",
      "  63004.983678]\n",
      "[b'LSST_z' b'LSST_u' b'LSST_u' ..., b'LSST_u' b'LSST_u' b'LSST_u']\n"
     ]
    }
   ],
   "source": [
    "# mjd_to_sim = np.array([90.0, 91.0, 92.0, 93.0, 94.0, 95.0, 96.0, 97.0, 98.0, 99.0, 100.0, 105.0, 110.0, 115.0, 120.0])\n",
    "# filters_to_sim = np.array([b'SDSS_r', b'SDSS_r', b'SDSS_r', b'SDSS_r', b'SDSS_r', b'SDSS_r', b'SDSS_r', b'SDSS_r', b'SDSS_r', b'SDSS_r', b'SDSS_r', b'SDSS_r', b'SDSS_r', b'SDSS_r', b'SDSS_r'])\n",
    "# mjd_to_sim = \n",
    "# filters_to_sim = \n",
    "\n",
    "print(mjdmax)\n",
    "print(mjd_to_sim)\n",
    "print(filters_to_sim)"
   ]
  },
  {
   "cell_type": "code",
   "execution_count": 55,
   "metadata": {
    "collapsed": false
   },
   "outputs": [],
   "source": [
    "# plt.scatter(mjd_to_sim, np.ones(len(mjd_to_sim)))\n",
    "# plt.scatter([mjdmax], [1])"
   ]
  },
  {
   "cell_type": "code",
   "execution_count": 56,
   "metadata": {
    "collapsed": false
   },
   "outputs": [],
   "source": [
    "# filters_to_sim = np.array([i.replace(utils.b(\"LSST\"), utils.b(\"SDSS\")) for i in filters_to_sim])"
   ]
  },
  {
   "cell_type": "code",
   "execution_count": 57,
   "metadata": {
    "collapsed": false
   },
   "outputs": [],
   "source": [
    "# flux, flux_err = coco.simulate(b\"SN2007uy\", \n",
    "#                     z_obs, 0.0, MW_EBV, host_EBV, 3.1, \n",
    "#                     mjdmax, mjd_to_sim, \n",
    "#                     filters_to_sim)\n",
    "snname = b\"SN2007uy\"\n",
    "# snname = b\"SN2009jf\"\n",
    "flux, flux_err = coco.simulate(snname, \n",
    "                    z_obs, 0.0, MW_EBV, host_EBV, 3.1, \n",
    "                    mjdmax, mjd_to_sim, \n",
    "                    filters_to_sim)\n",
    "# flux, flux_err = coco.simulate(b\"SN2009jf\", \n",
    "#                     z_obs, 0.0, 0.1, 0.1, 3.1, \n",
    "#                     mjdmax, mjd_to_sim, \n",
    "#                     filters_to_sim)"
   ]
  },
  {
   "cell_type": "code",
   "execution_count": 58,
   "metadata": {
    "collapsed": false
   },
   "outputs": [
    {
     "data": {
      "text/plain": [
       "(array([             nan,   3.54488649e-31,   3.54500796e-31, ...,\n",
       "          0.00000000e+00,   0.00000000e+00,   0.00000000e+00]),\n",
       " array([ 0.,  0.,  0., ...,  0.,  0.,  0.]))"
      ]
     },
     "execution_count": 58,
     "metadata": {},
     "output_type": "execute_result"
    }
   ],
   "source": [
    "flux, flux_err"
   ]
  },
  {
   "cell_type": "code",
   "execution_count": 59,
   "metadata": {
    "collapsed": false
   },
   "outputs": [
    {
     "name": "stdout",
     "output_type": "stream",
     "text": [
      "1.92062674778e-15\n"
     ]
    }
   ],
   "source": [
    "print(np.nanmax(flux))"
   ]
  },
  {
   "cell_type": "code",
   "execution_count": 27,
   "metadata": {
    "collapsed": false
   },
   "outputs": [
    {
     "data": {
      "text/plain": [
       "<module 'pycoco.classes' from '/Users/berto/Code/verbose-enigma/pycoco/classes.py'>"
      ]
     },
     "execution_count": 27,
     "metadata": {},
     "output_type": "execute_result"
    }
   ],
   "source": [
    "# reload(pcc.classes)"
   ]
  },
  {
   "cell_type": "code",
   "execution_count": 60,
   "metadata": {
    "collapsed": false
   },
   "outputs": [
    {
     "name": "stderr",
     "output_type": "stream",
     "text": [
      "/Users/berto/anaconda3/lib/python3.6/site-packages/ipykernel/__main__.py:3: RuntimeWarning: invalid value encountered in greater\n",
      "  app.launch_new_instance()\n"
     ]
    }
   ],
   "source": [
    "p = pcc.PhotometryClass()\n",
    "phot_table = pcc.utils.simulate_out_to_ap_table(mjd_to_sim, flux, flux_err, filters_to_sim)\n",
    "phot_table = phot_table[np.where(phot_table[\"flux\"] > 1e-20)]\n",
    "p.load_table(phot_table)"
   ]
  },
  {
   "cell_type": "code",
   "execution_count": 65,
   "metadata": {
    "collapsed": false
   },
   "outputs": [
    {
     "data": {
      "image/png": "[encoded data removed]",
      "text/plain": [
       "<matplotlib.figure.Figure at 0x117cee7b8>"
      ]
     },
     "metadata": {},
     "output_type": "display_data"
    }
   ],
   "source": [
    "p.plot([\"LSST_g\", \"LSST_r\"], xlim = [60000, 60100])"
   ]
  },
  {
   "cell_type": "code",
   "execution_count": 69,
   "metadata": {
    "collapsed": false
   },
   "outputs": [
    {
     "name": "stdout",
     "output_type": "stream",
     "text": [
      "has data\n",
      "/Users/berto/projects/LSST/cadence/LSST_DDF_2786_cadence.dat\n",
      "Writing /Users/berto/projects/LSST/cadence/LSST_DDF_2786_cadence.dat\n"
     ]
    }
   ],
   "source": [
    "p.save(filename = \"LSST_DDF_2786_cadence.dat\", path = \"/Users/berto/projects/LSST/cadence/\")"
   ]
  },
  {
   "cell_type": "code",
   "execution_count": null,
   "metadata": {
    "collapsed": true
   },
   "outputs": [],
   "source": [
    "t = pcc.utils.simulate_out_to_ap_table(mjd_to_sim, flux, flux_err, filters_to_sim)"
   ]
  },
  {
   "cell_type": "code",
   "execution_count": null,
   "metadata": {
    "collapsed": false
   },
   "outputs": [],
   "source": [
    "t[np.logical_and(t[\"filter\"] != \"SDSS_y\", t[\"filter\"]!= \"SDSS_z\")]"
   ]
  },
  {
   "cell_type": "code",
   "execution_count": null,
   "metadata": {
    "collapsed": false
   },
   "outputs": [],
   "source": [
    "p = pcc.PhotometryClass()\n",
    "pt = pcc.utils.simulate_out_to_ap_table(mjd_to_sim, flux, flux_err, filters_to_sim)\n",
    "pt_lim_m = pt\n",
    "pt_lim_m[\"fivesigmadepth\"] = limiting_mags"
   ]
  },
  {
   "cell_type": "code",
   "execution_count": null,
   "metadata": {
    "collapsed": false
   },
   "outputs": [],
   "source": [
    "pt = pt_lim_m[np.where(pt_lim_m[\"flux\"] > 1e-22)]"
   ]
  },
  {
   "cell_type": "code",
   "execution_count": null,
   "metadata": {
    "collapsed": false
   },
   "outputs": [],
   "source": [
    "pt"
   ]
  },
  {
   "cell_type": "code",
   "execution_count": null,
   "metadata": {
    "collapsed": false,
    "scrolled": true
   },
   "outputs": [],
   "source": [
    "days_before = 40\n",
    "days_after = 100\n",
    "print(mjdmax)\n",
    "w = np.where(np.logical_and(pt[\"MJD\"] > mjdmax - days_before, pt[\"MJD\"] < mjdmax + days_after))\n",
    "print(w)\n",
    "pt[w]"
   ]
  },
  {
   "cell_type": "code",
   "execution_count": null,
   "metadata": {
    "collapsed": false
   },
   "outputs": [],
   "source": [
    "print(snname)\n",
    "print(chosenfield)\n",
    "print(z_obs)\n",
    "print(extinction)\n",
    "print(opsimdbpath)\n",
    "print(mjdmax)"
   ]
  },
  {
   "cell_type": "code",
   "execution_count": null,
   "metadata": {
    "collapsed": false
   },
   "outputs": [],
   "source": [
    "reload(pcc)\n",
    "reload(pcc.classes)\n",
    "# reload(pcc.utils)"
   ]
  },
  {
   "cell_type": "code",
   "execution_count": null,
   "metadata": {
    "collapsed": true
   },
   "outputs": [],
   "source": []
  },
  {
   "cell_type": "code",
   "execution_count": null,
   "metadata": {
    "collapsed": false
   },
   "outputs": [],
   "source": [
    "p.load_table(pt[w], verbose= True)\n",
    "\n",
    "p.plot()"
   ]
  },
  {
   "cell_type": "code",
   "execution_count": null,
   "metadata": {
    "collapsed": false
   },
   "outputs": [],
   "source": [
    "p.unpack(verbose = True)"
   ]
  },
  {
   "cell_type": "code",
   "execution_count": null,
   "metadata": {
    "collapsed": true
   },
   "outputs": [],
   "source": [
    "phot_table = p.phot.loc[\"filter\", \"LSST_u\"]"
   ]
  },
  {
   "cell_type": "code",
   "execution_count": null,
   "metadata": {
    "collapsed": false
   },
   "outputs": [],
   "source": [
    "phot_table"
   ]
  },
  {
   "cell_type": "code",
   "execution_count": null,
   "metadata": {
    "collapsed": false
   },
   "outputs": [],
   "source": [
    "phot_table.meta[\"filter_filename\"] = \"foo\""
   ]
  },
  {
   "cell_type": "code",
   "execution_count": null,
   "metadata": {
    "collapsed": false
   },
   "outputs": [],
   "source": [
    "pt[w]"
   ]
  },
  {
   "cell_type": "code",
   "execution_count": null,
   "metadata": {
    "collapsed": false
   },
   "outputs": [],
   "source": [
    "# filter_file_type = '.dat'\n",
    "# filter_names = np.unique(pt[w][\"filter\"])\n",
    "# print(filter_names)\n",
    "# pt.add_index('filter', unique = True)\n",
    "# for filter_name in filter_names:\n",
    "# #     phot_table = self.phot.loc[\"filter\", filter_name]\n",
    "#     filter_filename = filter_name + filter_file_type\n",
    "#     print(filter_filename)"
   ]
  },
  {
   "cell_type": "code",
   "execution_count": null,
   "metadata": {
    "collapsed": false
   },
   "outputs": [],
   "source": [
    "# reload(pcc)\n",
    "# phot = pcc.PhotometryClass()\n",
    "# infile = \"/Users/berto/projects/LSST/cadence/lightcurves/SNSim_0002_minion_1016_SN2007uy_z=02_EBVMW=0029_EBVHOST=01_fieldID=2297WFD.dat\"\n",
    "# phot.load(path = infile, names = (\"MJD\", \"flux\", \"flux_err\", \"filter\", \"fivesigmadepth\"), verbose = True)\n",
    "# # phot.load_phot_from_file(path = infile, format = \"ascii.commented_header\")\n",
    "\n",
    "# phot.unpack(verbose = True)"
   ]
  },
  {
   "cell_type": "code",
   "execution_count": null,
   "metadata": {
    "collapsed": false
   },
   "outputs": [],
   "source": [
    "# phot.data"
   ]
  },
  {
   "cell_type": "code",
   "execution_count": null,
   "metadata": {
    "collapsed": false
   },
   "outputs": [],
   "source": [
    "# phot_table = Table.read(infile, names = (\"MJD\", \"flux\", \"flux_err\", \"filter\", \"fivesigmadepth\"), format = \"ascii\")"
   ]
  },
  {
   "cell_type": "code",
   "execution_count": null,
   "metadata": {
    "collapsed": false
   },
   "outputs": [],
   "source": [
    "# phot_table.meta[\"filename\"] = infile\n",
    "\n",
    "# phot_table[\"MJD\"].unit = u.day\n",
    "# phot_table[\"flux\"].unit = u.cgs.erg / u.si.angstrom / u.si.cm ** 2 / u.si.s\n",
    "# phot_table[\"flux_err\"].unit =  phot_table[\"flux\"].unit"
   ]
  },
  {
   "cell_type": "code",
   "execution_count": null,
   "metadata": {
    "collapsed": false
   },
   "outputs": [],
   "source": [
    "# reload(pcc)\n",
    "# p = pcc.PhotometryClass()\n",
    "# p.load_table(phot_table, verbose = True)"
   ]
  },
  {
   "cell_type": "code",
   "execution_count": null,
   "metadata": {
    "collapsed": true
   },
   "outputs": [],
   "source": []
  }
 ],
 "metadata": {
  "kernelspec": {
   "display_name": "Python 3",
   "language": "python",
   "name": "python3"
  },
  "language_info": {
   "codemirror_mode": {
    "name": "ipython",
    "version": 3
   },
   "file_extension": ".py",
   "mimetype": "text/x-python",
   "name": "python",
   "nbconvert_exporter": "python",
   "pygments_lexer": "ipython3",
   "version": "3.6.0"
  }
 },
 "nbformat": 4,
 "nbformat_minor": 2
}
