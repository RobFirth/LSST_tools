{
 "cells": [
  {
   "cell_type": "markdown",
   "metadata": {},
   "source": [
    "# Get a LSST Simulated Cadence for Arbitrary Sky Position\n",
    "___\n",
    "\n",
    "\n",
    "___"
   ]
  },
  {
   "cell_type": "code",
   "execution_count": null,
   "metadata": {
    "collapsed": false
   },
   "outputs": [],
   "source": [
    "\"\"\"\n",
    "\n",
    "\"\"\"\n",
    "%matplotlib inline\n",
    "# %matplotlib notebook\n",
    "\n",
    "from __future__ import print_function\n",
    "\n",
    "try:\n",
    "    from importlib import reload\n",
    "except:\n",
    "    pass\n",
    "\n",
    "\n",
    "from matplotlib import pyplot as plt\n",
    "import matplotlib.colors as mpl_colors \n",
    "\n",
    "import os\n",
    "import sys\n",
    "import warnings\n",
    "\n",
    "import numpy as np\n",
    "import pandas as pd\n",
    "import astropy as ap\n",
    "import sfdmap\n",
    "\n",
    "import sqlite3\n",
    "from sqlalchemy import create_engine\n",
    "\n",
    "from astropy import units as u\n",
    "from astropy.coordinates import SkyCoord\n",
    "from astropy.table import Table\n",
    "\n",
    "import lsst_tools.utils as utils \n",
    "import lsst_tools.utils.colours as colours \n",
    "\n",
    "import pyCoCo as pccsims\n",
    "import pycoco as pcc"
   ]
  },
  {
   "cell_type": "markdown",
   "metadata": {
    "collapsed": true
   },
   "source": [
    "Connect to .db file that contains the opsim output, read into a dataframe, `opsimdf`"
   ]
  },
  {
   "cell_type": "code",
   "execution_count": null,
   "metadata": {
    "collapsed": false
   },
   "outputs": [],
   "source": [
    "# %%timeit ## 1 loop, best of 3: 1min 31s per loop \n",
    "opsimdbpath = os.environ.get('OPSIMDBPATH')\n",
    "print(opsimdbpath)\n",
    "# opsimdbpath = \"/Users/berto/data/LSST/OpSimOutputDBs/astro_lsst_01_1068_sqlite.db\"\n",
    "opsimdbpath = \"/Users/berto/data/LSST/OpSimOutputDBs/minion_1016_sqlite.db\"\n",
    "\n",
    "conn = create_engine('sqlite:///'+opsimdbpath, echo = False)\n",
    "opsimdf = pd.read_sql_table('Summary', con=conn)"
   ]
  },
  {
   "cell_type": "markdown",
   "metadata": {},
   "source": [
    "Check that the db looks as we expect"
   ]
  },
  {
   "cell_type": "code",
   "execution_count": null,
   "metadata": {
    "collapsed": false
   },
   "outputs": [],
   "source": [
    "opsimdf.head()"
   ]
  },
  {
   "cell_type": "markdown",
   "metadata": {},
   "source": [
    "Connecting to `.db` takes ages (~1min), and is a pain if you mess up, so create a 'working' instance to fiddle with"
   ]
  },
  {
   "cell_type": "code",
   "execution_count": null,
   "metadata": {
    "collapsed": false
   },
   "outputs": [],
   "source": [
    "working_df = opsimdf"
   ]
  },
  {
   "cell_type": "code",
   "execution_count": null,
   "metadata": {
    "collapsed": true
   },
   "outputs": [],
   "source": [
    "working_df = utils.find_MW_extinction(working_df)"
   ]
  },
  {
   "cell_type": "markdown",
   "metadata": {
    "collapsed": false
   },
   "source": [
    "## Choosing Position and Identifying Fields\n",
    "___\n",
    "\n",
    "Use **`lsst_tools.utils.generate_coordinates()`** to give us a position \n"
   ]
  },
  {
   "cell_type": "code",
   "execution_count": null,
   "metadata": {
    "collapsed": false
   },
   "outputs": [],
   "source": [
    "#%%timeit ## The slowest run took 39.04 times longer than the fastest. This could mean that an intermediate result is being cached.\n",
    "#         ## 1000 loops, best of 3: 246 µs per loop\n",
    "n = 1\n",
    "pos_df = utils.generate_coordinates(n)\n",
    "print(pos_df)\n",
    "# pos_df[\"phi\"] = -0.122\n",
    "# pos_df[\"theta\"] = 0.0"
   ]
  },
  {
   "cell_type": "markdown",
   "metadata": {},
   "source": [
    "Check the positions are sensible"
   ]
  },
  {
   "cell_type": "code",
   "execution_count": null,
   "metadata": {
    "collapsed": false
   },
   "outputs": [],
   "source": [
    "#%%timeit ## 1 loop, best of 3: 235 ms per loop\n",
    "utils.plot_position_points(pos_df)"
   ]
  },
  {
   "cell_type": "markdown",
   "metadata": {},
   "source": [
    "We want to find out which field(s) the position is in. Create table that tells us the field centres, and find the edges."
   ]
  },
  {
   "cell_type": "code",
   "execution_count": null,
   "metadata": {
    "collapsed": false
   },
   "outputs": [],
   "source": [
    "# working_df = utils.get_field_corners(working_df.drop_duplicates(\"fieldID\"))[['fieldRA', 'fieldDec']]\n",
    "allfields_df = utils.get_field_corners(pd.DataFrame(working_df.drop_duplicates(\"fieldID\"))[['fieldID', 'fieldRA', 'fieldDec']])"
   ]
  },
  {
   "cell_type": "code",
   "execution_count": null,
   "metadata": {
    "collapsed": false
   },
   "outputs": [],
   "source": [
    "allfields_df.head()"
   ]
  },
  {
   "cell_type": "code",
   "execution_count": null,
   "metadata": {
    "collapsed": false
   },
   "outputs": [],
   "source": [
    "field_df = allfields_df[(allfields_df[\"RA_upper\"] >= pos_df[\"theta\"][0] + np.pi) &\n",
    "                (allfields_df[\"RA_lower\"] <= pos_df[\"theta\"][0] + np.pi) &\n",
    "                (allfields_df[\"Dec_lower\"] >= pos_df[\"phi\"][0])  &\n",
    "                (allfields_df[\"Dec_upper\"] <= pos_df[\"phi\"][0])]"
   ]
  },
  {
   "cell_type": "markdown",
   "metadata": {},
   "source": [
    "This narrows down the fields in which our position appears:"
   ]
  },
  {
   "cell_type": "code",
   "execution_count": null,
   "metadata": {
    "collapsed": false
   },
   "outputs": [],
   "source": [
    "field_df"
   ]
  },
  {
   "cell_type": "markdown",
   "metadata": {
    "collapsed": false
   },
   "source": [
    "### Deep Drilling Fields:\n",
    "___\n",
    "\n",
    "* minion2016: 1427,744,2412,290,2786\n",
    "* astro_lsst_01_1068: 1427,744,2412,290,2786\n",
    "* Fake_Rolling: 290,2786\n"
   ]
  },
  {
   "cell_type": "code",
   "execution_count": null,
   "metadata": {
    "collapsed": false
   },
   "outputs": [],
   "source": [
    "opsimdf.loc[opsimdf[\"fieldID\"] == 505].head() ## WFD"
   ]
  },
  {
   "cell_type": "code",
   "execution_count": null,
   "metadata": {
    "collapsed": false
   },
   "outputs": [],
   "source": [
    "opsimdf.loc[opsimdf[\"fieldID\"] == 1427].head() ## DDF"
   ]
  },
  {
   "cell_type": "markdown",
   "metadata": {},
   "source": []
  },
  {
   "cell_type": "code",
   "execution_count": null,
   "metadata": {
    "collapsed": false
   },
   "outputs": [],
   "source": []
  },
  {
   "cell_type": "code",
   "execution_count": null,
   "metadata": {
    "collapsed": false
   },
   "outputs": [],
   "source": []
  },
  {
   "cell_type": "markdown",
   "metadata": {},
   "source": [
    "## Extinction"
   ]
  },
  {
   "cell_type": "markdown",
   "metadata": {},
   "source": [
    "Get the Milky Way extinction along the line of site towards the SNe. The working_df contains the EBV_MW at the field centre, but we can do better than that, by using the position of the SN itself."
   ]
  },
  {
   "cell_type": "code",
   "execution_count": null,
   "metadata": {
    "collapsed": false
   },
   "outputs": [],
   "source": [
    "working_df[\"EBV_MW\"][working_df[\"fieldID\"].isin(working_df[\"fieldID\"].values)].values"
   ]
  },
  {
   "cell_type": "code",
   "execution_count": null,
   "metadata": {
    "collapsed": false
   },
   "outputs": [],
   "source": [
    "pos_df"
   ]
  },
  {
   "cell_type": "code",
   "execution_count": null,
   "metadata": {
    "collapsed": false
   },
   "outputs": [],
   "source": [
    "# %%timeit ## 1 loop, best of 3: 88.6 ms per loop\n",
    "pos_df = utils.find_MW_extinction(pos_df) \n",
    "\n",
    "extinction = pos_df[\"EBV_MW\"].values[0]\n",
    "print(extinction)"
   ]
  },
  {
   "cell_type": "code",
   "execution_count": null,
   "metadata": {
    "collapsed": false
   },
   "outputs": [],
   "source": [
    "# filter_path = \"/Users/berto/Code/CoCo/data/filters\"\n",
    "filter_path = pcc._default_filter_dir_path\n",
    "# coco_root_path = \"/Users/berto/Code/CoCo\"\n",
    "coco_root_path = pcc._default_coco_dir_path \n",
    "\n",
    "coco = pccsims.pyCoCo(utils.b(filter_path), utils.b(coco_root_path))"
   ]
  },
  {
   "cell_type": "markdown",
   "metadata": {},
   "source": [
    "inputs:\n",
    "\n",
    "* **`snname`**\n",
    "* **`redshift`**\n",
    "* **`absmag offset`**\n",
    "* **`EBV MW`**\n",
    "* **`EBV Host`**\n",
    "* **`Rv`**\n",
    "* **`MJD at Peak`**\n",
    "\n",
    "* **`MJD to simulate`**\n",
    "* **`filters to simulate`**"
   ]
  },
  {
   "cell_type": "code",
   "execution_count": null,
   "metadata": {
    "collapsed": true
   },
   "outputs": [],
   "source": [
    "z_obs = 0.007\n",
    "# z_obs = 0.1\n",
    "# z_obs = 0.2\n",
    "host_EBV = 0.2\n",
    "MW_EBV = extinction\n",
    "# mjdmax = 60307.314753999999\n",
    "# mjdmax = 59580 + 1.* 365. ## DDF 2786\n",
    "# mjdmax = 59580 + 1.5* 365. ## WFD 550\n",
    "mjdmax = 59580 + 1.3* 365. ## WFD 2297"
   ]
  },
  {
   "cell_type": "code",
   "execution_count": null,
   "metadata": {
    "collapsed": false
   },
   "outputs": [],
   "source": [
    "mjd_to_sim = working_df[\"expMJD\"][working_df[\"fieldID\"].isin(field_df[\"fieldID\"].values)].values\n",
    "limiting_mags = working_df[\"fiveSigmaDepth\"][working_df[\"fieldID\"].isin(field_df[\"fieldID\"].values)].values\n",
    "\n",
    "filters_to_sim = working_df[\"filter\"][working_df[\"fieldID\"].isin(field_df[\"fieldID\"].values)].values\n",
    "filters_to_sim = np.array([utils.b('LSST_'+x) for x in filters_to_sim])"
   ]
  },
  {
   "cell_type": "code",
   "execution_count": null,
   "metadata": {
    "collapsed": false
   },
   "outputs": [],
   "source": [
    "# mjd_to_sim = np.array([90.0, 91.0, 92.0, 93.0, 94.0, 95.0, 96.0, 97.0, 98.0, 99.0, 100.0, 105.0, 110.0, 115.0, 120.0])\n",
    "# filters_to_sim = np.array([b'SDSS_r', b'SDSS_r', b'SDSS_r', b'SDSS_r', b'SDSS_r', b'SDSS_r', b'SDSS_r', b'SDSS_r', b'SDSS_r', b'SDSS_r', b'SDSS_r', b'SDSS_r', b'SDSS_r', b'SDSS_r', b'SDSS_r'])\n",
    "# mjd_to_sim = \n",
    "# filters_to_sim = \n",
    "\n",
    "print(mjdmax)\n",
    "print(mjd_to_sim)\n",
    "print(filters_to_sim)"
   ]
  },
  {
   "cell_type": "code",
   "execution_count": null,
   "metadata": {
    "collapsed": false
   },
   "outputs": [],
   "source": [
    "# plt.scatter(mjd_to_sim, np.ones(len(mjd_to_sim)))\n",
    "# plt.scatter([mjdmax], [1])"
   ]
  },
  {
   "cell_type": "code",
   "execution_count": null,
   "metadata": {
    "collapsed": false
   },
   "outputs": [],
   "source": [
    "# filters_to_sim = np.array([i.replace(utils.b(\"LSST\"), utils.b(\"SDSS\")) for i in filters_to_sim])"
   ]
  },
  {
   "cell_type": "code",
   "execution_count": null,
   "metadata": {
    "collapsed": false
   },
   "outputs": [],
   "source": [
    "# flux, flux_err = coco.simulate(b\"SN2007uy\", \n",
    "#                     z_obs, 0.0, MW_EBV, host_EBV, 3.1, \n",
    "#                     mjdmax, mjd_to_sim, \n",
    "#                     filters_to_sim)\n",
    "snname = b\"SN2007uy\"\n",
    "# snname = b\"SN2009jf\"\n",
    "flux, flux_err = coco.simulate(snname, \n",
    "                    z_obs, 0.0, MW_EBV, host_EBV, 3.1, \n",
    "                    mjdmax, mjd_to_sim, \n",
    "                    filters_to_sim)\n",
    "# flux, flux_err = coco.simulate(b\"SN2009jf\", \n",
    "#                     z_obs, 0.0, 0.1, 0.1, 3.1, \n",
    "#                     mjdmax, mjd_to_sim, \n",
    "#                     filters_to_sim)"
   ]
  },
  {
   "cell_type": "code",
   "execution_count": null,
   "metadata": {
    "collapsed": false
   },
   "outputs": [],
   "source": [
    "flux, flux_err"
   ]
  },
  {
   "cell_type": "code",
   "execution_count": null,
   "metadata": {
    "collapsed": false
   },
   "outputs": [],
   "source": [
    "print(np.nanmax(flux))"
   ]
  },
  {
   "cell_type": "code",
   "execution_count": null,
   "metadata": {
    "collapsed": false
   },
   "outputs": [],
   "source": [
    "reload(pcc.classes)"
   ]
  },
  {
   "cell_type": "code",
   "execution_count": null,
   "metadata": {
    "collapsed": false
   },
   "outputs": [],
   "source": [
    "p = pcc.PhotometryClass()\n",
    "phot_table = pcc.utils.simulate_out_to_ap_table(mjd_to_sim, flux, flux_err, filters_to_sim)\n",
    "phot_table = phot_table[np.where(phot_table[\"flux\"] > 1e-20)]\n",
    "p.load_table(phot_table)"
   ]
  },
  {
   "cell_type": "code",
   "execution_count": null,
   "metadata": {
    "collapsed": false
   },
   "outputs": [],
   "source": [
    "p.plot(xlim = [59950, 60100])"
   ]
  },
  {
   "cell_type": "code",
   "execution_count": null,
   "metadata": {
    "collapsed": false
   },
   "outputs": [],
   "source": [
    "p.data"
   ]
  },
  {
   "cell_type": "code",
   "execution_count": null,
   "metadata": {
    "collapsed": true
   },
   "outputs": [],
   "source": [
    "t = pcc.utils.simulate_out_to_ap_table(mjd_to_sim, flux, flux_err, filters_to_sim)"
   ]
  },
  {
   "cell_type": "code",
   "execution_count": null,
   "metadata": {
    "collapsed": false
   },
   "outputs": [],
   "source": [
    "t[np.logical_and(t[\"filter\"] != \"SDSS_y\", t[\"filter\"]!= \"SDSS_z\")]"
   ]
  },
  {
   "cell_type": "code",
   "execution_count": null,
   "metadata": {
    "collapsed": false
   },
   "outputs": [],
   "source": [
    "p = pcc.PhotometryClass()\n",
    "pt = pcc.utils.simulate_out_to_ap_table(mjd_to_sim, flux, flux_err, filters_to_sim)\n",
    "pt_lim_m = pt\n",
    "pt_lim_m[\"fivesigmadepth\"] = limiting_mags"
   ]
  },
  {
   "cell_type": "code",
   "execution_count": null,
   "metadata": {
    "collapsed": false
   },
   "outputs": [],
   "source": [
    "pt = pt_lim_m[np.where(pt_lim_m[\"flux\"] > 1e-22)]"
   ]
  },
  {
   "cell_type": "code",
   "execution_count": null,
   "metadata": {
    "collapsed": false
   },
   "outputs": [],
   "source": [
    "pt"
   ]
  },
  {
   "cell_type": "code",
   "execution_count": null,
   "metadata": {
    "collapsed": false,
    "scrolled": true
   },
   "outputs": [],
   "source": [
    "days_before = 40\n",
    "days_after = 100\n",
    "print(mjdmax)\n",
    "w = np.where(np.logical_and(pt[\"MJD\"] > mjdmax - days_before, pt[\"MJD\"] < mjdmax + days_after))\n",
    "print(w)\n",
    "pt[w]"
   ]
  },
  {
   "cell_type": "code",
   "execution_count": null,
   "metadata": {
    "collapsed": false
   },
   "outputs": [],
   "source": [
    "print(snname)\n",
    "print(chosenfield)\n",
    "print(z_obs)\n",
    "print(extinction)\n",
    "print(opsimdbpath)\n",
    "print(mjdmax)"
   ]
  },
  {
   "cell_type": "code",
   "execution_count": null,
   "metadata": {
    "collapsed": false
   },
   "outputs": [],
   "source": [
    "reload(pcc)\n",
    "reload(pcc.classes)\n",
    "# reload(pcc.utils)"
   ]
  },
  {
   "cell_type": "code",
   "execution_count": null,
   "metadata": {
    "collapsed": true
   },
   "outputs": [],
   "source": []
  },
  {
   "cell_type": "code",
   "execution_count": null,
   "metadata": {
    "collapsed": false
   },
   "outputs": [],
   "source": [
    "p.load_table(pt[w], verbose= True)\n",
    "\n",
    "\n",
    "p.plot()"
   ]
  },
  {
   "cell_type": "code",
   "execution_count": null,
   "metadata": {
    "collapsed": false
   },
   "outputs": [],
   "source": [
    "p.unpack(verbose = True)"
   ]
  },
  {
   "cell_type": "code",
   "execution_count": null,
   "metadata": {
    "collapsed": true
   },
   "outputs": [],
   "source": [
    "phot_table = p.phot.loc[\"filter\", \"LSST_u\"]"
   ]
  },
  {
   "cell_type": "code",
   "execution_count": null,
   "metadata": {
    "collapsed": false
   },
   "outputs": [],
   "source": [
    "phot_table"
   ]
  },
  {
   "cell_type": "code",
   "execution_count": null,
   "metadata": {
    "collapsed": false
   },
   "outputs": [],
   "source": [
    "phot_table.meta[\"filter_filename\"] = \"foo\""
   ]
  },
  {
   "cell_type": "code",
   "execution_count": null,
   "metadata": {
    "collapsed": false
   },
   "outputs": [],
   "source": [
    "pt[w]"
   ]
  },
  {
   "cell_type": "code",
   "execution_count": null,
   "metadata": {
    "collapsed": false
   },
   "outputs": [],
   "source": [
    "# filter_file_type = '.dat'\n",
    "# filter_names = np.unique(pt[w][\"filter\"])\n",
    "# print(filter_names)\n",
    "# pt.add_index('filter', unique = True)\n",
    "# for filter_name in filter_names:\n",
    "# #     phot_table = self.phot.loc[\"filter\", filter_name]\n",
    "#     filter_filename = filter_name + filter_file_type\n",
    "#     print(filter_filename)"
   ]
  },
  {
   "cell_type": "code",
   "execution_count": null,
   "metadata": {
    "collapsed": false
   },
   "outputs": [],
   "source": [
    "# reload(pcc)\n",
    "# phot = pcc.PhotometryClass()\n",
    "# infile = \"/Users/berto/projects/LSST/cadence/lightcurves/SNSim_0002_minion_1016_SN2007uy_z=02_EBVMW=0029_EBVHOST=01_fieldID=2297WFD.dat\"\n",
    "# phot.load(path = infile, names = (\"MJD\", \"flux\", \"flux_err\", \"filter\", \"fivesigmadepth\"), verbose = True)\n",
    "# # phot.load_phot_from_file(path = infile, format = \"ascii.commented_header\")\n",
    "\n",
    "# phot.unpack(verbose = True)"
   ]
  },
  {
   "cell_type": "code",
   "execution_count": null,
   "metadata": {
    "collapsed": false
   },
   "outputs": [],
   "source": [
    "# phot.data"
   ]
  },
  {
   "cell_type": "code",
   "execution_count": null,
   "metadata": {
    "collapsed": false
   },
   "outputs": [],
   "source": [
    "# phot_table = Table.read(infile, names = (\"MJD\", \"flux\", \"flux_err\", \"filter\", \"fivesigmadepth\"), format = \"ascii\")"
   ]
  },
  {
   "cell_type": "code",
   "execution_count": null,
   "metadata": {
    "collapsed": false
   },
   "outputs": [],
   "source": [
    "# phot_table.meta[\"filename\"] = infile\n",
    "\n",
    "# phot_table[\"MJD\"].unit = u.day\n",
    "# phot_table[\"flux\"].unit = u.cgs.erg / u.si.angstrom / u.si.cm ** 2 / u.si.s\n",
    "# phot_table[\"flux_err\"].unit =  phot_table[\"flux\"].unit"
   ]
  },
  {
   "cell_type": "code",
   "execution_count": null,
   "metadata": {
    "collapsed": false
   },
   "outputs": [],
   "source": [
    "# reload(pcc)\n",
    "# p = pcc.PhotometryClass()\n",
    "# p.load_table(phot_table, verbose = True)"
   ]
  },
  {
   "cell_type": "code",
   "execution_count": null,
   "metadata": {
    "collapsed": true
   },
   "outputs": [],
   "source": []
  }
 ],
 "metadata": {
  "kernelspec": {
   "display_name": "Python 3",
   "language": "python",
   "name": "python3"
  },
  "language_info": {
   "codemirror_mode": {
    "name": "ipython",
    "version": 3
   },
   "file_extension": ".py",
   "mimetype": "text/x-python",
   "name": "python",
   "nbconvert_exporter": "python",
   "pygments_lexer": "ipython3",
   "version": "3.6.0"
  }
 },
 "nbformat": 4,
 "nbformat_minor": 2
}
