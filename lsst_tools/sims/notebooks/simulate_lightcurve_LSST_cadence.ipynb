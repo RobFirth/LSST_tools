{
 "cells": [
  {
   "cell_type": "markdown",
   "metadata": {},
   "source": [
    "# Get a LSST Simulated Cadence for Arbitrary Sky Position\n",
    "___\n",
    "\n",
    "\n",
    "___"
   ]
  },
  {
   "cell_type": "code",
   "execution_count": 1,
   "metadata": {
    "collapsed": false
   },
   "outputs": [],
   "source": [
    "\"\"\"\n",
    "\n",
    "\"\"\"\n",
    "%matplotlib inline\n",
    "# %matplotlib notebook\n",
    "\n",
    "from __future__ import print_function\n",
    "\n",
    "try:\n",
    "    from importlib import reload\n",
    "except:\n",
    "    pass\n",
    "\n",
    "\n",
    "from matplotlib import pyplot as plt\n",
    "import matplotlib.colors as mpl_colors \n",
    "\n",
    "import os\n",
    "import sys\n",
    "import warnings\n",
    "\n",
    "import numpy as np\n",
    "import pandas as pd\n",
    "import astropy as ap\n",
    "import sfdmap\n",
    "\n",
    "import sqlite3\n",
    "from sqlalchemy import create_engine\n",
    "\n",
    "from astropy import units as u\n",
    "from astropy.coordinates import SkyCoord\n",
    "from astropy.table import Table\n",
    "\n",
    "import lsst_tools.utils as utils \n",
    "import lsst_tools.utils.colours as colours \n",
    "\n",
    "import pyCoCo as pccsims\n",
    "import pycoco as pcc"
   ]
  },
  {
   "cell_type": "markdown",
   "metadata": {
    "collapsed": true
   },
   "source": [
    "Connect to .db file that contains the opsim output, read into a dataframe, `opsimdf`"
   ]
  },
  {
   "cell_type": "code",
   "execution_count": 2,
   "metadata": {
    "collapsed": false
   },
   "outputs": [
    {
     "name": "stdout",
     "output_type": "stream",
     "text": [
      "/Users/berto/data/LSST/OpSimOutputDBs/Pitt16/minion_1016_sqlite.db\n"
     ]
    }
   ],
   "source": [
    "# %%timeit ## 1 loop, best of 3: 1min 31s per loop \n",
    "opsimdbpath = os.environ.get('OPSIMDBPATH')\n",
    "print(opsimdbpath)\n",
    "# opsimdbpath = \"/Users/berto/data/LSST/OpSimOutputDBs/astro_lsst_01_1068_sqlite.db\"\n",
    "opsimdbpath = \"/Users/berto/data/LSST/OpSimOutputDBs/minion_1016_sqlite.db\"\n",
    "\n",
    "conn = create_engine('sqlite:///'+opsimdbpath, echo = False)\n",
    "opsimdf = pd.read_sql_table('Summary', con=conn)"
   ]
  },
  {
   "cell_type": "markdown",
   "metadata": {},
   "source": [
    "Check that the db looks as we expect"
   ]
  },
  {
   "cell_type": "code",
   "execution_count": 3,
   "metadata": {
    "collapsed": false
   },
   "outputs": [
    {
     "data": {
      "text/html": [
       "<div>\n",
       "<table border=\"1\" class=\"dataframe\">\n",
       "  <thead>\n",
       "    <tr style=\"text-align: right;\">\n",
       "      <th></th>\n",
       "      <th>obsHistID</th>\n",
       "      <th>sessionID</th>\n",
       "      <th>propID</th>\n",
       "      <th>fieldID</th>\n",
       "      <th>fieldRA</th>\n",
       "      <th>fieldDec</th>\n",
       "      <th>filter</th>\n",
       "      <th>expDate</th>\n",
       "      <th>expMJD</th>\n",
       "      <th>night</th>\n",
       "      <th>...</th>\n",
       "      <th>moonBright</th>\n",
       "      <th>darkBright</th>\n",
       "      <th>rawSeeing</th>\n",
       "      <th>wind</th>\n",
       "      <th>humidity</th>\n",
       "      <th>slewDist</th>\n",
       "      <th>slewTime</th>\n",
       "      <th>fiveSigmaDepth</th>\n",
       "      <th>ditheredRA</th>\n",
       "      <th>ditheredDec</th>\n",
       "    </tr>\n",
       "  </thead>\n",
       "  <tbody>\n",
       "    <tr>\n",
       "      <th>0</th>\n",
       "      <td>1</td>\n",
       "      <td>1016</td>\n",
       "      <td>54</td>\n",
       "      <td>316</td>\n",
       "      <td>1.676483</td>\n",
       "      <td>-1.082473</td>\n",
       "      <td>y</td>\n",
       "      <td>2922</td>\n",
       "      <td>59580.033829</td>\n",
       "      <td>0</td>\n",
       "      <td>...</td>\n",
       "      <td>0.0</td>\n",
       "      <td>105.610378</td>\n",
       "      <td>0.920473</td>\n",
       "      <td>0.0</td>\n",
       "      <td>0.0</td>\n",
       "      <td>1.620307</td>\n",
       "      <td>0.000000</td>\n",
       "      <td>21.021236</td>\n",
       "      <td>1.643930</td>\n",
       "      <td>-1.108924</td>\n",
       "    </tr>\n",
       "    <tr>\n",
       "      <th>1</th>\n",
       "      <td>2</td>\n",
       "      <td>1016</td>\n",
       "      <td>54</td>\n",
       "      <td>372</td>\n",
       "      <td>1.694120</td>\n",
       "      <td>-1.033972</td>\n",
       "      <td>y</td>\n",
       "      <td>2961</td>\n",
       "      <td>59580.034275</td>\n",
       "      <td>0</td>\n",
       "      <td>...</td>\n",
       "      <td>0.0</td>\n",
       "      <td>105.167017</td>\n",
       "      <td>0.920473</td>\n",
       "      <td>0.0</td>\n",
       "      <td>0.0</td>\n",
       "      <td>0.049266</td>\n",
       "      <td>4.574944</td>\n",
       "      <td>21.026646</td>\n",
       "      <td>1.664257</td>\n",
       "      <td>-1.060423</td>\n",
       "    </tr>\n",
       "    <tr>\n",
       "      <th>2</th>\n",
       "      <td>3</td>\n",
       "      <td>1016</td>\n",
       "      <td>54</td>\n",
       "      <td>441</td>\n",
       "      <td>1.708513</td>\n",
       "      <td>-0.985271</td>\n",
       "      <td>y</td>\n",
       "      <td>2999</td>\n",
       "      <td>59580.034722</td>\n",
       "      <td>0</td>\n",
       "      <td>...</td>\n",
       "      <td>0.0</td>\n",
       "      <td>104.849578</td>\n",
       "      <td>0.920473</td>\n",
       "      <td>0.0</td>\n",
       "      <td>0.0</td>\n",
       "      <td>0.049298</td>\n",
       "      <td>4.595615</td>\n",
       "      <td>21.030520</td>\n",
       "      <td>1.680878</td>\n",
       "      <td>-1.011722</td>\n",
       "    </tr>\n",
       "    <tr>\n",
       "      <th>3</th>\n",
       "      <td>4</td>\n",
       "      <td>1016</td>\n",
       "      <td>54</td>\n",
       "      <td>505</td>\n",
       "      <td>1.720374</td>\n",
       "      <td>-0.936476</td>\n",
       "      <td>y</td>\n",
       "      <td>3038</td>\n",
       "      <td>59580.035169</td>\n",
       "      <td>0</td>\n",
       "      <td>...</td>\n",
       "      <td>0.0</td>\n",
       "      <td>104.669398</td>\n",
       "      <td>0.920473</td>\n",
       "      <td>0.0</td>\n",
       "      <td>0.0</td>\n",
       "      <td>0.049266</td>\n",
       "      <td>4.605366</td>\n",
       "      <td>21.032718</td>\n",
       "      <td>1.694604</td>\n",
       "      <td>-0.962927</td>\n",
       "    </tr>\n",
       "    <tr>\n",
       "      <th>4</th>\n",
       "      <td>5</td>\n",
       "      <td>1016</td>\n",
       "      <td>54</td>\n",
       "      <td>587</td>\n",
       "      <td>1.730248</td>\n",
       "      <td>-0.887672</td>\n",
       "      <td>y</td>\n",
       "      <td>3077</td>\n",
       "      <td>59580.035616</td>\n",
       "      <td>0</td>\n",
       "      <td>...</td>\n",
       "      <td>0.0</td>\n",
       "      <td>104.627207</td>\n",
       "      <td>0.920473</td>\n",
       "      <td>0.0</td>\n",
       "      <td>0.0</td>\n",
       "      <td>0.049177</td>\n",
       "      <td>4.604023</td>\n",
       "      <td>21.033233</td>\n",
       "      <td>1.706054</td>\n",
       "      <td>-0.914123</td>\n",
       "    </tr>\n",
       "  </tbody>\n",
       "</table>\n",
       "<p>5 rows × 47 columns</p>\n",
       "</div>"
      ],
      "text/plain": [
       "   obsHistID  sessionID  propID  fieldID   fieldRA  fieldDec filter  expDate  \\\n",
       "0          1       1016      54      316  1.676483 -1.082473      y     2922   \n",
       "1          2       1016      54      372  1.694120 -1.033972      y     2961   \n",
       "2          3       1016      54      441  1.708513 -0.985271      y     2999   \n",
       "3          4       1016      54      505  1.720374 -0.936476      y     3038   \n",
       "4          5       1016      54      587  1.730248 -0.887672      y     3077   \n",
       "\n",
       "         expMJD  night     ...       moonBright  darkBright  rawSeeing  wind  \\\n",
       "0  59580.033829      0     ...              0.0  105.610378   0.920473   0.0   \n",
       "1  59580.034275      0     ...              0.0  105.167017   0.920473   0.0   \n",
       "2  59580.034722      0     ...              0.0  104.849578   0.920473   0.0   \n",
       "3  59580.035169      0     ...              0.0  104.669398   0.920473   0.0   \n",
       "4  59580.035616      0     ...              0.0  104.627207   0.920473   0.0   \n",
       "\n",
       "   humidity  slewDist  slewTime  fiveSigmaDepth  ditheredRA  ditheredDec  \n",
       "0       0.0  1.620307  0.000000       21.021236    1.643930    -1.108924  \n",
       "1       0.0  0.049266  4.574944       21.026646    1.664257    -1.060423  \n",
       "2       0.0  0.049298  4.595615       21.030520    1.680878    -1.011722  \n",
       "3       0.0  0.049266  4.605366       21.032718    1.694604    -0.962927  \n",
       "4       0.0  0.049177  4.604023       21.033233    1.706054    -0.914123  \n",
       "\n",
       "[5 rows x 47 columns]"
      ]
     },
     "execution_count": 3,
     "metadata": {},
     "output_type": "execute_result"
    }
   ],
   "source": [
    "opsimdf.head()"
   ]
  },
  {
   "cell_type": "markdown",
   "metadata": {},
   "source": [
    "Connecting to `.db` takes ages (~1min), and is a pain if you mess up, so create a 'working' instance to fiddle with"
   ]
  },
  {
   "cell_type": "code",
   "execution_count": 4,
   "metadata": {
    "collapsed": false
   },
   "outputs": [],
   "source": [
    "working_df = opsimdf"
   ]
  },
  {
   "cell_type": "code",
   "execution_count": 5,
   "metadata": {
    "collapsed": true
   },
   "outputs": [],
   "source": [
    "working_df = utils.find_MW_extinction(working_df)"
   ]
  },
  {
   "cell_type": "markdown",
   "metadata": {
    "collapsed": false
   },
   "source": [
    "## Choosing Position and Identifying Fields\n",
    "___\n",
    "\n",
    "Use **`lsst_tools.utils.generate_coordinates()`** to give us a position \n"
   ]
  },
  {
   "cell_type": "code",
   "execution_count": 6,
   "metadata": {
    "collapsed": false
   },
   "outputs": [
    {
     "name": "stdout",
     "output_type": "stream",
     "text": [
      "        phi     theta\n",
      "0  0.039116  2.330231\n"
     ]
    }
   ],
   "source": [
    "#%%timeit ## The slowest run took 39.04 times longer than the fastest. This could mean that an intermediate result is being cached.\n",
    "#         ## 1000 loops, best of 3: 246 µs per loop\n",
    "n = 1\n",
    "pos_df = utils.generate_coordinates(n)\n",
    "print(pos_df)\n",
    "# pos_df[\"phi\"] = -0.122\n",
    "# pos_df[\"theta\"] = 0.0"
   ]
  },
  {
   "cell_type": "markdown",
   "metadata": {},
   "source": [
    "Check the positions are sensible"
   ]
  },
  {
   "cell_type": "code",
   "execution_count": 7,
   "metadata": {
    "collapsed": false
   },
   "outputs": [
    {
     "data": {
      "image/png": "[encoded data removed]",
      "text/plain": [
       "<matplotlib.figure.Figure at 0x11dbafa90>"
      ]
     },
     "metadata": {},
     "output_type": "display_data"
    }
   ],
   "source": [
    "#%%timeit ## 1 loop, best of 3: 235 ms per loop\n",
    "utils.plot_position_points(pos_df)"
   ]
  },
  {
   "cell_type": "markdown",
   "metadata": {},
   "source": [
    "We want to find out which field(s) the position is in. Create table that tells us the field centres, and find the edges."
   ]
  },
  {
   "cell_type": "code",
   "execution_count": 8,
   "metadata": {
    "collapsed": false
   },
   "outputs": [],
   "source": [
    "# working_df = utils.get_field_corners(working_df.drop_duplicates(\"fieldID\"))[['fieldRA', 'fieldDec']]\n",
    "allfields_df = utils.get_field_corners(pd.DataFrame(working_df.drop_duplicates(\"fieldID\"))[['fieldID', 'fieldRA', 'fieldDec']])"
   ]
  },
  {
   "cell_type": "code",
   "execution_count": 9,
   "metadata": {
    "collapsed": false
   },
   "outputs": [
    {
     "data": {
      "text/html": [
       "<div>\n",
       "<table border=\"1\" class=\"dataframe\">\n",
       "  <thead>\n",
       "    <tr style=\"text-align: right;\">\n",
       "      <th></th>\n",
       "      <th>fieldID</th>\n",
       "      <th>fieldRA</th>\n",
       "      <th>fieldDec</th>\n",
       "      <th>RA_upper</th>\n",
       "      <th>RA_lower</th>\n",
       "      <th>Dec_upper</th>\n",
       "      <th>Dec_lower</th>\n",
       "    </tr>\n",
       "  </thead>\n",
       "  <tbody>\n",
       "    <tr>\n",
       "      <th>0</th>\n",
       "      <td>316</td>\n",
       "      <td>1.676483</td>\n",
       "      <td>-1.082473</td>\n",
       "      <td>1.707026</td>\n",
       "      <td>1.645940</td>\n",
       "      <td>-1.113016</td>\n",
       "      <td>-1.051930</td>\n",
       "    </tr>\n",
       "    <tr>\n",
       "      <th>1</th>\n",
       "      <td>372</td>\n",
       "      <td>1.694120</td>\n",
       "      <td>-1.033972</td>\n",
       "      <td>1.724663</td>\n",
       "      <td>1.663577</td>\n",
       "      <td>-1.064515</td>\n",
       "      <td>-1.003429</td>\n",
       "    </tr>\n",
       "    <tr>\n",
       "      <th>2</th>\n",
       "      <td>441</td>\n",
       "      <td>1.708513</td>\n",
       "      <td>-0.985271</td>\n",
       "      <td>1.739056</td>\n",
       "      <td>1.677970</td>\n",
       "      <td>-1.015814</td>\n",
       "      <td>-0.954728</td>\n",
       "    </tr>\n",
       "    <tr>\n",
       "      <th>3</th>\n",
       "      <td>505</td>\n",
       "      <td>1.720374</td>\n",
       "      <td>-0.936476</td>\n",
       "      <td>1.750917</td>\n",
       "      <td>1.689831</td>\n",
       "      <td>-0.967019</td>\n",
       "      <td>-0.905933</td>\n",
       "    </tr>\n",
       "    <tr>\n",
       "      <th>4</th>\n",
       "      <td>587</td>\n",
       "      <td>1.730248</td>\n",
       "      <td>-0.887672</td>\n",
       "      <td>1.760791</td>\n",
       "      <td>1.699705</td>\n",
       "      <td>-0.918215</td>\n",
       "      <td>-0.857129</td>\n",
       "    </tr>\n",
       "  </tbody>\n",
       "</table>\n",
       "</div>"
      ],
      "text/plain": [
       "   fieldID   fieldRA  fieldDec  RA_upper  RA_lower  Dec_upper  Dec_lower\n",
       "0      316  1.676483 -1.082473  1.707026  1.645940  -1.113016  -1.051930\n",
       "1      372  1.694120 -1.033972  1.724663  1.663577  -1.064515  -1.003429\n",
       "2      441  1.708513 -0.985271  1.739056  1.677970  -1.015814  -0.954728\n",
       "3      505  1.720374 -0.936476  1.750917  1.689831  -0.967019  -0.905933\n",
       "4      587  1.730248 -0.887672  1.760791  1.699705  -0.918215  -0.857129"
      ]
     },
     "execution_count": 9,
     "metadata": {},
     "output_type": "execute_result"
    }
   ],
   "source": [
    "allfields_df.head()"
   ]
  },
  {
   "cell_type": "code",
   "execution_count": 10,
   "metadata": {
    "collapsed": false
   },
   "outputs": [],
   "source": [
    "field_df = allfields_df[(allfields_df[\"RA_upper\"] >= pos_df[\"theta\"][0] + np.pi) &\n",
    "                (allfields_df[\"RA_lower\"] <= pos_df[\"theta\"][0] + np.pi) &\n",
    "                (allfields_df[\"Dec_lower\"] >= pos_df[\"phi\"][0])  &\n",
    "                (allfields_df[\"Dec_upper\"] <= pos_df[\"phi\"][0])]"
   ]
  },
  {
   "cell_type": "markdown",
   "metadata": {},
   "source": [
    "This narrows down the fields in which our position appears:"
   ]
  },
  {
   "cell_type": "code",
   "execution_count": 11,
   "metadata": {
    "collapsed": false
   },
   "outputs": [
    {
     "data": {
      "text/html": [
       "<div>\n",
       "<table border=\"1\" class=\"dataframe\">\n",
       "  <thead>\n",
       "    <tr style=\"text-align: right;\">\n",
       "      <th></th>\n",
       "      <th>fieldID</th>\n",
       "      <th>fieldRA</th>\n",
       "      <th>fieldDec</th>\n",
       "      <th>RA_upper</th>\n",
       "      <th>RA_lower</th>\n",
       "      <th>Dec_upper</th>\n",
       "      <th>Dec_lower</th>\n",
       "    </tr>\n",
       "  </thead>\n",
       "  <tbody>\n",
       "    <tr>\n",
       "      <th>114505</th>\n",
       "      <td>2735</td>\n",
       "      <td>5.490756</td>\n",
       "      <td>0.03409</td>\n",
       "      <td>5.521299</td>\n",
       "      <td>5.460213</td>\n",
       "      <td>0.003547</td>\n",
       "      <td>0.064633</td>\n",
       "    </tr>\n",
       "  </tbody>\n",
       "</table>\n",
       "</div>"
      ],
      "text/plain": [
       "        fieldID   fieldRA  fieldDec  RA_upper  RA_lower  Dec_upper  Dec_lower\n",
       "114505     2735  5.490756   0.03409  5.521299  5.460213   0.003547   0.064633"
      ]
     },
     "execution_count": 11,
     "metadata": {},
     "output_type": "execute_result"
    }
   ],
   "source": [
    "field_df"
   ]
  },
  {
   "cell_type": "markdown",
   "metadata": {
    "collapsed": false
   },
   "source": [
    "### Deep Drilling Fields:\n",
    "___\n",
    "\n",
    "* minion2016: 1427,744,2412,290,2786\n",
    "* astro_lsst_01_1068: 1427,744,2412,290,2786\n",
    "* Fake_Rolling: 290,2786\n"
   ]
  },
  {
   "cell_type": "code",
   "execution_count": 12,
   "metadata": {
    "collapsed": false
   },
   "outputs": [
    {
     "data": {
      "text/html": [
       "<div>\n",
       "<table border=\"1\" class=\"dataframe\">\n",
       "  <thead>\n",
       "    <tr style=\"text-align: right;\">\n",
       "      <th></th>\n",
       "      <th>obsHistID</th>\n",
       "      <th>sessionID</th>\n",
       "      <th>propID</th>\n",
       "      <th>fieldID</th>\n",
       "      <th>fieldRA</th>\n",
       "      <th>fieldDec</th>\n",
       "      <th>filter</th>\n",
       "      <th>expDate</th>\n",
       "      <th>expMJD</th>\n",
       "      <th>night</th>\n",
       "      <th>...</th>\n",
       "      <th>darkBright</th>\n",
       "      <th>rawSeeing</th>\n",
       "      <th>wind</th>\n",
       "      <th>humidity</th>\n",
       "      <th>slewDist</th>\n",
       "      <th>slewTime</th>\n",
       "      <th>fiveSigmaDepth</th>\n",
       "      <th>ditheredRA</th>\n",
       "      <th>ditheredDec</th>\n",
       "      <th>EBV_MW</th>\n",
       "    </tr>\n",
       "  </thead>\n",
       "  <tbody>\n",
       "    <tr>\n",
       "      <th>3</th>\n",
       "      <td>4</td>\n",
       "      <td>1016</td>\n",
       "      <td>54</td>\n",
       "      <td>505</td>\n",
       "      <td>1.720374</td>\n",
       "      <td>-0.936476</td>\n",
       "      <td>y</td>\n",
       "      <td>3038</td>\n",
       "      <td>59580.035169</td>\n",
       "      <td>0</td>\n",
       "      <td>...</td>\n",
       "      <td>104.669398</td>\n",
       "      <td>0.920473</td>\n",
       "      <td>0.0</td>\n",
       "      <td>0.0</td>\n",
       "      <td>0.049266</td>\n",
       "      <td>4.605366</td>\n",
       "      <td>21.032718</td>\n",
       "      <td>1.694604</td>\n",
       "      <td>-0.962927</td>\n",
       "      <td>0.073125</td>\n",
       "    </tr>\n",
       "    <tr>\n",
       "      <th>736</th>\n",
       "      <td>737</td>\n",
       "      <td>1016</td>\n",
       "      <td>54</td>\n",
       "      <td>505</td>\n",
       "      <td>1.720374</td>\n",
       "      <td>-0.936476</td>\n",
       "      <td>z</td>\n",
       "      <td>89952</td>\n",
       "      <td>59581.041121</td>\n",
       "      <td>1</td>\n",
       "      <td>...</td>\n",
       "      <td>102.261170</td>\n",
       "      <td>0.701202</td>\n",
       "      <td>0.0</td>\n",
       "      <td>0.0</td>\n",
       "      <td>0.053899</td>\n",
       "      <td>4.752482</td>\n",
       "      <td>21.760884</td>\n",
       "      <td>1.701047</td>\n",
       "      <td>-0.962927</td>\n",
       "      <td>0.073125</td>\n",
       "    </tr>\n",
       "    <tr>\n",
       "      <th>760</th>\n",
       "      <td>761</td>\n",
       "      <td>1016</td>\n",
       "      <td>54</td>\n",
       "      <td>505</td>\n",
       "      <td>1.720374</td>\n",
       "      <td>-0.936476</td>\n",
       "      <td>z</td>\n",
       "      <td>90898</td>\n",
       "      <td>59581.052066</td>\n",
       "      <td>1</td>\n",
       "      <td>...</td>\n",
       "      <td>99.499712</td>\n",
       "      <td>0.729082</td>\n",
       "      <td>0.0</td>\n",
       "      <td>0.0</td>\n",
       "      <td>0.087567</td>\n",
       "      <td>6.236553</td>\n",
       "      <td>21.759073</td>\n",
       "      <td>1.701047</td>\n",
       "      <td>-0.962927</td>\n",
       "      <td>0.073125</td>\n",
       "    </tr>\n",
       "    <tr>\n",
       "      <th>1482</th>\n",
       "      <td>1483</td>\n",
       "      <td>1016</td>\n",
       "      <td>54</td>\n",
       "      <td>505</td>\n",
       "      <td>1.720374</td>\n",
       "      <td>-0.936476</td>\n",
       "      <td>z</td>\n",
       "      <td>176788</td>\n",
       "      <td>59582.046159</td>\n",
       "      <td>2</td>\n",
       "      <td>...</td>\n",
       "      <td>100.267993</td>\n",
       "      <td>0.826179</td>\n",
       "      <td>0.0</td>\n",
       "      <td>0.0</td>\n",
       "      <td>0.053899</td>\n",
       "      <td>4.727801</td>\n",
       "      <td>21.650976</td>\n",
       "      <td>1.707489</td>\n",
       "      <td>-0.962927</td>\n",
       "      <td>0.073125</td>\n",
       "    </tr>\n",
       "    <tr>\n",
       "      <th>15455</th>\n",
       "      <td>15455</td>\n",
       "      <td>1016</td>\n",
       "      <td>54</td>\n",
       "      <td>505</td>\n",
       "      <td>1.720374</td>\n",
       "      <td>-0.936476</td>\n",
       "      <td>r</td>\n",
       "      <td>1820874</td>\n",
       "      <td>59601.074933</td>\n",
       "      <td>21</td>\n",
       "      <td>...</td>\n",
       "      <td>87.151631</td>\n",
       "      <td>0.741071</td>\n",
       "      <td>0.0</td>\n",
       "      <td>0.0</td>\n",
       "      <td>0.049177</td>\n",
       "      <td>5.204940</td>\n",
       "      <td>23.957933</td>\n",
       "      <td>1.701047</td>\n",
       "      <td>-0.956314</td>\n",
       "      <td>0.073125</td>\n",
       "    </tr>\n",
       "  </tbody>\n",
       "</table>\n",
       "<p>5 rows × 48 columns</p>\n",
       "</div>"
      ],
      "text/plain": [
       "       obsHistID  sessionID  propID  fieldID   fieldRA  fieldDec filter  \\\n",
       "3              4       1016      54      505  1.720374 -0.936476      y   \n",
       "736          737       1016      54      505  1.720374 -0.936476      z   \n",
       "760          761       1016      54      505  1.720374 -0.936476      z   \n",
       "1482        1483       1016      54      505  1.720374 -0.936476      z   \n",
       "15455      15455       1016      54      505  1.720374 -0.936476      r   \n",
       "\n",
       "       expDate        expMJD  night    ...     darkBright  rawSeeing  wind  \\\n",
       "3         3038  59580.035169      0    ...     104.669398   0.920473   0.0   \n",
       "736      89952  59581.041121      1    ...     102.261170   0.701202   0.0   \n",
       "760      90898  59581.052066      1    ...      99.499712   0.729082   0.0   \n",
       "1482    176788  59582.046159      2    ...     100.267993   0.826179   0.0   \n",
       "15455  1820874  59601.074933     21    ...      87.151631   0.741071   0.0   \n",
       "\n",
       "       humidity  slewDist  slewTime  fiveSigmaDepth  ditheredRA  ditheredDec  \\\n",
       "3           0.0  0.049266  4.605366       21.032718    1.694604    -0.962927   \n",
       "736         0.0  0.053899  4.752482       21.760884    1.701047    -0.962927   \n",
       "760         0.0  0.087567  6.236553       21.759073    1.701047    -0.962927   \n",
       "1482        0.0  0.053899  4.727801       21.650976    1.707489    -0.962927   \n",
       "15455       0.0  0.049177  5.204940       23.957933    1.701047    -0.956314   \n",
       "\n",
       "         EBV_MW  \n",
       "3      0.073125  \n",
       "736    0.073125  \n",
       "760    0.073125  \n",
       "1482   0.073125  \n",
       "15455  0.073125  \n",
       "\n",
       "[5 rows x 48 columns]"
      ]
     },
     "execution_count": 12,
     "metadata": {},
     "output_type": "execute_result"
    }
   ],
   "source": [
    "opsimdf.loc[opsimdf[\"fieldID\"] == 505].head() ## WFD"
   ]
  },
  {
   "cell_type": "code",
   "execution_count": 13,
   "metadata": {
    "collapsed": false
   },
   "outputs": [
    {
     "data": {
      "text/html": [
       "<div>\n",
       "<table border=\"1\" class=\"dataframe\">\n",
       "  <thead>\n",
       "    <tr style=\"text-align: right;\">\n",
       "      <th></th>\n",
       "      <th>obsHistID</th>\n",
       "      <th>sessionID</th>\n",
       "      <th>propID</th>\n",
       "      <th>fieldID</th>\n",
       "      <th>fieldRA</th>\n",
       "      <th>fieldDec</th>\n",
       "      <th>filter</th>\n",
       "      <th>expDate</th>\n",
       "      <th>expMJD</th>\n",
       "      <th>night</th>\n",
       "      <th>...</th>\n",
       "      <th>darkBright</th>\n",
       "      <th>rawSeeing</th>\n",
       "      <th>wind</th>\n",
       "      <th>humidity</th>\n",
       "      <th>slewDist</th>\n",
       "      <th>slewTime</th>\n",
       "      <th>fiveSigmaDepth</th>\n",
       "      <th>ditheredRA</th>\n",
       "      <th>ditheredDec</th>\n",
       "      <th>EBV_MW</th>\n",
       "    </tr>\n",
       "  </thead>\n",
       "  <tbody>\n",
       "    <tr>\n",
       "      <th>229</th>\n",
       "      <td>230</td>\n",
       "      <td>1016</td>\n",
       "      <td>56</td>\n",
       "      <td>1427</td>\n",
       "      <td>0.925184</td>\n",
       "      <td>-0.4789</td>\n",
       "      <td>r</td>\n",
       "      <td>12057</td>\n",
       "      <td>59580.139555</td>\n",
       "      <td>0</td>\n",
       "      <td>...</td>\n",
       "      <td>84.646287</td>\n",
       "      <td>0.866285</td>\n",
       "      <td>0.0</td>\n",
       "      <td>0.0</td>\n",
       "      <td>0.755889</td>\n",
       "      <td>140.0</td>\n",
       "      <td>24.070428</td>\n",
       "      <td>0.907976</td>\n",
       "      <td>-0.505351</td>\n",
       "      <td>0.007715</td>\n",
       "    </tr>\n",
       "    <tr>\n",
       "      <th>230</th>\n",
       "      <td>231</td>\n",
       "      <td>1016</td>\n",
       "      <td>56</td>\n",
       "      <td>1427</td>\n",
       "      <td>0.925184</td>\n",
       "      <td>-0.4789</td>\n",
       "      <td>r</td>\n",
       "      <td>12093</td>\n",
       "      <td>59580.139972</td>\n",
       "      <td>0</td>\n",
       "      <td>...</td>\n",
       "      <td>84.969264</td>\n",
       "      <td>0.791241</td>\n",
       "      <td>0.0</td>\n",
       "      <td>0.0</td>\n",
       "      <td>0.000000</td>\n",
       "      <td>2.0</td>\n",
       "      <td>24.143180</td>\n",
       "      <td>0.907976</td>\n",
       "      <td>-0.505351</td>\n",
       "      <td>0.007715</td>\n",
       "    </tr>\n",
       "    <tr>\n",
       "      <th>231</th>\n",
       "      <td>232</td>\n",
       "      <td>1016</td>\n",
       "      <td>56</td>\n",
       "      <td>1427</td>\n",
       "      <td>0.925184</td>\n",
       "      <td>-0.4789</td>\n",
       "      <td>r</td>\n",
       "      <td>12129</td>\n",
       "      <td>59580.140389</td>\n",
       "      <td>0</td>\n",
       "      <td>...</td>\n",
       "      <td>85.037385</td>\n",
       "      <td>0.791241</td>\n",
       "      <td>0.0</td>\n",
       "      <td>0.0</td>\n",
       "      <td>0.000000</td>\n",
       "      <td>2.0</td>\n",
       "      <td>24.141983</td>\n",
       "      <td>0.907976</td>\n",
       "      <td>-0.505351</td>\n",
       "      <td>0.007715</td>\n",
       "    </tr>\n",
       "    <tr>\n",
       "      <th>232</th>\n",
       "      <td>233</td>\n",
       "      <td>1016</td>\n",
       "      <td>56</td>\n",
       "      <td>1427</td>\n",
       "      <td>0.925184</td>\n",
       "      <td>-0.4789</td>\n",
       "      <td>r</td>\n",
       "      <td>12165</td>\n",
       "      <td>59580.140805</td>\n",
       "      <td>0</td>\n",
       "      <td>...</td>\n",
       "      <td>85.105955</td>\n",
       "      <td>0.859965</td>\n",
       "      <td>0.0</td>\n",
       "      <td>0.0</td>\n",
       "      <td>0.000000</td>\n",
       "      <td>2.0</td>\n",
       "      <td>24.068792</td>\n",
       "      <td>0.907976</td>\n",
       "      <td>-0.505351</td>\n",
       "      <td>0.007715</td>\n",
       "    </tr>\n",
       "    <tr>\n",
       "      <th>233</th>\n",
       "      <td>234</td>\n",
       "      <td>1016</td>\n",
       "      <td>56</td>\n",
       "      <td>1427</td>\n",
       "      <td>0.925184</td>\n",
       "      <td>-0.4789</td>\n",
       "      <td>r</td>\n",
       "      <td>12201</td>\n",
       "      <td>59580.141222</td>\n",
       "      <td>0</td>\n",
       "      <td>...</td>\n",
       "      <td>85.174974</td>\n",
       "      <td>0.859965</td>\n",
       "      <td>0.0</td>\n",
       "      <td>0.0</td>\n",
       "      <td>0.000000</td>\n",
       "      <td>2.0</td>\n",
       "      <td>24.067582</td>\n",
       "      <td>0.907976</td>\n",
       "      <td>-0.505351</td>\n",
       "      <td>0.007715</td>\n",
       "    </tr>\n",
       "  </tbody>\n",
       "</table>\n",
       "<p>5 rows × 48 columns</p>\n",
       "</div>"
      ],
      "text/plain": [
       "     obsHistID  sessionID  propID  fieldID   fieldRA  fieldDec filter  \\\n",
       "229        230       1016      56     1427  0.925184   -0.4789      r   \n",
       "230        231       1016      56     1427  0.925184   -0.4789      r   \n",
       "231        232       1016      56     1427  0.925184   -0.4789      r   \n",
       "232        233       1016      56     1427  0.925184   -0.4789      r   \n",
       "233        234       1016      56     1427  0.925184   -0.4789      r   \n",
       "\n",
       "     expDate        expMJD  night    ...     darkBright  rawSeeing  wind  \\\n",
       "229    12057  59580.139555      0    ...      84.646287   0.866285   0.0   \n",
       "230    12093  59580.139972      0    ...      84.969264   0.791241   0.0   \n",
       "231    12129  59580.140389      0    ...      85.037385   0.791241   0.0   \n",
       "232    12165  59580.140805      0    ...      85.105955   0.859965   0.0   \n",
       "233    12201  59580.141222      0    ...      85.174974   0.859965   0.0   \n",
       "\n",
       "     humidity  slewDist  slewTime  fiveSigmaDepth  ditheredRA  ditheredDec  \\\n",
       "229       0.0  0.755889     140.0       24.070428    0.907976    -0.505351   \n",
       "230       0.0  0.000000       2.0       24.143180    0.907976    -0.505351   \n",
       "231       0.0  0.000000       2.0       24.141983    0.907976    -0.505351   \n",
       "232       0.0  0.000000       2.0       24.068792    0.907976    -0.505351   \n",
       "233       0.0  0.000000       2.0       24.067582    0.907976    -0.505351   \n",
       "\n",
       "       EBV_MW  \n",
       "229  0.007715  \n",
       "230  0.007715  \n",
       "231  0.007715  \n",
       "232  0.007715  \n",
       "233  0.007715  \n",
       "\n",
       "[5 rows x 48 columns]"
      ]
     },
     "execution_count": 13,
     "metadata": {},
     "output_type": "execute_result"
    }
   ],
   "source": [
    "opsimdf.loc[opsimdf[\"fieldID\"] == 1427].head() ## DDF"
   ]
  },
  {
   "cell_type": "markdown",
   "metadata": {},
   "source": []
  },
  {
   "cell_type": "code",
   "execution_count": null,
   "metadata": {
    "collapsed": false
   },
   "outputs": [],
   "source": []
  },
  {
   "cell_type": "code",
   "execution_count": 31,
   "metadata": {
    "collapsed": false
   },
   "outputs": [
    {
     "data": {
      "text/plain": [
       "<module 'pyCoCo' from '/Users/berto/Code/CoCo/pyCoCo.cpython-36m-darwin.so'>"
      ]
     },
     "execution_count": 31,
     "metadata": {},
     "output_type": "execute_result"
    }
   ],
   "source": [
    "# reload(pccsims)"
   ]
  },
  {
   "cell_type": "markdown",
   "metadata": {},
   "source": [
    "## Extinction"
   ]
  },
  {
   "cell_type": "markdown",
   "metadata": {},
   "source": [
    "Get the Milky Way extinction along the line of site towards the SNe. The working_df contains the EBV_MW at the field centre, but we can do better than that, by using the position of the SN itself."
   ]
  },
  {
   "cell_type": "code",
   "execution_count": 14,
   "metadata": {
    "collapsed": false
   },
   "outputs": [
    {
     "data": {
      "text/plain": [
       "array([ 0.04527743,  0.04593042,  0.08043004, ...,  0.05865358,\n",
       "        0.06319557,  0.05767386])"
      ]
     },
     "execution_count": 14,
     "metadata": {},
     "output_type": "execute_result"
    }
   ],
   "source": [
    "working_df[\"EBV_MW\"][working_df[\"fieldID\"].isin(working_df[\"fieldID\"].values)].values"
   ]
  },
  {
   "cell_type": "code",
   "execution_count": 15,
   "metadata": {
    "collapsed": false
   },
   "outputs": [
    {
     "data": {
      "text/html": [
       "<div>\n",
       "<table border=\"1\" class=\"dataframe\">\n",
       "  <thead>\n",
       "    <tr style=\"text-align: right;\">\n",
       "      <th></th>\n",
       "      <th>phi</th>\n",
       "      <th>theta</th>\n",
       "    </tr>\n",
       "  </thead>\n",
       "  <tbody>\n",
       "    <tr>\n",
       "      <th>0</th>\n",
       "      <td>0.039116</td>\n",
       "      <td>2.330231</td>\n",
       "    </tr>\n",
       "  </tbody>\n",
       "</table>\n",
       "</div>"
      ],
      "text/plain": [
       "        phi     theta\n",
       "0  0.039116  2.330231"
      ]
     },
     "execution_count": 15,
     "metadata": {},
     "output_type": "execute_result"
    }
   ],
   "source": [
    "pos_df"
   ]
  },
  {
   "cell_type": "code",
   "execution_count": 16,
   "metadata": {
    "collapsed": false
   },
   "outputs": [
    {
     "name": "stdout",
     "output_type": "stream",
     "text": [
      "0.0320268438741\n"
     ]
    }
   ],
   "source": [
    "# %%timeit ## 1 loop, best of 3: 88.6 ms per loop\n",
    "pos_df = utils.find_MW_extinction(pos_df) \n",
    "\n",
    "extinction = pos_df[\"EBV_MW\"].values[0]\n",
    "print(extinction)"
   ]
  },
  {
   "cell_type": "code",
   "execution_count": 28,
   "metadata": {
    "collapsed": false
   },
   "outputs": [],
   "source": [
    "# filter_path = \"/Users/berto/Code/CoCo/data/filters\"\n",
    "filter_path = pcc._default_filter_dir_path\n",
    "# coco_root_path = \"/Users/berto/Code/CoCo\"\n",
    "coco_root_path = pcc._default_coco_dir_path \n",
    "\n",
    "coco = pccsims.pyCoCo(utils.b(filter_path), utils.b(coco_root_path))"
   ]
  },
  {
   "cell_type": "markdown",
   "metadata": {},
   "source": [
    "inputs:\n",
    "\n",
    "* **`snname`**\n",
    "* **`redshift`**\n",
    "* **`absmag offset`**\n",
    "* **`EBV MW`**\n",
    "* **`EBV Host`**\n",
    "* **`Rv`**\n",
    "* **`MJD at Peak`**\n",
    "\n",
    "* **`MJD to simulate`**\n",
    "* **`filters to simulate`**"
   ]
  },
  {
   "cell_type": "code",
   "execution_count": 18,
   "metadata": {
    "collapsed": true
   },
   "outputs": [],
   "source": [
    "z_obs = 0.007\n",
    "# z_obs = 0.1\n",
    "# z_obs = 0.2\n",
    "host_EBV = 0.2\n",
    "MW_EBV = extinction\n",
    "# mjdmax = 60307.314753999999\n",
    "# mjdmax = 59580 + 1.* 365. ## DDF 2786\n",
    "# mjdmax = 59580 + 1.5* 365. ## WFD 550\n",
    "mjdmax = 59580 + 1.3* 365. ## WFD 2297"
   ]
  },
  {
   "cell_type": "code",
   "execution_count": 19,
   "metadata": {
    "collapsed": false
   },
   "outputs": [],
   "source": [
    "mjd_to_sim = working_df[\"expMJD\"][working_df[\"fieldID\"].isin(field_df[\"fieldID\"].values)].values\n",
    "limiting_mags = working_df[\"fiveSigmaDepth\"][working_df[\"fieldID\"].isin(field_df[\"fieldID\"].values)].values\n",
    "\n",
    "filters_to_sim = working_df[\"filter\"][working_df[\"fieldID\"].isin(field_df[\"fieldID\"].values)].values\n",
    "filters_to_sim = np.array([utils.b('LSST_'+x) for x in filters_to_sim])"
   ]
  },
  {
   "cell_type": "code",
   "execution_count": 20,
   "metadata": {
    "collapsed": true
   },
   "outputs": [
    {
     "name": "stdout",
     "output_type": "stream",
     "text": [
      "60054.5\n",
      "[ 59722.314185  59722.335862  59728.328403  59752.224898  59752.238567\n",
      "  59769.175502  59769.193999  59772.16638   59772.172194  59772.178458\n",
      "  59772.182929  59772.185608  59772.201317  59777.163095  59777.234212\n",
      "  59777.251703  59777.265758  59790.145979  59793.170172  59793.195334\n",
      "  59797.094122  59797.110631  59799.098988  59806.092035  59806.103821\n",
      "  59807.127253  59807.149978  59808.128101  59808.143783  59808.155678\n",
      "  59808.171514  59810.071874  59810.089464  59818.061555  59826.083873\n",
      "  59826.102798  59836.007736  59836.030663  59836.99475   59838.978423\n",
      "  59838.993323  59839.011172  59840.981435  59840.98501   59840.990382\n",
      "  59840.995745  59843.981718  59843.995217  59849.982851  59849.996815\n",
      "  59859.023388  59859.03567   59869.072208  59869.087201  59877.040436\n",
      "  59878.060389  60046.417645  60046.420328  60051.408061  60051.416551\n",
      "  60055.400085  60056.396723  60057.396997  60059.415353  60061.416077\n",
      "  60062.372767  60062.386509  60062.415514  60064.389447  60064.405576\n",
      "  60064.415214  60066.361549  60066.379934  60067.42001   60072.404378\n",
      "  60072.425411  60073.349284  60073.352859  60073.359114  60073.360898\n",
      "  60084.306977  60084.322808  60087.307508  60087.327699  60094.301384\n",
      "  60094.317809  60100.268641  60101.32036   60101.340115  60111.26192\n",
      "  60111.282559  60113.246933  60113.252023  60127.197806  60133.251833\n",
      "  60133.264867  60133.337126  60143.202988  60143.238951  60144.158438\n",
      "  60144.178219  60145.166507  60145.180961  60147.201768  60147.21939\n",
      "  60150.135132  60150.150164  60150.156173  60150.174834  60163.269502\n",
      "  60163.300078  60165.100074  60165.114365  60177.064603  60177.082765\n",
      "  60180.096578  60180.117628  60181.04974   60181.063732  60188.089716\n",
      "  60200.058443  60204.009713  60204.03272   60207.98705   60207.987943\n",
      "  60207.995545  60207.997329  60210.018597  60210.037807  60214.989934\n",
      "  60221.992123  60244.066198  60265.014252  60415.411613  60419.418491\n",
      "  60421.388038  60421.398325  60429.368336  60429.372806  60429.37728\n",
      "  60429.381749  60429.387113  60429.393374  60434.394562  60434.4139\n",
      "  60436.363953  60457.356118  60462.351315  60462.373855  60464.297446\n",
      "  60464.311603  60466.327579  60466.345788  60467.294965  60483.218713\n",
      "  60483.237972  60484.264591  60484.281574  60484.292857  60484.303779\n",
      "  60484.324383  60484.339279  60492.211285  60492.237072  60497.239948\n",
      "  60497.263812  60498.24082   60498.26192   60499.193374  60500.17763\n",
      "  60500.196239  60501.173081  60501.193351  60503.20097   60503.228661\n",
      "  60511.187495  60511.203101  60512.211044  60512.232671  60520.147472\n",
      "  60520.16291   60520.167793  60520.181409  60524.142653  60529.114358\n",
      "  60529.131882  60531.109382  60531.120636  60532.095026  60532.110134\n",
      "  60535.104632  60537.13026   60537.144247  60537.147836  60537.161039\n",
      "  60543.12226   60543.148065  60545.213582  60545.227718  60553.03471\n",
      "  60553.057211  60555.064131  60555.079151  60557.036873  60570.987962\n",
      "  60570.993331  60570.998696  60571.002269  60571.013501  60582.033788\n",
      "  60586.003365  60598.021307  60598.033983  60598.054206  60598.066672\n",
      "  60616.022303  60782.403323  60784.407353  60790.38484   60790.409062\n",
      "  60790.418928  60792.397719  60794.374793  60794.394338  60800.423637\n",
      "  60801.351868  60801.366129  60805.427713  60806.345864  60806.350333\n",
      "  60809.394957  60809.414716  60811.388533  60811.410139  60819.353271\n",
      "  60819.368116  60823.341927  60823.360522  60825.307889  60825.320514\n",
      "  60826.284988  60826.299922  60845.28485   60845.306625  60849.397538\n",
      "  60850.307459  60853.209583  60853.224649  60876.150454  60876.16513\n",
      "  60876.303112  60876.318926  60877.142681  60877.16118   60877.169734\n",
      "  60877.183807  60878.148086  60879.136881  60879.153816  60881.15348\n",
      "  60881.170251  60882.131119  60882.145784  60884.121093  60884.141958\n",
      "  60885.142046  60885.154754  60888.10805   60888.126466  60890.16614\n",
      "  60893.132359  60893.141852  60893.160362  60893.172416  60894.1663\n",
      "  60894.181427  60898.11001   60898.128299  60898.193519  60898.206245\n",
      "  60902.078487  60902.095585  60903.08761   60903.103206  60905.080497\n",
      "  60905.094455  60909.062249  60912.095347  60913.071494  60933.016759\n",
      "  60933.035562  60933.984858  60933.989327  60934.977638  60935.978022\n",
      "  60935.987872  60935.99414   60935.996819  60940.081027  60940.101471\n",
      "  60940.981784  60940.987148  60940.99341   60941.00146   60942.99067\n",
      "  60942.996932  60943.002292  60944.990146  61148.393121  61149.398065\n",
      "  61150.408478  61153.390281  61154.409704  61154.42229   61155.378975\n",
      "  61155.393268  61155.404476  61155.417462  61157.414635  61157.427723\n",
      "  61158.378911  61158.397582  61159.402645  61174.373645  61177.353886\n",
      "  61177.366765  61178.363547  61178.384971  61181.306559  61181.323099\n",
      "  61185.31512   61185.33321   61222.206244  61222.21119   61222.217929\n",
      "  61222.21882   61222.226866  61222.231332  61222.23223   61231.181673\n",
      "  61231.196116  61233.262695  61234.188107  61235.172209  61245.178762\n",
      "  61245.198618  61246.328872  61254.310677  61256.106009  61257.124177\n",
      "  61257.141454  61257.145035  61257.163225  61259.156514  61259.175606\n",
      "  61263.085416  61263.100053  61263.11094   61263.127802  61265.0917\n",
      "  61265.11141   61267.081514  61267.096531  61270.098043  61271.105619\n",
      "  61271.120021  61274.056048  61274.075992  61281.089067  61281.109732\n",
      "  61281.208202  61281.2331    61286.174163  61286.193108  61287.025637\n",
      "  61287.039623  61287.064362  61287.078612  61297.031885  61299.980226\n",
      "  61299.985144  61299.986931  61302.981837  61302.987202  61302.996146\n",
      "  61303.981336  61304.03649   61307.999635  61308.06216   61308.08657\n",
      "  61310.142194  61310.155586  61317.022756  61317.0467    61323.040468\n",
      "  61510.412209  61511.405762  61512.404931  61512.413891  61513.413208\n",
      "  61518.382149  61518.389753  61518.393328  61518.396009  61518.404506\n",
      "  61521.381027  61522.412659  61527.416036  61529.388029  61531.378683\n",
      "  61531.394042  61533.353668  61533.370166  61541.321064  61541.406042\n",
      "  61542.345357  61542.359327  61544.323734  61544.332235  61547.30753\n",
      "  61547.327351  61547.334598  61547.352785  61557.280921  61557.301065\n",
      "  61558.35718   61558.378839  61560.282002  61561.361158  61561.387442\n",
      "  61571.37912   61571.390666  61575.232898  61576.271149  61576.287126\n",
      "  61584.314897  61584.329678  61584.347246  61584.359992  61584.375107\n",
      "  61584.386483  61586.203838  61586.218067  61587.256736  61587.273601\n",
      "  61587.307072  61587.323963  61589.205368  61589.222674  61590.211963\n",
      "  61590.230358  61591.187391  61591.202663  61593.21565   61595.178002\n",
      "  61595.19103   61610.136766  61610.156988  61610.218464  61610.233566\n",
      "  61610.28873   61610.301106  61612.138851  61612.153904  61619.128257\n",
      "  61619.133627  61621.124287  61622.120278  61622.145142  61623.140697\n",
      "  61623.156029  61628.088625  61628.093109  61629.084991  61630.097248\n",
      "  61652.03086   61652.044351  61655.011658  61655.026391  61656.013197\n",
      "  61656.031878  61683.124546  61683.138973  61698.095016  61702.012585\n",
      "  61707.053212  61708.055312  61708.063837  61712.029202  61712.041838\n",
      "  61726.023253  61876.411136  61876.416501  61883.41283   61883.417296\n",
      "  61883.422659  61884.38849   61884.397972  61888.398778  61888.410497\n",
      "  61889.419982  61891.422329  61895.38142   61895.39912   61896.35639\n",
      "  61896.369916  61897.383095  61897.397116  61909.358494  61909.369823\n",
      "  61909.378922  61909.396401  61910.428558  61911.386322  61911.401706\n",
      "  61925.28529   61925.300248  61926.274305  61926.287953  61928.266485\n",
      "  61928.28576   61946.213046  61946.234855  61952.241443  61952.25232\n",
      "  61955.195003  61955.199475  61955.205742  61957.19904   61957.212546\n",
      "  61966.203277  61966.215405  61966.335936  61966.353077  61967.2144\n",
      "  61967.234336  61974.306937  61976.23138   61976.252552  61978.131673\n",
      "  61978.14726   61978.152184  61978.163798  61986.103032  61986.116565\n",
      "  61993.111931  61993.123184  61994.107778  61994.131802  61994.160128\n",
      "  61994.182123  61997.245516  62000.076404  62000.087655  62005.082536\n",
      "  62005.096945  62009.038051  62009.04521   62009.046104  62010.144625\n",
      "  62010.166984  62011.029173  62019.022395  62019.043557  62019.051741\n",
      "  62019.07392   62020.161378  62020.177172  62021.015251  62028.008301\n",
      "  62028.0219    62029.011111  62029.024673  62031.006497  62031.980365\n",
      "  62031.99387   62032.00723   62032.983891  62034.981989  62046.027581\n",
      "  62046.029369  62046.036996  62046.04416   62046.058668  62057.112471\n",
      "  62058.014049  62058.033557  62058.09803   62061.077543  62079.040902\n",
      "  62238.415011  62241.410486  62241.413164  62241.419424  62241.422104\n",
      "  62243.406078  62245.395594  62248.391207  62248.40878   62248.412346\n",
      "  62251.42401   62252.413663  62253.39342   62253.408509  62255.378959\n",
      "  62255.396112  62265.386621  62265.401713  62267.35152   62267.397031\n",
      "  62269.334731  62269.359057  62270.337841  62270.351022  62270.367008\n",
      "  62270.38342   62272.428968  62276.313529  62276.326615  62276.342673\n",
      "  62276.357447  62276.372668  62276.389451  62277.316945  62277.334361\n",
      "  62284.302387  62303.259975  62303.274232  62303.277809  62303.297804\n",
      "  62305.235703  62305.251013  62305.258657  62305.276845  62306.226723\n",
      "  62306.244414  62311.299191  62311.318153  62313.211138  62313.215608\n",
      "  62313.217395  62313.225087  62323.187339  62323.198565  62326.312659\n",
      "  62327.180882  62327.358194  62331.163665  62331.179781  62334.165611\n",
      "  62334.181405  62334.202844  62334.219844  62346.137754  62346.161051\n",
      "  62346.16699   62346.181661  62349.112887  62349.129209  62349.135403\n",
      "  62349.146097  62351.133214  62353.114516  62353.132218  62354.124496\n",
      "  62354.138996  62356.094545  62356.114886  62357.141962  62360.085596\n",
      "  62360.105273  62364.067574  62364.087156  62366.068532  62366.070318\n",
      "  62367.081869  62367.105294  62373.083299  62373.156994  62373.158345\n",
      "  62373.167485  62376.089921  62376.10888   62376.187857  62376.202166\n",
      "  62376.203519  62376.22316   62379.032475  62379.04911   62379.062512\n",
      "  62379.07887   62380.030398  62380.045957  62382.038903  62382.052819\n",
      "  62385.02215   62385.025728  62385.031546  62393.997486  62401.002035\n",
      "  62401.054613  62402.119872  62402.141776  62405.983005  62405.997385\n",
      "  62605.407323  62607.406431  62608.404356  62619.412034  62619.426108\n",
      "  62623.421441  62624.368246  62624.390017  62624.392864  62626.34911\n",
      "  62626.375908  62626.387244  62626.410097  62627.353371  62627.372058\n",
      "  62630.417875  62631.35793   62631.379417  62632.339125  62632.362194\n",
      "  62632.389892  62632.413197  62633.332249  62633.35867   62635.33051\n",
      "  62635.345672  62646.368753  62646.395853  62647.30105   62647.320508\n",
      "  62647.325041  62647.341633  62647.432912  62650.315945  62650.317729\n",
      "  62675.217851  62675.230641  62681.358313  62682.263092  62682.276285\n",
      "  62687.193252  62687.207396  62687.224375  62687.245306  62688.194533\n",
      "  62688.211928  62695.164996  62695.182108  62711.243963  62716.192368\n",
      "  62716.208405  62716.209981  62716.233148  62721.111094  62721.117354\n",
      "  62721.121851  62721.126767  62721.130335  62722.100794  62722.113235\n",
      "  62723.105169  62723.118576  62723.135915  62723.151802  62730.181808\n",
      "  62731.064436  62731.07937   62731.0939    62731.113285  62733.071852\n",
      "  62733.085381  62736.050659  62736.06492   62738.147158  62744.034825\n",
      "  62744.047533  62746.058557  62746.077447  62746.081563  62746.106074\n",
      "  62747.025478  62747.03688   62748.018035  62748.024299  62748.027882\n",
      "  62756.024196  62756.027327  62757.015117  62757.027143  62759.987034\n",
      "  62759.993292  62760.060928  62760.082377  62761.006059  62761.029565\n",
      "  62761.050802  62761.070339  62769.982484  62769.999192  62771.008028\n",
      "  62774.032988  62799.064934  62818.008995  62819.0229    62975.403268\n",
      "  62977.420103  62989.413566  62989.427199  62990.384033  62990.404343\n",
      "  62990.413409  62990.421078  63002.426358  63002.433987  63003.358381\n",
      "  63003.37323   63003.403724  63003.433632  63004.33654   63008.319598\n",
      "  63008.330929  63008.3504    63008.363227  63013.309457  63013.327779\n",
      "  63015.308001  63015.324757  63017.289561  63017.302039  63018.30321\n",
      "  63018.31736   63021.366703  63021.389658  63037.230807  63037.245954\n",
      "  63043.227964  63043.240272  63043.253952  63043.270802  63046.200961\n",
      "  63048.20234   63048.215916  63048.222689  63048.236566  63063.158809\n",
      "  63063.183011  63064.15706   63064.178229  63065.233994  63065.241163\n",
      "  63067.149849  63067.167186  63070.191136  63073.134987  63073.151354\n",
      "  63076.121495  63076.136134  63078.115543  63078.120013  63086.205834\n",
      "  63094.084843  63094.093965  63096.175925  63096.202215  63099.072336\n",
      "  63099.085947  63099.099565  63099.111832  63100.05387   63100.070338\n",
      "  63101.142259  63101.163973  63102.049234  63102.050128  63102.057304\n",
      "  63111.041744  63111.055428  63111.110234  63111.123654  63112.038753\n",
      "  63112.039645  63117.009097  63117.024512  63121.006243  63121.019795\n",
      "  63123.985663  63125.002644  63125.018436  63127.988978  63131.981604\n",
      "  63131.998251  63144.991784  63144.999891  63166.009799  63168.033205]\n",
      "[b'LSST_z' b'LSST_z' b'LSST_u' b'LSST_i' b'LSST_i' b'LSST_z' b'LSST_z'\n",
      " b'LSST_y' b'LSST_y' b'LSST_y' b'LSST_y' b'LSST_y' b'LSST_y' b'LSST_y'\n",
      " b'LSST_y' b'LSST_y' b'LSST_y' b'LSST_g' b'LSST_g' b'LSST_g' b'LSST_z'\n",
      " b'LSST_z' b'LSST_y' b'LSST_i' b'LSST_i' b'LSST_i' b'LSST_i' b'LSST_r'\n",
      " b'LSST_r' b'LSST_r' b'LSST_r' b'LSST_r' b'LSST_r' b'LSST_u' b'LSST_z'\n",
      " b'LSST_z' b'LSST_r' b'LSST_r' b'LSST_y' b'LSST_z' b'LSST_z' b'LSST_i'\n",
      " b'LSST_y' b'LSST_y' b'LSST_y' b'LSST_y' b'LSST_z' b'LSST_z' b'LSST_z'\n",
      " b'LSST_z' b'LSST_y' b'LSST_y' b'LSST_r' b'LSST_r' b'LSST_u' b'LSST_g'\n",
      " b'LSST_y' b'LSST_y' b'LSST_r' b'LSST_z' b'LSST_g' b'LSST_i' b'LSST_g'\n",
      " b'LSST_z' b'LSST_y' b'LSST_r' b'LSST_r' b'LSST_z' b'LSST_i' b'LSST_i'\n",
      " b'LSST_i' b'LSST_i' b'LSST_i' b'LSST_z' b'LSST_z' b'LSST_z' b'LSST_y'\n",
      " b'LSST_y' b'LSST_y' b'LSST_y' b'LSST_i' b'LSST_i' b'LSST_g' b'LSST_g'\n",
      " b'LSST_i' b'LSST_i' b'LSST_y' b'LSST_z' b'LSST_z' b'LSST_r' b'LSST_r'\n",
      " b'LSST_u' b'LSST_u' b'LSST_y' b'LSST_i' b'LSST_i' b'LSST_i' b'LSST_r'\n",
      " b'LSST_r' b'LSST_g' b'LSST_g' b'LSST_u' b'LSST_u' b'LSST_r' b'LSST_r'\n",
      " b'LSST_r' b'LSST_r' b'LSST_r' b'LSST_r' b'LSST_i' b'LSST_i' b'LSST_r'\n",
      " b'LSST_r' b'LSST_g' b'LSST_g' b'LSST_i' b'LSST_i' b'LSST_z' b'LSST_z'\n",
      " b'LSST_y' b'LSST_u' b'LSST_i' b'LSST_i' b'LSST_y' b'LSST_y' b'LSST_y'\n",
      " b'LSST_y' b'LSST_z' b'LSST_z' b'LSST_y' b'LSST_z' b'LSST_z' b'LSST_z'\n",
      " b'LSST_z' b'LSST_z' b'LSST_i' b'LSST_r' b'LSST_y' b'LSST_y' b'LSST_y'\n",
      " b'LSST_y' b'LSST_y' b'LSST_y' b'LSST_g' b'LSST_g' b'LSST_u' b'LSST_y'\n",
      " b'LSST_r' b'LSST_r' b'LSST_r' b'LSST_r' b'LSST_i' b'LSST_i' b'LSST_u'\n",
      " b'LSST_y' b'LSST_y' b'LSST_z' b'LSST_z' b'LSST_z' b'LSST_z' b'LSST_z'\n",
      " b'LSST_z' b'LSST_g' b'LSST_g' b'LSST_i' b'LSST_i' b'LSST_i' b'LSST_i'\n",
      " b'LSST_u' b'LSST_i' b'LSST_i' b'LSST_r' b'LSST_r' b'LSST_i' b'LSST_i'\n",
      " b'LSST_z' b'LSST_z' b'LSST_z' b'LSST_z' b'LSST_r' b'LSST_r' b'LSST_r'\n",
      " b'LSST_r' b'LSST_u' b'LSST_g' b'LSST_g' b'LSST_r' b'LSST_r' b'LSST_r'\n",
      " b'LSST_r' b'LSST_i' b'LSST_i' b'LSST_i' b'LSST_i' b'LSST_i' b'LSST_z'\n",
      " b'LSST_z' b'LSST_i' b'LSST_i' b'LSST_r' b'LSST_r' b'LSST_g' b'LSST_g'\n",
      " b'LSST_u' b'LSST_y' b'LSST_y' b'LSST_y' b'LSST_y' b'LSST_y' b'LSST_u'\n",
      " b'LSST_z' b'LSST_z' b'LSST_z' b'LSST_z' b'LSST_z' b'LSST_z' b'LSST_z'\n",
      " b'LSST_i' b'LSST_r' b'LSST_r' b'LSST_y' b'LSST_g' b'LSST_i' b'LSST_i'\n",
      " b'LSST_y' b'LSST_r' b'LSST_r' b'LSST_z' b'LSST_y' b'LSST_y' b'LSST_z'\n",
      " b'LSST_z' b'LSST_z' b'LSST_z' b'LSST_r' b'LSST_r' b'LSST_i' b'LSST_i'\n",
      " b'LSST_i' b'LSST_i' b'LSST_r' b'LSST_r' b'LSST_r' b'LSST_r' b'LSST_u'\n",
      " b'LSST_u' b'LSST_r' b'LSST_r' b'LSST_r' b'LSST_r' b'LSST_g' b'LSST_g'\n",
      " b'LSST_i' b'LSST_i' b'LSST_i' b'LSST_i' b'LSST_u' b'LSST_i' b'LSST_i'\n",
      " b'LSST_g' b'LSST_g' b'LSST_r' b'LSST_r' b'LSST_r' b'LSST_r' b'LSST_i'\n",
      " b'LSST_i' b'LSST_z' b'LSST_z' b'LSST_y' b'LSST_z' b'LSST_z' b'LSST_z'\n",
      " b'LSST_z' b'LSST_z' b'LSST_z' b'LSST_z' b'LSST_z' b'LSST_z' b'LSST_z'\n",
      " b'LSST_g' b'LSST_g' b'LSST_r' b'LSST_r' b'LSST_r' b'LSST_r' b'LSST_u'\n",
      " b'LSST_u' b'LSST_u' b'LSST_r' b'LSST_r' b'LSST_y' b'LSST_y' b'LSST_y'\n",
      " b'LSST_y' b'LSST_y' b'LSST_y' b'LSST_y' b'LSST_i' b'LSST_i' b'LSST_y'\n",
      " b'LSST_y' b'LSST_y' b'LSST_y' b'LSST_y' b'LSST_y' b'LSST_y' b'LSST_y'\n",
      " b'LSST_g' b'LSST_i' b'LSST_g' b'LSST_r' b'LSST_z' b'LSST_z' b'LSST_i'\n",
      " b'LSST_i' b'LSST_i' b'LSST_z' b'LSST_z' b'LSST_z' b'LSST_i' b'LSST_i'\n",
      " b'LSST_i' b'LSST_u' b'LSST_r' b'LSST_r' b'LSST_g' b'LSST_g' b'LSST_g'\n",
      " b'LSST_g' b'LSST_i' b'LSST_i' b'LSST_y' b'LSST_y' b'LSST_y' b'LSST_y'\n",
      " b'LSST_y' b'LSST_y' b'LSST_y' b'LSST_r' b'LSST_r' b'LSST_u' b'LSST_u'\n",
      " b'LSST_u' b'LSST_z' b'LSST_z' b'LSST_i' b'LSST_y' b'LSST_g' b'LSST_r'\n",
      " b'LSST_r' b'LSST_r' b'LSST_r' b'LSST_r' b'LSST_r' b'LSST_i' b'LSST_i'\n",
      " b'LSST_i' b'LSST_i' b'LSST_r' b'LSST_r' b'LSST_r' b'LSST_r' b'LSST_i'\n",
      " b'LSST_r' b'LSST_r' b'LSST_z' b'LSST_z' b'LSST_z' b'LSST_z' b'LSST_z'\n",
      " b'LSST_z' b'LSST_i' b'LSST_i' b'LSST_i' b'LSST_i' b'LSST_i' b'LSST_i'\n",
      " b'LSST_u' b'LSST_y' b'LSST_y' b'LSST_y' b'LSST_y' b'LSST_y' b'LSST_y'\n",
      " b'LSST_y' b'LSST_y' b'LSST_y' b'LSST_y' b'LSST_y' b'LSST_z' b'LSST_z'\n",
      " b'LSST_g' b'LSST_g' b'LSST_u' b'LSST_z' b'LSST_i' b'LSST_r' b'LSST_z'\n",
      " b'LSST_z' b'LSST_y' b'LSST_y' b'LSST_y' b'LSST_y' b'LSST_y' b'LSST_y'\n",
      " b'LSST_y' b'LSST_z' b'LSST_u' b'LSST_i' b'LSST_i' b'LSST_r' b'LSST_r'\n",
      " b'LSST_z' b'LSST_i' b'LSST_z' b'LSST_z' b'LSST_y' b'LSST_y' b'LSST_z'\n",
      " b'LSST_z' b'LSST_z' b'LSST_z' b'LSST_i' b'LSST_i' b'LSST_g' b'LSST_g'\n",
      " b'LSST_u' b'LSST_g' b'LSST_g' b'LSST_i' b'LSST_i' b'LSST_y' b'LSST_z'\n",
      " b'LSST_z' b'LSST_r' b'LSST_r' b'LSST_r' b'LSST_r' b'LSST_r' b'LSST_r'\n",
      " b'LSST_r' b'LSST_r' b'LSST_i' b'LSST_i' b'LSST_i' b'LSST_i' b'LSST_g'\n",
      " b'LSST_g' b'LSST_r' b'LSST_r' b'LSST_g' b'LSST_g' b'LSST_u' b'LSST_r'\n",
      " b'LSST_r' b'LSST_i' b'LSST_i' b'LSST_i' b'LSST_i' b'LSST_i' b'LSST_i'\n",
      " b'LSST_r' b'LSST_r' b'LSST_u' b'LSST_u' b'LSST_u' b'LSST_g' b'LSST_g'\n",
      " b'LSST_r' b'LSST_r' b'LSST_y' b'LSST_y' b'LSST_y' b'LSST_y' b'LSST_r'\n",
      " b'LSST_r' b'LSST_z' b'LSST_z' b'LSST_z' b'LSST_z' b'LSST_i' b'LSST_i'\n",
      " b'LSST_r' b'LSST_z' b'LSST_u' b'LSST_i' b'LSST_i' b'LSST_r' b'LSST_r'\n",
      " b'LSST_z' b'LSST_y' b'LSST_y' b'LSST_y' b'LSST_y' b'LSST_y' b'LSST_r'\n",
      " b'LSST_r' b'LSST_u' b'LSST_u' b'LSST_y' b'LSST_z' b'LSST_i' b'LSST_i'\n",
      " b'LSST_r' b'LSST_r' b'LSST_i' b'LSST_i' b'LSST_r' b'LSST_r' b'LSST_r'\n",
      " b'LSST_r' b'LSST_z' b'LSST_g' b'LSST_g' b'LSST_z' b'LSST_z' b'LSST_z'\n",
      " b'LSST_z' b'LSST_z' b'LSST_z' b'LSST_r' b'LSST_r' b'LSST_i' b'LSST_i'\n",
      " b'LSST_y' b'LSST_y' b'LSST_y' b'LSST_z' b'LSST_z' b'LSST_i' b'LSST_i'\n",
      " b'LSST_i' b'LSST_i' b'LSST_i' b'LSST_i' b'LSST_g' b'LSST_g' b'LSST_g'\n",
      " b'LSST_r' b'LSST_r' b'LSST_r' b'LSST_r' b'LSST_z' b'LSST_z' b'LSST_i'\n",
      " b'LSST_i' b'LSST_r' b'LSST_r' b'LSST_r' b'LSST_r' b'LSST_g' b'LSST_g'\n",
      " b'LSST_g' b'LSST_u' b'LSST_u' b'LSST_y' b'LSST_y' b'LSST_y' b'LSST_i'\n",
      " b'LSST_i' b'LSST_y' b'LSST_z' b'LSST_z' b'LSST_z' b'LSST_z' b'LSST_y'\n",
      " b'LSST_y' b'LSST_g' b'LSST_g' b'LSST_g' b'LSST_i' b'LSST_i' b'LSST_u'\n",
      " b'LSST_z' b'LSST_z' b'LSST_u' b'LSST_z' b'LSST_z' b'LSST_y' b'LSST_y'\n",
      " b'LSST_y' b'LSST_y' b'LSST_y' b'LSST_r' b'LSST_i' b'LSST_i' b'LSST_i'\n",
      " b'LSST_u' b'LSST_i' b'LSST_y' b'LSST_y' b'LSST_y' b'LSST_y' b'LSST_y'\n",
      " b'LSST_i' b'LSST_r' b'LSST_i' b'LSST_i' b'LSST_y' b'LSST_z' b'LSST_z'\n",
      " b'LSST_z' b'LSST_z' b'LSST_z' b'LSST_z' b'LSST_g' b'LSST_g' b'LSST_u'\n",
      " b'LSST_u' b'LSST_r' b'LSST_r' b'LSST_r' b'LSST_r' b'LSST_r' b'LSST_r'\n",
      " b'LSST_y' b'LSST_i' b'LSST_i' b'LSST_i' b'LSST_i' b'LSST_i' b'LSST_i'\n",
      " b'LSST_i' b'LSST_i' b'LSST_y' b'LSST_r' b'LSST_r' b'LSST_r' b'LSST_r'\n",
      " b'LSST_i' b'LSST_i' b'LSST_i' b'LSST_i' b'LSST_i' b'LSST_i' b'LSST_z'\n",
      " b'LSST_z' b'LSST_y' b'LSST_y' b'LSST_y' b'LSST_y' b'LSST_r' b'LSST_r'\n",
      " b'LSST_u' b'LSST_u' b'LSST_g' b'LSST_g' b'LSST_g' b'LSST_r' b'LSST_r'\n",
      " b'LSST_r' b'LSST_r' b'LSST_z' b'LSST_z' b'LSST_z' b'LSST_z' b'LSST_r'\n",
      " b'LSST_r' b'LSST_r' b'LSST_r' b'LSST_g' b'LSST_g' b'LSST_g' b'LSST_r'\n",
      " b'LSST_r' b'LSST_g' b'LSST_g' b'LSST_u' b'LSST_r' b'LSST_r' b'LSST_z'\n",
      " b'LSST_z' b'LSST_y' b'LSST_y' b'LSST_z' b'LSST_z' b'LSST_y' b'LSST_y'\n",
      " b'LSST_y' b'LSST_y' b'LSST_i' b'LSST_i' b'LSST_i' b'LSST_i' b'LSST_i'\n",
      " b'LSST_i' b'LSST_i' b'LSST_i' b'LSST_i' b'LSST_i' b'LSST_r' b'LSST_r'\n",
      " b'LSST_i' b'LSST_i' b'LSST_u' b'LSST_u' b'LSST_u' b'LSST_y' b'LSST_y'\n",
      " b'LSST_y' b'LSST_z' b'LSST_z' b'LSST_z' b'LSST_z' b'LSST_y' b'LSST_y'\n",
      " b'LSST_y' b'LSST_z' b'LSST_z' b'LSST_z' b'LSST_g' b'LSST_g' b'LSST_g'\n",
      " b'LSST_r' b'LSST_r' b'LSST_r' b'LSST_r' b'LSST_g' b'LSST_g' b'LSST_y'\n",
      " b'LSST_r' b'LSST_r' b'LSST_i' b'LSST_i' b'LSST_i' b'LSST_i' b'LSST_r'\n",
      " b'LSST_r' b'LSST_z' b'LSST_z' b'LSST_r' b'LSST_r' b'LSST_i' b'LSST_i'\n",
      " b'LSST_i' b'LSST_i' b'LSST_y' b'LSST_u' b'LSST_u' b'LSST_r' b'LSST_r'\n",
      " b'LSST_u' b'LSST_g' b'LSST_g' b'LSST_r' b'LSST_r' b'LSST_r' b'LSST_r'\n",
      " b'LSST_g' b'LSST_g' b'LSST_z' b'LSST_z' b'LSST_u' b'LSST_i' b'LSST_i'\n",
      " b'LSST_i' b'LSST_i' b'LSST_y' b'LSST_y' b'LSST_y' b'LSST_y' b'LSST_y'\n",
      " b'LSST_z' b'LSST_z' b'LSST_z' b'LSST_z' b'LSST_z' b'LSST_z' b'LSST_i'\n",
      " b'LSST_i' b'LSST_i' b'LSST_i' b'LSST_i' b'LSST_r' b'LSST_r' b'LSST_g'\n",
      " b'LSST_g' b'LSST_u' b'LSST_g' b'LSST_g' b'LSST_i' b'LSST_i' b'LSST_i'\n",
      " b'LSST_i' b'LSST_z' b'LSST_z' b'LSST_y' b'LSST_y' b'LSST_y' b'LSST_y'\n",
      " b'LSST_y' b'LSST_z' b'LSST_z' b'LSST_y' b'LSST_y' b'LSST_r' b'LSST_r'\n",
      " b'LSST_r' b'LSST_r' b'LSST_r' b'LSST_r' b'LSST_z' b'LSST_z' b'LSST_u'\n",
      " b'LSST_u' b'LSST_u' b'LSST_y' b'LSST_y' b'LSST_i' b'LSST_z' b'LSST_y'\n",
      " b'LSST_y' b'LSST_r' b'LSST_r' b'LSST_y' b'LSST_y' b'LSST_y' b'LSST_y'\n",
      " b'LSST_i' b'LSST_i' b'LSST_i' b'LSST_z' b'LSST_u' b'LSST_r' b'LSST_r'\n",
      " b'LSST_r' b'LSST_r' b'LSST_g' b'LSST_g' b'LSST_r' b'LSST_r' b'LSST_i'\n",
      " b'LSST_i' b'LSST_z' b'LSST_z' b'LSST_z' b'LSST_z' b'LSST_g' b'LSST_g'\n",
      " b'LSST_i' b'LSST_i' b'LSST_i' b'LSST_i' b'LSST_y' b'LSST_i' b'LSST_i'\n",
      " b'LSST_i' b'LSST_i' b'LSST_i' b'LSST_i' b'LSST_r' b'LSST_r' b'LSST_u'\n",
      " b'LSST_u' b'LSST_r' b'LSST_r' b'LSST_u' b'LSST_z' b'LSST_z' b'LSST_z'\n",
      " b'LSST_z' b'LSST_y' b'LSST_y' b'LSST_r' b'LSST_u' b'LSST_u' b'LSST_r'\n",
      " b'LSST_r' b'LSST_i' b'LSST_i' b'LSST_i' b'LSST_i' b'LSST_i' b'LSST_i'\n",
      " b'LSST_g' b'LSST_g' b'LSST_y' b'LSST_y' b'LSST_y' b'LSST_z' b'LSST_z'\n",
      " b'LSST_z' b'LSST_z' b'LSST_y' b'LSST_y' b'LSST_g' b'LSST_g' b'LSST_r'\n",
      " b'LSST_r' b'LSST_z' b'LSST_r' b'LSST_r' b'LSST_z' b'LSST_z' b'LSST_z'\n",
      " b'LSST_y' b'LSST_y' b'LSST_y' b'LSST_y']\n"
     ]
    }
   ],
   "source": [
    "# mjd_to_sim = np.array([90.0, 91.0, 92.0, 93.0, 94.0, 95.0, 96.0, 97.0, 98.0, 99.0, 100.0, 105.0, 110.0, 115.0, 120.0])\n",
    "# filters_to_sim = np.array([b'SDSS_r', b'SDSS_r', b'SDSS_r', b'SDSS_r', b'SDSS_r', b'SDSS_r', b'SDSS_r', b'SDSS_r', b'SDSS_r', b'SDSS_r', b'SDSS_r', b'SDSS_r', b'SDSS_r', b'SDSS_r', b'SDSS_r'])\n",
    "# mjd_to_sim = \n",
    "# filters_to_sim = \n",
    "\n",
    "print(mjdmax)\n",
    "print(mjd_to_sim)\n",
    "print(filters_to_sim)"
   ]
  },
  {
   "cell_type": "code",
   "execution_count": 21,
   "metadata": {
    "collapsed": false
   },
   "outputs": [],
   "source": [
    "# plt.scatter(mjd_to_sim, np.ones(len(mjd_to_sim)))\n",
    "# plt.scatter([mjdmax], [1])"
   ]
  },
  {
   "cell_type": "code",
   "execution_count": 22,
   "metadata": {
    "collapsed": false
   },
   "outputs": [],
   "source": [
    "# filters_to_sim = np.array([i.replace(utils.b(\"LSST\"), utils.b(\"SDSS\")) for i in filters_to_sim])"
   ]
  },
  {
   "cell_type": "code",
   "execution_count": 29,
   "metadata": {
    "collapsed": false
   },
   "outputs": [],
   "source": [
    "# flux, flux_err = coco.simulate(b\"SN2007uy\", \n",
    "#                     z_obs, 0.0, MW_EBV, host_EBV, 3.1, \n",
    "#                     mjdmax, mjd_to_sim, \n",
    "#                     filters_to_sim)\n",
    "snname = b\"SN2007uy\"\n",
    "# snname = b\"SN2009jf\"\n",
    "flux, flux_err = coco.simulate(snname, \n",
    "                    z_obs, 0.0, MW_EBV, host_EBV, 3.1, \n",
    "                    mjdmax, mjd_to_sim, \n",
    "                    filters_to_sim)\n",
    "# flux, flux_err = coco.simulate(b\"SN2009jf\", \n",
    "#                     z_obs, 0.0, 0.1, 0.1, 3.1, \n",
    "#                     mjdmax, mjd_to_sim, \n",
    "#                     filters_to_sim)"
   ]
  },
  {
   "cell_type": "code",
   "execution_count": 30,
   "metadata": {
    "collapsed": true
   },
   "outputs": [
    {
     "data": {
      "text/plain": [
       "(array([ 0.,  0.,  0.,  0.,  0.,  0.,  0.,  0.,  0.,  0.,  0.,  0.,  0.,\n",
       "         0.,  0.,  0.,  0.,  0.,  0.,  0.,  0.,  0.,  0.,  0.,  0.,  0.,\n",
       "         0.,  0.,  0.,  0.,  0.,  0.,  0.,  0.,  0.,  0.,  0.,  0.,  0.,\n",
       "         0.,  0.,  0.,  0.,  0.,  0.,  0.,  0.,  0.,  0.,  0.,  0.,  0.,\n",
       "         0.,  0.,  0.,  0.,  0.,  0.,  0.,  0.,  0.,  0.,  0.,  0.,  0.,\n",
       "         0.,  0.,  0.,  0.,  0.,  0.,  0.,  0.,  0.,  0.,  0.,  0.,  0.,\n",
       "         0.,  0.,  0.,  0.,  0.,  0.,  0.,  0.,  0.,  0.,  0.,  0.,  0.,\n",
       "         0.,  0.,  0.,  0.,  0.,  0.,  0.,  0.,  0.,  0.,  0.,  0.,  0.,\n",
       "         0.,  0.,  0.,  0.,  0.,  0.,  0.,  0.,  0.,  0.,  0.,  0.,  0.,\n",
       "         0.,  0.,  0.,  0.,  0.,  0.,  0.,  0.,  0.,  0.,  0.,  0.,  0.,\n",
       "         0.,  0.,  0.,  0.,  0.,  0.,  0.,  0.,  0.,  0.,  0.,  0.,  0.,\n",
       "         0.,  0.,  0.,  0.,  0.,  0.,  0.,  0.,  0.,  0.,  0.,  0.,  0.,\n",
       "         0.,  0.,  0.,  0.,  0.,  0.,  0.,  0.,  0.,  0.,  0.,  0.,  0.,\n",
       "         0.,  0.,  0.,  0.,  0.,  0.,  0.,  0.,  0.,  0.,  0.,  0.,  0.,\n",
       "         0.,  0.,  0.,  0.,  0.,  0.,  0.,  0.,  0.,  0.,  0.,  0.,  0.,\n",
       "         0.,  0.,  0.,  0.,  0.,  0.,  0.,  0.,  0.,  0.,  0.,  0.,  0.,\n",
       "         0.,  0.,  0.,  0.,  0.,  0.,  0.,  0.,  0.,  0.,  0.,  0.,  0.,\n",
       "         0.,  0.,  0.,  0.,  0.,  0.,  0.,  0.,  0.,  0.,  0.,  0.,  0.,\n",
       "         0.,  0.,  0.,  0.,  0.,  0.,  0.,  0.,  0.,  0.,  0.,  0.,  0.,\n",
       "         0.,  0.,  0.,  0.,  0.,  0.,  0.,  0.,  0.,  0.,  0.,  0.,  0.,\n",
       "         0.,  0.,  0.,  0.,  0.,  0.,  0.,  0.,  0.,  0.,  0.,  0.,  0.,\n",
       "         0.,  0.,  0.,  0.,  0.,  0.,  0.,  0.,  0.,  0.,  0.,  0.,  0.,\n",
       "         0.,  0.,  0.,  0.,  0.,  0.,  0.,  0.,  0.,  0.,  0.,  0.,  0.,\n",
       "         0.,  0.,  0.,  0.,  0.,  0.,  0.,  0.,  0.,  0.,  0.,  0.,  0.,\n",
       "         0.,  0.,  0.,  0.,  0.,  0.,  0.,  0.,  0.,  0.,  0.,  0.,  0.,\n",
       "         0.,  0.,  0.,  0.,  0.,  0.,  0.,  0.,  0.,  0.,  0.,  0.,  0.,\n",
       "         0.,  0.,  0.,  0.,  0.,  0.,  0.,  0.,  0.,  0.,  0.,  0.,  0.,\n",
       "         0.,  0.,  0.,  0.,  0.,  0.,  0.,  0.,  0.,  0.,  0.,  0.,  0.,\n",
       "         0.,  0.,  0.,  0.,  0.,  0.,  0.,  0.,  0.,  0.,  0.,  0.,  0.,\n",
       "         0.,  0.,  0.,  0.,  0.,  0.,  0.,  0.,  0.,  0.,  0.,  0.,  0.,\n",
       "         0.,  0.,  0.,  0.,  0.,  0.,  0.,  0.,  0.,  0.,  0.,  0.,  0.,\n",
       "         0.,  0.,  0.,  0.,  0.,  0.,  0.,  0.,  0.,  0.,  0.,  0.,  0.,\n",
       "         0.,  0.,  0.,  0.,  0.,  0.,  0.,  0.,  0.,  0.,  0.,  0.,  0.,\n",
       "         0.,  0.,  0.,  0.,  0.,  0.,  0.,  0.,  0.,  0.,  0.,  0.,  0.,\n",
       "         0.,  0.,  0.,  0.,  0.,  0.,  0.,  0.,  0.,  0.,  0.,  0.,  0.,\n",
       "         0.,  0.,  0.,  0.,  0.,  0.,  0.,  0.,  0.,  0.,  0.,  0.,  0.,\n",
       "         0.,  0.,  0.,  0.,  0.,  0.,  0.,  0.,  0.,  0.,  0.,  0.,  0.,\n",
       "         0.,  0.,  0.,  0.,  0.,  0.,  0.,  0.,  0.,  0.,  0.,  0.,  0.,\n",
       "         0.,  0.,  0.,  0.,  0.,  0.,  0.,  0.,  0.,  0.,  0.,  0.,  0.,\n",
       "         0.,  0.,  0.,  0.,  0.,  0.,  0.,  0.,  0.,  0.,  0.,  0.,  0.,\n",
       "         0.,  0.,  0.,  0.,  0.,  0.,  0.,  0.,  0.,  0.,  0.,  0.,  0.,\n",
       "         0.,  0.,  0.,  0.,  0.,  0.,  0.,  0.,  0.,  0.,  0.,  0.,  0.,\n",
       "         0.,  0.,  0.,  0.,  0.,  0.,  0.,  0.,  0.,  0.,  0.,  0.,  0.,\n",
       "         0.,  0.,  0.,  0.,  0.,  0.,  0.,  0.,  0.,  0.,  0.,  0.,  0.,\n",
       "         0.,  0.,  0.,  0.,  0.,  0.,  0.,  0.,  0.,  0.,  0.,  0.,  0.,\n",
       "         0.,  0.,  0.,  0.,  0.,  0.,  0.,  0.,  0.,  0.,  0.,  0.,  0.,\n",
       "         0.,  0.,  0.,  0.,  0.,  0.,  0.,  0.,  0.,  0.,  0.,  0.,  0.,\n",
       "         0.,  0.,  0.,  0.,  0.,  0.,  0.,  0.,  0.,  0.,  0.,  0.,  0.,\n",
       "         0.,  0.,  0.,  0.,  0.,  0.,  0.,  0.,  0.,  0.,  0.,  0.,  0.,\n",
       "         0.,  0.,  0.,  0.,  0.,  0.,  0.,  0.,  0.,  0.,  0.,  0.,  0.,\n",
       "         0.,  0.,  0.,  0.,  0.,  0.,  0.,  0.,  0.,  0.,  0.,  0.,  0.,\n",
       "         0.,  0.,  0.,  0.,  0.,  0.,  0.,  0.,  0.,  0.,  0.,  0.,  0.,\n",
       "         0.,  0.,  0.,  0.,  0.,  0.,  0.,  0.,  0.,  0.,  0.,  0.,  0.,\n",
       "         0.,  0.,  0.,  0.,  0.,  0.,  0.,  0.,  0.,  0.,  0.,  0.,  0.,\n",
       "         0.,  0.,  0.,  0.,  0.,  0.,  0.,  0.,  0.,  0.,  0.,  0.,  0.,\n",
       "         0.,  0.,  0.,  0.,  0.,  0.,  0.,  0.,  0.,  0.,  0.,  0.,  0.,\n",
       "         0.,  0.,  0.,  0.,  0.,  0.,  0.,  0.,  0.,  0.,  0.,  0.,  0.,\n",
       "         0.,  0.,  0.,  0.,  0.,  0.,  0.,  0.,  0.,  0.,  0.,  0.,  0.,\n",
       "         0.,  0.,  0.,  0.,  0.,  0.,  0.,  0.,  0.,  0.,  0.,  0.,  0.,\n",
       "         0.,  0.,  0.,  0.,  0.,  0.,  0.,  0.,  0.,  0.,  0.,  0.,  0.,\n",
       "         0.,  0.,  0.,  0.,  0.,  0.,  0.,  0.,  0.,  0.,  0.,  0.,  0.,\n",
       "         0.,  0.,  0.,  0.,  0.,  0.,  0.,  0.,  0.,  0.,  0.,  0.,  0.,\n",
       "         0.,  0.,  0.,  0.,  0.,  0.,  0.,  0.,  0.,  0.,  0.,  0.,  0.,\n",
       "         0.,  0.,  0.,  0.,  0.,  0.,  0.,  0.,  0.,  0.,  0.,  0.,  0.,\n",
       "         0.,  0.,  0.,  0.,  0.,  0.,  0.,  0.,  0.,  0.,  0.,  0.,  0.,\n",
       "         0.,  0.,  0.,  0.,  0.,  0.,  0.,  0.,  0.,  0.,  0.,  0.,  0.,\n",
       "         0.,  0.,  0.,  0.,  0.,  0.,  0.,  0.,  0.,  0.,  0.,  0.,  0.,\n",
       "         0.,  0.,  0.,  0.,  0.,  0.,  0.,  0.,  0.,  0.,  0.,  0.,  0.,\n",
       "         0.,  0.,  0.,  0.,  0.,  0.,  0.,  0.,  0.,  0.,  0.,  0.,  0.,\n",
       "         0.,  0.,  0.]),\n",
       " array([ 0.,  0.,  0.,  0.,  0.,  0.,  0.,  0.,  0.,  0.,  0.,  0.,  0.,\n",
       "         0.,  0.,  0.,  0.,  0.,  0.,  0.,  0.,  0.,  0.,  0.,  0.,  0.,\n",
       "         0.,  0.,  0.,  0.,  0.,  0.,  0.,  0.,  0.,  0.,  0.,  0.,  0.,\n",
       "         0.,  0.,  0.,  0.,  0.,  0.,  0.,  0.,  0.,  0.,  0.,  0.,  0.,\n",
       "         0.,  0.,  0.,  0.,  0.,  0.,  0.,  0.,  0.,  0.,  0.,  0.,  0.,\n",
       "         0.,  0.,  0.,  0.,  0.,  0.,  0.,  0.,  0.,  0.,  0.,  0.,  0.,\n",
       "         0.,  0.,  0.,  0.,  0.,  0.,  0.,  0.,  0.,  0.,  0.,  0.,  0.,\n",
       "         0.,  0.,  0.,  0.,  0.,  0.,  0.,  0.,  0.,  0.,  0.,  0.,  0.,\n",
       "         0.,  0.,  0.,  0.,  0.,  0.,  0.,  0.,  0.,  0.,  0.,  0.,  0.,\n",
       "         0.,  0.,  0.,  0.,  0.,  0.,  0.,  0.,  0.,  0.,  0.,  0.,  0.,\n",
       "         0.,  0.,  0.,  0.,  0.,  0.,  0.,  0.,  0.,  0.,  0.,  0.,  0.,\n",
       "         0.,  0.,  0.,  0.,  0.,  0.,  0.,  0.,  0.,  0.,  0.,  0.,  0.,\n",
       "         0.,  0.,  0.,  0.,  0.,  0.,  0.,  0.,  0.,  0.,  0.,  0.,  0.,\n",
       "         0.,  0.,  0.,  0.,  0.,  0.,  0.,  0.,  0.,  0.,  0.,  0.,  0.,\n",
       "         0.,  0.,  0.,  0.,  0.,  0.,  0.,  0.,  0.,  0.,  0.,  0.,  0.,\n",
       "         0.,  0.,  0.,  0.,  0.,  0.,  0.,  0.,  0.,  0.,  0.,  0.,  0.,\n",
       "         0.,  0.,  0.,  0.,  0.,  0.,  0.,  0.,  0.,  0.,  0.,  0.,  0.,\n",
       "         0.,  0.,  0.,  0.,  0.,  0.,  0.,  0.,  0.,  0.,  0.,  0.,  0.,\n",
       "         0.,  0.,  0.,  0.,  0.,  0.,  0.,  0.,  0.,  0.,  0.,  0.,  0.,\n",
       "         0.,  0.,  0.,  0.,  0.,  0.,  0.,  0.,  0.,  0.,  0.,  0.,  0.,\n",
       "         0.,  0.,  0.,  0.,  0.,  0.,  0.,  0.,  0.,  0.,  0.,  0.,  0.,\n",
       "         0.,  0.,  0.,  0.,  0.,  0.,  0.,  0.,  0.,  0.,  0.,  0.,  0.,\n",
       "         0.,  0.,  0.,  0.,  0.,  0.,  0.,  0.,  0.,  0.,  0.,  0.,  0.,\n",
       "         0.,  0.,  0.,  0.,  0.,  0.,  0.,  0.,  0.,  0.,  0.,  0.,  0.,\n",
       "         0.,  0.,  0.,  0.,  0.,  0.,  0.,  0.,  0.,  0.,  0.,  0.,  0.,\n",
       "         0.,  0.,  0.,  0.,  0.,  0.,  0.,  0.,  0.,  0.,  0.,  0.,  0.,\n",
       "         0.,  0.,  0.,  0.,  0.,  0.,  0.,  0.,  0.,  0.,  0.,  0.,  0.,\n",
       "         0.,  0.,  0.,  0.,  0.,  0.,  0.,  0.,  0.,  0.,  0.,  0.,  0.,\n",
       "         0.,  0.,  0.,  0.,  0.,  0.,  0.,  0.,  0.,  0.,  0.,  0.,  0.,\n",
       "         0.,  0.,  0.,  0.,  0.,  0.,  0.,  0.,  0.,  0.,  0.,  0.,  0.,\n",
       "         0.,  0.,  0.,  0.,  0.,  0.,  0.,  0.,  0.,  0.,  0.,  0.,  0.,\n",
       "         0.,  0.,  0.,  0.,  0.,  0.,  0.,  0.,  0.,  0.,  0.,  0.,  0.,\n",
       "         0.,  0.,  0.,  0.,  0.,  0.,  0.,  0.,  0.,  0.,  0.,  0.,  0.,\n",
       "         0.,  0.,  0.,  0.,  0.,  0.,  0.,  0.,  0.,  0.,  0.,  0.,  0.,\n",
       "         0.,  0.,  0.,  0.,  0.,  0.,  0.,  0.,  0.,  0.,  0.,  0.,  0.,\n",
       "         0.,  0.,  0.,  0.,  0.,  0.,  0.,  0.,  0.,  0.,  0.,  0.,  0.,\n",
       "         0.,  0.,  0.,  0.,  0.,  0.,  0.,  0.,  0.,  0.,  0.,  0.,  0.,\n",
       "         0.,  0.,  0.,  0.,  0.,  0.,  0.,  0.,  0.,  0.,  0.,  0.,  0.,\n",
       "         0.,  0.,  0.,  0.,  0.,  0.,  0.,  0.,  0.,  0.,  0.,  0.,  0.,\n",
       "         0.,  0.,  0.,  0.,  0.,  0.,  0.,  0.,  0.,  0.,  0.,  0.,  0.,\n",
       "         0.,  0.,  0.,  0.,  0.,  0.,  0.,  0.,  0.,  0.,  0.,  0.,  0.,\n",
       "         0.,  0.,  0.,  0.,  0.,  0.,  0.,  0.,  0.,  0.,  0.,  0.,  0.,\n",
       "         0.,  0.,  0.,  0.,  0.,  0.,  0.,  0.,  0.,  0.,  0.,  0.,  0.,\n",
       "         0.,  0.,  0.,  0.,  0.,  0.,  0.,  0.,  0.,  0.,  0.,  0.,  0.,\n",
       "         0.,  0.,  0.,  0.,  0.,  0.,  0.,  0.,  0.,  0.,  0.,  0.,  0.,\n",
       "         0.,  0.,  0.,  0.,  0.,  0.,  0.,  0.,  0.,  0.,  0.,  0.,  0.,\n",
       "         0.,  0.,  0.,  0.,  0.,  0.,  0.,  0.,  0.,  0.,  0.,  0.,  0.,\n",
       "         0.,  0.,  0.,  0.,  0.,  0.,  0.,  0.,  0.,  0.,  0.,  0.,  0.,\n",
       "         0.,  0.,  0.,  0.,  0.,  0.,  0.,  0.,  0.,  0.,  0.,  0.,  0.,\n",
       "         0.,  0.,  0.,  0.,  0.,  0.,  0.,  0.,  0.,  0.,  0.,  0.,  0.,\n",
       "         0.,  0.,  0.,  0.,  0.,  0.,  0.,  0.,  0.,  0.,  0.,  0.,  0.,\n",
       "         0.,  0.,  0.,  0.,  0.,  0.,  0.,  0.,  0.,  0.,  0.,  0.,  0.,\n",
       "         0.,  0.,  0.,  0.,  0.,  0.,  0.,  0.,  0.,  0.,  0.,  0.,  0.,\n",
       "         0.,  0.,  0.,  0.,  0.,  0.,  0.,  0.,  0.,  0.,  0.,  0.,  0.,\n",
       "         0.,  0.,  0.,  0.,  0.,  0.,  0.,  0.,  0.,  0.,  0.,  0.,  0.,\n",
       "         0.,  0.,  0.,  0.,  0.,  0.,  0.,  0.,  0.,  0.,  0.,  0.,  0.,\n",
       "         0.,  0.,  0.,  0.,  0.,  0.,  0.,  0.,  0.,  0.,  0.,  0.,  0.,\n",
       "         0.,  0.,  0.,  0.,  0.,  0.,  0.,  0.,  0.,  0.,  0.,  0.,  0.,\n",
       "         0.,  0.,  0.,  0.,  0.,  0.,  0.,  0.,  0.,  0.,  0.,  0.,  0.,\n",
       "         0.,  0.,  0.,  0.,  0.,  0.,  0.,  0.,  0.,  0.,  0.,  0.,  0.,\n",
       "         0.,  0.,  0.,  0.,  0.,  0.,  0.,  0.,  0.,  0.,  0.,  0.,  0.,\n",
       "         0.,  0.,  0.,  0.,  0.,  0.,  0.,  0.,  0.,  0.,  0.,  0.,  0.,\n",
       "         0.,  0.,  0.,  0.,  0.,  0.,  0.,  0.,  0.,  0.,  0.,  0.,  0.,\n",
       "         0.,  0.,  0.,  0.,  0.,  0.,  0.,  0.,  0.,  0.,  0.,  0.,  0.,\n",
       "         0.,  0.,  0.,  0.,  0.,  0.,  0.,  0.,  0.,  0.,  0.,  0.,  0.,\n",
       "         0.,  0.,  0.,  0.,  0.,  0.,  0.,  0.,  0.,  0.,  0.,  0.,  0.,\n",
       "         0.,  0.,  0.,  0.,  0.,  0.,  0.,  0.,  0.,  0.,  0.,  0.,  0.,\n",
       "         0.,  0.,  0.,  0.,  0.,  0.,  0.,  0.,  0.,  0.,  0.,  0.,  0.,\n",
       "         0.,  0.,  0.,  0.,  0.,  0.,  0.,  0.,  0.,  0.,  0.,  0.,  0.,\n",
       "         0.,  0.,  0.]))"
      ]
     },
     "execution_count": 30,
     "metadata": {},
     "output_type": "execute_result"
    }
   ],
   "source": [
    "flux, flux_err"
   ]
  },
  {
   "cell_type": "code",
   "execution_count": 25,
   "metadata": {
    "collapsed": false
   },
   "outputs": [
    {
     "name": "stdout",
     "output_type": "stream",
     "text": [
      "0.0\n"
     ]
    }
   ],
   "source": [
    "print(np.nanmax(flux))"
   ]
  },
  {
   "cell_type": "code",
   "execution_count": null,
   "metadata": {
    "collapsed": false
   },
   "outputs": [],
   "source": [
    "reload(pcc.classes)"
   ]
  },
  {
   "cell_type": "code",
   "execution_count": null,
   "metadata": {
    "collapsed": false
   },
   "outputs": [],
   "source": [
    "p = pcc.PhotometryClass()\n",
    "phot_table = pcc.utils.simulate_out_to_ap_table(mjd_to_sim, flux, flux_err, filters_to_sim)\n",
    "phot_table = phot_table[np.where(phot_table[\"flux\"] > 1e-20)]\n",
    "p.load_table(phot_table)"
   ]
  },
  {
   "cell_type": "code",
   "execution_count": null,
   "metadata": {
    "collapsed": false
   },
   "outputs": [],
   "source": [
    "p.plot(xlim = [59950, 60100])"
   ]
  },
  {
   "cell_type": "code",
   "execution_count": null,
   "metadata": {
    "collapsed": false
   },
   "outputs": [],
   "source": [
    "p.data"
   ]
  },
  {
   "cell_type": "code",
   "execution_count": null,
   "metadata": {
    "collapsed": true
   },
   "outputs": [],
   "source": [
    "t = pcc.utils.simulate_out_to_ap_table(mjd_to_sim, flux, flux_err, filters_to_sim)"
   ]
  },
  {
   "cell_type": "code",
   "execution_count": null,
   "metadata": {
    "collapsed": false
   },
   "outputs": [],
   "source": [
    "t[np.logical_and(t[\"filter\"] != \"SDSS_y\", t[\"filter\"]!= \"SDSS_z\")]"
   ]
  },
  {
   "cell_type": "code",
   "execution_count": null,
   "metadata": {
    "collapsed": false
   },
   "outputs": [],
   "source": [
    "p = pcc.PhotometryClass()\n",
    "pt = pcc.utils.simulate_out_to_ap_table(mjd_to_sim, flux, flux_err, filters_to_sim)\n",
    "pt_lim_m = pt\n",
    "pt_lim_m[\"fivesigmadepth\"] = limiting_mags"
   ]
  },
  {
   "cell_type": "code",
   "execution_count": null,
   "metadata": {
    "collapsed": false
   },
   "outputs": [],
   "source": [
    "pt = pt_lim_m[np.where(pt_lim_m[\"flux\"] > 1e-22)]"
   ]
  },
  {
   "cell_type": "code",
   "execution_count": null,
   "metadata": {
    "collapsed": false
   },
   "outputs": [],
   "source": [
    "pt"
   ]
  },
  {
   "cell_type": "code",
   "execution_count": null,
   "metadata": {
    "collapsed": false,
    "scrolled": true
   },
   "outputs": [],
   "source": [
    "days_before = 40\n",
    "days_after = 100\n",
    "print(mjdmax)\n",
    "w = np.where(np.logical_and(pt[\"MJD\"] > mjdmax - days_before, pt[\"MJD\"] < mjdmax + days_after))\n",
    "print(w)\n",
    "pt[w]"
   ]
  },
  {
   "cell_type": "code",
   "execution_count": null,
   "metadata": {
    "collapsed": false
   },
   "outputs": [],
   "source": [
    "print(snname)\n",
    "print(chosenfield)\n",
    "print(z_obs)\n",
    "print(extinction)\n",
    "print(opsimdbpath)\n",
    "print(mjdmax)"
   ]
  },
  {
   "cell_type": "code",
   "execution_count": null,
   "metadata": {
    "collapsed": false
   },
   "outputs": [],
   "source": [
    "reload(pcc)\n",
    "reload(pcc.classes)\n",
    "# reload(pcc.utils)"
   ]
  },
  {
   "cell_type": "code",
   "execution_count": null,
   "metadata": {
    "collapsed": true
   },
   "outputs": [],
   "source": []
  },
  {
   "cell_type": "code",
   "execution_count": null,
   "metadata": {
    "collapsed": false
   },
   "outputs": [],
   "source": [
    "p.load_table(pt[w], verbose= True)\n",
    "\n",
    "\n",
    "p.plot()"
   ]
  },
  {
   "cell_type": "code",
   "execution_count": null,
   "metadata": {
    "collapsed": false
   },
   "outputs": [],
   "source": [
    "p.unpack(verbose = True)"
   ]
  },
  {
   "cell_type": "code",
   "execution_count": null,
   "metadata": {
    "collapsed": true
   },
   "outputs": [],
   "source": [
    "phot_table = p.phot.loc[\"filter\", \"LSST_u\"]"
   ]
  },
  {
   "cell_type": "code",
   "execution_count": null,
   "metadata": {
    "collapsed": false
   },
   "outputs": [],
   "source": [
    "phot_table"
   ]
  },
  {
   "cell_type": "code",
   "execution_count": null,
   "metadata": {
    "collapsed": false
   },
   "outputs": [],
   "source": [
    "phot_table.meta[\"filter_filename\"] = \"foo\""
   ]
  },
  {
   "cell_type": "code",
   "execution_count": null,
   "metadata": {
    "collapsed": false
   },
   "outputs": [],
   "source": [
    "pt[w]"
   ]
  },
  {
   "cell_type": "code",
   "execution_count": null,
   "metadata": {
    "collapsed": false
   },
   "outputs": [],
   "source": [
    "# filter_file_type = '.dat'\n",
    "# filter_names = np.unique(pt[w][\"filter\"])\n",
    "# print(filter_names)\n",
    "# pt.add_index('filter', unique = True)\n",
    "# for filter_name in filter_names:\n",
    "# #     phot_table = self.phot.loc[\"filter\", filter_name]\n",
    "#     filter_filename = filter_name + filter_file_type\n",
    "#     print(filter_filename)"
   ]
  },
  {
   "cell_type": "code",
   "execution_count": null,
   "metadata": {
    "collapsed": false
   },
   "outputs": [],
   "source": [
    "# reload(pcc)\n",
    "# phot = pcc.PhotometryClass()\n",
    "# infile = \"/Users/berto/projects/LSST/cadence/lightcurves/SNSim_0002_minion_1016_SN2007uy_z=02_EBVMW=0029_EBVHOST=01_fieldID=2297WFD.dat\"\n",
    "# phot.load(path = infile, names = (\"MJD\", \"flux\", \"flux_err\", \"filter\", \"fivesigmadepth\"), verbose = True)\n",
    "# # phot.load_phot_from_file(path = infile, format = \"ascii.commented_header\")\n",
    "\n",
    "# phot.unpack(verbose = True)"
   ]
  },
  {
   "cell_type": "code",
   "execution_count": null,
   "metadata": {
    "collapsed": false
   },
   "outputs": [],
   "source": [
    "# phot.data"
   ]
  },
  {
   "cell_type": "code",
   "execution_count": null,
   "metadata": {
    "collapsed": false
   },
   "outputs": [],
   "source": [
    "# phot_table = Table.read(infile, names = (\"MJD\", \"flux\", \"flux_err\", \"filter\", \"fivesigmadepth\"), format = \"ascii\")"
   ]
  },
  {
   "cell_type": "code",
   "execution_count": null,
   "metadata": {
    "collapsed": false
   },
   "outputs": [],
   "source": [
    "# phot_table.meta[\"filename\"] = infile\n",
    "\n",
    "# phot_table[\"MJD\"].unit = u.day\n",
    "# phot_table[\"flux\"].unit = u.cgs.erg / u.si.angstrom / u.si.cm ** 2 / u.si.s\n",
    "# phot_table[\"flux_err\"].unit =  phot_table[\"flux\"].unit"
   ]
  },
  {
   "cell_type": "code",
   "execution_count": null,
   "metadata": {
    "collapsed": false
   },
   "outputs": [],
   "source": [
    "# reload(pcc)\n",
    "# p = pcc.PhotometryClass()\n",
    "# p.load_table(phot_table, verbose = True)"
   ]
  },
  {
   "cell_type": "code",
   "execution_count": null,
   "metadata": {
    "collapsed": true
   },
   "outputs": [],
   "source": []
  }
 ],
 "metadata": {
  "kernelspec": {
   "display_name": "Python 3",
   "language": "python",
   "name": "python3"
  },
  "language_info": {
   "codemirror_mode": {
    "name": "ipython",
    "version": 3
   },
   "file_extension": ".py",
   "mimetype": "text/x-python",
   "name": "python",
   "nbconvert_exporter": "python",
   "pygments_lexer": "ipython3",
   "version": "3.6.0"
  }
 },
 "nbformat": 4,
 "nbformat_minor": 2
}
