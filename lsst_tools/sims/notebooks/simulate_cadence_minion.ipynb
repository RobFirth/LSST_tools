{
 "cells": [
  {
   "cell_type": "markdown",
   "metadata": {},
   "source": [
    "# Get a LSST Simulated Cadence for Arbitrary Sky Position\n",
    "___\n",
    "\n",
    "\n",
    "___"
   ]
  },
  {
   "cell_type": "code",
   "execution_count": 2,
   "metadata": {
    "collapsed": false
   },
   "outputs": [],
   "source": [
    "\"\"\"\n",
    "\n",
    "\"\"\"\n",
    "# %matplotlib inline\n",
    "%matplotlib notebook\n",
    "\n",
    "\n",
    "from __future__ import print_function\n",
    "\n",
    "try:\n",
    "    from importlib import reload\n",
    "except:\n",
    "    pass\n",
    "\n",
    "\n",
    "from matplotlib import pyplot as plt\n",
    "import matplotlib.colors as mpl_colors \n",
    "from matplotlib import colorbar as mpl_colorbar\n",
    "from matplotlib import rc\n",
    "rc('text', usetex=True)\n",
    "\n",
    "import os\n",
    "import warnings\n",
    "\n",
    "import numpy as np\n",
    "import pandas as pd\n",
    "import astropy as ap\n",
    "import sfdmap\n",
    "\n",
    "import sqlite3\n",
    "from sqlalchemy import create_engine\n",
    "\n",
    "from astropy import units as u\n",
    "from astropy.coordinates import SkyCoord\n",
    "\n",
    "import lsst_tools.utils as utils \n",
    "import lsst_tools.utils.colours as colours \n",
    "\n",
    "from multiprocessing import Pool, cpu_count\n",
    "from contextlib import closing"
   ]
  },
  {
   "cell_type": "markdown",
   "metadata": {},
   "source": [
    "Connect to .db file that contains the opsim output, read into a dataframe, `opsimdf`"
   ]
  },
  {
   "cell_type": "code",
   "execution_count": 3,
   "metadata": {
    "collapsed": false
   },
   "outputs": [],
   "source": [
    "# %%timeit ## 1 loop, best of 3: 1min 31s per loop \n",
    "# opsimdbpath = os.environ.get('OPSIMDBPATH')\n",
    "# print(opsimdbpath)\n",
    "opsimdbpath = \"/Users/berto/data/LSST/OpSimOutputDBs/minion_1016_sqlite.db\"\n",
    "\n",
    "conn = create_engine('sqlite:///'+opsimdbpath, echo = False)\n",
    "opsimdf = pd.read_sql_table('Summary', con=conn)"
   ]
  },
  {
   "cell_type": "code",
   "execution_count": 5,
   "metadata": {
    "collapsed": false
   },
   "outputs": [
    {
     "data": {
      "text/html": [
       "<div>\n",
       "<table border=\"1\" class=\"dataframe\">\n",
       "  <thead>\n",
       "    <tr style=\"text-align: right;\">\n",
       "      <th></th>\n",
       "      <th>obsHistID</th>\n",
       "      <th>sessionID</th>\n",
       "      <th>propID</th>\n",
       "      <th>fieldID</th>\n",
       "      <th>fieldRA</th>\n",
       "      <th>fieldDec</th>\n",
       "      <th>filter</th>\n",
       "      <th>expDate</th>\n",
       "      <th>expMJD</th>\n",
       "      <th>night</th>\n",
       "      <th>...</th>\n",
       "      <th>moonBright</th>\n",
       "      <th>darkBright</th>\n",
       "      <th>rawSeeing</th>\n",
       "      <th>wind</th>\n",
       "      <th>humidity</th>\n",
       "      <th>slewDist</th>\n",
       "      <th>slewTime</th>\n",
       "      <th>fiveSigmaDepth</th>\n",
       "      <th>ditheredRA</th>\n",
       "      <th>ditheredDec</th>\n",
       "    </tr>\n",
       "  </thead>\n",
       "  <tbody>\n",
       "    <tr>\n",
       "      <th>0</th>\n",
       "      <td>1</td>\n",
       "      <td>1016</td>\n",
       "      <td>54</td>\n",
       "      <td>316</td>\n",
       "      <td>1.676483</td>\n",
       "      <td>-1.082473</td>\n",
       "      <td>y</td>\n",
       "      <td>2922</td>\n",
       "      <td>59580.033829</td>\n",
       "      <td>0</td>\n",
       "      <td>...</td>\n",
       "      <td>0.0</td>\n",
       "      <td>105.610378</td>\n",
       "      <td>0.920473</td>\n",
       "      <td>0.0</td>\n",
       "      <td>0.0</td>\n",
       "      <td>1.620307</td>\n",
       "      <td>0.000000</td>\n",
       "      <td>21.021236</td>\n",
       "      <td>1.643930</td>\n",
       "      <td>-1.108924</td>\n",
       "    </tr>\n",
       "    <tr>\n",
       "      <th>1</th>\n",
       "      <td>2</td>\n",
       "      <td>1016</td>\n",
       "      <td>54</td>\n",
       "      <td>372</td>\n",
       "      <td>1.694120</td>\n",
       "      <td>-1.033972</td>\n",
       "      <td>y</td>\n",
       "      <td>2961</td>\n",
       "      <td>59580.034275</td>\n",
       "      <td>0</td>\n",
       "      <td>...</td>\n",
       "      <td>0.0</td>\n",
       "      <td>105.167017</td>\n",
       "      <td>0.920473</td>\n",
       "      <td>0.0</td>\n",
       "      <td>0.0</td>\n",
       "      <td>0.049266</td>\n",
       "      <td>4.574944</td>\n",
       "      <td>21.026646</td>\n",
       "      <td>1.664257</td>\n",
       "      <td>-1.060423</td>\n",
       "    </tr>\n",
       "    <tr>\n",
       "      <th>2</th>\n",
       "      <td>3</td>\n",
       "      <td>1016</td>\n",
       "      <td>54</td>\n",
       "      <td>441</td>\n",
       "      <td>1.708513</td>\n",
       "      <td>-0.985271</td>\n",
       "      <td>y</td>\n",
       "      <td>2999</td>\n",
       "      <td>59580.034722</td>\n",
       "      <td>0</td>\n",
       "      <td>...</td>\n",
       "      <td>0.0</td>\n",
       "      <td>104.849578</td>\n",
       "      <td>0.920473</td>\n",
       "      <td>0.0</td>\n",
       "      <td>0.0</td>\n",
       "      <td>0.049298</td>\n",
       "      <td>4.595615</td>\n",
       "      <td>21.030520</td>\n",
       "      <td>1.680878</td>\n",
       "      <td>-1.011722</td>\n",
       "    </tr>\n",
       "    <tr>\n",
       "      <th>3</th>\n",
       "      <td>4</td>\n",
       "      <td>1016</td>\n",
       "      <td>54</td>\n",
       "      <td>505</td>\n",
       "      <td>1.720374</td>\n",
       "      <td>-0.936476</td>\n",
       "      <td>y</td>\n",
       "      <td>3038</td>\n",
       "      <td>59580.035169</td>\n",
       "      <td>0</td>\n",
       "      <td>...</td>\n",
       "      <td>0.0</td>\n",
       "      <td>104.669398</td>\n",
       "      <td>0.920473</td>\n",
       "      <td>0.0</td>\n",
       "      <td>0.0</td>\n",
       "      <td>0.049266</td>\n",
       "      <td>4.605366</td>\n",
       "      <td>21.032718</td>\n",
       "      <td>1.694604</td>\n",
       "      <td>-0.962927</td>\n",
       "    </tr>\n",
       "    <tr>\n",
       "      <th>4</th>\n",
       "      <td>5</td>\n",
       "      <td>1016</td>\n",
       "      <td>54</td>\n",
       "      <td>587</td>\n",
       "      <td>1.730248</td>\n",
       "      <td>-0.887672</td>\n",
       "      <td>y</td>\n",
       "      <td>3077</td>\n",
       "      <td>59580.035616</td>\n",
       "      <td>0</td>\n",
       "      <td>...</td>\n",
       "      <td>0.0</td>\n",
       "      <td>104.627207</td>\n",
       "      <td>0.920473</td>\n",
       "      <td>0.0</td>\n",
       "      <td>0.0</td>\n",
       "      <td>0.049177</td>\n",
       "      <td>4.604023</td>\n",
       "      <td>21.033233</td>\n",
       "      <td>1.706054</td>\n",
       "      <td>-0.914123</td>\n",
       "    </tr>\n",
       "  </tbody>\n",
       "</table>\n",
       "<p>5 rows × 47 columns</p>\n",
       "</div>"
      ],
      "text/plain": [
       "   obsHistID  sessionID  propID  fieldID   fieldRA  fieldDec filter  expDate  \\\n",
       "0          1       1016      54      316  1.676483 -1.082473      y     2922   \n",
       "1          2       1016      54      372  1.694120 -1.033972      y     2961   \n",
       "2          3       1016      54      441  1.708513 -0.985271      y     2999   \n",
       "3          4       1016      54      505  1.720374 -0.936476      y     3038   \n",
       "4          5       1016      54      587  1.730248 -0.887672      y     3077   \n",
       "\n",
       "         expMJD  night     ...       moonBright  darkBright  rawSeeing  wind  \\\n",
       "0  59580.033829      0     ...              0.0  105.610378   0.920473   0.0   \n",
       "1  59580.034275      0     ...              0.0  105.167017   0.920473   0.0   \n",
       "2  59580.034722      0     ...              0.0  104.849578   0.920473   0.0   \n",
       "3  59580.035169      0     ...              0.0  104.669398   0.920473   0.0   \n",
       "4  59580.035616      0     ...              0.0  104.627207   0.920473   0.0   \n",
       "\n",
       "   humidity  slewDist  slewTime  fiveSigmaDepth  ditheredRA  ditheredDec  \n",
       "0       0.0  1.620307  0.000000       21.021236    1.643930    -1.108924  \n",
       "1       0.0  0.049266  4.574944       21.026646    1.664257    -1.060423  \n",
       "2       0.0  0.049298  4.595615       21.030520    1.680878    -1.011722  \n",
       "3       0.0  0.049266  4.605366       21.032718    1.694604    -0.962927  \n",
       "4       0.0  0.049177  4.604023       21.033233    1.706054    -0.914123  \n",
       "\n",
       "[5 rows x 47 columns]"
      ]
     },
     "execution_count": 5,
     "metadata": {},
     "output_type": "execute_result"
    }
   ],
   "source": [
    "opsimdf.head()"
   ]
  },
  {
   "cell_type": "code",
   "execution_count": 6,
   "metadata": {
    "collapsed": false
   },
   "outputs": [
    {
     "data": {
      "text/plain": [
       "3339"
      ]
     },
     "execution_count": 6,
     "metadata": {},
     "output_type": "execute_result"
    }
   ],
   "source": [
    "len(opsimdf[\"fieldID\"].unique())"
   ]
  },
  {
   "cell_type": "code",
   "execution_count": 7,
   "metadata": {
    "collapsed": false
   },
   "outputs": [],
   "source": [
    "#%%timeit ## The slowest run took 39.04 times longer than the fastest. This could mean that an intermediate result is being cached.\n",
    "#         ## 1000 loops, best of 3: 246 µs per loop\n",
    "n = 1\n",
    "pos_df = utils.generate_coordinates(n)"
   ]
  },
  {
   "cell_type": "markdown",
   "metadata": {},
   "source": [
    "Add extinction to the dataframe"
   ]
  },
  {
   "cell_type": "code",
   "execution_count": 8,
   "metadata": {
    "collapsed": false
   },
   "outputs": [],
   "source": [
    "#%%timeit ## 1 loop, best of 3: 88.6 ms per loop\n",
    "df = utils.find_MW_extinction(pos_df) "
   ]
  },
  {
   "cell_type": "markdown",
   "metadata": {},
   "source": [
    "Check the positions are sensible"
   ]
  },
  {
   "cell_type": "code",
   "execution_count": 10,
   "metadata": {
    "collapsed": false
   },
   "outputs": [
    {
     "data": {
      "application/javascript": [
       "/* Put everything inside the global mpl namespace */\n",
       "window.mpl = {};\n",
       "\n",
       "\n",
       "mpl.get_websocket_type = function() {\n",
       "    if (typeof(WebSocket) !== 'undefined') {\n",
       "        return WebSocket;\n",
       "    } else if (typeof(MozWebSocket) !== 'undefined') {\n",
       "        return MozWebSocket;\n",
       "    } else {\n",
       "        alert('Your browser does not have WebSocket support.' +\n",
       "              'Please try Chrome, Safari or Firefox ≥ 6. ' +\n",
       "              'Firefox 4 and 5 are also supported but you ' +\n",
       "              'have to enable WebSockets in about:config.');\n",
       "    };\n",
       "}\n",
       "\n",
       "mpl.figure = function(figure_id, websocket, ondownload, parent_element) {\n",
       "    this.id = figure_id;\n",
       "\n",
       "    this.ws = websocket;\n",
       "\n",
       "    this.supports_binary = (this.ws.binaryType != undefined);\n",
       "\n",
       "    if (!this.supports_binary) {\n",
       "        var warnings = document.getElementById(\"mpl-warnings\");\n",
       "        if (warnings) {\n",
       "            warnings.style.display = 'block';\n",
       "            warnings.textContent = (\n",
       "                \"This browser does not support binary websocket messages. \" +\n",
       "                    \"Performance may be slow.\");\n",
       "        }\n",
       "    }\n",
       "\n",
       "    this.imageObj = new Image();\n",
       "\n",
       "    this.context = undefined;\n",
       "    this.message = undefined;\n",
       "    this.canvas = undefined;\n",
       "    this.rubberband_canvas = undefined;\n",
       "    this.rubberband_context = undefined;\n",
       "    this.format_dropdown = undefined;\n",
       "\n",
       "    this.image_mode = 'full';\n",
       "\n",
       "    this.root = $('<div/>');\n",
       "    this._root_extra_style(this.root)\n",
       "    this.root.attr('style', 'display: inline-block');\n",
       "\n",
       "    $(parent_element).append(this.root);\n",
       "\n",
       "    this._init_header(this);\n",
       "    this._init_canvas(this);\n",
       "    this._init_toolbar(this);\n",
       "\n",
       "    var fig = this;\n",
       "\n",
       "    this.waiting = false;\n",
       "\n",
       "    this.ws.onopen =  function () {\n",
       "            fig.send_message(\"supports_binary\", {value: fig.supports_binary});\n",
       "            fig.send_message(\"send_image_mode\", {});\n",
       "            if (mpl.ratio != 1) {\n",
       "                fig.send_message(\"set_dpi_ratio\", {'dpi_ratio': mpl.ratio});\n",
       "            }\n",
       "            fig.send_message(\"refresh\", {});\n",
       "        }\n",
       "\n",
       "    this.imageObj.onload = function() {\n",
       "            if (fig.image_mode == 'full') {\n",
       "                // Full images could contain transparency (where diff images\n",
       "                // almost always do), so we need to clear the canvas so that\n",
       "                // there is no ghosting.\n",
       "                fig.context.clearRect(0, 0, fig.canvas.width, fig.canvas.height);\n",
       "            }\n",
       "            fig.context.drawImage(fig.imageObj, 0, 0);\n",
       "        };\n",
       "\n",
       "    this.imageObj.onunload = function() {\n",
       "        this.ws.close();\n",
       "    }\n",
       "\n",
       "    this.ws.onmessage = this._make_on_message_function(this);\n",
       "\n",
       "    this.ondownload = ondownload;\n",
       "}\n",
       "\n",
       "mpl.figure.prototype._init_header = function() {\n",
       "    var titlebar = $(\n",
       "        '<div class=\"ui-dialog-titlebar ui-widget-header ui-corner-all ' +\n",
       "        'ui-helper-clearfix\"/>');\n",
       "    var titletext = $(\n",
       "        '<div class=\"ui-dialog-title\" style=\"width: 100%; ' +\n",
       "        'text-align: center; padding: 3px;\"/>');\n",
       "    titlebar.append(titletext)\n",
       "    this.root.append(titlebar);\n",
       "    this.header = titletext[0];\n",
       "}\n",
       "\n",
       "\n",
       "\n",
       "mpl.figure.prototype._canvas_extra_style = function(canvas_div) {\n",
       "\n",
       "}\n",
       "\n",
       "\n",
       "mpl.figure.prototype._root_extra_style = function(canvas_div) {\n",
       "\n",
       "}\n",
       "\n",
       "mpl.figure.prototype._init_canvas = function() {\n",
       "    var fig = this;\n",
       "\n",
       "    var canvas_div = $('<div/>');\n",
       "\n",
       "    canvas_div.attr('style', 'position: relative; clear: both; outline: 0');\n",
       "\n",
       "    function canvas_keyboard_event(event) {\n",
       "        return fig.key_event(event, event['data']);\n",
       "    }\n",
       "\n",
       "    canvas_div.keydown('key_press', canvas_keyboard_event);\n",
       "    canvas_div.keyup('key_release', canvas_keyboard_event);\n",
       "    this.canvas_div = canvas_div\n",
       "    this._canvas_extra_style(canvas_div)\n",
       "    this.root.append(canvas_div);\n",
       "\n",
       "    var canvas = $('<canvas/>');\n",
       "    canvas.addClass('mpl-canvas');\n",
       "    canvas.attr('style', \"left: 0; top: 0; z-index: 0; outline: 0\")\n",
       "\n",
       "    this.canvas = canvas[0];\n",
       "    this.context = canvas[0].getContext(\"2d\");\n",
       "\n",
       "    var backingStore = this.context.backingStorePixelRatio ||\n",
       "\tthis.context.webkitBackingStorePixelRatio ||\n",
       "\tthis.context.mozBackingStorePixelRatio ||\n",
       "\tthis.context.msBackingStorePixelRatio ||\n",
       "\tthis.context.oBackingStorePixelRatio ||\n",
       "\tthis.context.backingStorePixelRatio || 1;\n",
       "\n",
       "    mpl.ratio = (window.devicePixelRatio || 1) / backingStore;\n",
       "\n",
       "    var rubberband = $('<canvas/>');\n",
       "    rubberband.attr('style', \"position: absolute; left: 0; top: 0; z-index: 1;\")\n",
       "\n",
       "    var pass_mouse_events = true;\n",
       "\n",
       "    canvas_div.resizable({\n",
       "        start: function(event, ui) {\n",
       "            pass_mouse_events = false;\n",
       "        },\n",
       "        resize: function(event, ui) {\n",
       "            fig.request_resize(ui.size.width, ui.size.height);\n",
       "        },\n",
       "        stop: function(event, ui) {\n",
       "            pass_mouse_events = true;\n",
       "            fig.request_resize(ui.size.width, ui.size.height);\n",
       "        },\n",
       "    });\n",
       "\n",
       "    function mouse_event_fn(event) {\n",
       "        if (pass_mouse_events)\n",
       "            return fig.mouse_event(event, event['data']);\n",
       "    }\n",
       "\n",
       "    rubberband.mousedown('button_press', mouse_event_fn);\n",
       "    rubberband.mouseup('button_release', mouse_event_fn);\n",
       "    // Throttle sequential mouse events to 1 every 20ms.\n",
       "    rubberband.mousemove('motion_notify', mouse_event_fn);\n",
       "\n",
       "    rubberband.mouseenter('figure_enter', mouse_event_fn);\n",
       "    rubberband.mouseleave('figure_leave', mouse_event_fn);\n",
       "\n",
       "    canvas_div.on(\"wheel\", function (event) {\n",
       "        event = event.originalEvent;\n",
       "        event['data'] = 'scroll'\n",
       "        if (event.deltaY < 0) {\n",
       "            event.step = 1;\n",
       "        } else {\n",
       "            event.step = -1;\n",
       "        }\n",
       "        mouse_event_fn(event);\n",
       "    });\n",
       "\n",
       "    canvas_div.append(canvas);\n",
       "    canvas_div.append(rubberband);\n",
       "\n",
       "    this.rubberband = rubberband;\n",
       "    this.rubberband_canvas = rubberband[0];\n",
       "    this.rubberband_context = rubberband[0].getContext(\"2d\");\n",
       "    this.rubberband_context.strokeStyle = \"#000000\";\n",
       "\n",
       "    this._resize_canvas = function(width, height) {\n",
       "        // Keep the size of the canvas, canvas container, and rubber band\n",
       "        // canvas in synch.\n",
       "        canvas_div.css('width', width)\n",
       "        canvas_div.css('height', height)\n",
       "\n",
       "        canvas.attr('width', width * mpl.ratio);\n",
       "        canvas.attr('height', height * mpl.ratio);\n",
       "        canvas.attr('style', 'width: ' + width + 'px; height: ' + height + 'px;');\n",
       "\n",
       "        rubberband.attr('width', width);\n",
       "        rubberband.attr('height', height);\n",
       "    }\n",
       "\n",
       "    // Set the figure to an initial 600x600px, this will subsequently be updated\n",
       "    // upon first draw.\n",
       "    this._resize_canvas(600, 600);\n",
       "\n",
       "    // Disable right mouse context menu.\n",
       "    $(this.rubberband_canvas).bind(\"contextmenu\",function(e){\n",
       "        return false;\n",
       "    });\n",
       "\n",
       "    function set_focus () {\n",
       "        canvas.focus();\n",
       "        canvas_div.focus();\n",
       "    }\n",
       "\n",
       "    window.setTimeout(set_focus, 100);\n",
       "}\n",
       "\n",
       "mpl.figure.prototype._init_toolbar = function() {\n",
       "    var fig = this;\n",
       "\n",
       "    var nav_element = $('<div/>')\n",
       "    nav_element.attr('style', 'width: 100%');\n",
       "    this.root.append(nav_element);\n",
       "\n",
       "    // Define a callback function for later on.\n",
       "    function toolbar_event(event) {\n",
       "        return fig.toolbar_button_onclick(event['data']);\n",
       "    }\n",
       "    function toolbar_mouse_event(event) {\n",
       "        return fig.toolbar_button_onmouseover(event['data']);\n",
       "    }\n",
       "\n",
       "    for(var toolbar_ind in mpl.toolbar_items) {\n",
       "        var name = mpl.toolbar_items[toolbar_ind][0];\n",
       "        var tooltip = mpl.toolbar_items[toolbar_ind][1];\n",
       "        var image = mpl.toolbar_items[toolbar_ind][2];\n",
       "        var method_name = mpl.toolbar_items[toolbar_ind][3];\n",
       "\n",
       "        if (!name) {\n",
       "            // put a spacer in here.\n",
       "            continue;\n",
       "        }\n",
       "        var button = $('<button/>');\n",
       "        button.addClass('ui-button ui-widget ui-state-default ui-corner-all ' +\n",
       "                        'ui-button-icon-only');\n",
       "        button.attr('role', 'button');\n",
       "        button.attr('aria-disabled', 'false');\n",
       "        button.click(method_name, toolbar_event);\n",
       "        button.mouseover(tooltip, toolbar_mouse_event);\n",
       "\n",
       "        var icon_img = $('<span/>');\n",
       "        icon_img.addClass('ui-button-icon-primary ui-icon');\n",
       "        icon_img.addClass(image);\n",
       "        icon_img.addClass('ui-corner-all');\n",
       "\n",
       "        var tooltip_span = $('<span/>');\n",
       "        tooltip_span.addClass('ui-button-text');\n",
       "        tooltip_span.html(tooltip);\n",
       "\n",
       "        button.append(icon_img);\n",
       "        button.append(tooltip_span);\n",
       "\n",
       "        nav_element.append(button);\n",
       "    }\n",
       "\n",
       "    var fmt_picker_span = $('<span/>');\n",
       "\n",
       "    var fmt_picker = $('<select/>');\n",
       "    fmt_picker.addClass('mpl-toolbar-option ui-widget ui-widget-content');\n",
       "    fmt_picker_span.append(fmt_picker);\n",
       "    nav_element.append(fmt_picker_span);\n",
       "    this.format_dropdown = fmt_picker[0];\n",
       "\n",
       "    for (var ind in mpl.extensions) {\n",
       "        var fmt = mpl.extensions[ind];\n",
       "        var option = $(\n",
       "            '<option/>', {selected: fmt === mpl.default_extension}).html(fmt);\n",
       "        fmt_picker.append(option)\n",
       "    }\n",
       "\n",
       "    // Add hover states to the ui-buttons\n",
       "    $( \".ui-button\" ).hover(\n",
       "        function() { $(this).addClass(\"ui-state-hover\");},\n",
       "        function() { $(this).removeClass(\"ui-state-hover\");}\n",
       "    );\n",
       "\n",
       "    var status_bar = $('<span class=\"mpl-message\"/>');\n",
       "    nav_element.append(status_bar);\n",
       "    this.message = status_bar[0];\n",
       "}\n",
       "\n",
       "mpl.figure.prototype.request_resize = function(x_pixels, y_pixels) {\n",
       "    // Request matplotlib to resize the figure. Matplotlib will then trigger a resize in the client,\n",
       "    // which will in turn request a refresh of the image.\n",
       "    this.send_message('resize', {'width': x_pixels, 'height': y_pixels});\n",
       "}\n",
       "\n",
       "mpl.figure.prototype.send_message = function(type, properties) {\n",
       "    properties['type'] = type;\n",
       "    properties['figure_id'] = this.id;\n",
       "    this.ws.send(JSON.stringify(properties));\n",
       "}\n",
       "\n",
       "mpl.figure.prototype.send_draw_message = function() {\n",
       "    if (!this.waiting) {\n",
       "        this.waiting = true;\n",
       "        this.ws.send(JSON.stringify({type: \"draw\", figure_id: this.id}));\n",
       "    }\n",
       "}\n",
       "\n",
       "\n",
       "mpl.figure.prototype.handle_save = function(fig, msg) {\n",
       "    var format_dropdown = fig.format_dropdown;\n",
       "    var format = format_dropdown.options[format_dropdown.selectedIndex].value;\n",
       "    fig.ondownload(fig, format);\n",
       "}\n",
       "\n",
       "\n",
       "mpl.figure.prototype.handle_resize = function(fig, msg) {\n",
       "    var size = msg['size'];\n",
       "    if (size[0] != fig.canvas.width || size[1] != fig.canvas.height) {\n",
       "        fig._resize_canvas(size[0], size[1]);\n",
       "        fig.send_message(\"refresh\", {});\n",
       "    };\n",
       "}\n",
       "\n",
       "mpl.figure.prototype.handle_rubberband = function(fig, msg) {\n",
       "    var x0 = msg['x0'] / mpl.ratio;\n",
       "    var y0 = (fig.canvas.height - msg['y0']) / mpl.ratio;\n",
       "    var x1 = msg['x1'] / mpl.ratio;\n",
       "    var y1 = (fig.canvas.height - msg['y1']) / mpl.ratio;\n",
       "    x0 = Math.floor(x0) + 0.5;\n",
       "    y0 = Math.floor(y0) + 0.5;\n",
       "    x1 = Math.floor(x1) + 0.5;\n",
       "    y1 = Math.floor(y1) + 0.5;\n",
       "    var min_x = Math.min(x0, x1);\n",
       "    var min_y = Math.min(y0, y1);\n",
       "    var width = Math.abs(x1 - x0);\n",
       "    var height = Math.abs(y1 - y0);\n",
       "\n",
       "    fig.rubberband_context.clearRect(\n",
       "        0, 0, fig.canvas.width, fig.canvas.height);\n",
       "\n",
       "    fig.rubberband_context.strokeRect(min_x, min_y, width, height);\n",
       "}\n",
       "\n",
       "mpl.figure.prototype.handle_figure_label = function(fig, msg) {\n",
       "    // Updates the figure title.\n",
       "    fig.header.textContent = msg['label'];\n",
       "}\n",
       "\n",
       "mpl.figure.prototype.handle_cursor = function(fig, msg) {\n",
       "    var cursor = msg['cursor'];\n",
       "    switch(cursor)\n",
       "    {\n",
       "    case 0:\n",
       "        cursor = 'pointer';\n",
       "        break;\n",
       "    case 1:\n",
       "        cursor = 'default';\n",
       "        break;\n",
       "    case 2:\n",
       "        cursor = 'crosshair';\n",
       "        break;\n",
       "    case 3:\n",
       "        cursor = 'move';\n",
       "        break;\n",
       "    }\n",
       "    fig.rubberband_canvas.style.cursor = cursor;\n",
       "}\n",
       "\n",
       "mpl.figure.prototype.handle_message = function(fig, msg) {\n",
       "    fig.message.textContent = msg['message'];\n",
       "}\n",
       "\n",
       "mpl.figure.prototype.handle_draw = function(fig, msg) {\n",
       "    // Request the server to send over a new figure.\n",
       "    fig.send_draw_message();\n",
       "}\n",
       "\n",
       "mpl.figure.prototype.handle_image_mode = function(fig, msg) {\n",
       "    fig.image_mode = msg['mode'];\n",
       "}\n",
       "\n",
       "mpl.figure.prototype.updated_canvas_event = function() {\n",
       "    // Called whenever the canvas gets updated.\n",
       "    this.send_message(\"ack\", {});\n",
       "}\n",
       "\n",
       "// A function to construct a web socket function for onmessage handling.\n",
       "// Called in the figure constructor.\n",
       "mpl.figure.prototype._make_on_message_function = function(fig) {\n",
       "    return function socket_on_message(evt) {\n",
       "        if (evt.data instanceof Blob) {\n",
       "            /* FIXME: We get \"Resource interpreted as Image but\n",
       "             * transferred with MIME type text/plain:\" errors on\n",
       "             * Chrome.  But how to set the MIME type?  It doesn't seem\n",
       "             * to be part of the websocket stream */\n",
       "            evt.data.type = \"image/png\";\n",
       "\n",
       "            /* Free the memory for the previous frames */\n",
       "            if (fig.imageObj.src) {\n",
       "                (window.URL || window.webkitURL).revokeObjectURL(\n",
       "                    fig.imageObj.src);\n",
       "            }\n",
       "\n",
       "            fig.imageObj.src = (window.URL || window.webkitURL).createObjectURL(\n",
       "                evt.data);\n",
       "            fig.updated_canvas_event();\n",
       "            fig.waiting = false;\n",
       "            return;\n",
       "        }\n",
       "        else if (typeof evt.data === 'string' && evt.data.slice(0, 21) == \"data:image/png;base64\") {\n",
       "            fig.imageObj.src = evt.data;\n",
       "            fig.updated_canvas_event();\n",
       "            fig.waiting = false;\n",
       "            return;\n",
       "        }\n",
       "\n",
       "        var msg = JSON.parse(evt.data);\n",
       "        var msg_type = msg['type'];\n",
       "\n",
       "        // Call the  \"handle_{type}\" callback, which takes\n",
       "        // the figure and JSON message as its only arguments.\n",
       "        try {\n",
       "            var callback = fig[\"handle_\" + msg_type];\n",
       "        } catch (e) {\n",
       "            console.log(\"No handler for the '\" + msg_type + \"' message type: \", msg);\n",
       "            return;\n",
       "        }\n",
       "\n",
       "        if (callback) {\n",
       "            try {\n",
       "                // console.log(\"Handling '\" + msg_type + \"' message: \", msg);\n",
       "                callback(fig, msg);\n",
       "            } catch (e) {\n",
       "                console.log(\"Exception inside the 'handler_\" + msg_type + \"' callback:\", e, e.stack, msg);\n",
       "            }\n",
       "        }\n",
       "    };\n",
       "}\n",
       "\n",
       "// from http://stackoverflow.com/questions/1114465/getting-mouse-location-in-canvas\n",
       "mpl.findpos = function(e) {\n",
       "    //this section is from http://www.quirksmode.org/js/events_properties.html\n",
       "    var targ;\n",
       "    if (!e)\n",
       "        e = window.event;\n",
       "    if (e.target)\n",
       "        targ = e.target;\n",
       "    else if (e.srcElement)\n",
       "        targ = e.srcElement;\n",
       "    if (targ.nodeType == 3) // defeat Safari bug\n",
       "        targ = targ.parentNode;\n",
       "\n",
       "    // jQuery normalizes the pageX and pageY\n",
       "    // pageX,Y are the mouse positions relative to the document\n",
       "    // offset() returns the position of the element relative to the document\n",
       "    var x = e.pageX - $(targ).offset().left;\n",
       "    var y = e.pageY - $(targ).offset().top;\n",
       "\n",
       "    return {\"x\": x, \"y\": y};\n",
       "};\n",
       "\n",
       "/*\n",
       " * return a copy of an object with only non-object keys\n",
       " * we need this to avoid circular references\n",
       " * http://stackoverflow.com/a/24161582/3208463\n",
       " */\n",
       "function simpleKeys (original) {\n",
       "  return Object.keys(original).reduce(function (obj, key) {\n",
       "    if (typeof original[key] !== 'object')\n",
       "        obj[key] = original[key]\n",
       "    return obj;\n",
       "  }, {});\n",
       "}\n",
       "\n",
       "mpl.figure.prototype.mouse_event = function(event, name) {\n",
       "    var canvas_pos = mpl.findpos(event)\n",
       "\n",
       "    if (name === 'button_press')\n",
       "    {\n",
       "        this.canvas.focus();\n",
       "        this.canvas_div.focus();\n",
       "    }\n",
       "\n",
       "    var x = canvas_pos.x * mpl.ratio;\n",
       "    var y = canvas_pos.y * mpl.ratio;\n",
       "\n",
       "    this.send_message(name, {x: x, y: y, button: event.button,\n",
       "                             step: event.step,\n",
       "                             guiEvent: simpleKeys(event)});\n",
       "\n",
       "    /* This prevents the web browser from automatically changing to\n",
       "     * the text insertion cursor when the button is pressed.  We want\n",
       "     * to control all of the cursor setting manually through the\n",
       "     * 'cursor' event from matplotlib */\n",
       "    event.preventDefault();\n",
       "    return false;\n",
       "}\n",
       "\n",
       "mpl.figure.prototype._key_event_extra = function(event, name) {\n",
       "    // Handle any extra behaviour associated with a key event\n",
       "}\n",
       "\n",
       "mpl.figure.prototype.key_event = function(event, name) {\n",
       "\n",
       "    // Prevent repeat events\n",
       "    if (name == 'key_press')\n",
       "    {\n",
       "        if (event.which === this._key)\n",
       "            return;\n",
       "        else\n",
       "            this._key = event.which;\n",
       "    }\n",
       "    if (name == 'key_release')\n",
       "        this._key = null;\n",
       "\n",
       "    var value = '';\n",
       "    if (event.ctrlKey && event.which != 17)\n",
       "        value += \"ctrl+\";\n",
       "    if (event.altKey && event.which != 18)\n",
       "        value += \"alt+\";\n",
       "    if (event.shiftKey && event.which != 16)\n",
       "        value += \"shift+\";\n",
       "\n",
       "    value += 'k';\n",
       "    value += event.which.toString();\n",
       "\n",
       "    this._key_event_extra(event, name);\n",
       "\n",
       "    this.send_message(name, {key: value,\n",
       "                             guiEvent: simpleKeys(event)});\n",
       "    return false;\n",
       "}\n",
       "\n",
       "mpl.figure.prototype.toolbar_button_onclick = function(name) {\n",
       "    if (name == 'download') {\n",
       "        this.handle_save(this, null);\n",
       "    } else {\n",
       "        this.send_message(\"toolbar_button\", {name: name});\n",
       "    }\n",
       "};\n",
       "\n",
       "mpl.figure.prototype.toolbar_button_onmouseover = function(tooltip) {\n",
       "    this.message.textContent = tooltip;\n",
       "};\n",
       "mpl.toolbar_items = [[\"Home\", \"Reset original view\", \"fa fa-home icon-home\", \"home\"], [\"Back\", \"Back to  previous view\", \"fa fa-arrow-left icon-arrow-left\", \"back\"], [\"Forward\", \"Forward to next view\", \"fa fa-arrow-right icon-arrow-right\", \"forward\"], [\"\", \"\", \"\", \"\"], [\"Pan\", \"Pan axes with left mouse, zoom with right\", \"fa fa-arrows icon-move\", \"pan\"], [\"Zoom\", \"Zoom to rectangle\", \"fa fa-square-o icon-check-empty\", \"zoom\"], [\"\", \"\", \"\", \"\"], [\"Download\", \"Download plot\", \"fa fa-floppy-o icon-save\", \"download\"]];\n",
       "\n",
       "mpl.extensions = [\"eps\", \"jpeg\", \"pdf\", \"png\", \"ps\", \"raw\", \"svg\", \"tif\"];\n",
       "\n",
       "mpl.default_extension = \"png\";var comm_websocket_adapter = function(comm) {\n",
       "    // Create a \"websocket\"-like object which calls the given IPython comm\n",
       "    // object with the appropriate methods. Currently this is a non binary\n",
       "    // socket, so there is still some room for performance tuning.\n",
       "    var ws = {};\n",
       "\n",
       "    ws.close = function() {\n",
       "        comm.close()\n",
       "    };\n",
       "    ws.send = function(m) {\n",
       "        //console.log('sending', m);\n",
       "        comm.send(m);\n",
       "    };\n",
       "    // Register the callback with on_msg.\n",
       "    comm.on_msg(function(msg) {\n",
       "        //console.log('receiving', msg['content']['data'], msg);\n",
       "        // Pass the mpl event to the overriden (by mpl) onmessage function.\n",
       "        ws.onmessage(msg['content']['data'])\n",
       "    });\n",
       "    return ws;\n",
       "}\n",
       "\n",
       "mpl.mpl_figure_comm = function(comm, msg) {\n",
       "    // This is the function which gets called when the mpl process\n",
       "    // starts-up an IPython Comm through the \"matplotlib\" channel.\n",
       "\n",
       "    var id = msg.content.data.id;\n",
       "    // Get hold of the div created by the display call when the Comm\n",
       "    // socket was opened in Python.\n",
       "    var element = $(\"#\" + id);\n",
       "    var ws_proxy = comm_websocket_adapter(comm)\n",
       "\n",
       "    function ondownload(figure, format) {\n",
       "        window.open(figure.imageObj.src);\n",
       "    }\n",
       "\n",
       "    var fig = new mpl.figure(id, ws_proxy,\n",
       "                           ondownload,\n",
       "                           element.get(0));\n",
       "\n",
       "    // Call onopen now - mpl needs it, as it is assuming we've passed it a real\n",
       "    // web socket which is closed, not our websocket->open comm proxy.\n",
       "    ws_proxy.onopen();\n",
       "\n",
       "    fig.parent_element = element.get(0);\n",
       "    fig.cell_info = mpl.find_output_cell(\"<div id='\" + id + \"'></div>\");\n",
       "    if (!fig.cell_info) {\n",
       "        console.error(\"Failed to find cell for figure\", id, fig);\n",
       "        return;\n",
       "    }\n",
       "\n",
       "    var output_index = fig.cell_info[2]\n",
       "    var cell = fig.cell_info[0];\n",
       "\n",
       "};\n",
       "\n",
       "mpl.figure.prototype.handle_close = function(fig, msg) {\n",
       "    var width = fig.canvas.width/mpl.ratio\n",
       "    fig.root.unbind('remove')\n",
       "\n",
       "    // Update the output cell to use the data from the current canvas.\n",
       "    fig.push_to_output();\n",
       "    var dataURL = fig.canvas.toDataURL();\n",
       "    // Re-enable the keyboard manager in IPython - without this line, in FF,\n",
       "    // the notebook keyboard shortcuts fail.\n",
       "    IPython.keyboard_manager.enable()\n",
       "    $(fig.parent_element).html('<img src=\"' + dataURL + '\" width=\"' + width + '\">');\n",
       "    fig.close_ws(fig, msg);\n",
       "}\n",
       "\n",
       "mpl.figure.prototype.close_ws = function(fig, msg){\n",
       "    fig.send_message('closing', msg);\n",
       "    // fig.ws.close()\n",
       "}\n",
       "\n",
       "mpl.figure.prototype.push_to_output = function(remove_interactive) {\n",
       "    // Turn the data on the canvas into data in the output cell.\n",
       "    var width = this.canvas.width/mpl.ratio\n",
       "    var dataURL = this.canvas.toDataURL();\n",
       "    this.cell_info[1]['text/html'] = '<img src=\"' + dataURL + '\" width=\"' + width + '\">';\n",
       "}\n",
       "\n",
       "mpl.figure.prototype.updated_canvas_event = function() {\n",
       "    // Tell IPython that the notebook contents must change.\n",
       "    IPython.notebook.set_dirty(true);\n",
       "    this.send_message(\"ack\", {});\n",
       "    var fig = this;\n",
       "    // Wait a second, then push the new image to the DOM so\n",
       "    // that it is saved nicely (might be nice to debounce this).\n",
       "    setTimeout(function () { fig.push_to_output() }, 1000);\n",
       "}\n",
       "\n",
       "mpl.figure.prototype._init_toolbar = function() {\n",
       "    var fig = this;\n",
       "\n",
       "    var nav_element = $('<div/>')\n",
       "    nav_element.attr('style', 'width: 100%');\n",
       "    this.root.append(nav_element);\n",
       "\n",
       "    // Define a callback function for later on.\n",
       "    function toolbar_event(event) {\n",
       "        return fig.toolbar_button_onclick(event['data']);\n",
       "    }\n",
       "    function toolbar_mouse_event(event) {\n",
       "        return fig.toolbar_button_onmouseover(event['data']);\n",
       "    }\n",
       "\n",
       "    for(var toolbar_ind in mpl.toolbar_items){\n",
       "        var name = mpl.toolbar_items[toolbar_ind][0];\n",
       "        var tooltip = mpl.toolbar_items[toolbar_ind][1];\n",
       "        var image = mpl.toolbar_items[toolbar_ind][2];\n",
       "        var method_name = mpl.toolbar_items[toolbar_ind][3];\n",
       "\n",
       "        if (!name) { continue; };\n",
       "\n",
       "        var button = $('<button class=\"btn btn-default\" href=\"#\" title=\"' + name + '\"><i class=\"fa ' + image + ' fa-lg\"></i></button>');\n",
       "        button.click(method_name, toolbar_event);\n",
       "        button.mouseover(tooltip, toolbar_mouse_event);\n",
       "        nav_element.append(button);\n",
       "    }\n",
       "\n",
       "    // Add the status bar.\n",
       "    var status_bar = $('<span class=\"mpl-message\" style=\"text-align:right; float: right;\"/>');\n",
       "    nav_element.append(status_bar);\n",
       "    this.message = status_bar[0];\n",
       "\n",
       "    // Add the close button to the window.\n",
       "    var buttongrp = $('<div class=\"btn-group inline pull-right\"></div>');\n",
       "    var button = $('<button class=\"btn btn-mini btn-primary\" href=\"#\" title=\"Stop Interaction\"><i class=\"fa fa-power-off icon-remove icon-large\"></i></button>');\n",
       "    button.click(function (evt) { fig.handle_close(fig, {}); } );\n",
       "    button.mouseover('Stop Interaction', toolbar_mouse_event);\n",
       "    buttongrp.append(button);\n",
       "    var titlebar = this.root.find($('.ui-dialog-titlebar'));\n",
       "    titlebar.prepend(buttongrp);\n",
       "}\n",
       "\n",
       "mpl.figure.prototype._root_extra_style = function(el){\n",
       "    var fig = this\n",
       "    el.on(\"remove\", function(){\n",
       "\tfig.close_ws(fig, {});\n",
       "    });\n",
       "}\n",
       "\n",
       "mpl.figure.prototype._canvas_extra_style = function(el){\n",
       "    // this is important to make the div 'focusable\n",
       "    el.attr('tabindex', 0)\n",
       "    // reach out to IPython and tell the keyboard manager to turn it's self\n",
       "    // off when our div gets focus\n",
       "\n",
       "    // location in version 3\n",
       "    if (IPython.notebook.keyboard_manager) {\n",
       "        IPython.notebook.keyboard_manager.register_events(el);\n",
       "    }\n",
       "    else {\n",
       "        // location in version 2\n",
       "        IPython.keyboard_manager.register_events(el);\n",
       "    }\n",
       "\n",
       "}\n",
       "\n",
       "mpl.figure.prototype._key_event_extra = function(event, name) {\n",
       "    var manager = IPython.notebook.keyboard_manager;\n",
       "    if (!manager)\n",
       "        manager = IPython.keyboard_manager;\n",
       "\n",
       "    // Check for shift+enter\n",
       "    if (event.shiftKey && event.which == 13) {\n",
       "        this.canvas_div.blur();\n",
       "        // select the cell after this one\n",
       "        var index = IPython.notebook.find_cell_index(this.cell_info[0]);\n",
       "        IPython.notebook.select(index + 1);\n",
       "    }\n",
       "}\n",
       "\n",
       "mpl.figure.prototype.handle_save = function(fig, msg) {\n",
       "    fig.ondownload(fig, null);\n",
       "}\n",
       "\n",
       "\n",
       "mpl.find_output_cell = function(html_output) {\n",
       "    // Return the cell and output element which can be found *uniquely* in the notebook.\n",
       "    // Note - this is a bit hacky, but it is done because the \"notebook_saving.Notebook\"\n",
       "    // IPython event is triggered only after the cells have been serialised, which for\n",
       "    // our purposes (turning an active figure into a static one), is too late.\n",
       "    var cells = IPython.notebook.get_cells();\n",
       "    var ncells = cells.length;\n",
       "    for (var i=0; i<ncells; i++) {\n",
       "        var cell = cells[i];\n",
       "        if (cell.cell_type === 'code'){\n",
       "            for (var j=0; j<cell.output_area.outputs.length; j++) {\n",
       "                var data = cell.output_area.outputs[j];\n",
       "                if (data.data) {\n",
       "                    // IPython >= 3 moved mimebundle to data attribute of output\n",
       "                    data = data.data;\n",
       "                }\n",
       "                if (data['text/html'] == html_output) {\n",
       "                    return [cell, data, j];\n",
       "                }\n",
       "            }\n",
       "        }\n",
       "    }\n",
       "}\n",
       "\n",
       "// Register the function which deals with the matplotlib target/channel.\n",
       "// The kernel may be null if the page has been refreshed.\n",
       "if (IPython.notebook.kernel != null) {\n",
       "    IPython.notebook.kernel.comm_manager.register_target('matplotlib', mpl.mpl_figure_comm);\n",
       "}\n"
      ],
      "text/plain": [
       "<IPython.core.display.Javascript object>"
      ]
     },
     "metadata": {},
     "output_type": "display_data"
    },
    {
     "data": {
      "text/html": [
       "<img src=\"data:image/png;base64,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\" width=\"640\">"
      ],
      "text/plain": [
       "<IPython.core.display.HTML object>"
      ]
     },
     "metadata": {},
     "output_type": "display_data"
    }
   ],
   "source": [
    "#%%timeit ## 1 loop, best of 3: 235 ms per loop\n",
    "reload(utils)\n",
    "utils.plot_position_points(df)"
   ]
  },
  {
   "cell_type": "code",
   "execution_count": 13,
   "metadata": {
    "collapsed": false
   },
   "outputs": [],
   "source": [
    "from astropy.coordinates import SkyCoord, Galactic, ICRS, Angle, Latitude, Longitude\n",
    "\n",
    "## make line of Galactic = 0 Lat\n",
    "long = np.arange(-180., 181., 1.)\n",
    "lat = np.zeros_like(long)\n",
    "long_ra_rad_arr = np.array([])\n",
    "lat_dec_rad_arr = np.array([])\n",
    "\n",
    "for i in range(len(long)):\n",
    "    sc = SkyCoord(long[i], lat[i], unit='deg', frame=Galactic)\n",
    "    long_ra_rad_arr = np.append(long_ra_rad_arr, sc.icrs.ra.wrap_at(180*u.deg).radian)\n",
    "    lat_dec_rad_arr = np.append(lat_dec_rad_arr, sc.icrs.dec.radian)\n",
    "\n",
    "w = np.argsort(long_ra_rad_arr)\n",
    "\n"
   ]
  },
  {
   "cell_type": "code",
   "execution_count": 16,
   "metadata": {
    "collapsed": false
   },
   "outputs": [],
   "source": [
    "d = {\"long_ra_rad_arr\" : long_ra_rad_arr[w]}"
   ]
  },
  {
   "cell_type": "code",
   "execution_count": 48,
   "metadata": {
    "collapsed": false
   },
   "outputs": [
    {
     "data": {
      "text/plain": [
       "<module 'lsst_tools.utils' from '/Users/berto/Code/LSST_tools/lsst_tools/utils/__init__.py'>"
      ]
     },
     "execution_count": 48,
     "metadata": {},
     "output_type": "execute_result"
    }
   ],
   "source": [
    "reload(utils)"
   ]
  },
  {
   "cell_type": "code",
   "execution_count": 49,
   "metadata": {
    "collapsed": false
   },
   "outputs": [
    {
     "name": "stdout",
     "output_type": "stream",
     "text": [
      "/Users/berto/Code/LSST_tools/lsst_tools/data/galactic_plane_RADec.dat\n"
     ]
    }
   ],
   "source": [
    "utils.print_path()"
   ]
  },
  {
   "cell_type": "code",
   "execution_count": 54,
   "metadata": {
    "collapsed": false
   },
   "outputs": [],
   "source": [
    "fullpath = \"/Users/berto/Code/LSST_tools/lsst_tools/data/galactic_plane_RADec.dat\"\n",
    "## make line of Galactic = 0 Lat\n",
    "long = np.arange(-180., 181., 1.)\n",
    "lat = np.zeros_like(long)\n",
    "long_ra_rad_arr = np.array([])\n",
    "lat_dec_rad_arr = np.array([])\n",
    "\n",
    "for i in range(len(long)):\n",
    "    sc = SkyCoord(long[i], lat[i], unit='deg', frame=Galactic)\n",
    "    long_ra_rad_arr = np.append(long_ra_rad_arr, sc.icrs.ra.wrap_at(180*u.deg).radian)\n",
    "    lat_dec_rad_arr = np.append(lat_dec_rad_arr, sc.icrs.dec.radian)\n",
    "\n",
    "w = np.argsort(long_ra_rad_arr)\n",
    "\n",
    "coord_table = ap.table.Table((long_ra_rad_arr[w], lat_dec_rad_arr[w]), names = (\"RA\", \"Dec\" ))\n",
    "\n",
    "coord_table.write(filename = fullpath, format = \"ascii.commented_header\")"
   ]
  },
  {
   "cell_type": "code",
   "execution_count": 55,
   "metadata": {
    "collapsed": false
   },
   "outputs": [
    {
     "name": "stdout",
     "output_type": "stream",
     "text": [
      "/Users/berto/Code/LSST_tools/lsst_tools\n"
     ]
    },
    {
     "ename": "NotADirectoryError",
     "evalue": "[Errno 20] Not a directory: '/Users/berto/Code/LSST_tools/lsst_tools/utils/__init__.py/../../data/galactic_plane_RADec.dat'",
     "output_type": "error",
     "traceback": [
      "\u001b[0;31m---------------------------------------------------------------------------\u001b[0m",
      "\u001b[0;31mNotADirectoryError\u001b[0m                        Traceback (most recent call last)",
      "\u001b[0;32m<ipython-input-55-204bdd77e12b>\u001b[0m in \u001b[0;36m<module>\u001b[0;34m()\u001b[0m\n\u001b[0;32m----> 1\u001b[0;31m \u001b[0mutils\u001b[0m\u001b[0;34m.\u001b[0m\u001b[0mget_galactic_plane\u001b[0m\u001b[0;34m(\u001b[0m\u001b[0;34m)\u001b[0m\u001b[0;34m\u001b[0m\u001b[0m\n\u001b[0m",
      "\u001b[0;32m/Users/berto/Code/LSST_tools/lsst_tools/utils/__init__.py\u001b[0m in \u001b[0;36mget_galactic_plane\u001b[0;34m(remake, path)\u001b[0m\n\u001b[1;32m    219\u001b[0m             \u001b[0mwarnings\u001b[0m\u001b[0;34m.\u001b[0m\u001b[0mwarn\u001b[0m\u001b[0;34m(\u001b[0m\u001b[0;34m\"something went wrong\"\u001b[0m\u001b[0;34m)\u001b[0m\u001b[0;34m\u001b[0m\u001b[0m\n\u001b[1;32m    220\u001b[0m     \u001b[0;32melse\u001b[0m\u001b[0;34m:\u001b[0m\u001b[0;34m\u001b[0m\u001b[0m\n\u001b[0;32m--> 221\u001b[0;31m         \u001b[0mcoord_table\u001b[0m \u001b[0;34m=\u001b[0m \u001b[0map\u001b[0m\u001b[0;34m.\u001b[0m\u001b[0mio\u001b[0m\u001b[0;34m.\u001b[0m\u001b[0mascii\u001b[0m\u001b[0;34m.\u001b[0m\u001b[0mread\u001b[0m\u001b[0;34m(\u001b[0m\u001b[0mfullpath\u001b[0m\u001b[0;34m,\u001b[0m \u001b[0mformat\u001b[0m \u001b[0;34m=\u001b[0m \u001b[0;34m\"commented_header\"\u001b[0m\u001b[0;34m)\u001b[0m\u001b[0;34m\u001b[0m\u001b[0m\n\u001b[0m\u001b[1;32m    222\u001b[0m     \u001b[0;32mreturn\u001b[0m \u001b[0mcoord_table\u001b[0m\u001b[0;34m\u001b[0m\u001b[0m\n\u001b[1;32m    223\u001b[0m \u001b[0;34m\u001b[0m\u001b[0m\n",
      "\u001b[0;32m/Users/berto/anaconda2/envs/py3/lib/python3.6/site-packages/astropy/io/ascii/ui.py\u001b[0m in \u001b[0;36mread\u001b[0;34m(table, guess, **kwargs)\u001b[0m\n\u001b[1;32m    320\u001b[0m         \u001b[0;31m# through below to the non-guess way so that any problems result in a\u001b[0m\u001b[0;34m\u001b[0m\u001b[0;34m\u001b[0m\u001b[0m\n\u001b[1;32m    321\u001b[0m         \u001b[0;31m# more useful traceback.\u001b[0m\u001b[0;34m\u001b[0m\u001b[0;34m\u001b[0m\u001b[0m\n\u001b[0;32m--> 322\u001b[0;31m         \u001b[0mdat\u001b[0m \u001b[0;34m=\u001b[0m \u001b[0m_guess\u001b[0m\u001b[0;34m(\u001b[0m\u001b[0mtable\u001b[0m\u001b[0;34m,\u001b[0m \u001b[0mnew_kwargs\u001b[0m\u001b[0;34m,\u001b[0m \u001b[0mformat\u001b[0m\u001b[0;34m,\u001b[0m \u001b[0mfast_reader_param\u001b[0m\u001b[0;34m)\u001b[0m\u001b[0;34m\u001b[0m\u001b[0m\n\u001b[0m\u001b[1;32m    323\u001b[0m         \u001b[0;32mif\u001b[0m \u001b[0mdat\u001b[0m \u001b[0;32mis\u001b[0m \u001b[0;32mNone\u001b[0m\u001b[0;34m:\u001b[0m\u001b[0;34m\u001b[0m\u001b[0m\n\u001b[1;32m    324\u001b[0m             \u001b[0mguess\u001b[0m \u001b[0;34m=\u001b[0m \u001b[0;32mFalse\u001b[0m\u001b[0;34m\u001b[0m\u001b[0m\n",
      "\u001b[0;32m/Users/berto/anaconda2/envs/py3/lib/python3.6/site-packages/astropy/io/ascii/ui.py\u001b[0m in \u001b[0;36m_guess\u001b[0;34m(table, read_kwargs, format, fast_reader)\u001b[0m\n\u001b[1;32m    468\u001b[0m             \u001b[0mreader\u001b[0m \u001b[0;34m=\u001b[0m \u001b[0mget_reader\u001b[0m\u001b[0;34m(\u001b[0m\u001b[0;34m**\u001b[0m\u001b[0mguess_kwargs\u001b[0m\u001b[0;34m)\u001b[0m\u001b[0;34m\u001b[0m\u001b[0m\n\u001b[1;32m    469\u001b[0m             \u001b[0mreader\u001b[0m\u001b[0;34m.\u001b[0m\u001b[0mguessing\u001b[0m \u001b[0;34m=\u001b[0m \u001b[0;32mTrue\u001b[0m\u001b[0;34m\u001b[0m\u001b[0m\n\u001b[0;32m--> 470\u001b[0;31m             \u001b[0mdat\u001b[0m \u001b[0;34m=\u001b[0m \u001b[0mreader\u001b[0m\u001b[0;34m.\u001b[0m\u001b[0mread\u001b[0m\u001b[0;34m(\u001b[0m\u001b[0mtable\u001b[0m\u001b[0;34m)\u001b[0m\u001b[0;34m\u001b[0m\u001b[0m\n\u001b[0m\u001b[1;32m    471\u001b[0m             _read_trace.append({'kwargs': guess_kwargs, 'status': 'Success (guessing)',\n\u001b[1;32m    472\u001b[0m                                 'dt': '{0:.3f} ms'.format((time.time() - t0) * 1000)})\n",
      "\u001b[0;32m/Users/berto/anaconda2/envs/py3/lib/python3.6/site-packages/astropy/io/ascii/fastbasic.py\u001b[0m in \u001b[0;36mread\u001b[0;34m(self, table)\u001b[0m\n\u001b[1;32m    231\u001b[0m         single string) into a Table and return the result.\n\u001b[1;32m    232\u001b[0m         \"\"\"\n\u001b[0;32m--> 233\u001b[0;31m         \u001b[0mout\u001b[0m \u001b[0;34m=\u001b[0m \u001b[0msuper\u001b[0m\u001b[0;34m(\u001b[0m\u001b[0mFastCommentedHeader\u001b[0m\u001b[0;34m,\u001b[0m \u001b[0mself\u001b[0m\u001b[0;34m)\u001b[0m\u001b[0;34m.\u001b[0m\u001b[0mread\u001b[0m\u001b[0;34m(\u001b[0m\u001b[0mtable\u001b[0m\u001b[0;34m)\u001b[0m\u001b[0;34m\u001b[0m\u001b[0m\n\u001b[0m\u001b[1;32m    234\u001b[0m \u001b[0;34m\u001b[0m\u001b[0m\n\u001b[1;32m    235\u001b[0m         \u001b[0;31m# Strip off first comment since this is the header line for\u001b[0m\u001b[0;34m\u001b[0m\u001b[0;34m\u001b[0m\u001b[0m\n",
      "\u001b[0;32m/Users/berto/anaconda2/envs/py3/lib/python3.6/site-packages/astropy/io/ascii/fastbasic.py\u001b[0m in \u001b[0;36mread\u001b[0;34m(self, table)\u001b[0m\n\u001b[1;32m     98\u001b[0m                                       \u001b[0mdata_start\u001b[0m\u001b[0;34m=\u001b[0m\u001b[0mself\u001b[0m\u001b[0;34m.\u001b[0m\u001b[0mdata_start\u001b[0m\u001b[0;34m,\u001b[0m\u001b[0;34m\u001b[0m\u001b[0m\n\u001b[1;32m     99\u001b[0m                                       \u001b[0mfill_extra_cols\u001b[0m\u001b[0;34m=\u001b[0m\u001b[0mself\u001b[0m\u001b[0;34m.\u001b[0m\u001b[0mfill_extra_cols\u001b[0m\u001b[0;34m,\u001b[0m\u001b[0;34m\u001b[0m\u001b[0m\n\u001b[0;32m--> 100\u001b[0;31m                                       **self.kwargs)\n\u001b[0m\u001b[1;32m    101\u001b[0m         \u001b[0mconversion_info\u001b[0m \u001b[0;34m=\u001b[0m \u001b[0mself\u001b[0m\u001b[0;34m.\u001b[0m\u001b[0m_read_header\u001b[0m\u001b[0;34m(\u001b[0m\u001b[0;34m)\u001b[0m\u001b[0;34m\u001b[0m\u001b[0m\n\u001b[1;32m    102\u001b[0m         \u001b[0mself\u001b[0m\u001b[0;34m.\u001b[0m\u001b[0mcheck_header\u001b[0m\u001b[0;34m(\u001b[0m\u001b[0;34m)\u001b[0m\u001b[0;34m\u001b[0m\u001b[0m\n",
      "\u001b[0;32mastropy/io/ascii/cparser.pyx\u001b[0m in \u001b[0;36mastropy.io.ascii.cparser.CParser.__cinit__ (astropy/io/ascii/cparser.c:4368)\u001b[0;34m()\u001b[0m\n",
      "\u001b[0;32mastropy/io/ascii/cparser.pyx\u001b[0m in \u001b[0;36mastropy.io.ascii.cparser.CParser.setup_tokenizer (astropy/io/ascii/cparser.c:5207)\u001b[0;34m()\u001b[0m\n",
      "\u001b[0;32mastropy/io/ascii/cparser.pyx\u001b[0m in \u001b[0;36mastropy.io.ascii.cparser.FileString.__cinit__ (astropy/io/ascii/cparser.c:2877)\u001b[0;34m()\u001b[0m\n",
      "\u001b[0;31mNotADirectoryError\u001b[0m: [Errno 20] Not a directory: '/Users/berto/Code/LSST_tools/lsst_tools/utils/__init__.py/../../data/galactic_plane_RADec.dat'"
     ]
    }
   ],
   "source": [
    "utils.get_galactic_plane()"
   ]
  },
  {
   "cell_type": "markdown",
   "metadata": {},
   "source": [
    "Connecting to `.db` takes ages (~1min), and is a pain if you mess up, so create a 'working' instance to fiddle with"
   ]
  },
  {
   "cell_type": "code",
   "execution_count": null,
   "metadata": {
    "collapsed": false
   },
   "outputs": [],
   "source": [
    "working_df = opsimdf"
   ]
  },
  {
   "cell_type": "markdown",
   "metadata": {
    "collapsed": false
   },
   "source": [
    "## Identifying Fields\n",
    "___\n",
    "We want to find out which field(s) the position is in. Create table that tells us the field centres, and find the edges."
   ]
  },
  {
   "cell_type": "code",
   "execution_count": null,
   "metadata": {
    "collapsed": false
   },
   "outputs": [],
   "source": [
    "# working_df = utils.get_field_corners(working_df.drop_duplicates(\"fieldID\"))[['fieldRA', 'fieldDec']]\n",
    "working_df = utils.get_field_corners(pd.DataFrame(working_df.drop_duplicates(\"fieldID\"))[['fieldID', 'fieldRA', 'fieldDec']])"
   ]
  },
  {
   "cell_type": "code",
   "execution_count": null,
   "metadata": {
    "collapsed": false
   },
   "outputs": [],
   "source": [
    "working_df"
   ]
  },
  {
   "cell_type": "code",
   "execution_count": null,
   "metadata": {
    "collapsed": false
   },
   "outputs": [],
   "source": [
    "field_df = working_df[(working_df[\"RA_upper\"] >= df[\"theta\"][0] + np.pi) &\n",
    "                (working_df[\"RA_lower\"] <= df[\"theta\"][0] + np.pi) &\n",
    "                (working_df[\"Dec_lower\"] >= df[\"phi\"][0])  &\n",
    "                (working_df[\"Dec_upper\"] <= df[\"phi\"][0])]"
   ]
  },
  {
   "cell_type": "code",
   "execution_count": null,
   "metadata": {
    "collapsed": false
   },
   "outputs": [],
   "source": [
    "reload(utils)\n",
    "utils.plot_field(working_df)"
   ]
  },
  {
   "cell_type": "code",
   "execution_count": null,
   "metadata": {
    "collapsed": false
   },
   "outputs": [],
   "source": [
    "df = opsimdf"
   ]
  },
  {
   "cell_type": "code",
   "execution_count": null,
   "metadata": {
    "collapsed": false
   },
   "outputs": [],
   "source": [
    "## Work out how often each field is visited\n",
    "min_visits = df[\"fieldID\"].value_counts().min()\n",
    "max_visits = df[\"fieldID\"].value_counts().max()\n",
    "\n",
    "print(min_visits, \",\",max_visits)\n",
    "\n",
    "df['count'] = df.groupby('fieldID').cumcount()"
   ]
  },
  {
   "cell_type": "code",
   "execution_count": null,
   "metadata": {
    "collapsed": false
   },
   "outputs": [],
   "source": [
    "df[\"fieldID\"].value_counts().head(10)"
   ]
  },
  {
   "cell_type": "code",
   "execution_count": null,
   "metadata": {
    "collapsed": false
   },
   "outputs": [],
   "source": [
    "ddf = [1427,744,2412,290,2786]"
   ]
  },
  {
   "cell_type": "code",
   "execution_count": null,
   "metadata": {
    "collapsed": false
   },
   "outputs": [],
   "source": [
    "cmap = plt.get_cmap(\"viridis\")\n",
    "# df[\"cmap_visit_value\"] = (df[\"count\"] - min_visits )/(max_visits - min_visits)\n",
    "df[\"cmap_visit_value\"] = np.log((df[\"count\"] + 1)/(max_visits+1))"
   ]
  },
  {
   "cell_type": "code",
   "execution_count": null,
   "metadata": {
    "collapsed": false
   },
   "outputs": [],
   "source": [
    "df[\"cmap_visit_value\"] = df[\"cmap_visit_value\"] + np.abs(df[\"cmap_visit_value\"].min())\n",
    "df[\"cmap_visit_value\"] = df[\"cmap_visit_value\"]/df[\"cmap_visit_value\"].max()"
   ]
  },
  {
   "cell_type": "code",
   "execution_count": null,
   "metadata": {
    "collapsed": false
   },
   "outputs": [],
   "source": [
    "df[\"cmap_visit_value\"].hist(bins = 200)"
   ]
  },
  {
   "cell_type": "code",
   "execution_count": null,
   "metadata": {
    "collapsed": false
   },
   "outputs": [],
   "source": [
    "df[\"fieldID\"].value_counts().hist(bins = 200, range = [0, 2000])"
   ]
  },
  {
   "cell_type": "code",
   "execution_count": null,
   "metadata": {
    "collapsed": false
   },
   "outputs": [],
   "source": [
    "df = utils.get_field_corners(df)"
   ]
  },
  {
   "cell_type": "code",
   "execution_count": null,
   "metadata": {
    "collapsed": false
   },
   "outputs": [],
   "source": [
    "night_group = df.groupby(\"night\")"
   ]
  },
  {
   "cell_type": "code",
   "execution_count": null,
   "metadata": {
    "collapsed": false,
    "scrolled": true
   },
   "outputs": [],
   "source": [
    "df_to_plot = df[[\"fieldID\", \"fieldRA\", \"fieldDec\", \"cmap_visit_value\"]]\n",
    "\n",
    "# outpath = \"/Users/berto/plots/LSST/cadence/minion/Test_skymap_night_\"\n",
    "outpath = os.path.join(os.environ[\"HOME\"], \"plots/LSST/cadence/minion/markersize/no_yr1/skymap_night_\")\n",
    "\n",
    "df_to_plot[\"zorder\"] = df_to_plot[\"fieldID\"]*0\n",
    "df_to_plot[\"zorder\"].loc[df_to_plot[\"fieldID\"].isin(ddf)] = 99\n",
    "norm = mpl_colors.LogNorm(vmin=max_visits, vmax=min_visits)\n",
    "markersize = 15.\n",
    "\n",
    "# for i, group in enumerate(np.arange(4)):\n",
    "for i, group in enumerate(night_group.groups):\n",
    "    if i > 365:\n",
    "        if i - 365 == 0:\n",
    "            fig = plt.figure()\n",
    "            fig.subplots_adjust(left = 0.05, bottom = 0.05, top = 0.99,\n",
    "                                right = 0.97, hspace=0, wspace = .1)\n",
    "\n",
    "    #         ax_aitoff = plt.subplot2grid((1,24), (0,0), colspan = 22, rowspan = 1, projection=\"aitoff\")\n",
    "    #         ax_aitoff.grid(True)\n",
    "    #         ax_active = plt.subplot2grid((1,24), (0,0), colspan = 22, rowspan = 1, projection=\"aitoff\")\n",
    "    #         ax_active.grid(True)\n",
    "\n",
    "            ax_aitoff = fig.add_subplot(111, projection = \"aitoff\")\n",
    "            ax_active = fig.add_subplot(111, projection = \"aitoff\")\n",
    "            ax_aitoff.grid(True)\n",
    "            ax_active.grid(True)\n",
    "            ax_aitoff.set_xticklabels(['$2^h$','$4^h$','$6^h$', '$8^h$', '$10^h$', '$12^h$',\n",
    "                                      '$14^h$','$16^h$','$18^h$','$20^h$','$22^h$'], fontsize=10)\n",
    "            ax_active.set_xticklabels(['$2^h$','$4^h$','$6^h$', '$8^h$', '$10^h$', '$12^h$',\n",
    "                                      '$14^h$','$16^h$','$18^h$','$20^h$','$22^h$'], fontsize=10)\n",
    "    #         ax_cbar = plt.subplot2grid((1,24), (0,22), colspan = 1, rowspan = 1)\n",
    "            ax_cbar = fig.add_subplot(20,1,19)\n",
    "            cb1 = mpl_colorbar.ColorbarBase(ax_cbar, cmap=cmap,\n",
    "                                    norm=norm, orientation='horizontal')\n",
    "            cb1.set_label(r'$\\textnormal{Number of Visits}$')\n",
    "\n",
    "            working_df_to_plot = df_to_plot.loc[night_group.groups[group]]\n",
    "\n",
    "        else:\n",
    "    #         ax_active = fig.add_subplot(111, projection = \"aitoff\")\n",
    "            working_df_to_plot = pd.concat([working_df_to_plot,df_to_plot.loc[night_group.groups[group]]])\n",
    "\n",
    "            working_df_to_plot.drop_duplicates(subset=['fieldID'], inplace=True, keep=\"last\")\n",
    "\n",
    "        s = r\"$\\textnormal{night} = \" + str(i) + \"$\"\n",
    "        txt = plt.figtext(0.85, 0.8, s)\n",
    "\n",
    "        s1 = ax_aitoff.scatter(working_df_to_plot[\"fieldRA\"] - np.pi, \n",
    "                          working_df_to_plot[\"fieldDec\"], \n",
    "                          color = cmap(working_df_to_plot[\"cmap_visit_value\"]),\n",
    "                          s = markersize)\n",
    "\n",
    "\n",
    "        s2 = ax_aitoff.scatter(working_df_to_plot.loc[df_to_plot[\"zorder\"] == 99,[\"fieldRA\"]] - np.pi, \n",
    "                          working_df_to_plot.loc[df_to_plot[\"zorder\"] == 99,[\"fieldDec\"]], \n",
    "                          color = cmap(working_df_to_plot[working_df_to_plot[\"zorder\"] == 99][\"cmap_visit_value\"]),\n",
    "                          s = markersize)\n",
    "\n",
    "        s_a = ax_active.scatter(df_to_plot.loc[night_group.groups[group]][\"fieldRA\"] - np.pi, \n",
    "                          df_to_plot.loc[night_group.groups[group]][\"fieldDec\"], \n",
    "                          color = cmap(df_to_plot.loc[night_group.groups[group]][\"cmap_visit_value\"]),\n",
    "                          edgecolor = colours.hex[\"black\"],\n",
    "                          s = markersize)\n",
    "\n",
    "\n",
    "        plt.draw()\n",
    "        fig.savefig(outpath + str('%05d' % i)+\".png\", format = 'png', dpi=200)\n",
    "        s_a.remove()\n",
    "        txt.remove()\n",
    "    "
   ]
  },
  {
   "cell_type": "code",
   "execution_count": null,
   "metadata": {
    "collapsed": false
   },
   "outputs": [],
   "source": []
  },
  {
   "cell_type": "code",
   "execution_count": null,
   "metadata": {
    "collapsed": false
   },
   "outputs": [],
   "source": [
    "ones = np.ones(10)"
   ]
  },
  {
   "cell_type": "code",
   "execution_count": null,
   "metadata": {
    "collapsed": false
   },
   "outputs": [],
   "source": [
    "len(ones[0:])"
   ]
  },
  {
   "cell_type": "code",
   "execution_count": null,
   "metadata": {
    "collapsed": false
   },
   "outputs": [],
   "source": [
    "working_df_to_plot[working_df_to_plot[\"zorder\"] == 99][\"cmap_visit_value\"]"
   ]
  },
  {
   "cell_type": "code",
   "execution_count": null,
   "metadata": {
    "collapsed": false
   },
   "outputs": [],
   "source": [
    "df_to_plot.loc[df_to_plot[\"zorder\"] == 99,[\"fieldRA\"]]"
   ]
  },
  {
   "cell_type": "code",
   "execution_count": null,
   "metadata": {
    "collapsed": false
   },
   "outputs": [],
   "source": [
    "# working_df_to_plot[\"fieldID\"] in df_to_plot[\"fieldID\"]\n",
    "# df1 = working_df_to_plot.head(10)\n",
    "# df2 = working_df_to_plot.tail(10)\n",
    "df1 = df_to_plot.loc[df_to_plot[\"fieldID\"] == 505].head(1)\n",
    "df2 = df_to_plot.loc[df_to_plot[\"fieldID\"] == 505].tail(1)"
   ]
  },
  {
   "cell_type": "code",
   "execution_count": null,
   "metadata": {
    "collapsed": false
   },
   "outputs": [],
   "source": []
  },
  {
   "cell_type": "code",
   "execution_count": null,
   "metadata": {
    "collapsed": false
   },
   "outputs": [],
   "source": []
  },
  {
   "cell_type": "code",
   "execution_count": null,
   "metadata": {
    "collapsed": false
   },
   "outputs": [],
   "source": [
    "df_to_plot[\"zorder\"].loc[df_to_plot[\"fieldID\"].isin(ddf)] = 1"
   ]
  },
  {
   "cell_type": "code",
   "execution_count": null,
   "metadata": {
    "collapsed": false
   },
   "outputs": [],
   "source": [
    "df_to_plot[\"zorder\"].loc[df_to_plot[\"fieldID\"].isin(ddf)]"
   ]
  },
  {
   "cell_type": "code",
   "execution_count": null,
   "metadata": {
    "collapsed": false
   },
   "outputs": [],
   "source": [
    "df2"
   ]
  },
  {
   "cell_type": "code",
   "execution_count": null,
   "metadata": {
    "collapsed": false
   },
   "outputs": [],
   "source": [
    "df1"
   ]
  },
  {
   "cell_type": "code",
   "execution_count": null,
   "metadata": {
    "collapsed": false
   },
   "outputs": [],
   "source": [
    "df3 = pd.concat([df1,df2])"
   ]
  },
  {
   "cell_type": "code",
   "execution_count": null,
   "metadata": {
    "collapsed": false
   },
   "outputs": [],
   "source": [
    "df3"
   ]
  },
  {
   "cell_type": "code",
   "execution_count": null,
   "metadata": {
    "collapsed": false
   },
   "outputs": [],
   "source": [
    "df3.drop_duplicates(subset=['fieldID'], inplace=True, keep=\"last\")"
   ]
  },
  {
   "cell_type": "code",
   "execution_count": null,
   "metadata": {
    "collapsed": false
   },
   "outputs": [],
   "source": [
    "df3"
   ]
  },
  {
   "cell_type": "code",
   "execution_count": null,
   "metadata": {
    "collapsed": false
   },
   "outputs": [],
   "source": [
    "df.loc[df[\"fieldID\"] == 505].head(10)"
   ]
  },
  {
   "cell_type": "code",
   "execution_count": null,
   "metadata": {
    "collapsed": false
   },
   "outputs": [],
   "source": [
    "# outpath = \"/Users/berto/plots/LSST/cadence/minion/skymap_\"\n",
    "\n",
    "\n",
    "# for row in df.iterrows():\n",
    "#     fig = plt.figure()\n",
    "#     fig.subplots_adjust(left = 0.09, bottom = 0.13, top = 0.99,\n",
    "#                         right = 0.97, hspace=0, wspace = .1)\n",
    "\n",
    "#     ax_aitoff = fig.add_subplot(111, projection=\"aitoff\")\n",
    "#     ax_aitoff.grid(True)\n",
    "#     ax_aitoff.scatter(row[\"fieldRA\"] - np.pi, row[\"fieldDec\"], color = cmap(row[cmap_visit_value]))\n",
    "    \n",
    "#     fig.savefig(outpath + row[\"obsHistID\"]+\".pdf\", format = 'pdf', dpi=500)"
   ]
  },
  {
   "cell_type": "code",
   "execution_count": null,
   "metadata": {
    "collapsed": false
   },
   "outputs": [],
   "source": []
  },
  {
   "cell_type": "code",
   "execution_count": null,
   "metadata": {
    "collapsed": false
   },
   "outputs": [],
   "source": [
    "data = {}\n",
    "x = np.arange(10)\n",
    "\n",
    "for i in np.arange(5):\n",
    "    data[str(i)] = np.random.random(10)\n",
    "\n",
    "outpath = \"/Users/berto/plots/LSST/cadence/test_\"\n",
    "\n",
    "for i, j in enumerate(data):\n",
    "    if i == 0:\n",
    "        fig = plt.figure()\n",
    "        fig.subplots_adjust(left = 0.05, bottom = 0.01, top = 0.99,\n",
    "                            right = 0.97, hspace=0, wspace = .1)\n",
    "\n",
    "        ax = fig.add_subplot(111, projection = \"aitoff\")\n",
    "        ax_active = fig.add_subplot(111, projection = \"aitoff\")\n",
    "        \n",
    "    else:\n",
    "        pass\n",
    "    \n",
    "    s1 = ax.scatter(x, data[j], color = colours.hex[\"pomegranite\"])\n",
    "    s2 = ax_active.scatter(x, data[j], color = colours.hex[\"pomegranite\"], edgecolor = \"black\")\n",
    "    \n",
    "    fig.savefig(outpath + str('%05d' % i)+\".png\", format = 'png', dpi=200)\n",
    "    s2.remove()\n"
   ]
  },
  {
   "cell_type": "code",
   "execution_count": null,
   "metadata": {
    "collapsed": false
   },
   "outputs": [],
   "source": []
  },
  {
   "cell_type": "code",
   "execution_count": null,
   "metadata": {
    "collapsed": false
   },
   "outputs": [],
   "source": []
  },
  {
   "cell_type": "code",
   "execution_count": null,
   "metadata": {
    "collapsed": true
   },
   "outputs": [],
   "source": []
  }
 ],
 "metadata": {
  "kernelspec": {
   "display_name": "Python 3",
   "language": "python",
   "name": "python3"
  },
  "language_info": {
   "codemirror_mode": {
    "name": "ipython",
    "version": 3
   },
   "file_extension": ".py",
   "mimetype": "text/x-python",
   "name": "python",
   "nbconvert_exporter": "python",
   "pygments_lexer": "ipython3",
   "version": "3.6.0"
  }
 },
 "nbformat": 4,
 "nbformat_minor": 2
}
