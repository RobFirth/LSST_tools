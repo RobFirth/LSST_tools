{
 "cells": [
  {
   "cell_type": "markdown",
   "metadata": {},
   "source": [
    "# Get a LSST Simulated Cadence for Arbitrary Sky Position\n",
    "___\n",
    "\n",
    "\n",
    "___"
   ]
  },
  {
   "cell_type": "code",
   "execution_count": null,
   "metadata": {
    "collapsed": false
   },
   "outputs": [],
   "source": [
    "\"\"\"\n",
    "\n",
    "\"\"\"\n",
    "# %matplotlib inline\n",
    "%matplotlib notebook\n",
    "\n",
    "\n",
    "from __future__ import print_function\n",
    "\n",
    "try:\n",
    "    from importlib import reload\n",
    "except:\n",
    "    pass\n",
    "\n",
    "\n",
    "from matplotlib import pyplot as plt\n",
    "import matplotlib.colors as mpl_colors \n",
    "from matplotlib import colorbar as mpl_colorbar\n",
    "from matplotlib import rc\n",
    "rc('text', usetex=True)\n",
    "\n",
    "import os\n",
    "import warnings\n",
    "\n",
    "import numpy as np\n",
    "import pandas as pd\n",
    "import astropy as ap\n",
    "import sfdmap\n",
    "\n",
    "import sqlite3\n",
    "from sqlalchemy import create_engine\n",
    "\n",
    "from astropy import units as u\n",
    "from astropy.coordinates import SkyCoord\n",
    "\n",
    "import lsst_tools.utils as utils \n",
    "import lsst_tools.utils.colours as colours \n",
    "\n",
    "from multiprocessing import Pool, cpu_count\n",
    "from contextlib import closing"
   ]
  },
  {
   "cell_type": "markdown",
   "metadata": {},
   "source": [
    "Connect to .db file that contains the opsim output, read into a dataframe, `opsimdf`"
   ]
  },
  {
   "cell_type": "code",
   "execution_count": null,
   "metadata": {
    "collapsed": false
   },
   "outputs": [],
   "source": [
    "# %%timeit ## 1 loop, best of 3: 1min 31s per loop \n",
    "# opsimdbpath = os.environ.get('OPSIMDBPATH')\n",
    "# print(opsimdbpath)\n",
    "opsimdbpath = \"/Users/berto/data/LSST/OpSimOutputDBs/minion_1016_sqlite.db\"\n",
    "\n",
    "conn = create_engine('sqlite:///'+opsimdbpath, echo = False)\n",
    "opsimdf = pd.read_sql_table('Summary', con=conn)"
   ]
  },
  {
   "cell_type": "code",
   "execution_count": null,
   "metadata": {
    "collapsed": false
   },
   "outputs": [],
   "source": [
    "opsimdf.head()"
   ]
  },
  {
   "cell_type": "code",
   "execution_count": null,
   "metadata": {
    "collapsed": false
   },
   "outputs": [],
   "source": [
    "len(opsimdf[\"fieldID\"].unique())"
   ]
  },
  {
   "cell_type": "code",
   "execution_count": null,
   "metadata": {
    "collapsed": false
   },
   "outputs": [],
   "source": [
    "#%%timeit ## The slowest run took 39.04 times longer than the fastest. This could mean that an intermediate result is being cached.\n",
    "#         ## 1000 loops, best of 3: 246 µs per loop\n",
    "n = 1\n",
    "pos_df = utils.generate_coordinates(n)"
   ]
  },
  {
   "cell_type": "markdown",
   "metadata": {},
   "source": [
    "Add extinction to the dataframe"
   ]
  },
  {
   "cell_type": "code",
   "execution_count": null,
   "metadata": {
    "collapsed": false
   },
   "outputs": [],
   "source": [
    "#%%timeit ## 1 loop, best of 3: 88.6 ms per loop\n",
    "df = utils.find_MW_extinction(pos_df) "
   ]
  },
  {
   "cell_type": "markdown",
   "metadata": {},
   "source": [
    "Check the positions are sensible"
   ]
  },
  {
   "cell_type": "code",
   "execution_count": null,
   "metadata": {
    "collapsed": false
   },
   "outputs": [],
   "source": [
    "#%%timeit ## 1 loop, best of 3: 235 ms per loop\n",
    "utils.plot_position_points(df)"
   ]
  },
  {
   "cell_type": "code",
   "execution_count": null,
   "metadata": {
    "collapsed": false
   },
   "outputs": [],
   "source": [
    "reload(utils)\n",
    "df = utils.get_field_corners(df)\n",
    "utils.plot_field(df)"
   ]
  },
  {
   "cell_type": "code",
   "execution_count": null,
   "metadata": {
    "collapsed": false
   },
   "outputs": [],
   "source": [
    "reload(utils)\n",
    "allfields_df = utils.get_field_corners(pd.DataFrame(working_df.drop_duplicates(\"fieldID\"))[['fieldID', 'fieldRA', 'fieldDec']])\n",
    "utils.plot_field_patch(allfields_df)\n",
    "# utils.plot_field_patch(allfields_df)"
   ]
  },
  {
   "cell_type": "code",
   "execution_count": null,
   "metadata": {
    "collapsed": false
   },
   "outputs": [],
   "source": [
    "from astropy.coordinates import SkyCoord, Galactic, ICRS, Angle, Latitude, Longitude\n",
    "\n",
    "## make line of Galactic = 0 Lat\n",
    "long = np.arange(-180., 181., 1.)\n",
    "lat = np.zeros_like(long)\n",
    "long_ra_rad_arr = np.array([])\n",
    "lat_dec_rad_arr = np.array([])\n",
    "\n",
    "for i in range(len(long)):\n",
    "    sc = SkyCoord(long[i], lat[i], unit='deg', frame=Galactic)\n",
    "    long_ra_rad_arr = np.append(long_ra_rad_arr, sc.icrs.ra.wrap_at(180*u.deg).radian)\n",
    "    lat_dec_rad_arr = np.append(lat_dec_rad_arr, sc.icrs.dec.radian)\n",
    "\n",
    "w = np.argsort(long_ra_rad_arr)\n",
    "\n"
   ]
  },
  {
   "cell_type": "code",
   "execution_count": null,
   "metadata": {
    "collapsed": false
   },
   "outputs": [],
   "source": [
    "d = {\"long_ra_rad_arr\" : long_ra_rad_arr[w]}"
   ]
  },
  {
   "cell_type": "code",
   "execution_count": null,
   "metadata": {
    "collapsed": false
   },
   "outputs": [],
   "source": [
    "reload(utils)"
   ]
  },
  {
   "cell_type": "code",
   "execution_count": null,
   "metadata": {
    "collapsed": false
   },
   "outputs": [],
   "source": [
    "utils.print_path()"
   ]
  },
  {
   "cell_type": "code",
   "execution_count": null,
   "metadata": {
    "collapsed": false
   },
   "outputs": [],
   "source": [
    "fullpath = \"/Users/berto/Code/LSST_tools/lsst_tools/data/galactic_plane_RADec.dat\"\n",
    "## make line of Galactic = 0 Lat\n",
    "long = np.arange(-180., 181., 1.)\n",
    "lat = np.zeros_like(long)\n",
    "long_ra_rad_arr = np.array([])\n",
    "lat_dec_rad_arr = np.array([])\n",
    "\n",
    "for i in range(len(long)):\n",
    "    sc = SkyCoord(long[i], lat[i], unit='deg', frame=Galactic)\n",
    "    long_ra_rad_arr = np.append(long_ra_rad_arr, sc.icrs.ra.wrap_at(180*u.deg).radian)\n",
    "    lat_dec_rad_arr = np.append(lat_dec_rad_arr, sc.icrs.dec.radian)\n",
    "\n",
    "w = np.argsort(long_ra_rad_arr)\n",
    "\n",
    "coord_table = ap.table.Table((long_ra_rad_arr[w], lat_dec_rad_arr[w]), names = (\"RA\", \"Dec\" ))\n",
    "\n",
    "coord_table.write(filename = fullpath, format = \"ascii.commented_header\")"
   ]
  },
  {
   "cell_type": "code",
   "execution_count": null,
   "metadata": {
    "collapsed": false
   },
   "outputs": [],
   "source": [
    "utils.get_galactic_plane()"
   ]
  },
  {
   "cell_type": "markdown",
   "metadata": {},
   "source": [
    "Connecting to `.db` takes ages (~1min), and is a pain if you mess up, so create a 'working' instance to fiddle with"
   ]
  },
  {
   "cell_type": "code",
   "execution_count": null,
   "metadata": {
    "collapsed": false
   },
   "outputs": [],
   "source": [
    "working_df = opsimdf"
   ]
  },
  {
   "cell_type": "markdown",
   "metadata": {
    "collapsed": false
   },
   "source": [
    "## Identifying Fields\n",
    "___\n",
    "We want to find out which field(s) the position is in. Create table that tells us the field centres, and find the edges."
   ]
  },
  {
   "cell_type": "code",
   "execution_count": null,
   "metadata": {
    "collapsed": false
   },
   "outputs": [],
   "source": [
    "# working_df = utils.get_field_corners(working_df.drop_duplicates(\"fieldID\"))[['fieldRA', 'fieldDec']]\n",
    "working_df = utils.get_field_corners(pd.DataFrame(working_df.drop_duplicates(\"fieldID\"))[['fieldID', 'fieldRA', 'fieldDec']])"
   ]
  },
  {
   "cell_type": "code",
   "execution_count": null,
   "metadata": {
    "collapsed": false
   },
   "outputs": [],
   "source": [
    "working_df"
   ]
  },
  {
   "cell_type": "code",
   "execution_count": null,
   "metadata": {
    "collapsed": false
   },
   "outputs": [],
   "source": [
    "field_df = working_df[(working_df[\"RA_upper\"] >= df[\"theta\"][0] + np.pi) &\n",
    "                (working_df[\"RA_lower\"] <= df[\"theta\"][0] + np.pi) &\n",
    "                (working_df[\"Dec_lower\"] >= df[\"phi\"][0])  &\n",
    "                (working_df[\"Dec_upper\"] <= df[\"phi\"][0])]"
   ]
  },
  {
   "cell_type": "code",
   "execution_count": null,
   "metadata": {
    "collapsed": false
   },
   "outputs": [],
   "source": [
    "reload(utils)\n",
    "utils.plot_field(working_df)"
   ]
  },
  {
   "cell_type": "code",
   "execution_count": null,
   "metadata": {
    "collapsed": false
   },
   "outputs": [],
   "source": [
    "df = opsimdf"
   ]
  },
  {
   "cell_type": "code",
   "execution_count": null,
   "metadata": {
    "collapsed": false
   },
   "outputs": [],
   "source": [
    "## Work out how often each field is visited\n",
    "min_visits = df[\"fieldID\"].value_counts().min()\n",
    "max_visits = df[\"fieldID\"].value_counts().max()\n",
    "\n",
    "print(min_visits, \",\",max_visits)\n",
    "\n",
    "df['count'] = df.groupby('fieldID').cumcount()"
   ]
  },
  {
   "cell_type": "code",
   "execution_count": null,
   "metadata": {
    "collapsed": false
   },
   "outputs": [],
   "source": [
    "df[\"fieldID\"].value_counts().head(10)"
   ]
  },
  {
   "cell_type": "code",
   "execution_count": null,
   "metadata": {
    "collapsed": false
   },
   "outputs": [],
   "source": [
    "ddf = [1427,744,2412,290,2786]"
   ]
  },
  {
   "cell_type": "code",
   "execution_count": null,
   "metadata": {
    "collapsed": false
   },
   "outputs": [],
   "source": [
    "cmap = plt.get_cmap(\"viridis\")\n",
    "# df[\"cmap_visit_value\"] = (df[\"count\"] - min_visits )/(max_visits - min_visits)\n",
    "df[\"cmap_visit_value\"] = np.log((df[\"count\"] + 1)/(max_visits+1))"
   ]
  },
  {
   "cell_type": "code",
   "execution_count": null,
   "metadata": {
    "collapsed": false
   },
   "outputs": [],
   "source": [
    "df[\"cmap_visit_value\"] = df[\"cmap_visit_value\"] + np.abs(df[\"cmap_visit_value\"].min())\n",
    "df[\"cmap_visit_value\"] = df[\"cmap_visit_value\"]/df[\"cmap_visit_value\"].max()"
   ]
  },
  {
   "cell_type": "code",
   "execution_count": null,
   "metadata": {
    "collapsed": false
   },
   "outputs": [],
   "source": [
    "df[\"cmap_visit_value\"].hist(bins = 200)"
   ]
  },
  {
   "cell_type": "code",
   "execution_count": null,
   "metadata": {
    "collapsed": false
   },
   "outputs": [],
   "source": [
    "df[\"fieldID\"].value_counts().hist(bins = 200, range = [0, 2000])"
   ]
  },
  {
   "cell_type": "code",
   "execution_count": null,
   "metadata": {
    "collapsed": false
   },
   "outputs": [],
   "source": [
    "df = utils.get_field_corners(df)"
   ]
  },
  {
   "cell_type": "code",
   "execution_count": null,
   "metadata": {
    "collapsed": false
   },
   "outputs": [],
   "source": [
    "night_group = df.groupby(\"night\")"
   ]
  },
  {
   "cell_type": "code",
   "execution_count": null,
   "metadata": {
    "collapsed": false,
    "scrolled": true
   },
   "outputs": [],
   "source": [
    "df_to_plot = df[[\"fieldID\", \"fieldRA\", \"fieldDec\", \"cmap_visit_value\"]]\n",
    "\n",
    "# outpath = \"/Users/berto/plots/LSST/cadence/minion/Test_skymap_night_\"\n",
    "outpath = os.path.join(os.environ[\"HOME\"], \"plots/LSST/cadence/minion/markersize/no_yr1/skymap_night_\")\n",
    "\n",
    "df_to_plot[\"zorder\"] = df_to_plot[\"fieldID\"]*0\n",
    "df_to_plot[\"zorder\"].loc[df_to_plot[\"fieldID\"].isin(ddf)] = 99\n",
    "norm = mpl_colors.LogNorm(vmin=max_visits, vmax=min_visits)\n",
    "markersize = 15.\n",
    "\n",
    "# for i, group in enumerate(np.arange(4)):\n",
    "for i, group in enumerate(night_group.groups):\n",
    "    if i > 365:\n",
    "        if i - 365 == 0:\n",
    "            fig = plt.figure()\n",
    "            fig.subplots_adjust(left = 0.05, bottom = 0.05, top = 0.99,\n",
    "                                right = 0.97, hspace=0, wspace = .1)\n",
    "\n",
    "    #         ax_aitoff = plt.subplot2grid((1,24), (0,0), colspan = 22, rowspan = 1, projection=\"aitoff\")\n",
    "    #         ax_aitoff.grid(True)\n",
    "    #         ax_active = plt.subplot2grid((1,24), (0,0), colspan = 22, rowspan = 1, projection=\"aitoff\")\n",
    "    #         ax_active.grid(True)\n",
    "\n",
    "            ax_aitoff = fig.add_subplot(111, projection = \"aitoff\")\n",
    "            ax_active = fig.add_subplot(111, projection = \"aitoff\")\n",
    "            ax_aitoff.grid(True)\n",
    "            ax_active.grid(True)\n",
    "            ax_aitoff.set_xticklabels(['$2^h$','$4^h$','$6^h$', '$8^h$', '$10^h$', '$12^h$',\n",
    "                                      '$14^h$','$16^h$','$18^h$','$20^h$','$22^h$'], fontsize=10)\n",
    "            ax_active.set_xticklabels(['$2^h$','$4^h$','$6^h$', '$8^h$', '$10^h$', '$12^h$',\n",
    "                                      '$14^h$','$16^h$','$18^h$','$20^h$','$22^h$'], fontsize=10)\n",
    "    #         ax_cbar = plt.subplot2grid((1,24), (0,22), colspan = 1, rowspan = 1)\n",
    "            ax_cbar = fig.add_subplot(20,1,19)\n",
    "            cb1 = mpl_colorbar.ColorbarBase(ax_cbar, cmap=cmap,\n",
    "                                    norm=norm, orientation='horizontal')\n",
    "            cb1.set_label(r'$\\textnormal{Number of Visits}$')\n",
    "\n",
    "            working_df_to_plot = df_to_plot.loc[night_group.groups[group]]\n",
    "\n",
    "        else:\n",
    "    #         ax_active = fig.add_subplot(111, projection = \"aitoff\")\n",
    "            working_df_to_plot = pd.concat([working_df_to_plot,df_to_plot.loc[night_group.groups[group]]])\n",
    "\n",
    "            working_df_to_plot.drop_duplicates(subset=['fieldID'], inplace=True, keep=\"last\")\n",
    "\n",
    "        s = r\"$\\textnormal{night} = \" + str(i) + \"$\"\n",
    "        txt = plt.figtext(0.85, 0.8, s)\n",
    "\n",
    "        s1 = ax_aitoff.scatter(working_df_to_plot[\"fieldRA\"] - np.pi, \n",
    "                          working_df_to_plot[\"fieldDec\"], \n",
    "                          color = cmap(working_df_to_plot[\"cmap_visit_value\"]),\n",
    "                          s = markersize)\n",
    "\n",
    "\n",
    "        s2 = ax_aitoff.scatter(working_df_to_plot.loc[df_to_plot[\"zorder\"] == 99,[\"fieldRA\"]] - np.pi, \n",
    "                          working_df_to_plot.loc[df_to_plot[\"zorder\"] == 99,[\"fieldDec\"]], \n",
    "                          color = cmap(working_df_to_plot[working_df_to_plot[\"zorder\"] == 99][\"cmap_visit_value\"]),\n",
    "                          s = markersize)\n",
    "\n",
    "        s_a = ax_active.scatter(df_to_plot.loc[night_group.groups[group]][\"fieldRA\"] - np.pi, \n",
    "                          df_to_plot.loc[night_group.groups[group]][\"fieldDec\"], \n",
    "                          color = cmap(df_to_plot.loc[night_group.groups[group]][\"cmap_visit_value\"]),\n",
    "                          edgecolor = colours.hex[\"black\"],\n",
    "                          s = markersize)\n",
    "\n",
    "\n",
    "        plt.draw()\n",
    "        fig.savefig(outpath + str('%05d' % i)+\".png\", format = 'png', dpi=200)\n",
    "        s_a.remove()\n",
    "        txt.remove()\n",
    "    "
   ]
  },
  {
   "cell_type": "code",
   "execution_count": null,
   "metadata": {
    "collapsed": false
   },
   "outputs": [],
   "source": []
  },
  {
   "cell_type": "code",
   "execution_count": null,
   "metadata": {
    "collapsed": false
   },
   "outputs": [],
   "source": [
    "ones = np.ones(10)"
   ]
  },
  {
   "cell_type": "code",
   "execution_count": null,
   "metadata": {
    "collapsed": false
   },
   "outputs": [],
   "source": [
    "len(ones[0:])"
   ]
  },
  {
   "cell_type": "code",
   "execution_count": null,
   "metadata": {
    "collapsed": false
   },
   "outputs": [],
   "source": [
    "working_df_to_plot[working_df_to_plot[\"zorder\"] == 99][\"cmap_visit_value\"]"
   ]
  },
  {
   "cell_type": "code",
   "execution_count": null,
   "metadata": {
    "collapsed": false
   },
   "outputs": [],
   "source": [
    "df_to_plot.loc[df_to_plot[\"zorder\"] == 99,[\"fieldRA\"]]"
   ]
  },
  {
   "cell_type": "code",
   "execution_count": null,
   "metadata": {
    "collapsed": false
   },
   "outputs": [],
   "source": [
    "# working_df_to_plot[\"fieldID\"] in df_to_plot[\"fieldID\"]\n",
    "# df1 = working_df_to_plot.head(10)\n",
    "# df2 = working_df_to_plot.tail(10)\n",
    "df1 = df_to_plot.loc[df_to_plot[\"fieldID\"] == 505].head(1)\n",
    "df2 = df_to_plot.loc[df_to_plot[\"fieldID\"] == 505].tail(1)"
   ]
  },
  {
   "cell_type": "code",
   "execution_count": null,
   "metadata": {
    "collapsed": false
   },
   "outputs": [],
   "source": []
  },
  {
   "cell_type": "code",
   "execution_count": null,
   "metadata": {
    "collapsed": false
   },
   "outputs": [],
   "source": []
  },
  {
   "cell_type": "code",
   "execution_count": null,
   "metadata": {
    "collapsed": false
   },
   "outputs": [],
   "source": [
    "df_to_plot[\"zorder\"].loc[df_to_plot[\"fieldID\"].isin(ddf)] = 1"
   ]
  },
  {
   "cell_type": "code",
   "execution_count": null,
   "metadata": {
    "collapsed": false
   },
   "outputs": [],
   "source": [
    "df_to_plot[\"zorder\"].loc[df_to_plot[\"fieldID\"].isin(ddf)]"
   ]
  },
  {
   "cell_type": "code",
   "execution_count": null,
   "metadata": {
    "collapsed": false
   },
   "outputs": [],
   "source": [
    "df2"
   ]
  },
  {
   "cell_type": "code",
   "execution_count": null,
   "metadata": {
    "collapsed": false
   },
   "outputs": [],
   "source": [
    "df1"
   ]
  },
  {
   "cell_type": "code",
   "execution_count": null,
   "metadata": {
    "collapsed": false
   },
   "outputs": [],
   "source": [
    "df3 = pd.concat([df1,df2])"
   ]
  },
  {
   "cell_type": "code",
   "execution_count": null,
   "metadata": {
    "collapsed": false
   },
   "outputs": [],
   "source": [
    "df3"
   ]
  },
  {
   "cell_type": "code",
   "execution_count": null,
   "metadata": {
    "collapsed": false
   },
   "outputs": [],
   "source": [
    "df3.drop_duplicates(subset=['fieldID'], inplace=True, keep=\"last\")"
   ]
  },
  {
   "cell_type": "code",
   "execution_count": null,
   "metadata": {
    "collapsed": false
   },
   "outputs": [],
   "source": [
    "df3"
   ]
  },
  {
   "cell_type": "code",
   "execution_count": null,
   "metadata": {
    "collapsed": false
   },
   "outputs": [],
   "source": [
    "df.loc[df[\"fieldID\"] == 505].head(10)"
   ]
  },
  {
   "cell_type": "code",
   "execution_count": null,
   "metadata": {
    "collapsed": false
   },
   "outputs": [],
   "source": [
    "# outpath = \"/Users/berto/plots/LSST/cadence/minion/skymap_\"\n",
    "\n",
    "\n",
    "# for row in df.iterrows():\n",
    "#     fig = plt.figure()\n",
    "#     fig.subplots_adjust(left = 0.09, bottom = 0.13, top = 0.99,\n",
    "#                         right = 0.97, hspace=0, wspace = .1)\n",
    "\n",
    "#     ax_aitoff = fig.add_subplot(111, projection=\"aitoff\")\n",
    "#     ax_aitoff.grid(True)\n",
    "#     ax_aitoff.scatter(row[\"fieldRA\"] - np.pi, row[\"fieldDec\"], color = cmap(row[cmap_visit_value]))\n",
    "    \n",
    "#     fig.savefig(outpath + row[\"obsHistID\"]+\".pdf\", format = 'pdf', dpi=500)"
   ]
  },
  {
   "cell_type": "code",
   "execution_count": null,
   "metadata": {
    "collapsed": false
   },
   "outputs": [],
   "source": []
  },
  {
   "cell_type": "code",
   "execution_count": null,
   "metadata": {
    "collapsed": false
   },
   "outputs": [],
   "source": [
    "data = {}\n",
    "x = np.arange(10)\n",
    "\n",
    "for i in np.arange(5):\n",
    "    data[str(i)] = np.random.random(10)\n",
    "\n",
    "outpath = \"/Users/berto/plots/LSST/cadence/test_\"\n",
    "\n",
    "for i, j in enumerate(data):\n",
    "    if i == 0:\n",
    "        fig = plt.figure()\n",
    "        fig.subplots_adjust(left = 0.05, bottom = 0.01, top = 0.99,\n",
    "                            right = 0.97, hspace=0, wspace = .1)\n",
    "\n",
    "        ax = fig.add_subplot(111, projection = \"aitoff\")\n",
    "        ax_active = fig.add_subplot(111, projection = \"aitoff\")\n",
    "        \n",
    "    else:\n",
    "        pass\n",
    "    \n",
    "    s1 = ax.scatter(x, data[j], color = colours.hex[\"pomegranite\"])\n",
    "    s2 = ax_active.scatter(x, data[j], color = colours.hex[\"pomegranite\"], edgecolor = \"black\")\n",
    "    \n",
    "    fig.savefig(outpath + str('%05d' % i)+\".png\", format = 'png', dpi=200)\n",
    "    s2.remove()\n"
   ]
  },
  {
   "cell_type": "code",
   "execution_count": null,
   "metadata": {
    "collapsed": false
   },
   "outputs": [],
   "source": []
  },
  {
   "cell_type": "code",
   "execution_count": null,
   "metadata": {
    "collapsed": false
   },
   "outputs": [],
   "source": []
  },
  {
   "cell_type": "code",
   "execution_count": null,
   "metadata": {
    "collapsed": true
   },
   "outputs": [],
   "source": []
  }
 ],
 "metadata": {
  "kernelspec": {
   "display_name": "Python 3",
   "language": "python",
   "name": "python3"
  },
  "language_info": {
   "codemirror_mode": {
    "name": "ipython",
    "version": 3
   },
   "file_extension": ".py",
   "mimetype": "text/x-python",
   "name": "python",
   "nbconvert_exporter": "python",
   "pygments_lexer": "ipython3",
   "version": "3.6.0"
  }
 },
 "nbformat": 4,
 "nbformat_minor": 2
}
