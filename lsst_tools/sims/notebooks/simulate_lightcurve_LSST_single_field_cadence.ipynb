{
 "cells": [
  {
   "cell_type": "markdown",
   "metadata": {},
   "source": [
    "# Get a LSST Simulated Cadence for Single Field\n",
    "___\n",
    "\n",
    "\n",
    "___"
   ]
  },
  {
   "cell_type": "code",
   "execution_count": 1,
   "metadata": {
    "collapsed": false
   },
   "outputs": [],
   "source": [
    "\"\"\"\n",
    "\n",
    "\"\"\"\n",
    "%matplotlib inline\n",
    "# %matplotlib notebook\n",
    "\n",
    "from __future__ import print_function\n",
    "\n",
    "try:\n",
    "    from importlib import reload\n",
    "except:\n",
    "    pass\n",
    "\n",
    "\n",
    "from matplotlib import pyplot as plt\n",
    "import matplotlib.colors as mpl_colors \n",
    "\n",
    "import os\n",
    "import sys\n",
    "import warnings\n",
    "\n",
    "import numpy as np\n",
    "import pandas as pd\n",
    "import astropy as ap\n",
    "import sfdmap\n",
    "\n",
    "import sqlite3\n",
    "from sqlalchemy import create_engine\n",
    "\n",
    "from astropy import units as u\n",
    "from astropy.coordinates import SkyCoord\n",
    "from astropy.table import Table\n",
    "\n",
    "import lsst_tools.utils as utils \n",
    "import lsst_tools.utils.colours as colours \n",
    "\n",
    "import pyCoCo as pccsims\n",
    "import pycoco as pcc"
   ]
  },
  {
   "cell_type": "markdown",
   "metadata": {
    "collapsed": true
   },
   "source": [
    "Connect to .db file that contains the opsim output, read into a dataframe, `opsimdf`"
   ]
  },
  {
   "cell_type": "code",
   "execution_count": 2,
   "metadata": {
    "collapsed": false
   },
   "outputs": [
    {
     "name": "stdout",
     "output_type": "stream",
     "text": [
      "/Users/berto/data/LSST/OpSimOutputDBs/minion_1016_sqlite.db\n"
     ]
    }
   ],
   "source": [
    "# %%timeit ## 1 loop, best of 3: 1min 31s per loop \n",
    "opsimdbpath = os.environ.get('OPSIMDBPATH')\n",
    "print(opsimdbpath)\n",
    "# opsimdbpath = \"/Users/berto/data/LSST/OpSimOutputDBs/astro_lsst_01_1068_sqlite.db\"\n",
    "opsimdbpath = \"/Users/berto/data/LSST/OpSimOutputDBs/minion_1016_sqlite.db\"\n",
    "\n",
    "conn = create_engine('sqlite:///'+opsimdbpath, echo = False)\n",
    "opsimdf = pd.read_sql_table('Summary', con=conn)"
   ]
  },
  {
   "cell_type": "markdown",
   "metadata": {},
   "source": [
    "Check that the db looks as we expect"
   ]
  },
  {
   "cell_type": "code",
   "execution_count": 3,
   "metadata": {
    "collapsed": false
   },
   "outputs": [
    {
     "data": {
      "text/html": [
       "<div>\n",
       "<table border=\"1\" class=\"dataframe\">\n",
       "  <thead>\n",
       "    <tr style=\"text-align: right;\">\n",
       "      <th></th>\n",
       "      <th>obsHistID</th>\n",
       "      <th>sessionID</th>\n",
       "      <th>propID</th>\n",
       "      <th>fieldID</th>\n",
       "      <th>fieldRA</th>\n",
       "      <th>fieldDec</th>\n",
       "      <th>filter</th>\n",
       "      <th>expDate</th>\n",
       "      <th>expMJD</th>\n",
       "      <th>night</th>\n",
       "      <th>...</th>\n",
       "      <th>moonBright</th>\n",
       "      <th>darkBright</th>\n",
       "      <th>rawSeeing</th>\n",
       "      <th>wind</th>\n",
       "      <th>humidity</th>\n",
       "      <th>slewDist</th>\n",
       "      <th>slewTime</th>\n",
       "      <th>fiveSigmaDepth</th>\n",
       "      <th>ditheredRA</th>\n",
       "      <th>ditheredDec</th>\n",
       "    </tr>\n",
       "  </thead>\n",
       "  <tbody>\n",
       "    <tr>\n",
       "      <th>0</th>\n",
       "      <td>1</td>\n",
       "      <td>1016</td>\n",
       "      <td>54</td>\n",
       "      <td>316</td>\n",
       "      <td>1.676483</td>\n",
       "      <td>-1.082473</td>\n",
       "      <td>y</td>\n",
       "      <td>2922</td>\n",
       "      <td>59580.033829</td>\n",
       "      <td>0</td>\n",
       "      <td>...</td>\n",
       "      <td>0.0</td>\n",
       "      <td>105.610378</td>\n",
       "      <td>0.920473</td>\n",
       "      <td>0.0</td>\n",
       "      <td>0.0</td>\n",
       "      <td>1.620307</td>\n",
       "      <td>0.000000</td>\n",
       "      <td>21.021236</td>\n",
       "      <td>1.643930</td>\n",
       "      <td>-1.108924</td>\n",
       "    </tr>\n",
       "    <tr>\n",
       "      <th>1</th>\n",
       "      <td>2</td>\n",
       "      <td>1016</td>\n",
       "      <td>54</td>\n",
       "      <td>372</td>\n",
       "      <td>1.694120</td>\n",
       "      <td>-1.033972</td>\n",
       "      <td>y</td>\n",
       "      <td>2961</td>\n",
       "      <td>59580.034275</td>\n",
       "      <td>0</td>\n",
       "      <td>...</td>\n",
       "      <td>0.0</td>\n",
       "      <td>105.167017</td>\n",
       "      <td>0.920473</td>\n",
       "      <td>0.0</td>\n",
       "      <td>0.0</td>\n",
       "      <td>0.049266</td>\n",
       "      <td>4.574944</td>\n",
       "      <td>21.026646</td>\n",
       "      <td>1.664257</td>\n",
       "      <td>-1.060423</td>\n",
       "    </tr>\n",
       "    <tr>\n",
       "      <th>2</th>\n",
       "      <td>3</td>\n",
       "      <td>1016</td>\n",
       "      <td>54</td>\n",
       "      <td>441</td>\n",
       "      <td>1.708513</td>\n",
       "      <td>-0.985271</td>\n",
       "      <td>y</td>\n",
       "      <td>2999</td>\n",
       "      <td>59580.034722</td>\n",
       "      <td>0</td>\n",
       "      <td>...</td>\n",
       "      <td>0.0</td>\n",
       "      <td>104.849578</td>\n",
       "      <td>0.920473</td>\n",
       "      <td>0.0</td>\n",
       "      <td>0.0</td>\n",
       "      <td>0.049298</td>\n",
       "      <td>4.595615</td>\n",
       "      <td>21.030520</td>\n",
       "      <td>1.680878</td>\n",
       "      <td>-1.011722</td>\n",
       "    </tr>\n",
       "    <tr>\n",
       "      <th>3</th>\n",
       "      <td>4</td>\n",
       "      <td>1016</td>\n",
       "      <td>54</td>\n",
       "      <td>505</td>\n",
       "      <td>1.720374</td>\n",
       "      <td>-0.936476</td>\n",
       "      <td>y</td>\n",
       "      <td>3038</td>\n",
       "      <td>59580.035169</td>\n",
       "      <td>0</td>\n",
       "      <td>...</td>\n",
       "      <td>0.0</td>\n",
       "      <td>104.669398</td>\n",
       "      <td>0.920473</td>\n",
       "      <td>0.0</td>\n",
       "      <td>0.0</td>\n",
       "      <td>0.049266</td>\n",
       "      <td>4.605366</td>\n",
       "      <td>21.032718</td>\n",
       "      <td>1.694604</td>\n",
       "      <td>-0.962927</td>\n",
       "    </tr>\n",
       "    <tr>\n",
       "      <th>4</th>\n",
       "      <td>5</td>\n",
       "      <td>1016</td>\n",
       "      <td>54</td>\n",
       "      <td>587</td>\n",
       "      <td>1.730248</td>\n",
       "      <td>-0.887672</td>\n",
       "      <td>y</td>\n",
       "      <td>3077</td>\n",
       "      <td>59580.035616</td>\n",
       "      <td>0</td>\n",
       "      <td>...</td>\n",
       "      <td>0.0</td>\n",
       "      <td>104.627207</td>\n",
       "      <td>0.920473</td>\n",
       "      <td>0.0</td>\n",
       "      <td>0.0</td>\n",
       "      <td>0.049177</td>\n",
       "      <td>4.604023</td>\n",
       "      <td>21.033233</td>\n",
       "      <td>1.706054</td>\n",
       "      <td>-0.914123</td>\n",
       "    </tr>\n",
       "  </tbody>\n",
       "</table>\n",
       "<p>5 rows × 47 columns</p>\n",
       "</div>"
      ],
      "text/plain": [
       "   obsHistID  sessionID  propID  fieldID   fieldRA  fieldDec filter  expDate  \\\n",
       "0          1       1016      54      316  1.676483 -1.082473      y     2922   \n",
       "1          2       1016      54      372  1.694120 -1.033972      y     2961   \n",
       "2          3       1016      54      441  1.708513 -0.985271      y     2999   \n",
       "3          4       1016      54      505  1.720374 -0.936476      y     3038   \n",
       "4          5       1016      54      587  1.730248 -0.887672      y     3077   \n",
       "\n",
       "         expMJD  night     ...       moonBright  darkBright  rawSeeing  wind  \\\n",
       "0  59580.033829      0     ...              0.0  105.610378   0.920473   0.0   \n",
       "1  59580.034275      0     ...              0.0  105.167017   0.920473   0.0   \n",
       "2  59580.034722      0     ...              0.0  104.849578   0.920473   0.0   \n",
       "3  59580.035169      0     ...              0.0  104.669398   0.920473   0.0   \n",
       "4  59580.035616      0     ...              0.0  104.627207   0.920473   0.0   \n",
       "\n",
       "   humidity  slewDist  slewTime  fiveSigmaDepth  ditheredRA  ditheredDec  \n",
       "0       0.0  1.620307  0.000000       21.021236    1.643930    -1.108924  \n",
       "1       0.0  0.049266  4.574944       21.026646    1.664257    -1.060423  \n",
       "2       0.0  0.049298  4.595615       21.030520    1.680878    -1.011722  \n",
       "3       0.0  0.049266  4.605366       21.032718    1.694604    -0.962927  \n",
       "4       0.0  0.049177  4.604023       21.033233    1.706054    -0.914123  \n",
       "\n",
       "[5 rows x 47 columns]"
      ]
     },
     "execution_count": 3,
     "metadata": {},
     "output_type": "execute_result"
    }
   ],
   "source": [
    "opsimdf.head()"
   ]
  },
  {
   "cell_type": "markdown",
   "metadata": {},
   "source": [
    "Connecting to `.db` takes ages (~1min), and is a pain if you mess up, so create a 'working' instance to fiddle with"
   ]
  },
  {
   "cell_type": "code",
   "execution_count": 4,
   "metadata": {
    "collapsed": false
   },
   "outputs": [],
   "source": [
    "working_df = opsimdf"
   ]
  },
  {
   "cell_type": "code",
   "execution_count": 5,
   "metadata": {
    "collapsed": true
   },
   "outputs": [],
   "source": [
    "working_df = utils.find_MW_extinction(working_df)\n",
    "\n",
    "allfields_df = utils.get_field_corners(\n",
    "    pd.DataFrame(working_df.drop_duplicates(\"fieldID\"))[['fieldID', 'fieldRA', 'fieldDec', 'EBV_MW']])"
   ]
  },
  {
   "cell_type": "markdown",
   "metadata": {
    "collapsed": false
   },
   "source": [
    "## Choosing Position and Identifying Fields\n",
    "___\n",
    "\n",
    "Choose a fieldID to to give us a position.\n",
    "\n",
    "### Deep Drilling Fields:\n",
    "___\n",
    "\n",
    "* minion2016: 1427,744,2412,290,2786\n",
    "* astro_lsst_01_1068: 1427,744,2412,290,2786\n",
    "* Fake_Rolling: 290,2786"
   ]
  },
  {
   "cell_type": "code",
   "execution_count": 6,
   "metadata": {
    "collapsed": false
   },
   "outputs": [],
   "source": [
    "chosen_fieldID = 2786\n",
    "\n",
    "field_df = allfields_df.loc[allfields_df['fieldID'] == chosen_fieldID]"
   ]
  },
  {
   "cell_type": "code",
   "execution_count": 7,
   "metadata": {
    "collapsed": false
   },
   "outputs": [
    {
     "data": {
      "text/html": [
       "<div>\n",
       "<table border=\"1\" class=\"dataframe\">\n",
       "  <thead>\n",
       "    <tr style=\"text-align: right;\">\n",
       "      <th></th>\n",
       "      <th>fieldID</th>\n",
       "      <th>fieldRA</th>\n",
       "      <th>fieldDec</th>\n",
       "      <th>EBV_MW</th>\n",
       "      <th>RA_upper</th>\n",
       "      <th>RA_lower</th>\n",
       "      <th>Dec_upper</th>\n",
       "      <th>Dec_lower</th>\n",
       "      <th>theta</th>\n",
       "      <th>phi</th>\n",
       "    </tr>\n",
       "  </thead>\n",
       "  <tbody>\n",
       "    <tr>\n",
       "      <th>1741</th>\n",
       "      <td>2786</td>\n",
       "      <td>2.624318</td>\n",
       "      <td>0.049506</td>\n",
       "      <td>0.017592</td>\n",
       "      <td>2.654861</td>\n",
       "      <td>2.593775</td>\n",
       "      <td>0.018963</td>\n",
       "      <td>0.080049</td>\n",
       "      <td>-0.517275</td>\n",
       "      <td>0.049506</td>\n",
       "    </tr>\n",
       "  </tbody>\n",
       "</table>\n",
       "</div>"
      ],
      "text/plain": [
       "      fieldID   fieldRA  fieldDec    EBV_MW  RA_upper  RA_lower  Dec_upper  \\\n",
       "1741     2786  2.624318  0.049506  0.017592  2.654861  2.593775   0.018963   \n",
       "\n",
       "      Dec_lower     theta       phi  \n",
       "1741   0.080049 -0.517275  0.049506  "
      ]
     },
     "execution_count": 7,
     "metadata": {},
     "output_type": "execute_result"
    }
   ],
   "source": [
    "field_df = utils.field_df_to_pos_df(field_df)\n",
    "field_df.head()"
   ]
  },
  {
   "cell_type": "markdown",
   "metadata": {},
   "source": [
    "## Extinction"
   ]
  },
  {
   "cell_type": "markdown",
   "metadata": {},
   "source": [
    "Get the Milky Way extinction along the line of site towards the SNe. The working_df contains the EBV_MW at the field centre."
   ]
  },
  {
   "cell_type": "code",
   "execution_count": 8,
   "metadata": {
    "collapsed": false
   },
   "outputs": [
    {
     "name": "stdout",
     "output_type": "stream",
     "text": [
      "0.0175924399816\n"
     ]
    }
   ],
   "source": [
    "extinction = field_df[\"EBV_MW\"].values[0]\n",
    "print(extinction)"
   ]
  },
  {
   "cell_type": "markdown",
   "metadata": {},
   "source": [
    "## Simulating\n",
    "------\n",
    "inputs:\n",
    "\n",
    "* **`snname`**\n",
    "* **`redshift`**\n",
    "* **`absmag offset`**\n",
    "* **`EBV MW`**\n",
    "* **`EBV Host`**\n",
    "* **`Rv`**\n",
    "* **`MJD at Peak`**\n",
    "\n",
    "* **`MJD to simulate`**\n",
    "* **`filters to simulate`**\n",
    "----\n",
    "\n",
    "#### Epochs and filters\n",
    "\n",
    "* pull MJD and filters from df where fieldID matches "
   ]
  },
  {
   "cell_type": "code",
   "execution_count": 9,
   "metadata": {
    "collapsed": false
   },
   "outputs": [],
   "source": [
    "mjd_to_sim = working_df[\"expMJD\"][working_df[\"fieldID\"].isin(field_df[\"fieldID\"].values)].values\n",
    "limiting_mags = working_df[\"fiveSigmaDepth\"][working_df[\"fieldID\"].isin(field_df[\"fieldID\"].values)].values\n",
    "\n",
    "filters_to_sim = working_df[\"filter\"][working_df[\"fieldID\"].isin(field_df[\"fieldID\"].values)].values\n",
    "filters_to_sim = np.array([utils.b('LSST_'+x) for x in filters_to_sim])"
   ]
  },
  {
   "cell_type": "code",
   "execution_count": 10,
   "metadata": {
    "collapsed": false
   },
   "outputs": [],
   "source": [
    "filter_path =  pcc._default_filter_dir_path\n",
    "coco_root_path = pcc._default_coco_dir_path \n",
    "\n",
    "coco = pccsims.pyCoCo(utils.b(filter_path), utils.b(coco_root_path))"
   ]
  },
  {
   "cell_type": "code",
   "execution_count": 11,
   "metadata": {
    "collapsed": false
   },
   "outputs": [],
   "source": [
    "snname = \"SN2007uy\"\n",
    "\n",
    "sn = pcc.SNClass(snname)"
   ]
  },
  {
   "cell_type": "code",
   "execution_count": 71,
   "metadata": {
    "collapsed": false
   },
   "outputs": [
    {
     "name": "stdout",
     "output_type": "stream",
     "text": [
      "0.0\n"
     ]
    }
   ],
   "source": [
    "z_obs = sn.info[\"z_obs\"]\n",
    "\n",
    "host_EBV = 0.0\n",
    "\n",
    "extinction = 0.0\n",
    "MW_EBV = extinction\n",
    "\n",
    "print(extinction)\n",
    "\n",
    "# mjdmax = 60307.314753999999\n",
    "mjdmax = 59580 + 1.* 365. ## DDF 2786\n",
    "# mjdmax = 59580 + 1.5* 365. ## WFD 550\n",
    "# mjdmax = 59580 + 1.3* 365. ## WFD 2297\n",
    "\n",
    "# field_df = pd.DataFrame({\"fieldID\" : [2786]})"
   ]
  },
  {
   "cell_type": "code",
   "execution_count": 72,
   "metadata": {
    "collapsed": false
   },
   "outputs": [],
   "source": [
    "verbose = False\n",
    "if verbose:\n",
    "    print(mjdmax)\n",
    "    print(mjd_to_sim)\n",
    "    print(filters_to_sim)"
   ]
  },
  {
   "cell_type": "code",
   "execution_count": 73,
   "metadata": {
    "collapsed": false
   },
   "outputs": [],
   "source": [
    "flux, flux_err = coco.simulate(utils.b(snname), \n",
    "                    z_obs, 0.0, MW_EBV, host_EBV, 3.1, \n",
    "                    mjdmax, mjd_to_sim, \n",
    "                    filters_to_sim)"
   ]
  },
  {
   "cell_type": "code",
   "execution_count": 74,
   "metadata": {
    "collapsed": false,
    "scrolled": true
   },
   "outputs": [
    {
     "data": {
      "text/plain": [
       "(array([  0.00000000e+000,   3.84354947e-049,   3.84390511e-049, ...,\n",
       "          8.12187368e-148,   8.12153206e-148,   8.12119045e-148]),\n",
       " array([ 0.,  0.,  0., ...,  0.,  0.,  0.]))"
      ]
     },
     "execution_count": 74,
     "metadata": {},
     "output_type": "execute_result"
    }
   ],
   "source": [
    "flux, flux_err"
   ]
  },
  {
   "cell_type": "code",
   "execution_count": 75,
   "metadata": {
    "collapsed": false
   },
   "outputs": [
    {
     "name": "stdout",
     "output_type": "stream",
     "text": [
      "1.45472782597e-15\n",
      "59945.0\n"
     ]
    }
   ],
   "source": [
    "print(np.nanmax(flux))\n",
    "print(mjdmax)"
   ]
  },
  {
   "cell_type": "markdown",
   "metadata": {},
   "source": [
    "We can now look at the specphot directly"
   ]
  },
  {
   "cell_type": "code",
   "execution_count": 76,
   "metadata": {
    "collapsed": false
   },
   "outputs": [],
   "source": [
    "phase, sp_flux = coco.spec_photometry(b\"SN2007uy\", z = z_obs, flt = b\"LSST_r\")\n"
   ]
  },
  {
   "cell_type": "code",
   "execution_count": 77,
   "metadata": {
    "collapsed": false
   },
   "outputs": [
    {
     "data": {
      "text/plain": [
       "(0, 1.5274642172659726e-15)"
      ]
     },
     "execution_count": 77,
     "metadata": {},
     "output_type": "execute_result"
    },
    {
     "data": {
      "image/png": "[encoded data removed]",
      "text/plain": [
       "<matplotlib.figure.Figure at 0x11bbae748>"
      ]
     },
     "metadata": {},
     "output_type": "display_data"
    }
   ],
   "source": [
    "plt.scatter(phase, sp_flux)\n",
    "plt.ylim(0, np.nanmax(flux)*1.05)"
   ]
  },
  {
   "cell_type": "code",
   "execution_count": 78,
   "metadata": {
    "collapsed": false
   },
   "outputs": [],
   "source": [
    "# reload(pcc.classes)"
   ]
  },
  {
   "cell_type": "code",
   "execution_count": 79,
   "metadata": {
    "collapsed": false
   },
   "outputs": [
    {
     "name": "stderr",
     "output_type": "stream",
     "text": [
      "/Users/berto/anaconda3/lib/python3.6/site-packages/ipykernel/__main__.py:5: RuntimeWarning: invalid value encountered in greater\n"
     ]
    }
   ],
   "source": [
    "flux_limit = 1e-20\n",
    "\n",
    "p = pcc.PhotometryClass()\n",
    "phot_table = pcc.utils.simulate_out_to_ap_table(mjd_to_sim, flux, flux_err, filters_to_sim)\n",
    "phot_table = phot_table[np.where(phot_table[\"flux\"] > flux_limit)]\n",
    "p.load_table(phot_table)"
   ]
  },
  {
   "cell_type": "code",
   "execution_count": 80,
   "metadata": {
    "collapsed": false,
    "scrolled": false
   },
   "outputs": [
    {
     "data": {
      "image/png": "[encoded data removed]",
      "text/plain": [
       "<matplotlib.figure.Figure at 0x1182de240>"
      ]
     },
     "metadata": {},
     "output_type": "display_data"
    }
   ],
   "source": [
    "# p.plot([\"LSST_r\"], xlim = [59995, 60100])\n",
    "p.plot(xlim = [59900, 60100])\n",
    "# p.plot([\"LSST_r\", \"LSST_g\"], xlim = [59900, 60100])"
   ]
  },
  {
   "cell_type": "markdown",
   "metadata": {},
   "source": [
    "## With Extinction - Priors need to respond?"
   ]
  },
  {
   "cell_type": "code",
   "execution_count": 11,
   "metadata": {
    "collapsed": false
   },
   "outputs": [],
   "source": [
    "snname = \"SN2007uy\"\n",
    "\n",
    "sn = pcc.SNClass(snname)"
   ]
  },
  {
   "cell_type": "code",
   "execution_count": 61,
   "metadata": {
    "collapsed": false
   },
   "outputs": [
    {
     "name": "stdout",
     "output_type": "stream",
     "text": [
      "0.0175924399816\n"
     ]
    }
   ],
   "source": [
    "z_obs = sn.info[\"z_obs\"]\n",
    "\n",
    "host_EBV = 0.0\n",
    "\n",
    "MW_EBV = extinction\n",
    "print(extinction)\n",
    "# MW_EBV = 0.0\n",
    "\n",
    "# mjdmax = 60307.314753999999\n",
    "mjdmax = 59580 + 1.* 365. ## DDF 2786\n",
    "# mjdmax = 59580 + 1.5* 365. ## WFD 550\n",
    "# mjdmax = 59580 + 1.3* 365. ## WFD 2297\n",
    "\n",
    "# field_df = pd.DataFrame({\"fieldID\" : [2786]})"
   ]
  },
  {
   "cell_type": "code",
   "execution_count": 62,
   "metadata": {
    "collapsed": false
   },
   "outputs": [],
   "source": [
    "verbose = False\n",
    "if verbose:\n",
    "    print(mjdmax)\n",
    "    print(mjd_to_sim)\n",
    "    print(filters_to_sim)"
   ]
  },
  {
   "cell_type": "code",
   "execution_count": 63,
   "metadata": {
    "collapsed": false
   },
   "outputs": [],
   "source": [
    "flux, flux_err = coco.simulate(utils.b(snname), \n",
    "                    z_obs, 0.0, MW_EBV, host_EBV, 3.1, \n",
    "                    mjdmax, mjd_to_sim, \n",
    "                    filters_to_sim)"
   ]
  },
  {
   "cell_type": "code",
   "execution_count": 64,
   "metadata": {
    "collapsed": false,
    "scrolled": true
   },
   "outputs": [
    {
     "data": {
      "text/plain": [
       "(array([  2.74085951e-91,   0.00000000e+00,   0.00000000e+00, ...,\n",
       "          0.00000000e+00,   0.00000000e+00,   0.00000000e+00]),\n",
       " array([ 0.,  0.,  0., ...,  0.,  0.,  0.]))"
      ]
     },
     "execution_count": 64,
     "metadata": {},
     "output_type": "execute_result"
    }
   ],
   "source": [
    "flux, flux_err"
   ]
  },
  {
   "cell_type": "code",
   "execution_count": 65,
   "metadata": {
    "collapsed": false
   },
   "outputs": [
    {
     "name": "stdout",
     "output_type": "stream",
     "text": [
      "2.95898895502e-15\n",
      "59945.0\n"
     ]
    }
   ],
   "source": [
    "print(np.nanmax(flux))\n",
    "print(mjdmax)"
   ]
  },
  {
   "cell_type": "markdown",
   "metadata": {},
   "source": [
    "We can now look at the specphot directly"
   ]
  },
  {
   "cell_type": "code",
   "execution_count": 66,
   "metadata": {
    "collapsed": false
   },
   "outputs": [],
   "source": [
    "phase, sp_flux = coco.spec_photometry(b\"SN2007uy\", z = z_obs, flt = b\"LSST_r\")\n"
   ]
  },
  {
   "cell_type": "code",
   "execution_count": 67,
   "metadata": {
    "collapsed": false
   },
   "outputs": [
    {
     "data": {
      "text/plain": [
       "(0, 3.1069384027681743e-15)"
      ]
     },
     "execution_count": 67,
     "metadata": {},
     "output_type": "execute_result"
    },
    {
     "data": {
      "image/png": "[encoded data removed]",
      "text/plain": [
       "<matplotlib.figure.Figure at 0x1186c85f8>"
      ]
     },
     "metadata": {},
     "output_type": "display_data"
    }
   ],
   "source": [
    "plt.scatter(phase, sp_flux)\n",
    "plt.ylim(0, np.nanmax(flux)*1.05)"
   ]
  },
  {
   "cell_type": "code",
   "execution_count": 68,
   "metadata": {
    "collapsed": false
   },
   "outputs": [],
   "source": [
    "# reload(pcc.classes)"
   ]
  },
  {
   "cell_type": "code",
   "execution_count": 69,
   "metadata": {
    "collapsed": false
   },
   "outputs": [
    {
     "name": "stderr",
     "output_type": "stream",
     "text": [
      "/Users/berto/anaconda3/lib/python3.6/site-packages/ipykernel/__main__.py:5: RuntimeWarning: invalid value encountered in greater\n"
     ]
    }
   ],
   "source": [
    "flux_limit = 1e-20\n",
    "\n",
    "p = pcc.PhotometryClass()\n",
    "phot_table = pcc.utils.simulate_out_to_ap_table(mjd_to_sim, flux, flux_err, filters_to_sim)\n",
    "phot_table = phot_table[np.where(phot_table[\"flux\"] > flux_limit)]\n",
    "p.load_table(phot_table)"
   ]
  },
  {
   "cell_type": "code",
   "execution_count": 70,
   "metadata": {
    "collapsed": false,
    "scrolled": false
   },
   "outputs": [
    {
     "data": {
      "image/png": "[encoded data removed]",
      "text/plain": [
       "<matplotlib.figure.Figure at 0x1186c8630>"
      ]
     },
     "metadata": {},
     "output_type": "display_data"
    }
   ],
   "source": [
    "# p.plot([\"LSST_r\"], xlim = [59995, 60100])\n",
    "p.plot(xlim = [59900, 60100])\n",
    "# p.plot([\"LSST_r\", \"LSST_g\"], xlim = [59900, 60100])"
   ]
  }
 ],
 "metadata": {
  "kernelspec": {
   "display_name": "Python 3",
   "language": "python",
   "name": "python3"
  },
  "language_info": {
   "codemirror_mode": {
    "name": "ipython",
    "version": 3
   },
   "file_extension": ".py",
   "mimetype": "text/x-python",
   "name": "python",
   "nbconvert_exporter": "python",
   "pygments_lexer": "ipython3",
   "version": "3.6.0"
  }
 },
 "nbformat": 4,
 "nbformat_minor": 2
}
